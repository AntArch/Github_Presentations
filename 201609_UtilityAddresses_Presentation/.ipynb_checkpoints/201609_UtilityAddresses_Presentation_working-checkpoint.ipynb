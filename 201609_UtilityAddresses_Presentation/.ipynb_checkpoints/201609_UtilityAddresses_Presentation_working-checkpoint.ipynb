{
 "cells": [
  {
   "cell_type": "markdown",
   "metadata": {
    "nbpresent": {
     "id": "b2ca43ef-2e99-479c-b47d-9e7a8ede9572"
    },
    "slideshow": {
     "slide_type": "slide"
    }
   },
   "source": [
    "# Maximising the utility of an Open Address\n",
    "\n",
    "Anthony Beck (GeoLytics), John Daniels (UU), Paul Williams (UU), Dave Pearson (UU), Matt Beare (Beare Essentials)\n",
    "\n",
    "![](https://dl.dropboxusercontent.com/u/393477/ImageBank/ForAddresses/UU_SPA_CONCEPTUAL.png)\n",
    "\n",
    "\n",
    "Go down for licence and other metadata about this presentation"
   ]
  },
  {
   "cell_type": "markdown",
   "metadata": {
    "nbpresent": {
     "id": "d4771fb7-04a1-4096-854f-0997ebe4dd8b"
    },
    "slideshow": {
     "slide_type": "skip"
    }
   },
   "source": [
    "\\newpage"
   ]
  },
  {
   "cell_type": "markdown",
   "metadata": {
    "nbpresent": {
     "id": "470f5f91-3b52-4171-a749-c2e589cfc338"
    },
    "slideshow": {
     "slide_type": "slide"
    }
   },
   "source": [
    "# The view of addressing from United Utilities\n",
    "\n",
    "Unless states otherwise all content is under a CC-BY licence\n",
    "\n",
    "![](https://dl.dropboxusercontent.com/u/393477/ImageBank/CC_BY.png)\n",
    "\n",
    "\n",
    "You can access this presentation on github:\n",
    "\n",
    "[https://github.com/AntArch/20150305_AddressDay.git](https://github.com/AntArch/20150305_AddressDay.git)\n",
    "\n",
    "\n",
    "![](https://dl.dropboxusercontent.com/u/393477/ImageBank/Lego_Head_ARB.png)\n"
   ]
  },
  {
   "cell_type": "markdown",
   "metadata": {
    "nbpresent": {
     "id": "d7b93b9e-0316-40d2-9ad5-adab3fb37747"
    },
    "slideshow": {
     "slide_type": "skip"
    }
   },
   "source": [
    "\\newpage"
   ]
  },
  {
   "cell_type": "markdown",
   "metadata": {
    "nbpresent": {
     "id": "1057f676-f0de-4297-b8db-ad2d4eb9c665"
    },
    "slideshow": {
     "slide_type": "subslide"
    }
   },
   "source": [
    "## Using Ipython for presentations\n",
    "\n",
    "A short video showing how to use Ipython for presentations"
   ]
  },
  {
   "cell_type": "code",
   "execution_count": 2,
   "metadata": {
    "collapsed": false,
    "nbpresent": {
     "id": "8fc4a806-4783-4034-b936-88d1b4f87ee5"
    }
   },
   "outputs": [
    {
     "data": {
      "text/html": [
       "\n",
       "        <iframe\n",
       "            width=\"400\"\n",
       "            height=\"300\"\n",
       "            src=\"https://www.youtube.com/embed/F4rFuIb1Ie4\"\n",
       "            frameborder=\"0\"\n",
       "            allowfullscreen\n",
       "        ></iframe>\n",
       "        "
      ],
      "text/plain": [
       "<IPython.lib.display.YouTubeVideo at 0x7f694015ec18>"
      ]
     },
     "execution_count": 2,
     "metadata": {},
     "output_type": "execute_result"
    }
   ],
   "source": [
    "from IPython.display import YouTubeVideo\n",
    "YouTubeVideo('F4rFuIb1Ie4')"
   ]
  },
  {
   "cell_type": "code",
   "execution_count": 34,
   "metadata": {
    "collapsed": false,
    "nbpresent": {
     "id": "23f3b29b-34f8-4c52-a35b-bfb62ada785f"
    }
   },
   "outputs": [
    {
     "name": "stdout",
     "output_type": "stream",
     "text": [
      "ipython nbconvert --to markdown 201609_UtilityAddresses_Presentation.ipynb\n"
     ]
    },
    {
     "data": {
      "text/plain": [
       "0"
      ]
     },
     "execution_count": 34,
     "metadata": {},
     "output_type": "execute_result"
    }
   ],
   "source": [
    "## PDF output using pandoc\n",
    "\n",
    "import os\n",
    "\n",
    "\n",
    "### Export this notebook as markdown\n",
    "commandLineSyntax = 'ipython nbconvert --to markdown 201609_UtilityAddresses_Presentation.ipynb'\n",
    "print (commandLineSyntax)\n",
    "\n",
    "os.system(commandLineSyntax)\n",
    "\n",
    "### Export this notebook and the document header as PDF using Pandoc\n",
    "\n",
    "commandLineSyntax = 'pandoc  -f markdown -t latex -N -V geometry:margin=1in DocumentHeader.md 201609_UtilityAddresses_Presentation.md --filter pandoc-citeproc  --latex-engine=xelatex --toc -o interim.pdf '\n",
    "\n",
    "os.system(commandLineSyntax)\n",
    "\n",
    "### Remove cruft from the pdf\n",
    "\n",
    "commandLineSyntax = 'pdftk interim.pdf cat 1-5 18-end output 201609_UtilityAddresses_Presentation.pdf'\n",
    "\n",
    "os.system(commandLineSyntax)\n",
    "\n",
    "### Remove the interim pdf\n",
    "\n",
    "commandLineSyntax = 'rm interim.pdf'\n",
    "\n",
    "os.system(commandLineSyntax)"
   ]
  },
  {
   "cell_type": "markdown",
   "metadata": {
    "nbpresent": {
     "id": "fc648d92-f376-4423-82df-f1f70cff02ef"
    },
    "slideshow": {
     "slide_type": "subslide"
    }
   },
   "source": [
    "## The environment\n",
    "\n",
    "In order to replicate my environment you need to know what I have installed!"
   ]
  },
  {
   "cell_type": "markdown",
   "metadata": {
    "nbpresent": {
     "id": "fd6428a6-3f0c-4df4-a019-ca745b03f5ae"
    },
    "slideshow": {
     "slide_type": "skip"
    }
   },
   "source": [
    "### Set up watermark\n",
    "\n",
    "This describes the versions of software used during the creation. \n",
    "\n",
    "Please note that critical libraries can also be watermarked as follows:\n",
    "\n",
    "```python\n",
    "%watermark -v -m -p numpy,scipy\n",
    "```"
   ]
  },
  {
   "cell_type": "code",
   "execution_count": 2,
   "metadata": {
    "collapsed": false,
    "nbpresent": {
     "id": "f28ecdcb-c05c-4492-8e61-dbf913814ab9"
    },
    "slideshow": {
     "slide_type": "skip"
    }
   },
   "outputs": [],
   "source": [
    "%install_ext https://raw.githubusercontent.com/rasbt/python_reference/master/ipython_magic/watermark.py\n",
    "%load_ext watermark\n"
   ]
  },
  {
   "cell_type": "code",
   "execution_count": 3,
   "metadata": {
    "collapsed": false,
    "nbpresent": {
     "id": "2bac0c6b-93cc-40bf-8a5f-0ebe2cd901b9"
    }
   },
   "outputs": [
    {
     "name": "stdout",
     "output_type": "stream",
     "text": [
      "Anthony Beck 2016-08-30 \n",
      "\n",
      "CPython 3.5.2\n",
      "IPython 5.0.0\n",
      "\n",
      "compiler   : GCC 4.4.7 20120313 (Red Hat 4.4.7-1)\n",
      "system     : Linux\n",
      "release    : 4.4.0-31-generic\n",
      "machine    : x86_64\n",
      "processor  : x86_64\n",
      "CPU cores  : 4\n",
      "interpreter: 64bit\n",
      "Git hash   :\n"
     ]
    }
   ],
   "source": [
    "%watermark -a \"Anthony Beck\"  -d -v -m -g"
   ]
  },
  {
   "cell_type": "code",
   "execution_count": 1,
   "metadata": {
    "collapsed": false,
    "nbpresent": {
     "id": "28c39680-76cc-4ea5-8654-d596ed6f7872"
    }
   },
   "outputs": [
    {
     "name": "stdout",
     "output_type": "stream",
     "text": [
      "# packages in environment at /home/arb/LocalPython/Anaconda27/anaconda:\n",
      "#\n",
      "Using Anaconda API: https://api.anaconda.org\n",
      "_license                  1.1                      py27_0    <unknown>\n",
      "abstract-rendering        0.5.1                np19py27_0    <unknown>\n",
      "beautiful-soup            4.3.2                    py27_0    <unknown>\n",
      "bitarray                  0.8.1                    py27_0    <unknown>\n",
      "cdecimal                  2.3                      py27_0    <unknown>\n",
      "certifi                   14.05.14                 py27_0    <unknown>\n",
      "clyent                    0.3.4                    py27_0    <unknown>\n",
      "colorama                  0.3.3                    py27_0    <unknown>\n",
      "configobj                 5.0.6                    py27_0    <unknown>\n",
      "docutils                  0.12                     py27_0    <unknown>\n",
      "dynd-python               0.6.5                np19py27_0    <unknown>\n",
      "enum34                    1.0.4                    py27_0    <unknown>\n",
      "fastcache                 1.0.2                    py27_0    <unknown>\n",
      "flask                     0.10.1                   py27_1    <unknown>\n",
      "funcsigs                  0.4                      py27_0    <unknown>\n",
      "gevent                    1.0.1                    py27_0    <unknown>\n",
      "gevent-websocket          0.9.3                    py27_0    <unknown>\n",
      "grin                      1.2.1                    py27_1    <unknown>\n",
      "itsdangerous              0.24                     py27_0    <unknown>\n",
      "jdcal                     1.0                      py27_0    <unknown>\n",
      "jedi                      0.8.1                    py27_0    <unknown>\n",
      "jpeg                      8d                            0    <unknown>\n",
      "jsonschema                2.4.0                    py27_0    <unknown>\n",
      "libdynd                   0.6.5                         0    <unknown>\n",
      "libffi                    3.0.13                        0    <unknown>\n",
      "libtiff                   4.0.2                         1    <unknown>\n",
      "libxslt                   1.1.28                        0    <unknown>\n",
      "markupsafe                0.23                     py27_0    <unknown>\n",
      "mock                      1.0.1                    py27_0    <unknown>\n",
      "multipledispatch          0.4.7                    py27_0    <unknown>\n",
      "patsy                     0.3.0                np19py27_0    <unknown>\n",
      "pep8                      1.6.2                    py27_0    <unknown>\n",
      "pixman                    0.26.2                        0    <unknown>\n",
      "psutil                    2.2.1                    py27_0    <unknown>\n",
      "ptyprocess                0.4                      py27_0    <unknown>\n",
      "py2cairo                  1.10.0                   py27_2    <unknown>\n",
      "pyasn1                    0.1.7                    py27_0    <unknown>\n",
      "pycosat                   0.6.1                    py27_0    <unknown>\n",
      "pycrypto                  2.6.1                    py27_0    <unknown>\n",
      "pygments                  2.0.2                    py27_0    <unknown>\n",
      "redis                     2.6.9                         0    <unknown>\n",
      "redis-py                  2.10.3                   py27_0    <unknown>\n",
      "rope                      0.9.4                    py27_1    <unknown>\n",
      "runipy                    0.1.3                    py27_0    <unknown>\n",
      "ssl_match_hostname        3.4.0.2                  py27_0    <unknown>\n",
      "statsmodels               0.6.1                np19py27_0    <unknown>\n",
      "ujson                     1.33                     py27_0    <unknown>\n",
      "unicodecsv                0.9.4                    py27_0    <unknown>\n",
      "util-linux                2.21                          0    <unknown>\n",
      "_nb_ext_conf              0.3.0                    py27_0  \n",
      "accelerate                1.11.0              np19py27_p0  \n",
      "affine                    1.2.0                     <pip>\n",
      "alabaster                 0.7.3                    py27_0  \n",
      "alabaster                 0.7.6                     <pip>\n",
      "anaconda                  2.3.0                np19py27_0  \n",
      "anaconda-client           1.5.1                    py27_0  \n",
      "aniso8601                 1.1.0                     <pip>\n",
      "argcomplete               0.8.9                    py27_0  \n",
      "argcomplete               0.9.0                     <pip>\n",
      "arrow                     0.5.4                     <pip>\n",
      "astroid                   1.3.6                     <pip>\n",
      "astropy                   1.0.3                     <pip>\n",
      "astropy                   1.0.3                np19py27_0  \n",
      "babel                     1.3                      py27_0  \n",
      "backports                 1.0                      py27_0  \n",
      "backports_abc             0.4                      py27_0  \n",
      "bcolz                     0.9.0                     <pip>\n",
      "bcolz                     0.9.0                np19py27_0  \n",
      "beautifulsoup4            4.4.0                     <pip>\n",
      "binstar                   0.11.0                   py27_0  \n",
      "blaze-core                0.8.0                np19py27_0  \n",
      "blz                       0.6.2                np19py27_1  \n",
      "bokeh                     0.9.0                np19py27_0  \n",
      "bokeh                     0.9.1                     <pip>\n",
      "boto                      2.38.0                   py27_0  \n",
      "bottle                    0.12.8                    <pip>\n",
      "bottleneck                1.0.0                np19py27_0  \n",
      "bqplot                    0.3.8                     <pip>\n",
      "brewer2mpl                1.4.1                     <pip>\n",
      "cairo                     1.12.18                       4  \n",
      "Cartopy                   0.13.0                    <pip>\n",
      "certifi                   2015.04.28                <pip>\n",
      "cffi                      1.1.0                    py27_0  \n",
      "cffi                      1.1.2                     <pip>\n",
      "click                     4.0                       <pip>\n",
      "click                     4.0                      py27_0  \n",
      "cligj                     0.1.0                    py27_0  \n",
      "cligj                     0.2.0                     <pip>\n",
      "conda                     4.1.11                   py27_0  \n",
      "conda-build               1.12.1                   py27_0  \n",
      "conda-env                 2.5.2                    py27_0  \n",
      "coverage                  4.0.1                     <pip>\n",
      "cryptography              0.9.1                    py27_0  \n",
      "cudatoolkit               6.0                          p0  \n",
      "curl                      7.43.0                        0  \n",
      "Cython                    0.22.1                    <pip>\n",
      "cython                    0.22.1                   py27_0  \n",
      "cytoolz                   0.7.3                     <pip>\n",
      "cytoolz                   0.7.3                    py27_0  \n",
      "rise                      4.0.0b1                  py27_0    damianavila82\n",
      "datashape                 0.4.5                np19py27_0  \n",
      "decorator                 3.4.2                    py27_0  \n",
      "descartes                 1.0.1                     <pip>\n",
      "docopt                    0.6.2                    py27_0  \n",
      "enum                      0.4.4                     <pip>\n",
      "fiona                     1.5.1                np19py27_0  \n",
      "Flask-RESTful             0.3.4                     <pip>\n",
      "folium                    0.1.6                     <pip>\n",
      "fontconfig                2.11.1                        4  \n",
      "freetype                  2.5.2                         2  \n",
      "functools32               3.2.3.post1               <pip>\n",
      "futures                   3.0.3                     <pip>\n",
      "futures                   3.0.3                    py27_0  \n",
      "gdal                      2.0.0                    py27_1  \n",
      "geopy                     1.10.0                    <pip>\n",
      "geos                      3.3.3                         0  \n",
      "get_terminal_size         1.0.0                    py27_0  \n",
      "gevent                    1.0.2                     <pip>\n",
      "gevent-websocket          0.9.5                     <pip>\n",
      "greenlet                  0.4.7                     <pip>\n",
      "greenlet                  0.4.7                    py27_0  \n",
      "h5py                      2.5.0                np19py27_3  \n",
      "hdf5                      1.8.15.1                      1  \n",
      "html5lib                  0.999                    py27_0  \n",
      "html5lib                  0.99999                   <pip>\n",
      "tweepy                    2.3                      py27_0    https://conda.binstar.org/activisiongamescience\n",
      "basemap                   1.0.7                np19py27_0    https://conda.binstar.org/anaconda\n",
      "dateutil                  2.4.1                    py27_0    https://conda.binstar.org/anaconda\n",
      "r-matrix                  1.2_1                  r3.1.3_0    https://conda.binstar.org/asmeurer\n",
      "r-nlme                    3.1.118                       0    https://conda.binstar.org/asmeurer\n",
      "pystretch                 0.2.1                    py27_0    https://conda.binstar.org/auto\n",
      "isodate                   0.5.1                    py27_1    https://conda.binstar.org/ioos\n",
      "rdflib                    4.2.0                    py27_1    https://conda.binstar.org/ioos\n",
      "sparqlwrapper             1.6.4                    py27_1    https://conda.binstar.org/ioos\n",
      "affine                    1.1.0                    py27_0    https://conda.binstar.org/jesserobertson\n",
      "rasterio                  0.15.1                   py27_0    https://conda.binstar.org/jesserobertson\n",
      "proj4                     4.8.0                         0    https://conda.binstar.org/osgeo\n",
      "cloog                     0.18.0                        0    https://conda.binstar.org/r\n",
      "glib                      2.43.0                        2    https://conda.binstar.org/r\n",
      "gmp                       5.1.2                         2    https://conda.binstar.org/r\n",
      "harfbuzz                  0.9.35                        6    https://conda.binstar.org/r\n",
      "isl                       0.12.2                        0    https://conda.binstar.org/r\n",
      "libgcc                    4.8.4                         1    https://conda.binstar.org/r\n",
      "mpc                       1.0.1                         0    https://conda.binstar.org/r\n",
      "mpfr                      3.1.2                         0    https://conda.binstar.org/r\n",
      "ncurses                   5.9                           4    https://conda.binstar.org/r\n",
      "pango                     1.36.8                        3    https://conda.binstar.org/r\n",
      "r                         3.1.3                         0    https://conda.binstar.org/r\n",
      "r-base                    3.1.3                         2    https://conda.binstar.org/r\n",
      "r-boot                    1.3_16                 r3.1.3_0    https://conda.binstar.org/r\n",
      "r-class                   7.3_12                 r3.1.3_0    https://conda.binstar.org/r\n",
      "r-cluster                 1.15.3                        0    https://conda.binstar.org/r\n",
      "r-codetools               0.2_11                 r3.1.3_0    https://conda.binstar.org/r\n",
      "r-foreign                 0.8_63                 r3.1.3_0    https://conda.binstar.org/r\n",
      "r-kernsmooth              2.23_14                r3.1.3_0    https://conda.binstar.org/r\n",
      "r-mass                    7.3.37                        0    https://conda.binstar.org/r\n",
      "r-mgcv                    1.8_6                  r3.1.3_0    https://conda.binstar.org/r\n",
      "r-nnet                    7.3_9                  r3.1.3_0    https://conda.binstar.org/r\n",
      "r-recommended             3.1.3                         0    https://conda.binstar.org/r\n",
      "r-rpart                   4.1_9                  r3.1.3_0    https://conda.binstar.org/r\n",
      "r-spatial                 7.3_9                  r3.1.3_0    https://conda.binstar.org/r\n",
      "r-survival                2.38_2                 r3.1.3_0    https://conda.binstar.org/r\n",
      "rpy2                      2.5.6                    py27_0    https://conda.binstar.org/r\n",
      "pysptools                 0.13.0                   py27_0    https://conda.binstar.org/rbacher\n",
      "spectral                  0.16.1               np19py27_0    https://conda.binstar.org/rbacher\n",
      "cartopy                   0.10.0               np18py27_0    https://conda.binstar.org/scitools\n",
      "descartes                 1.0.1                    py27_0    https://conda.binstar.org/sel\n",
      "geopandas                 0.1.1                    py27_0    https://conda.binstar.org/sel\n",
      "pyproj                    1.9.3                    py27_0    https://conda.binstar.org/sel\n",
      "tabulate                  0.7.5                    py27_0    https://conda.binstar.org/steven_c\n",
      "bottle                    0.12.7                   py27_0    https://conda.binstar.org/synthicity\n",
      "brewer2mpl                1.4                      py27_0    https://conda.binstar.org/synthicity\n",
      "pandana                   0.1.2                    py27_0    https://conda.binstar.org/synthicity\n",
      "prettytable               0.7.2                    py27_0    https://conda.binstar.org/synthicity\n",
      "simplejson                3.6.3                    py27_0    https://conda.binstar.org/synthicity\n",
      "igraph                    0.7.1                         1    https://conda.binstar.org/yasserglez\n",
      "hypothesis                3.1.1                     <pip>\n",
      "idna                      2.0                       <pip>\n",
      "idna                      2.0                      py27_0  \n",
      "igraph                    0.1.8                     <pip>\n",
      "ipaddress                 1.0.7                    py27_0  \n",
      "ipykernel                 4.4.1                    py27_0  \n",
      "ipyparallel               5.0.1                    py27_0  \n",
      "ipython                   4.2.0                    py27_0  \n",
      "IPython-Dashboard         0.1.5                     <pip>\n",
      "ipython-notebook          3.2.0                    py27_0  \n",
      "ipython-qtconsole         3.2.0                    py27_0  \n",
      "ipython_genutils          0.1.0                    py27_0  \n",
      "ipywidgets                4.0.2                    py27_0  \n",
      "jedi                      0.9.0                     <pip>\n",
      "jinja2                    2.7.3                    py27_1  \n",
      "jsonschema                2.5.1                     <pip>\n",
      "jupyter                   1.0.0                    py27_0  \n",
      "jupyter-dashboards        0.5.2                     <pip>\n",
      "jupyter_client            4.2.1                    py27_0  \n",
      "jupyter_console           4.0.2                    py27_0  \n",
      "jupyter_core              4.1.0                    py27_0  \n",
      "libgdal                   1.11.2                        0  \n",
      "libgfortran               3.0                           0  \n",
      "libnetcdf                 4.3.3.1                       1  \n",
      "libpng                    1.6.17                        0  \n",
      "libsodium                 0.4.5                         0  \n",
      "libxml2                   2.9.2                         0  \n",
      "llvmlite                  0.5.0                    py27_0  \n",
      "logilab-common            1.0.1                     <pip>\n",
      "lxml                      3.4.4                    py27_0  \n",
      "mapnik                    0.1                       <pip>\n",
      "Markdown                  2.6.2                     <pip>\n",
      "matplotlib                1.4.3                np19py27_2  \n",
      "mistune                   0.5.1                    py27_1  \n",
      "mkl                       11.3.1                        0  \n",
      "mkl-rt                    11.1                         p0  \n",
      "mkl-service               1.0.0                   py27_p1  \n",
      "mklfft                    2.0                 np19py27_p0  \n",
      "MySQL-python              1.2.5                     <pip>\n",
      "nb_anacondacloud          1.2.0                    py27_0  \n",
      "nb_conda                  2.0.0                    py27_0  \n",
      "nb_conda_kernels          2.0.0                    py27_0  \n",
      "nbconvert                 4.0.0                    py27_0  \n",
      "nbformat                  4.0.0                    py27_0  \n",
      "nbpresent                 3.0.2                    py27_0  \n",
      "netcdf4                   1.1.9                np19py27_0  \n",
      "networkx                  1.9.1                    py27_0  \n",
      "nltk                      3.0.3                np19py27_0  \n",
      "nose                      1.3.7                     <pip>\n",
      "nose                      1.3.7                    py27_0  \n",
      "notebook                  4.2.2                    py27_0  \n",
      "notedown                  1.4.4                     <pip>\n",
      "numba                     0.19.1               np19py27_0  \n",
      "numbapro                  0.18.0              np19py27_p2  \n",
      "numbapro_cudalib          0.2                           0  \n",
      "numexpr                   2.4.3                np19py27_0  \n",
      "numpy                     1.11.0                    <pip>\n",
      "numpy                     1.9.2                    py27_0  \n",
      "oauthlib                  0.7.2                     <pip>\n",
      "odo                       0.3.2                np19py27_0  \n",
      "openblas                  0.2.14                        4  \n",
      "openpyxl                  1.8.5                    py27_0  \n",
      "openpyxl                  2.2.5                     <pip>\n",
      "openssl                   1.0.1k                        1  \n",
      "pandas                    0.16.2               np19py27_0  \n",
      "pandas                    0.18.1                    <pip>\n",
      "pandasql                  0.6.2                np19py27_0  \n",
      "pandasql                  0.6.3                     <pip>\n",
      "pandoc-attributes         0.1.7                     <pip>\n",
      "pandocfilters             1.2.4                     <pip>\n",
      "patchelf                  0.6                           0  \n",
      "path.py                   8.1.2                    py27_1  \n",
      "path.py                   8.2.1                     <pip>\n",
      "pcre                      8.31                          0  \n",
      "pexpect                   3.3                      py27_0  \n",
      "pickleshare               0.5                      py27_0  \n",
      "pillow                    2.8.2                    py27_0  \n",
      "Pillow                    2.9.0                     <pip>\n",
      "pip                       7.1.0                     <pip>\n",
      "pip                       8.1.1                     <pip>\n",
      "pip                       8.1.2                     <pip>\n",
      "pip                       8.1.2                    py27_0  \n",
      "pivottablejs              0.1.0                     <pip>\n",
      "plotly                    1.7.2                     <pip>\n",
      "ply                       3.6                      py27_0  \n",
      "prettyplotlib             0.1.7                     <pip>\n",
      "psutil                    3.0.1                     <pip>\n",
      "psycopg2                  2.6                      py27_1  \n",
      "ptyprocess                0.5                       <pip>\n",
      "py                        1.4.27                   py27_0  \n",
      "py                        1.4.30                    <pip>\n",
      "pyasn1                    0.1.8                     <pip>\n",
      "pycparser                 2.14                      <pip>\n",
      "pycparser                 2.14                     py27_0  \n",
      "pycurl                    7.19.5.1                 py27_2  \n",
      "pyflakes                  0.9.2                     <pip>\n",
      "pyflakes                  0.9.2                    py27_0  \n",
      "pygaarst                  0.0.1                     <pip>\n",
      "pylint                    1.4.4                     <pip>\n",
      "pymc                      2.3.4               np19py27_p0  [mkl]\n",
      "pyopenssl                 0.15.1                   py27_1  \n",
      "pyparsing                 2.0.3                    py27_0  \n",
      "pyproj                    1.9.4                     <pip>\n",
      "pyqt                      4.11.3                   py27_1  \n",
      "pysal                     1.6.0                np19py27_1  \n",
      "PySAL                     1.9.1                     <pip>\n",
      "pyshp                     1.2.3                     <pip>\n",
      "pystache                  0.5.4                     <pip>\n",
      "pytables                  3.2.0                np19py27_0  \n",
      "pytest                    2.7.1                    py27_0  \n",
      "pytest                    2.7.2                     <pip>\n",
      "python                    2.7.10                        0  \n",
      "python-dateutil           2.4.2                    py27_0  \n",
      "python-dateutil           2.5.3                     <pip>\n",
      "pytz                      2015.4                   py27_0  \n",
      "pytz                      2016.4                    <pip>\n",
      "pyyaml                    3.11                     py27_1  \n",
      "pyzmq                     14.7.0                   py27_0  \n",
      "qt                        4.8.6                         3  \n",
      "qtconsole                 4.0.1                    py27_0  \n",
      "rasterio                  0.24.1                    <pip>\n",
      "readline                  6.2                           2  \n",
      "requests                  2.7.0                    py27_0  \n",
      "requests-oauthlib         0.5.0                     <pip>\n",
      "rope                      0.10.2                    <pip>\n",
      "ruamel_yaml               0.11.14                  py27_0  \n",
      "scikit-image              0.11.3               np19py27_0  \n",
      "scikit-learn              0.16.1               np19py27_0  \n",
      "scipy                     0.15.1               np19py27_0  \n",
      "seaborn                   0.6.0                     <pip>\n",
      "setuptools                26.1.1                   py27_0  \n",
      "Shapely                   1.5.9                     <pip>\n",
      "simplegeneric             0.8.1                    py27_0  \n",
      "simplejson                3.7.3                     <pip>\n",
      "singledispatch            3.4.0.3                  py27_0  \n",
      "sip                       4.16.5                   py27_0  \n",
      "six                       1.10.0                    <pip>\n",
      "six                       1.9.0                    py27_0  \n",
      "snowballstemmer           1.2.0                    py27_0  \n",
      "snuggs                    1.3.1                     <pip>\n",
      "sockjs-tornado            1.0.1                    py27_0  \n",
      "Sphinx                    1.3.1                     <pip>\n",
      "sphinx                    1.3.1                    py27_0  \n",
      "sphinx-rtd-theme          0.1.8                     <pip>\n",
      "sphinx_rtd_theme          0.1.7                    py27_0  \n",
      "spyder                    2.3.5.2                   <pip>\n",
      "spyder                    2.3.5.2                  py27_0  \n",
      "spyder-app                2.3.5.2                  py27_0  \n",
      "sqlalchemy                1.0.5                    py27_0  \n",
      "SQLAlchemy                1.0.6                     <pip>\n",
      "sqlite                    3.13.0                        0  \n",
      "sqlparse                  0.1.14                   py27_0  \n",
      "sqlparse                  0.1.17                    <pip>\n",
      "sympy                     0.7.6                    py27_0  \n",
      "system                    5.8                           2  \n",
      "terminado                 0.5                      py27_0  \n",
      "theano                    0.7.0                np19py27_0  \n",
      "tk                        8.5.18                        0  \n",
      "toolz                     0.7.2                    py27_0  \n",
      "tornado                   4.2                      py27_0  \n",
      "tqdm                      3.4.0                     <pip>\n",
      "traitlets                 4.1.0                    py27_0  \n",
      "twitter                   1.17.0                    <pip>\n",
      "unicodecsv                0.13.0                    <pip>\n",
      "urbansim                  2.0.1                     <pip>\n",
      "version-information       1.0.3                     <pip>\n",
      "hdf4                      4.2.11                      232    vitale232\n",
      "websocket                 0.2.1                     <pip>\n",
      "werkzeug                  0.10.4                   py27_0  \n",
      "wheel                     0.29.0                   py27_0  \n",
      "xlrd                      0.9.3                    py27_0  \n",
      "XlsxWriter                0.7.3                     <pip>\n",
      "xlsxwriter                0.7.3                    py27_0  \n",
      "xlwt                      1.0.0                    py27_0  \n",
      "yaml                      0.1.6                         0  \n",
      "zeromq                    4.0.5                         0  \n",
      "zlib                      1.2.8                         3  \n"
     ]
    }
   ],
   "source": [
    "#List of installed conda packages\n",
    "!conda list"
   ]
  },
  {
   "cell_type": "code",
   "execution_count": 2,
   "metadata": {
    "collapsed": false,
    "nbpresent": {
     "id": "664d13f2-be01-4a90-8e70-90f6f991cf23"
    }
   },
   "outputs": [
    {
     "name": "stdout",
     "output_type": "stream",
     "text": [
      "abstract-rendering (0.5.1)\n",
      "affine (1.2.0)\n",
      "alabaster (0.7.6)\n",
      "anaconda-client (1.5.1)\n",
      "aniso8601 (1.1.0)\n",
      "argcomplete (0.8.9)\n",
      "arrow (0.5.4)\n",
      "astroid (1.3.6)\n",
      "astropy (1.0.3)\n",
      "Babel (1.3)\n",
      "backports-abc (0.4)\n",
      "backports.shutil-get-terminal-size (1.0.0)\n",
      "backports.ssl-match-hostname (3.4.0.2)\n",
      "basemap (1.0.7)\n",
      "bcolz (0.9.0)\n",
      "beautifulsoup4 (4.4.0)\n",
      "binstar (0.11.0)\n",
      "bitarray (0.8.1)\n",
      "blaze (0.8.0)\n",
      "blz (0.6.2)\n",
      "bokeh (0.9.0)\n",
      "boto (2.38.0)\n",
      "bottle (0.12.8)\n",
      "Bottleneck (1.0.0)\n",
      "bqplot (0.3.8)\n",
      "brewer2mpl (1.4.1)\n",
      "Cartopy (0.13.0)\n",
      "cdecimal (2.3)\n",
      "certifi (2015.4.28)\n",
      "cffi (1.1.2)\n",
      "click (4.0)\n",
      "cligj (0.2.0)\n",
      "clyent (0.3.4)\n",
      "colorama (0.3.3)\n",
      "conda (4.1.11)\n",
      "conda-build (1.12.1)\n",
      "conda-env (2.5.0a0)\n",
      "configobj (5.0.6)\n",
      "coverage (4.0.1)\n",
      "cryptography (0.9.1)\n",
      "Cython (0.22.1)\n",
      "cytoolz (0.7.3)\n",
      "datashape (0.4.5)\n",
      "decorator (3.4.2)\n",
      "descartes (1.0.1)\n",
      "docopt (0.6.2)\n",
      "docutils (0.12)\n",
      "enum (0.4.4)\n",
      "enum34 (1.0.4)\n",
      "fastcache (1.0.2)\n",
      "Fiona (1.5.1)\n",
      "Flask (0.10.1)\n",
      "Flask-RESTful (0.3.4)\n",
      "folium (0.1.6)\n",
      "funcsigs (0.4)\n",
      "functools32 (3.2.3.post1)\n",
      "futures (3.0.3)\n",
      "GDAL (2.0.0)\n",
      "geopandas (0.1.1)\n",
      "geopy (1.10.0)\n",
      "gevent (1.0.2)\n",
      "gevent-websocket (0.9.5)\n",
      "greenlet (0.4.7)\n",
      "grin (1.2.1)\n",
      "h5py (2.5.0)\n",
      "html5lib (0.999)\n",
      "hypothesis (3.1.1)\n",
      "idna (2.0)\n",
      "igraph (0.1.8)\n",
      "ipaddress (1.0.7)\n",
      "ipykernel (4.4.1)\n",
      "ipyparallel (5.0.1)\n",
      "ipython (4.2.0)\n",
      "IPython-Dashboard (0.1.5)\n",
      "ipython-genutils (0.1.0)\n",
      "ipywidgets (4.0.2)\n",
      "isodate (0.5.1)\n",
      "itsdangerous (0.24)\n",
      "jdcal (1.0)\n",
      "jedi (0.9.0)\n",
      "Jinja2 (2.7.3)\n",
      "jsonschema (2.5.1)\n",
      "jupyter (1.0.0)\n",
      "jupyter-client (4.2.1)\n",
      "jupyter-console (4.0.2)\n",
      "jupyter-core (4.1.0)\n",
      "jupyter-dashboards (0.5.2)\n",
      "llvmlite (0.5.0)\n",
      "logilab-common (1.0.1)\n",
      "lxml (3.4.4)\n",
      "mapnik (0.1)\n",
      "Markdown (2.6.2)\n",
      "MarkupSafe (0.23)\n",
      "matplotlib (1.4.3)\n",
      "mistune (0.5.1)\n",
      "mklfft (0.0.0)\n",
      "mock (1.0.1)\n",
      "multipledispatch (0.4.7)\n",
      "MySQL-python (1.2.5)\n",
      "nb-anacondacloud (1.2.0)\n",
      "nb-conda (2.0.0)\n",
      "nb-conda-kernels (2.0.0)\n",
      "nbconvert (4.0.0)\n",
      "nbformat (4.0.0)\n",
      "nbpresent (3.0.2)\n",
      "netCDF4 (1.1.9)\n",
      "networkx (1.9.1)\n",
      "nltk (3.0.3)\n",
      "nose (1.3.7)\n",
      "notebook (4.2.2)\n",
      "notedown (1.4.4)\n",
      "numba (0.19.1)\n",
      "numbapro (0.18.0)\n",
      "numexpr (2.4.3)\n",
      "numpy (1.11.0)\n",
      "oauthlib (0.7.2)\n",
      "odo (0.3.2)\n",
      "openpyxl (2.2.5)\n",
      "pandana (0.1.2)\n",
      "pandas (0.18.1)\n",
      "pandasql (0.6.3)\n",
      "pandoc-attributes (0.1.7)\n",
      "pandocfilters (1.2.4)\n",
      "path.py (8.2.1)\n",
      "patsy (0.3.0)\n",
      "pep8 (1.6.2)\n",
      "pexpect (3.3)\n",
      "pickleshare (0.5)\n",
      "Pillow (2.8.2)\n",
      "pip (8.1.2)\n",
      "pivottablejs (0.1.0)\n",
      "plotly (1.7.2)\n",
      "ply (3.6)\n",
      "prettyplotlib (0.1.7)\n",
      "prettytable (0.7.2)\n",
      "psutil (3.0.1)\n",
      "psycopg2 (2.6)\n",
      "ptyprocess (0.5)\n",
      "py (1.4.30)\n",
      "pyasn1 (0.1.8)\n",
      "pycosat (0.6.1)\n",
      "pycparser (2.14)\n",
      "pycrypto (2.6.1)\n",
      "pycurl (7.19.5.1)\n",
      "pyflakes (0.9.2)\n",
      "pygaarst (0.0.1)\n",
      "Pygments (2.0.2)\n",
      "pylint (1.4.4)\n",
      "pymc (2.3.4)\n",
      "pyOpenSSL (0.15.1)\n",
      "pyparsing (2.0.3)\n",
      "pyproj (1.9.4)\n",
      "PySAL (1.9.1)\n",
      "pyshp (1.2.3)\n",
      "pysptools (0.13.0)\n",
      "pystache (0.5.4)\n",
      "PyStretch (0.2.1)\n",
      "pytest (2.7.1)\n",
      "python-dateutil (2.5.3)\n",
      "pytz (2016.4)\n",
      "PyYAML (3.11)\n",
      "pyzmq (14.7.0)\n",
      "qtconsole (4.0.1)\n",
      "rasterio (0.24.1)\n",
      "rdflib (4.2.0)\n",
      "redis (2.10.3)\n",
      "requests (2.7.0)\n",
      "requests-oauthlib (0.5.0)\n",
      "rise (4.0.0b1)\n",
      "rope (0.10.2)\n",
      "rpy2 (2.5.6)\n",
      "ruamel-yaml (-VERSION)\n",
      "runipy (0.1.3)\n",
      "scikit-image (0.11.3)\n",
      "scikit-learn (0.16.1)\n",
      "scipy (0.15.1)\n",
      "seaborn (0.6.0)\n",
      "setuptools (26.1.1)\n",
      "Shapely (1.5.9)\n",
      "simplegeneric (0.8.1)\n",
      "simplejson (3.7.3)\n",
      "singledispatch (3.4.0.3)\n",
      "six (1.10.0)\n",
      "snowballstemmer (1.2.0)\n",
      "snuggs (1.3.1)\n",
      "sockjs-tornado (1.0.1)\n",
      "SPARQLWrapper (1.6.4)\n",
      "spectral (0.16.1)\n",
      "Sphinx (1.3.1)\n",
      "sphinx-rtd-theme (0.1.8)\n",
      "spyder (2.3.5.2)\n",
      "SQLAlchemy (1.0.5)\n",
      "sqlparse (0.1.17)\n",
      "statsmodels (0.6.1)\n",
      "sympy (0.7.6)\n",
      "tables (3.2.0)\n",
      "tabulate (0.7.5)\n",
      "terminado (0.5)\n",
      "Theano (0.7.0)\n",
      "toolz (0.7.2)\n",
      "tornado (4.2)\n",
      "tqdm (3.4.0)\n",
      "traitlets (4.1.0)\n",
      "tweepy (2.3.0)\n",
      "twitter (1.17.0)\n",
      "ujson (1.33)\n",
      "unicodecsv (0.13.0)\n",
      "urbansim (2.0.1)\n",
      "version-information (1.0.3)\n",
      "websocket (0.2.1)\n",
      "Werkzeug (0.10.4)\n",
      "wheel (0.29.0)\n",
      "xlrd (0.9.3)\n",
      "XlsxWriter (0.7.3)\n",
      "xlwt (1.0.0)\n"
     ]
    }
   ],
   "source": [
    "#List of installed pip packages\n",
    "!pip list"
   ]
  },
  {
   "cell_type": "markdown",
   "metadata": {
    "nbpresent": {
     "id": "30ba2b86-2580-4f33-a5cf-9c0a67c346b6"
    },
    "slideshow": {
     "slide_type": "subslide"
    }
   },
   "source": [
    "## Running dynamic presentations\n",
    "\n",
    "You need to install the [RISE Ipython Library](https://github.com/damianavila/RISE) from [Damián Avila](https://github.com/damianavila) for dynamic presentations"
   ]
  },
  {
   "cell_type": "markdown",
   "metadata": {
    "nbpresent": {
     "id": "4aaf6362-e9db-42b4-b981-0188500a2308"
    },
    "slideshow": {
     "slide_type": "slide"
    }
   },
   "source": [
    "To convert and run this as a static presentation run the following command:"
   ]
  },
  {
   "cell_type": "code",
   "execution_count": 1,
   "metadata": {
    "collapsed": false,
    "nbpresent": {
     "id": "6d38b76f-f2ed-40f3-8b06-a77f0d3d950b"
    }
   },
   "outputs": [
    {
     "name": "stdout",
     "output_type": "stream",
     "text": [
      "/home/arb/LocalPython/Anaconda27/anaconda/lib/python2.7/site-packages/IPython/nbconvert.py:13: ShimWarning: The `IPython.nbconvert` package has been deprecated. You should import from nbconvert instead.\n",
      "  \"You should import from nbconvert instead.\", ShimWarning)\n",
      "[NbConvertApp] Converting notebook 201609_UtilityAddresses_Presentation.ipynb to slides\n",
      "[NbConvertApp] Writing 248541 bytes to 201609_UtilityAddresses_Presentation.slides.html\n",
      "[NbConvertApp] Redirecting reveal.js requests to https://cdn.jsdelivr.net/reveal.js/2.6.2\n",
      "Traceback (most recent call last):\n",
      "  File \"/home/arb/LocalPython/Anaconda27/anaconda/bin/jupyter-nbconvert\", line 6, in <module>\n",
      "    main()\n",
      "  File \"/home/arb/LocalPython/Anaconda27/anaconda/lib/python2.7/site-packages/jupyter_core/application.py\", line 267, in launch_instance\n",
      "    return super(JupyterApp, cls).launch_instance(argv=argv, **kwargs)\n",
      "  File \"/home/arb/LocalPython/Anaconda27/anaconda/lib/python2.7/site-packages/traitlets/config/application.py\", line 589, in launch_instance\n",
      "    app.start()\n",
      "  File \"/home/arb/LocalPython/Anaconda27/anaconda/lib/python2.7/site-packages/nbconvert/nbconvertapp.py\", line 286, in start\n",
      "    self.convert_notebooks()\n",
      "  File \"/home/arb/LocalPython/Anaconda27/anaconda/lib/python2.7/site-packages/nbconvert/nbconvertapp.py\", line 409, in convert_notebooks\n",
      "    self.convert_single_notebook(notebook_filename)\n",
      "  File \"/home/arb/LocalPython/Anaconda27/anaconda/lib/python2.7/site-packages/nbconvert/nbconvertapp.py\", line 382, in convert_single_notebook\n",
      "    self.postprocess_single_notebook(write_results)\n",
      "  File \"/home/arb/LocalPython/Anaconda27/anaconda/lib/python2.7/site-packages/nbconvert/nbconvertapp.py\", line 367, in postprocess_single_notebook\n",
      "    self.postprocessor(write_results)\n",
      "  File \"/home/arb/LocalPython/Anaconda27/anaconda/lib/python2.7/site-packages/nbconvert/postprocessors/base.py\", line 28, in __call__\n",
      "    self.postprocess(input)\n",
      "  File \"/home/arb/LocalPython/Anaconda27/anaconda/lib/python2.7/site-packages/nbconvert/postprocessors/serve.py\", line 87, in postprocess\n",
      "    http_server.listen(self.port, address=self.ip)\n",
      "  File \"/home/arb/LocalPython/Anaconda27/anaconda/lib/python2.7/site-packages/tornado/tcpserver.py\", line 126, in listen\n",
      "    sockets = bind_sockets(port, address=address)\n",
      "  File \"/home/arb/LocalPython/Anaconda27/anaconda/lib/python2.7/site-packages/tornado/netutil.py\", line 187, in bind_sockets\n",
      "    sock.bind(sockaddr)\n",
      "  File \"/home/arb/LocalPython/Anaconda27/anaconda/lib/python2.7/socket.py\", line 228, in meth\n",
      "    return getattr(self._sock,name)(*args)\n",
      "socket.error: [Errno 98] Address already in use\n"
     ]
    }
   ],
   "source": [
    "# Notes don't show in a python3 environment\n",
    "\n",
    "!jupyter nbconvert 201609_UtilityAddresses_Presentation.ipynb --to slides --post serve\n",
    "\n"
   ]
  },
  {
   "cell_type": "markdown",
   "metadata": {
    "nbpresent": {
     "id": "54794ad2-9588-4ac2-9a8e-2747d7038cc7"
    }
   },
   "source": [
    "To close this instances press *control 'c'* in the *ipython notebook* terminal console\n",
    "\n",
    "Static presentations allow the presenter to see *speakers notes* (use the 's' key)\n",
    "\n",
    "If running dynamically run the scripts below"
   ]
  },
  {
   "cell_type": "markdown",
   "metadata": {
    "nbpresent": {
     "id": "bf640cff-9590-4cad-a769-6b2f153276c5"
    },
    "slideshow": {
     "slide_type": "subslide"
    }
   },
   "source": [
    "## Pre load some useful libraries"
   ]
  },
  {
   "cell_type": "code",
   "execution_count": 13,
   "metadata": {
    "collapsed": false,
    "nbpresent": {
     "id": "39d75d5d-063a-427a-982e-6d86bd7285d4"
    },
    "slideshow": {
     "slide_type": "-"
    }
   },
   "outputs": [
    {
     "name": "stdout",
     "output_type": "stream",
     "text": [
      "Populating the interactive namespace from numpy and matplotlib\n"
     ]
    }
   ],
   "source": [
    "#Future proof python 2\n",
    "from __future__ import print_function #For python3 print syntax\n",
    "from __future__ import division\n",
    "\n",
    "# def\n",
    "import IPython.core.display\n",
    "\n",
    "# A function to collect user input - ipynb_input(varname='username', prompt='What is your username')\n",
    "\n",
    "def ipynb_input(varname, prompt=''):\n",
    "        \"\"\"Prompt user for input and assign string val to given variable name.\"\"\"\n",
    "        js_code = (\"\"\"\n",
    "            var value = prompt(\"{prompt}\",\"\");\n",
    "            var py_code = \"{varname} = '\" + value + \"'\";\n",
    "            IPython.notebook.kernel.execute(py_code);\n",
    "        \"\"\").format(prompt=prompt, varname=varname)\n",
    "        return IPython.core.display.Javascript(js_code)\n",
    "    \n",
    "# inline\n",
    "\n",
    "%pylab inline"
   ]
  },
  {
   "cell_type": "markdown",
   "metadata": {
    "nbpresent": {
     "id": "04d308c3-3f5b-417b-969d-af88640e6934"
    },
    "slideshow": {
     "slide_type": "skip"
    }
   },
   "source": [
    "\\newpage"
   ]
  },
  {
   "cell_type": "markdown",
   "metadata": {
    "nbpresent": {
     "id": "628a2fab-6117-451c-86bf-112808eb53c9"
    },
    "slideshow": {
     "slide_type": "slide"
    }
   },
   "source": [
    "## About me\n",
    "\n",
    " \n",
    "\n",
    "![It's all about me - details about Anthony Beck](https://dl.dropboxusercontent.com/u/393477/ImageBank/Geolytics_ARB_Banner.png)\n",
    "\n",
    "* Honorary Research Fellow, University of Nottingham: [orcid](http://orcid.org/0000-0002-2991-811X)\n",
    "* Director, Geolytics Limited - A spatial data analytics consultancy\n",
    "\n",
    "## About this presentation\n",
    "\n",
    "* [Available on GitHub](https://github.com/AntArch/Presentations_Github/tree/master/20151008_OpenGeo_Reuse_under_licence) - https://github.com/AntArch/Presentations_Github/\n",
    "* [Fully referenced PDF](https://github.com/AntArch/Presentations_Github/blob/master/201609_UtilityAddresses_Presentation/201609_UtilityAddresses_Presentation.pdf)\n"
   ]
  },
  {
   "cell_type": "markdown",
   "metadata": {
    "nbpresent": {
     "id": "2887ec79-f276-42ec-844e-1724a84a363a"
    },
    "slideshow": {
     "slide_type": "skip"
    }
   },
   "source": [
    "\\newpage"
   ]
  },
  {
   "cell_type": "markdown",
   "metadata": {
    "nbpresent": {
     "id": "0e1d08f0-f881-4524-8ac0-e000353e2399"
    },
    "slideshow": {
     "slide_type": "subslide"
    }
   },
   "source": [
    "# Contribution to GIScience learning outcomes\n",
    "\n",
    "This presentation contributes to the following learning outcomes for this course.\n",
    "\n",
    "1. Knowledge and Understanding:\n",
    "\t* Appreciate the importance of standards for Geographic Information and the role of the Open Geospatial Consortium.\n",
    "\t* Understand the term 'interoperability'.\n",
    "\t* Appreciate the different models for database design.\n",
    "\t* Understand the basis of Linked Data.\n",
    "\t* Find UK government open data and understand some of the complexities in the use of this data.\n",
    "\t* Appreciate the data issues involved in managing large distributed databases, Location-Based Services and the emergence of real-time data gathering through the 'Sensor-Web'.\n",
    "\t* Understand the different models for creating international Spatial Data Infrastructures.\n",
    "1. Intellectual Skills:\n",
    "\t* Evaluate the role of standards and professional bodies in GIS.\n",
    "\t* Articulate the meaning and importance of interoperability, semantics and ontologies.\n",
    "\t* Assess the technical and organisational issues which come into play when attempting to design large distributed geographic databases aimed at supporting 'real-world' problems.\n",
    "    \n"
   ]
  },
  {
   "cell_type": "markdown",
   "metadata": {
    "slideshow": {
     "slide_type": "slide"
    }
   },
   "source": [
    "# Addresses support:\n",
    "\n",
    "\n",
    "![](https://dl.dropboxusercontent.com/u/393477/ImageBank/AnAddressMap.png)"
   ]
  },
  {
   "cell_type": "markdown",
   "metadata": {
    "slideshow": {
     "slide_type": "skip"
    }
   },
   "source": [
    "\\newpage"
   ]
  },
  {
   "cell_type": "markdown",
   "metadata": {
    "slideshow": {
     "slide_type": "subslide"
    }
   },
   "source": [
    "## everyday life\n",
    "\n",
    "![@kaye_map_2012](https://farm9.staticflickr.com/8334/8076658843_bb93c499c9_z_d.jpg)\n",
    "\n",
    "They are part of the fabric of everyday life\n"
   ]
  },
  {
   "cell_type": "markdown",
   "metadata": {
    "slideshow": {
     "slide_type": "skip"
    }
   },
   "source": [
    "\\newpage"
   ]
  },
  {
   "cell_type": "markdown",
   "metadata": {
    "slideshow": {
     "slide_type": "subslide"
    }
   },
   "source": [
    "## Economy and commerce\n",
    "\n",
    "![](https://upload.wikimedia.org/wikipedia/commons/thumb/7/76/Flag_of_UPU.svg/640px-Flag_of_UPU.svg.png)"
   ]
  },
  {
   "cell_type": "markdown",
   "metadata": {
    "slideshow": {
     "slide_type": "skip"
    }
   },
   "source": [
    "\\newpage"
   ]
  },
  {
   "cell_type": "markdown",
   "metadata": {
    "slideshow": {
     "slide_type": "subslide"
    }
   },
   "source": [
    "## Governance\n",
    "\n",
    "![@appelo_governance_2010](https://farm6.staticflickr.com/5204/5201270923_f02844bb41_z_d.jpg)\n",
    "\n",
    "* Without an address, it is harder for individuals to register as legal residents. \n",
    "* They are *not citizens* and are excluded from:\n",
    "\t* public services \n",
    "\t* formal institutions.\n",
    "* This impacts on democracy. \n",
    "\n"
   ]
  },
  {
   "cell_type": "markdown",
   "metadata": {
    "slideshow": {
     "slide_type": "skip"
    }
   },
   "source": [
    "\\newpage"
   ]
  },
  {
   "cell_type": "markdown",
   "metadata": {
    "slideshow": {
     "slide_type": "subslide"
    }
   },
   "source": [
    "## Urban Development\n",
    "\n",
    "![@crowley_kibera_2009](https://farm3.staticflickr.com/2497/3726821378_8104f955e2_z_d.jpg)\n",
    "\n",
    "* Key to managing *the explosion* of rural to urban migration. \n",
    "\t* Informal settlements housing the urban poor. \n",
    "\t* Poor infrastructure services.\n",
    "\n"
   ]
  },
  {
   "cell_type": "markdown",
   "metadata": {
    "slideshow": {
     "slide_type": "skip"
    }
   },
   "source": [
    "\\newpage"
   ]
  },
  {
   "cell_type": "markdown",
   "metadata": {
    "slideshow": {
     "slide_type": "subslide"
    }
   },
   "source": [
    "## Legal and Social integration\n",
    "\n",
    "![@beck_social_integration_2015](https://upload.wikimedia.org/wikipedia/commons/thumb/8/8e/Stufen_Schulischer_Integration_enGB.svg/500px-Stufen_Schulischer_Integration_enGB.svg.png)\n",
    "\n",
    "* Formal versus Informal\n",
    "* Barring individuals and businesses from systems:\n",
    "\t* financial\n",
    "\t* legal\n",
    "\t* government\n",
    "\t* ....\n"
   ]
  },
  {
   "cell_type": "markdown",
   "metadata": {
    "slideshow": {
     "slide_type": "skip"
    }
   },
   "source": [
    "\\newpage"
   ]
  },
  {
   "cell_type": "markdown",
   "metadata": {
    "slideshow": {
     "slide_type": "subslide"
    }
   },
   "source": [
    "## Sustainability and risk management\n",
    "\n",
    "![@haiti_osm_2010](https://upload.wikimedia.org/wikipedia/commons/thumb/f/f5/OSM_Haiti_mapping_-_Mapping.jpg/320px-OSM_Haiti_mapping_-_Mapping.jpg)\n",
    "\n",
    "* Addresses, geodemographics and spatial infrastructure support \n",
    "\t* sustainability \n",
    "\t* resilience\n",
    "\t* disaster management\n"
   ]
  },
  {
   "cell_type": "markdown",
   "metadata": {
    "slideshow": {
     "slide_type": "skip"
    }
   },
   "source": [
    "\\newpage"
   ]
  },
  {
   "cell_type": "markdown",
   "metadata": {
    "slideshow": {
     "slide_type": "subslide"
    }
   },
   "source": [
    "## Global Wellbeing\n",
    "\n",
    "![@wellbeing_2013](https://upload.wikimedia.org/wikipedia/commons/9/90/Personal_wellbeing_in_the_UK_2012_-_13.png)"
   ]
  },
  {
   "cell_type": "markdown",
   "metadata": {
    "slideshow": {
     "slide_type": "skip"
    }
   },
   "source": [
    "\\newpage"
   ]
  },
  {
   "cell_type": "markdown",
   "metadata": {
    "slideshow": {
     "slide_type": "subslide"
    }
   },
   "source": [
    "## Addresses bridge gaps\n",
    "\n",
    "Addresses provide the link between ***people*** and ***place***\n",
    "\n",
    "![](https://dl.dropboxusercontent.com/u/393477/ImageBank/ForAddresses/AdressesProvidePeopleWithPlace.png)"
   ]
  },
  {
   "cell_type": "markdown",
   "metadata": {
    "slideshow": {
     "slide_type": "skip"
    }
   },
   "source": [
    "\\newpage"
   ]
  },
  {
   "cell_type": "markdown",
   "metadata": {
    "slideshow": {
     "slide_type": "slide"
    }
   },
   "source": [
    "# Utility Addresses\n",
    "\n",
    "\n",
    "## In the beginning ...... was the ledger\n",
    "\n",
    "![@ledger_en_beck_2016](https://upload.wikimedia.org/wikipedia/commons/thumb/f/f3/Everton_1933_FA_Cup_team_selection_ledger.JPG/681px-Everton_1933_FA_Cup_team_selection_ledger.JPG)\n",
    "\n"
   ]
  },
  {
   "cell_type": "markdown",
   "metadata": {
    "slideshow": {
     "slide_type": "skip"
    }
   },
   "source": [
    "\\newpage"
   ]
  },
  {
   "cell_type": "markdown",
   "metadata": {
    "slideshow": {
     "slide_type": "subslide"
    }
   },
   "source": [
    "## Bespoke digital addresses \n",
    "\n",
    "* Digitisation and data entry to create a bespoke Address Database - \n",
    "\t* Fit for UU's operational purpose\n",
    "\t* Making utilities a key *owner* of address data\n",
    "\t\t* Subject to IP against PAF matching\n"
   ]
  },
  {
   "cell_type": "markdown",
   "metadata": {
    "slideshow": {
     "slide_type": "skip"
    }
   },
   "source": [
    "\\newpage"
   ]
  },
  {
   "cell_type": "markdown",
   "metadata": {
    "slideshow": {
     "slide_type": "subslide"
    }
   },
   "source": [
    "## Policy mandates\n",
    "\n",
    "Open Water - A shared view of addresses requiring a new addressing paradigm - Address Base Premium?\n",
    "\n",
    "![](https://dl.dropboxusercontent.com/u/393477/ImageBank/ForAddresses/OpenWater.png)\n"
   ]
  },
  {
   "cell_type": "markdown",
   "metadata": {
    "nbpresent": {
     "id": "b2ca43ef-2e99-479c-b47d-9e7a8ede9572"
    },
    "slideshow": {
     "slide_type": "skip"
    }
   },
   "source": [
    "\\newpage"
   ]
  },
  {
   "cell_type": "markdown",
   "metadata": {
    "nbpresent": {
     "id": "b2ca43ef-2e99-479c-b47d-9e7a8ede9572"
    },
    "slideshow": {
     "slide_type": "slide"
    }
   },
   "source": [
    "\n",
    "# Utility addressing:\n",
    "\n",
    "\n",
    "\n",
    "* Postal delivery (Billing)\n",
    "\t* Services and Billing to properties within the extent of the UU operational area\n",
    "\t* Billing to customers outside the extent of UU operational area\n",
    "* Asset/Facilities Management (infrastructure)\n",
    "\t* Premises\n",
    "\t\t* But utilties manage different assets to Local Authorities\n",
    "\t\t* is an address the best way to manage a geo-located asset? \n",
    "* Bill calculation\n",
    "\t* Cross referencing Vaulation Office and other detals.\n",
    "\n"
   ]
  },
  {
   "cell_type": "markdown",
   "metadata": {
    "nbpresent": {
     "id": "b2ca43ef-2e99-479c-b47d-9e7a8ede9572"
    },
    "slideshow": {
     "slide_type": "skip"
    }
   },
   "source": [
    "\\newpage"
   ]
  },
  {
   "cell_type": "markdown",
   "metadata": {
    "slideshow": {
     "slide_type": "subslide"
    }
   },
   "source": [
    "\n",
    "\n",
    ". . . . \n",
    "\n",
    "**It's not just postal addressing**\n",
    "\n",
    ". . . . \n",
    "\n",
    "**Address credibility is critical**\n",
    "\n",
    ". . . . \n",
    "\n",
    "Utilities see the full life-cycle of an address - especially the birth and death"
   ]
  },
  {
   "cell_type": "markdown",
   "metadata": {
    "slideshow": {
     "slide_type": "skip"
    }
   },
   "source": [
    "\\newpage"
   ]
  },
  {
   "cell_type": "markdown",
   "metadata": {
    "nbpresent": {
     "id": "b2ca43ef-2e99-479c-b47d-9e7a8ede9572"
    },
    "slideshow": {
     "slide_type": "subslide"
    }
   },
   "source": [
    "##  asset management\n",
    "\n",
    "* UU manage assets and facilities\n",
    "\n",
    "> According to ABP a Waste Water facility is neither a postal address or a non-postal address. Really? Is it having an existential crisis?\n",
    "\n",
    "![](https://upload.wikimedia.org/wikipedia/commons/thumb/4/4b/Utility_trench_in_Bwy_%40_42_St_jeh.jpg/576px-Utility_trench_in_Bwy_%40_42_St_jeh.jpg)\n"
   ]
  },
  {
   "cell_type": "markdown",
   "metadata": {
    "nbpresent": {
     "id": "b2ca43ef-2e99-479c-b47d-9e7a8ede9572"
    },
    "slideshow": {
     "slide_type": "skip"
    }
   },
   "source": [
    "\\newpage"
   ]
  },
  {
   "cell_type": "markdown",
   "metadata": {
    "nbpresent": {
     "id": "b2ca43ef-2e99-479c-b47d-9e7a8ede9572"
    },
    "slideshow": {
     "slide_type": "subslide"
    }
   },
   "source": [
    "##  A connected spatial network\n",
    "\n",
    "![](https://dl.dropboxusercontent.com/u/393477/ImageBank/ForAddresses/UU_SPA_CONCEPTUAL.png)"
   ]
  },
  {
   "cell_type": "markdown",
   "metadata": {
    "nbpresent": {
     "id": "b2ca43ef-2e99-479c-b47d-9e7a8ede9572"
    },
    "slideshow": {
     "slide_type": "skip"
    }
   },
   "source": [
    "\\newpage"
   ]
  },
  {
   "cell_type": "markdown",
   "metadata": {
    "nbpresent": {
     "id": "b2ca43ef-2e99-479c-b47d-9e7a8ede9572"
    },
    "slideshow": {
     "slide_type": "subslide"
    }
   },
   "source": [
    "##  Serving customers who operate **somewhere**\n",
    "\n",
    "![](https://dl.dropboxusercontent.com/u/393477/ImageBank/ForAddresses/UU_ElegiblePremiseConcepts.png)\n",
    "\n",
    "* UU serve customers located in \n",
    "\t* Buildings\n",
    "\t* Factories\n",
    "\t* Houses\n",
    "\t* Fields\n",
    "\t* Anywhere"
   ]
  },
  {
   "cell_type": "markdown",
   "metadata": {
    "nbpresent": {
     "id": "b2ca43ef-2e99-479c-b47d-9e7a8ede9572"
    },
    "slideshow": {
     "slide_type": "skip"
    }
   },
   "source": [
    "\\newpage"
   ]
  },
  {
   "cell_type": "markdown",
   "metadata": {
    "nbpresent": {
     "id": "b2ca43ef-2e99-479c-b47d-9e7a8ede9572"
    },
    "slideshow": {
     "slide_type": "subslide"
    }
   },
   "source": [
    "##  Serving customers who operate **anywhere**\n",
    "\n",
    "![](https://upload.wikimedia.org/wikipedia/commons/thumb/5/5b/Colling_Trough_Collingtree_UK_2007.JPG/597px-Colling_Trough_Collingtree_UK_2007.JPG)\n",
    "\n"
   ]
  },
  {
   "cell_type": "markdown",
   "metadata": {
    "nbpresent": {
     "id": "b2ca43ef-2e99-479c-b47d-9e7a8ede9572"
    },
    "slideshow": {
     "slide_type": "skip"
    }
   },
   "source": [
    "\\newpage"
   ]
  },
  {
   "cell_type": "markdown",
   "metadata": {
    "nbpresent": {
     "id": "b2ca43ef-2e99-479c-b47d-9e7a8ede9572"
    },
    "slideshow": {
     "slide_type": "slide"
    }
   },
   "source": [
    "# Utility addressing issues\n",
    "\n",
    "##  Quotes\n",
    "\n",
    "* Another product(s) to manage\n",
    "\t* which may not fit the real business need\n",
    "\t* which may not have full customer or geographic coverage\n",
    "* Addresses are a pain\n",
    "\t* Assets as locations\n",
    "\t* Services as locatons\n",
    "\t* People at locations"
   ]
  },
  {
   "cell_type": "markdown",
   "metadata": {
    "nbpresent": {
     "id": "b2ca43ef-2e99-479c-b47d-9e7a8ede9572"
    },
    "slideshow": {
     "slide_type": "skip"
    }
   },
   "source": [
    "\\newpage"
   ]
  },
  {
   "cell_type": "markdown",
   "metadata": {
    "nbpresent": {
     "id": "b2ca43ef-2e99-479c-b47d-9e7a8ede9572"
    },
    "slideshow": {
     "slide_type": "subslide"
    }
   },
   "source": [
    "##  People think exclusively in terms of postal\n",
    "\n",
    "When most people in the UK think of addresses they think of a postal address.\n",
    "\n",
    "Is Postal a constraining legacy?\n",
    "\n",
    "![](https://upload.wikimedia.org/wikipedia/commons/0/0d/Mono_pensador.jpg)\n",
    "\n"
   ]
  },
  {
   "cell_type": "markdown",
   "metadata": {
    "nbpresent": {
     "id": "b2ca43ef-2e99-479c-b47d-9e7a8ede9572"
    },
    "slideshow": {
     "slide_type": "skip"
    }
   },
   "source": [
    "\\newpage"
   ]
  },
  {
   "cell_type": "markdown",
   "metadata": {
    "nbpresent": {
     "id": "b2ca43ef-2e99-479c-b47d-9e7a8ede9572"
    },
    "slideshow": {
     "slide_type": "slide"
    }
   },
   "source": [
    "\n",
    "# What is an address?\n",
    "\n",
    "##  Address abstraction\n",
    "\n",
    "![@AddressAbstraction_beck_2016](https://upload.wikimedia.org/wikipedia/commons/thumb/5/54/Postal_Address_Abstraction.svg/1024px-Postal_Address_Abstraction.svg.png)"
   ]
  },
  {
   "cell_type": "markdown",
   "metadata": {
    "nbpresent": {
     "id": "b2ca43ef-2e99-479c-b47d-9e7a8ede9572"
    },
    "slideshow": {
     "slide_type": "skip"
    }
   },
   "source": [
    "\\newpage"
   ]
  },
  {
   "cell_type": "markdown",
   "metadata": {
    "nbpresent": {
     "id": "b2ca43ef-2e99-479c-b47d-9e7a8ede9572"
    },
    "slideshow": {
     "slide_type": "subslide"
    }
   },
   "source": [
    "## How is an address? \n",
    "\n",
    "* Address did not spring fully formed into existance. \n",
    "* They are used globally\n",
    "\t* but developed nationally\n",
    "\t* and for different reasons"
   ]
  },
  {
   "cell_type": "markdown",
   "metadata": {
    "nbpresent": {
     "id": "b2ca43ef-2e99-479c-b47d-9e7a8ede9572"
    },
    "slideshow": {
     "slide_type": "skip"
    }
   },
   "source": [
    "\\newpage"
   ]
  },
  {
   "cell_type": "markdown",
   "metadata": {
    "nbpresent": {
     "id": "b2ca43ef-2e99-479c-b47d-9e7a8ede9572"
    },
    "slideshow": {
     "slide_type": "subslide"
    }
   },
   "source": [
    "##  Royal Mail - postal delivery\n",
    "\n",
    "![](https://dl.dropboxusercontent.com/u/393477/1Spatial/1S_ADP_creating_AP_DP.gif)\n",
    "\n"
   ]
  },
  {
   "cell_type": "markdown",
   "metadata": {
    "slideshow": {
     "slide_type": "notes"
    }
   },
   "source": [
    "In a postal system a *Delivery Point* (DP) is a single mailbox or other place at which mail is delivered. It differs from an address in that a single DP may be associated with multiple addresses (for example a communal point would act as the DP for a multiple address flat (a multiple-occupancy residence)). DPs were collected by the Royal Mail for their operational activities and sold under licence as the *Postal Address File* (PAF). PAF is built around the 8-character *Unique Delivery Point Reference Number* (UDPRN). The problem with PAF is that the spatial context is not incorporated into the product. Delivery points are decoupled from their spatial context - a delivery point with a spatial context should provide the clear location of the point of delivery (a door in a house, a post-room at an office etc.)."
   ]
  },
  {
   "cell_type": "markdown",
   "metadata": {
    "nbpresent": {
     "id": "b2ca43ef-2e99-479c-b47d-9e7a8ede9572"
    },
    "slideshow": {
     "slide_type": "skip"
    }
   },
   "source": [
    "\\newpage"
   ]
  },
  {
   "cell_type": "markdown",
   "metadata": {
    "nbpresent": {
     "id": "b2ca43ef-2e99-479c-b47d-9e7a8ede9572"
    },
    "slideshow": {
     "slide_type": "subslide"
    }
   },
   "source": [
    "##  LLPG - asset management\n",
    "\n",
    "![[Borough of Harrown LLPG schematic](https://www.ggpsystems.co.uk/wp-content/uploads/2010/12/LBH-LLPG-System-flow-Diagram-300x211.png)](https://dl.dropboxusercontent.com/u/393477/ImageBank/ForAddresses/LBH-LLPG-System-flow-Diagram.png)\n",
    "\n"
   ]
  },
  {
   "cell_type": "markdown",
   "metadata": {
    "slideshow": {
     "slide_type": "notes"
    }
   },
   "source": [
    "An LLPG (Local Land and Property Gazetteer) is a collection of address and location data created by a local authority. \n",
    "\n",
    "It is an Asset/Facilities Management tool to support public service delivery:\n",
    "\n",
    "* Local Authority\n",
    "* Police\n",
    "* Fire\n",
    "* Ambulance\n",
    "\n",
    "It incorporates:\n",
    "\n",
    "* Non postal addresses (i.e. something that the Royal Mail wouldn't deliver post to)\n",
    "\n",
    "* a 12-digit Unique Property Reference Number for every building and plot of land\n",
    "* National Street Gazetteer\n",
    "\n",
    "Prior to the initialization of the LLPGs, local authorities would have different address data held across different departments and the purpose of the Local Land and Property Gazetteers was to rationalize the data, so that a property or a particular plot of land is referred to as the same thing, even if they do have different names."
   ]
  },
  {
   "cell_type": "markdown",
   "metadata": {
    "nbpresent": {
     "id": "b2ca43ef-2e99-479c-b47d-9e7a8ede9572"
    },
    "slideshow": {
     "slide_type": "skip"
    }
   },
   "source": [
    "\\newpage"
   ]
  },
  {
   "cell_type": "markdown",
   "metadata": {
    "nbpresent": {
     "id": "b2ca43ef-2e99-479c-b47d-9e7a8ede9572"
    },
    "slideshow": {
     "slide_type": "subslide"
    }
   },
   "source": [
    "##  Addresses as assets?\n",
    "\n",
    "![[Post box](http://joncruddas.org.uk/sites/joncruddas.org.uk/files/styles/large/public/field/image/post-box.jpg?itok=ECnzLyhZ)](http://joncruddas.org.uk/sites/joncruddas.org.uk/files/styles/large/public/field/image/post-box.jpg?itok=ECnzLyhZ)\n",
    "\n",
    "* So what makes the following 'non-postal' *facilities*  addresses:\n",
    "\t* Chimney\n",
    "\t* Post box - which is clearly having a letter delivered ;-)\n",
    "\t* Electricity sub-station\n",
    "\t* Public Telephone\n",
    "\t* Tennis Courts"
   ]
  },
  {
   "cell_type": "markdown",
   "metadata": {
    "nbpresent": {
     "id": "b2ca43ef-2e99-479c-b47d-9e7a8ede9572"
    },
    "slideshow": {
     "slide_type": "skip"
    }
   },
   "source": [
    "\\newpage"
   ]
  },
  {
   "cell_type": "markdown",
   "metadata": {
    "nbpresent": {
     "id": "b2ca43ef-2e99-479c-b47d-9e7a8ede9572"
    },
    "slideshow": {
     "slide_type": "subslide"
    }
   },
   "source": [
    "##  Korea: The Jibeon system - taxation\n",
    "\n",
    "![after (@_addressing_2012, p.57)](https://dl.dropboxusercontent.com/u/393477/ImageBank/ForAddresses/JibeonAddressingUPU_pg57.png)\n",
    "\n"
   ]
  },
  {
   "cell_type": "markdown",
   "metadata": {
    "slideshow": {
     "slide_type": "notes"
    }
   },
   "source": [
    "Until recently, the Republic of Korea (Korea) has used land parcel numbers ( jibeon) to identify unique locations. This system was initially used to identify land for census purposes and to levy taxes. In addition, until the launch of the new addressing system, the jibeon was also used to identify locations (i.e. a physical address). These parcel numbers were assigned chronologically according to date of construction and without reference to the street where they werelocated. This meant that adjacent buildings did not necessarily follow a sequential numbering system."
   ]
  },
  {
   "cell_type": "markdown",
   "metadata": {
    "nbpresent": {
     "id": "b2ca43ef-2e99-479c-b47d-9e7a8ede9572"
    },
    "slideshow": {
     "slide_type": "skip"
    }
   },
   "source": [
    "\\newpage"
   ]
  },
  {
   "cell_type": "markdown",
   "metadata": {
    "nbpresent": {
     "id": "b2ca43ef-2e99-479c-b47d-9e7a8ede9572"
    },
    "slideshow": {
     "slide_type": "subslide"
    }
   },
   "source": [
    "##  World Bank - social improvement\n",
    "\n",
    "![@world_bank_address_beck_2015](https://upload.wikimedia.org/wikipedia/commons/thumb/e/ef/World_Bank_Recommended_Address_Infrastucture.svg/640px-World_Bank_Recommended_Address_Infrastucture.svg.png)\n",
    "\n"
   ]
  },
  {
   "cell_type": "markdown",
   "metadata": {
    "slideshow": {
     "slide_type": "notes"
    }
   },
   "source": [
    "The World Bank has taken a *street addressing* view-point (@_addressing_2012, p.57). This requires up-to-date mapping and bureacracy (to deliver a street gazetteer and to provide the street infrastructure (furniture) that will lead to the popular acceptance of the gazetteer). However, (@_addressing_2012, p.44) demonstrates that this is a cumbersome process with a number of issues, not the least:\n",
    "\n",
    "* Urban bias\n",
    "* Cost of infrastucture development\n",
    "* Lack of community involvment"
   ]
  },
  {
   "cell_type": "markdown",
   "metadata": {
    "nbpresent": {
     "id": "b2ca43ef-2e99-479c-b47d-9e7a8ede9572"
    },
    "slideshow": {
     "slide_type": "skip"
    }
   },
   "source": [
    "\\newpage"
   ]
  },
  {
   "cell_type": "markdown",
   "metadata": {
    "nbpresent": {
     "id": "b2ca43ef-2e99-479c-b47d-9e7a8ede9572"
    },
    "slideshow": {
     "slide_type": "subslide"
    }
   },
   "source": [
    "##  Denmark: Impactful Addressing\n",
    "\n",
    "![after @lind2008addresses](https://dl.dropboxusercontent.com/u/393477/ImageBank/ForAddresses/Lind_AddressesAsAnInfrastructureDenmark.png)"
   ]
  },
  {
   "cell_type": "markdown",
   "metadata": {
    "nbpresent": {
     "id": "b2ca43ef-2e99-479c-b47d-9e7a8ede9572"
    },
    "slideshow": {
     "slide_type": "skip"
    }
   },
   "source": [
    "\\newpage"
   ]
  },
  {
   "cell_type": "markdown",
   "metadata": {
    "nbpresent": {
     "id": "b2ca43ef-2e99-479c-b47d-9e7a8ede9572"
    },
    "slideshow": {
     "slide_type": "subslide"
    }
   },
   "source": [
    "##  Denmark: Impactful Addressing\n",
    "\n",
    "* Geocoded address infrastructure\n",
    "* Defined the semantics of purpose\n",
    "\t* what is an address\n",
    "* Open data\n",
    "\t* an address commons\n",
    "* The re-use statistics are staggering:\n",
    "\t* 70% of deliveries are to the private sector, \n",
    "\t* 20% are to central government\n",
    "\t* 10% are to municipalities.\n",
    "* Benefits:\n",
    "\t* Efficiencies\n",
    "\t* No duplication\n",
    "\t* Improved confidence\n",
    "\t* Known quality\n",
    "\n",
    "A credible service providing a mutlitude of efficiencies (@_addressing_2012, pp.50 - 54)\n",
    "\n"
   ]
  },
  {
   "cell_type": "markdown",
   "metadata": {
    "nbpresent": {
     "id": "b2ca43ef-2e99-479c-b47d-9e7a8ede9572"
    },
    "slideshow": {
     "slide_type": "skip"
    }
   },
   "source": [
    "\\newpage"
   ]
  },
  {
   "cell_type": "markdown",
   "metadata": {
    "nbpresent": {
     "id": "b2ca43ef-2e99-479c-b47d-9e7a8ede9572"
    },
    "slideshow": {
     "slide_type": "subslide"
    }
   },
   "source": [
    "\n",
    "# UK Addressing\n",
    "\n",
    "##  Geoplace - Formal\n",
    "\n",
    "![[Geoplace graphic](https://www.geoplace.co.uk/documents/10181/67776/NAG+infographic/835d83a5-e2d8-4a26-bc95-c857b315490a?t=1434370410424)](https://www.geoplace.co.uk/documents/10181/67776/NAG+infographic/835d83a5-e2d8-4a26-bc95-c857b315490a?t=1434370410424)\n",
    "\n"
   ]
  },
  {
   "cell_type": "markdown",
   "metadata": {
    "slideshow": {
     "slide_type": "notes"
    }
   },
   "source": [
    "GeoPlace is a limited liability partnership owned equally by the [Local Government Association](http://www.local.gov.uk/) and [Ordnance Survey](http://www.ordnancesurvey.co.uk/). It has built a synchronised database containing spatial address data from 348 local authorities in England and Wales (the *Local Land and Property Gazetteers* (LLPG) which cumulatively create the *National Land and Property Gazetteer* (NLPG)), combining them with Royal Mail, Valuation Office Agency and Ordnance Survey datasets. The NAG Hub database is owned by GeoPlace and is the authoritative single source of government-owned national spatial address information, containing over 225 million data records relating to about 34 million address features. GeoPlace is a production organisation with no product sales or supply operations. The NAG is made available to public and private sector customers through Ordnance Survey’s [AddressBase](http://www.ordnancesurvey.co.uk/business-and-government/products/addressbase.html) products."
   ]
  },
  {
   "cell_type": "markdown",
   "metadata": {
    "nbpresent": {
     "id": "b2ca43ef-2e99-479c-b47d-9e7a8ede9572"
    },
    "slideshow": {
     "slide_type": "skip"
    }
   },
   "source": [
    "\\newpage"
   ]
  },
  {
   "cell_type": "markdown",
   "metadata": {
    "nbpresent": {
     "id": "b2ca43ef-2e99-479c-b47d-9e7a8ede9572"
    },
    "slideshow": {
     "slide_type": "subslide"
    }
   },
   "source": [
    "##  The AddressBase Family\n",
    "\n",
    "![Ordnance Survey](http://demos.ordnancesurvey.co.uk/public/demos/products/AddressBase/images/database_3_0.jpg)\n",
    "\n"
   ]
  },
  {
   "cell_type": "markdown",
   "metadata": {
    "slideshow": {
     "slide_type": "notes"
    }
   },
   "source": [
    "GeoPlace has built a synchronised database containing spatial address data from 348 local authorities in England and Wales (the *Local Land and Property Gazetteers* (LLPG) which cumulatively create the *National Land and Property Gazetteer* (NLPG)), combining them with Royal Mail (in their Postal Address File (PAF)), Valuation Office Agency and Ordnance Survey datasets. The National Address Gazetteer Hub database is owned by GeoPlace and is claimed to be *the authoritative single source of government-owned national spatial address information*, containing over 225 million data records relating to about 34 million address features. Each address has its own *Unique Property Reference Number* (UPRN). The AddressBase suite have been designed to integrate into the [Ordnance Survey MasterMap suite of products](http://www.ordnancesurvey.co.uk/business-and-government/products/mastermap-products.html). \n",
    "\n",
    "AddressBase supports the UK Location Strategy concept of a 'core reference geography', including the key principles of the European Union INSPIRE directive, that data should only be collected once and kept where it can be maintained most effectively (see [AddressBase products user guide](http://www.ordnancesurvey.co.uk/docs/user-guides/addressbase-products-user-guide.pdf)). *It's probably worthwhile mentioning that this is not an open address layer - however, a [2104 feasibility study sponsored by the department of Business, Innovation and Skills](https://www.gov.uk/government/publications/an-open-national-address-gazetteer) included a recommendation that AddressBase lite is made openly available*.\n",
    "\n",
    "AddressBase is available at three levels of granularity (lite, plus and premium). This project uses AddressBase Plus (AB+) [which is defined as:](http://www.ordnancesurvey.co.uk/business-and-government/products/addressbase-plus.html)\n",
    "\n",
    "* AB+ merges two address datasets together (PAF and Local Authority) to provide the best available view of addresses currently defined by Local Authorities, giving many advantages over AddressBase.\n",
    "* AB+ lets you link additional information to a single address, place it on a map, and carry out spatial analysis that enables improved business practices.\n",
    "* Geoplace argue that further value comes from additional information in the product which includes:\n",
    "\t* A more detailed classification – allowing a better understanding of the type (e.g. Domestic, Commercial or Mixed) and function of a property (e.g.  Bank or Restaurant)\n",
    "\t* Local Authority addresses not contained within PAF – giving a more complete picture of the current addresses and properties (assuming they are in scope (see below))\n",
    "\t* Cross reference to OS MasterMap TOIDs – allowing simple matching to OS MasterMap Address Layer 2, Integrated Transport Network or Topography Layer\n",
    "\t* Spatial coordinates\n",
    "\t* Unique Property Reference Number (UPRN) – which provides the ability to cross reference data with other organisations, and maintain data integrity."
   ]
  },
  {
   "cell_type": "markdown",
   "metadata": {
    "nbpresent": {
     "id": "b2ca43ef-2e99-479c-b47d-9e7a8ede9572"
    },
    "slideshow": {
     "slide_type": "skip"
    }
   },
   "source": [
    "\\newpage"
   ]
  },
  {
   "cell_type": "markdown",
   "metadata": {
    "nbpresent": {
     "id": "b2ca43ef-2e99-479c-b47d-9e7a8ede9572"
    },
    "slideshow": {
     "slide_type": "subslide"
    }
   },
   "source": [
    "##  Address lifecycle\n",
    "\n",
    "![[addressbase products user guide (p. 9)](https://www.europa.uk.com/resources/os/addressbase-products-user-guide.pdf)](https://dl.dropboxusercontent.com/u/393477/ImageBank/ForAddresses/ABP_Lifecycle.png)\n",
    "\n"
   ]
  },
  {
   "cell_type": "markdown",
   "metadata": {
    "slideshow": {
     "slide_type": "notes"
    }
   },
   "source": [
    "\n",
    "This ability to maintain an overview of the lifecycle of address and property status means the AddressBase Premium has introduced new potential use cases. This has seen companies incorporating AddressBase Premium into their business systems to replace PAF or bespoke addressing frameworks - in theory the ability to authoritatively access the address lifecycle provides greater certainty for a number of business operations. At *United Utilites* (UU) AddressBase Premium is replacing a multitude of bespoke and PAF based addressing products. \n",
    "\n",
    "Both PAF and AddressBase have mechanisms to deal with multiple private and commerical occupancy in the same building. Once again this product provides the building which contains the address and not the location of any DP."
   ]
  },
  {
   "cell_type": "markdown",
   "metadata": {
    "nbpresent": {
     "id": "b2ca43ef-2e99-479c-b47d-9e7a8ede9572"
    },
    "slideshow": {
     "slide_type": "skip"
    }
   },
   "source": [
    "\\newpage"
   ]
  },
  {
   "cell_type": "markdown",
   "metadata": {
    "nbpresent": {
     "id": "b2ca43ef-2e99-479c-b47d-9e7a8ede9572"
    },
    "slideshow": {
     "slide_type": "subslide"
    }
   },
   "source": [
    "##  [Open National Address Gazetteer](https://www.gov.uk/government/publications/an-open-national-address-gazetteer)\n",
    "\n",
    "The *Department for Business, Innovation & Skills* (BIS) on the need for an [Open National Address Gazetteer](https://www.gov.uk/government/publications/an-open-national-address-gazetteer) commissioned a review of *open addressing* which was published January 2014. \n",
    "\n",
    ". . . . . \n",
    "\n",
    "It recommended:\n",
    "\n",
    "* the UK Government commission an 'open' addressing product based on a variation of the 'freemium' model \n",
    "\t* data owners elect to release a basic ('Lite') product as Open Data that leaves higher value products to be licensed\n",
    "\n",
    ". . . . . \n",
    "\n",
    "AddressBase Lite was proposed with an annual release cycle. Critically this contains the UPRN which could be be key for product interoperability."
   ]
  },
  {
   "cell_type": "markdown",
   "metadata": {
    "nbpresent": {
     "id": "b2ca43ef-2e99-479c-b47d-9e7a8ede9572"
    },
    "slideshow": {
     "slide_type": "skip"
    }
   },
   "source": [
    "\\newpage"
   ]
  },
  {
   "cell_type": "markdown",
   "metadata": {
    "nbpresent": {
     "id": "b2ca43ef-2e99-479c-b47d-9e7a8ede9572"
    },
    "slideshow": {
     "slide_type": "subslide"
    }
   },
   "source": [
    "##  Open NAG - [*'Responses received'*](https://www.gov.uk/government/publications/an-open-national-address-gazetteer) April 2014\n",
    "\n",
    "With the exception of the PAF advisory board and Royal Mail there was support for the BIS review across the respondants with some notable calls for the *Totally Open* option (particularly from those organisations who are not part of the Public Sector Mapping Agreement) and that the UPRN should be released under an open data licence (as a core reference data set that encourages product interoperability).\n",
    "\n",
    ". . . . . \n",
    "\n",
    "A number of quotes have been selected below:"
   ]
  },
  {
   "cell_type": "markdown",
   "metadata": {
    "nbpresent": {
     "id": "b2ca43ef-2e99-479c-b47d-9e7a8ede9572"
    },
    "slideshow": {
     "slide_type": "skip"
    }
   },
   "source": [
    "\\newpage"
   ]
  },
  {
   "cell_type": "markdown",
   "metadata": {
    "nbpresent": {
     "id": "b2ca43ef-2e99-479c-b47d-9e7a8ede9572"
    },
    "slideshow": {
     "slide_type": "subslide"
    }
   },
   "source": [
    "##  Addresses as an Open Core Reference\n",
    "\n",
    ">....Address data and specific locations attached to them **are part of Core Reference data sets recognised by government as a key component of our National Information Infrastructure** (as long argued by APPSI). The report published by BIS gives us **a chance to democratise access to addressing data** and meet many of the Government’s avowed intentions. We urge acceptance of Option 6 *(freemium)* or 7 *(an independent open data product)*. **David Rhind *Chair of the Advisory Panel on Public Sector Information* **\n",
    "\n",
    ">....**Freely available data are much more likely to be adopted** by users and embedded in operational systems. **A national register, free at the point of delivery will undoubtedly help in joining up services, increasing efficiency and reducing duplication**. **Office of National Statistics**"
   ]
  },
  {
   "cell_type": "markdown",
   "metadata": {
    "nbpresent": {
     "id": "b2ca43ef-2e99-479c-b47d-9e7a8ede9572"
    },
    "slideshow": {
     "slide_type": "skip"
    }
   },
   "source": [
    "\\newpage"
   ]
  },
  {
   "cell_type": "markdown",
   "metadata": {
    "nbpresent": {
     "id": "b2ca43ef-2e99-479c-b47d-9e7a8ede9572"
    },
    "slideshow": {
     "slide_type": "subslide"
    }
   },
   "source": [
    "##  Monopoly rent exploitation\n",
    "\n",
    ">... we expressed concern that, for almost all other potential customers (non-public sector), **the prices are prohibitive**, and appear designed to protect OS’s existing policy of setting high prices for a small captive market, **extracting monopoly rent**. **Keith Dugmore *Director, DUG* **"
   ]
  },
  {
   "cell_type": "markdown",
   "metadata": {
    "nbpresent": {
     "id": "b2ca43ef-2e99-479c-b47d-9e7a8ede9572"
    },
    "slideshow": {
     "slide_type": "skip"
    }
   },
   "source": [
    "\\newpage"
   ]
  },
  {
   "cell_type": "markdown",
   "metadata": {
    "nbpresent": {
     "id": "b2ca43ef-2e99-479c-b47d-9e7a8ede9572"
    },
    "slideshow": {
     "slide_type": "subslide"
    }
   },
   "source": [
    "##  The benefit of current credible addresses\n",
    "\n",
    ">**The problem of out-of-date addresses is a very significant commercial cost** for the whole of the UK and is also arguably underplayed in the report. **Individual Respondent 3**"
   ]
  },
  {
   "cell_type": "markdown",
   "metadata": {
    "nbpresent": {
     "id": "b2ca43ef-2e99-479c-b47d-9e7a8ede9572"
    },
    "slideshow": {
     "slide_type": "skip"
    }
   },
   "source": [
    "\\newpage"
   ]
  },
  {
   "cell_type": "markdown",
   "metadata": {
    "nbpresent": {
     "id": "b2ca43ef-2e99-479c-b47d-9e7a8ede9572"
    },
    "slideshow": {
     "slide_type": "subslide"
    }
   },
   "source": [
    "##  Licences\n",
    "\n",
    ">Whatever licence the data is available under, **it must permit the data to be combined with other open data and then re-published**. ... The [Open Government Licence](http://www.nationalarchives.gov.uk/doc/open-government-licence/version/2/) fulfils this criteria, but it should be noted that the [OS OpenData Licence](http://www.ordnancesurvey.co.uk/docs/licences/os-opendata-licence.pdf) (enforced by OS on it's OS OpenData products, and via the PSMA) does not. The use of the latter would represent a significant restriction on down-stream data use, and so should be avoided. **Individual Respondent 6**\n",
    "\n",
    "\n"
   ]
  },
  {
   "cell_type": "markdown",
   "metadata": {
    "nbpresent": {
     "id": "b2ca43ef-2e99-479c-b47d-9e7a8ede9572"
    },
    "slideshow": {
     "slide_type": "skip"
    }
   },
   "source": [
    "\\newpage"
   ]
  },
  {
   "cell_type": "markdown",
   "metadata": {
    "nbpresent": {
     "id": "b2ca43ef-2e99-479c-b47d-9e7a8ede9572"
    },
    "slideshow": {
     "slide_type": "slide"
    }
   },
   "source": [
    "# Taking Stock\n",
    "\n",
    "##  Addresses are heterogeneous\n",
    "\n",
    "![@world_addressing_beck_2015](https://upload.wikimedia.org/wikipedia/commons/thumb/0/08/Addressing_around_the_world.svg/640px-Addressing_around_the_world.svg.png)\n",
    "\n",
    "In terms of:\n",
    "\n",
    "* What they mean\n",
    "* What they are used for\n",
    "* Who uses them\n",
    "* How they are accessed"
   ]
  },
  {
   "cell_type": "markdown",
   "metadata": {
    "nbpresent": {
     "id": "b2ca43ef-2e99-479c-b47d-9e7a8ede9572"
    },
    "slideshow": {
     "slide_type": "skip"
    }
   },
   "source": [
    "\\newpage"
   ]
  },
  {
   "cell_type": "markdown",
   "metadata": {
    "nbpresent": {
     "id": "b2ca43ef-2e99-479c-b47d-9e7a8ede9572"
    },
    "slideshow": {
     "slide_type": "subslide"
    }
   },
   "source": [
    "##  Assets can have addresses\n",
    "\n",
    "So - anything can have an address (the *Internet of Things*)\n",
    "\n",
    "![[Post box](http://joncruddas.org.uk/sites/joncruddas.org.uk/files/styles/large/public/field/image/post-box.jpg?itok=ECnzLyhZ)](http://joncruddas.org.uk/sites/joncruddas.org.uk/files/styles/large/public/field/image/post-box.jpg?itok=ECnzLyhZ)"
   ]
  },
  {
   "cell_type": "markdown",
   "metadata": {
    "nbpresent": {
     "id": "b2ca43ef-2e99-479c-b47d-9e7a8ede9572"
    },
    "slideshow": {
     "slide_type": "skip"
    }
   },
   "source": [
    "\\newpage"
   ]
  },
  {
   "cell_type": "markdown",
   "metadata": {
    "nbpresent": {
     "id": "b2ca43ef-2e99-479c-b47d-9e7a8ede9572"
    },
    "slideshow": {
     "slide_type": "subslide"
    }
   },
   "source": [
    "##  National data silos\n",
    "\n",
    "![@IslandsOfData_en_beck_2015](https://upload.wikimedia.org/wikipedia/commons/thumb/3/3d/Islands_Of_Data.svg/636px-Islands_Of_Data.svg.png)\n",
    "\n",
    "They have been created to solve national issues. \n",
    "\n",
    "No unifying semantics"
   ]
  },
  {
   "cell_type": "markdown",
   "metadata": {
    "nbpresent": {
     "id": "b2ca43ef-2e99-479c-b47d-9e7a8ede9572"
    },
    "slideshow": {
     "slide_type": "skip"
    }
   },
   "source": [
    "\\newpage"
   ]
  },
  {
   "cell_type": "markdown",
   "metadata": {
    "nbpresent": {
     "id": "b2ca43ef-2e99-479c-b47d-9e7a8ede9572"
    },
    "slideshow": {
     "slide_type": "subslide"
    }
   },
   "source": [
    "##  \n",
    "\n",
    "![@IncompatibilitiesAndLicenceClauses_en_beck_2016](https://upload.wikimedia.org/wikipedia/commons/thumb/0/0e/Incompatibilities_And_Licence_Clauses.svg/989px-Incompatibilities_And_Licence_Clauses.svg.png)"
   ]
  },
  {
   "cell_type": "markdown",
   "metadata": {
    "nbpresent": {
     "id": "b2ca43ef-2e99-479c-b47d-9e7a8ede9572"
    },
    "slideshow": {
     "slide_type": "skip"
    }
   },
   "source": [
    "\\newpage"
   ]
  },
  {
   "cell_type": "markdown",
   "metadata": {
    "nbpresent": {
     "id": "b2ca43ef-2e99-479c-b47d-9e7a8ede9572"
    },
    "slideshow": {
     "slide_type": "subslide"
    }
   },
   "source": [
    "##  Addresses are bureaucratic and costly\n",
    "\n",
    "![@stamp_schnettelker_2013](https://farm3.staticflickr.com/2819/9786091286_e85fd01bb8_z_d.jpg)\n",
    "\n",
    "Severely protracted when formal/informal issues are encountered."
   ]
  },
  {
   "cell_type": "markdown",
   "metadata": {
    "nbpresent": {
     "id": "b2ca43ef-2e99-479c-b47d-9e7a8ede9572"
    },
    "slideshow": {
     "slide_type": "skip"
    }
   },
   "source": [
    "\\newpage"
   ]
  },
  {
   "cell_type": "markdown",
   "metadata": {
    "nbpresent": {
     "id": "b2ca43ef-2e99-479c-b47d-9e7a8ede9572"
    },
    "slideshow": {
     "slide_type": "subslide"
    }
   },
   "source": [
    "##  Addresses can be opaque\n",
    "\n",
    "![@processing_transparency_beck_2015](https://upload.wikimedia.org/wikipedia/commons/thumb/d/d5/Processing_transparency_between_open_and_closed_systems.svg/630px-Processing_transparency_between_open_and_closed_systems.svg.png)\n",
    "\n",
    "**transparent and reproducible?**"
   ]
  },
  {
   "cell_type": "markdown",
   "metadata": {
    "nbpresent": {
     "id": "b2ca43ef-2e99-479c-b47d-9e7a8ede9572"
    },
    "slideshow": {
     "slide_type": "skip"
    }
   },
   "source": [
    "\\newpage"
   ]
  },
  {
   "cell_type": "markdown",
   "metadata": {
    "nbpresent": {
     "id": "b2ca43ef-2e99-479c-b47d-9e7a8ede9572"
    },
    "slideshow": {
     "slide_type": "subslide"
    }
   },
   "source": [
    "##  Addresses are of global significance\n",
    "\n",
    "![@services_products_Gray_2011](https://farm7.staticflickr.com/6213/6296605302_9745b5e72e_z_d.jpg)"
   ]
  },
  {
   "cell_type": "markdown",
   "metadata": {
    "nbpresent": {
     "id": "b2ca43ef-2e99-479c-b47d-9e7a8ede9572"
    },
    "slideshow": {
     "slide_type": "skip"
    }
   },
   "source": [
    "\\newpage"
   ]
  },
  {
   "cell_type": "markdown",
   "metadata": {
    "nbpresent": {
     "id": "b2ca43ef-2e99-479c-b47d-9e7a8ede9572"
    },
    "slideshow": {
     "slide_type": "subslide"
    }
   },
   "source": [
    "##  Addresses are ripe for disruption\n",
    "\n",
    "![@earth_egg_rain_2007](https://farm3.staticflickr.com/2159/2047910540_82620d9481_z_d.jpg?zz=1)\n",
    "\n"
   ]
  },
  {
   "cell_type": "markdown",
   "metadata": {
    "nbpresent": {
     "id": "b2ca43ef-2e99-479c-b47d-9e7a8ede9572"
    },
    "slideshow": {
     "slide_type": "skip"
    }
   },
   "source": [
    "\\newpage"
   ]
  },
  {
   "cell_type": "markdown",
   "metadata": {
    "nbpresent": {
     "id": "b2ca43ef-2e99-479c-b47d-9e7a8ede9572"
    },
    "slideshow": {
     "slide_type": "slide"
    }
   },
   "source": [
    "\n",
    "# Address Disruption\n",
    "\n",
    "##  Formal versus informal\n",
    "\n",
    "![@formalinformal_beck_2016](https://dl.dropboxusercontent.com/u/393477/ImageBank/ForAddresses/FormalVersusInformalKnowledgeRepositoriesWithODI.png)"
   ]
  },
  {
   "cell_type": "markdown",
   "metadata": {
    "nbpresent": {
     "id": "b2ca43ef-2e99-479c-b47d-9e7a8ede9572"
    },
    "slideshow": {
     "slide_type": "skip"
    }
   },
   "source": [
    "\\newpage"
   ]
  },
  {
   "cell_type": "markdown",
   "metadata": {
    "nbpresent": {
     "id": "b2ca43ef-2e99-479c-b47d-9e7a8ede9572"
    },
    "slideshow": {
     "slide_type": "subslide"
    }
   },
   "source": [
    "##  Technology\n",
    "\n",
    "Streets are so last century.....\n",
    "\n",
    "![@world_bank_address_beck_2015](https://upload.wikimedia.org/wikipedia/commons/thumb/e/ef/World_Bank_Recommended_Address_Infrastucture.svg/640px-World_Bank_Recommended_Address_Infrastucture.svg.png)\n",
    "\n",
    "* Ubiquitous GPS/GNSS\n",
    "* Structured crowdsourced geo-enabled content (wikipedia, OSM)"
   ]
  },
  {
   "cell_type": "markdown",
   "metadata": {
    "nbpresent": {
     "id": "b2ca43ef-2e99-479c-b47d-9e7a8ede9572"
    },
    "slideshow": {
     "slide_type": "skip"
    }
   },
   "source": [
    "\\newpage"
   ]
  },
  {
   "cell_type": "markdown",
   "metadata": {
    "nbpresent": {
     "id": "b2ca43ef-2e99-479c-b47d-9e7a8ede9572"
    },
    "slideshow": {
     "slide_type": "subslide"
    }
   },
   "source": [
    "##  Interoperability\n",
    "\n",
    "![](https://dl.dropboxusercontent.com/u/393477/ImageBank/ForAddresses/Plug_interoperability.svg.png)\n",
    "\n",
    "* Will the semantic web provide address interoperabilty?"
   ]
  },
  {
   "cell_type": "markdown",
   "metadata": {
    "nbpresent": {
     "id": "b2ca43ef-2e99-479c-b47d-9e7a8ede9572"
    },
    "slideshow": {
     "slide_type": "skip"
    }
   },
   "source": [
    "\\newpage"
   ]
  },
  {
   "cell_type": "markdown",
   "metadata": {
    "nbpresent": {
     "id": "b2ca43ef-2e99-479c-b47d-9e7a8ede9572"
    },
    "slideshow": {
     "slide_type": "subslide"
    }
   },
   "source": [
    "##  Globalisation\n",
    "\n",
    "![@linked_data_staveren_2013](https://farm8.staticflickr.com/7374/9965173654_7bf862d89d_z_d.jpg)\n",
    "\n",
    "* Addressing is a **core reference geography**\n",
    "* Global brands will demand (or invoke) consistent global addressing\n",
    "* How will licences impact on this?"
   ]
  },
  {
   "cell_type": "markdown",
   "metadata": {
    "nbpresent": {
     "id": "b2ca43ef-2e99-479c-b47d-9e7a8ede9572"
    },
    "slideshow": {
     "slide_type": "skip"
    }
   },
   "source": [
    "\\newpage"
   ]
  },
  {
   "cell_type": "markdown",
   "metadata": {
    "nbpresent": {
     "id": "b2ca43ef-2e99-479c-b47d-9e7a8ede9572"
    },
    "slideshow": {
     "slide_type": "subslide"
    }
   },
   "source": [
    "##  [Core reference geographies](http://www.slideshare.net/geocommunitylive/bob-barr-what-are-core-reference-geographies)\n",
    "\n",
    "Bob Barr has described [core reference geographies](http://www.slideshare.net/geocommunitylive/bob-barr-what-are-core-reference-geographies) as geographic data which:\n",
    "\n",
    "* Are definitive\n",
    "* Should be collected and maintained once and used many times\n",
    "* Are Natural monopolies (which addresses are)\n",
    "* Have variable value in different applications\n",
    "* Have highly elastic demand\n",
    "\n",
    "**Global addresses are a core reference geography.**\n",
    "\n",
    "\n"
   ]
  },
  {
   "cell_type": "markdown",
   "metadata": {
    "nbpresent": {
     "id": "b2ca43ef-2e99-479c-b47d-9e7a8ede9572"
    },
    "slideshow": {
     "slide_type": "skip"
    }
   },
   "source": [
    "\\newpage"
   ]
  },
  {
   "cell_type": "markdown",
   "metadata": {
    "nbpresent": {
     "id": "b2ca43ef-2e99-479c-b47d-9e7a8ede9572"
    },
    "slideshow": {
     "slide_type": "slide"
    }
   },
   "source": [
    "# A new global address paradigm?  \n",
    "\n",
    "* [Amazon drone delivery in the UK requires](https://www.theguardian.com/technology/2016/jul/25/amazon-to-test-drone-delivery-uk-government)\n",
    "\t* A new view over addressing complements streets and buildings but is geo-coded at source\n",
    "\t* and supports accurate delivery throughout the delivery chain using a global referencing system.\n",
    "\n",
    "Is there a universal approach which allows all avenues to be satisfied?\n",
    "\n",
    "Put in a link to the Guardian page in the slide below?\n"
   ]
  },
  {
   "cell_type": "markdown",
   "metadata": {
    "nbpresent": {
     "id": "b2ca43ef-2e99-479c-b47d-9e7a8ede9572"
    },
    "slideshow": {
     "slide_type": "skip"
    }
   },
   "source": [
    "\\newpage"
   ]
  },
  {
   "cell_type": "markdown",
   "metadata": {
    "nbpresent": {
     "id": "b2ca43ef-2e99-479c-b47d-9e7a8ede9572"
    },
    "slideshow": {
     "slide_type": "subslide"
    }
   },
   "source": [
    "##  How will this look?\n",
    "\n",
    "*Determining Addresses which are Independent of infrastructure using a Spatial algorithm*\n",
    "\n",
    ".\n",
    ".\n",
    "\n",
    "Requirements for a Global Address Framework\n",
    "\n",
    ".\n",
    "."
   ]
  },
  {
   "cell_type": "markdown",
   "metadata": {
    "nbpresent": {
     "id": "b2ca43ef-2e99-479c-b47d-9e7a8ede9572"
    },
    "slideshow": {
     "slide_type": "skip"
    }
   },
   "source": [
    "\\newpage"
   ]
  },
  {
   "cell_type": "markdown",
   "metadata": {
    "nbpresent": {
     "id": "b2ca43ef-2e99-479c-b47d-9e7a8ede9572"
    },
    "slideshow": {
     "slide_type": "subslide"
    }
   },
   "source": [
    "##  WGS84 algorithmic address minting\n",
    "\n",
    "![@minting_addresses_2009](https://farm3.staticflickr.com/2432/3832442378_bf76a81b5d_d.jpg)\n",
    "\n",
    "**A global addressing framework needs to be transparent and reproducible.**\n",
    "\n",
    "**A global addressing framework should be based on a spatial reference system.**\n",
    "\n",
    "**A global addressing framework needs to be lightweight and cheap so it can be implemented in a timely manner.**"
   ]
  },
  {
   "cell_type": "markdown",
   "metadata": {
    "nbpresent": {
     "id": "b2ca43ef-2e99-479c-b47d-9e7a8ede9572"
    },
    "slideshow": {
     "slide_type": "skip"
    }
   },
   "source": [
    "\\newpage"
   ]
  },
  {
   "cell_type": "markdown",
   "metadata": {
    "nbpresent": {
     "id": "b2ca43ef-2e99-479c-b47d-9e7a8ede9572"
    },
    "slideshow": {
     "slide_type": "subslide"
    }
   },
   "source": [
    "##  Small footprint\n",
    "\n",
    "![@small_footprints_terwolbeck_2012](https://farm8.staticflickr.com/7185/6988489897_282270cfd5_z_d.jpg)\n",
    "\n",
    "**Ubiquitous access across platforms.**\n",
    "\n",
    "**No dependency on internet access.**"
   ]
  },
  {
   "cell_type": "markdown",
   "metadata": {
    "nbpresent": {
     "id": "b2ca43ef-2e99-479c-b47d-9e7a8ede9572"
    },
    "slideshow": {
     "slide_type": "skip"
    }
   },
   "source": [
    "\\newpage"
   ]
  },
  {
   "cell_type": "markdown",
   "metadata": {
    "nbpresent": {
     "id": "b2ca43ef-2e99-479c-b47d-9e7a8ede9572"
    },
    "slideshow": {
     "slide_type": "subslide"
    }
   },
   "source": [
    "##  Short/memorable\n",
    "\n",
    "![@mnemonics_munroe_nd](http://imgs.xkcd.com/comics/mnemonics.png)"
   ]
  },
  {
   "cell_type": "markdown",
   "metadata": {
    "nbpresent": {
     "id": "b2ca43ef-2e99-479c-b47d-9e7a8ede9572"
    },
    "slideshow": {
     "slide_type": "skip"
    }
   },
   "source": [
    "\\newpage"
   ]
  },
  {
   "cell_type": "markdown",
   "metadata": {
    "nbpresent": {
     "id": "b2ca43ef-2e99-479c-b47d-9e7a8ede9572"
    },
    "slideshow": {
     "slide_type": "subslide"
    }
   },
   "source": [
    "##  Self checking \n",
    "\n",
    "![@parity_levine_2014](https://farm6.staticflickr.com/5576/14117894364_a3715fdfce_z_d.jpg)\n",
    "\n",
    "**Improving validity and credibility of downstream business processes.**"
   ]
  },
  {
   "cell_type": "markdown",
   "metadata": {
    "nbpresent": {
     "id": "b2ca43ef-2e99-479c-b47d-9e7a8ede9572"
    },
    "slideshow": {
     "slide_type": "skip"
    }
   },
   "source": [
    "\\newpage"
   ]
  },
  {
   "cell_type": "markdown",
   "metadata": {
    "nbpresent": {
     "id": "b2ca43ef-2e99-479c-b47d-9e7a8ede9572"
    },
    "slideshow": {
     "slide_type": "subslide"
    }
   },
   "source": [
    "##  Unlimited spatial recording\n",
    "\n",
    "![@geodesic_grid_petersen_2007](https://upload.wikimedia.org/wikipedia/en/thumb/f/fd/Geodesic_Grid_%28ISEA3H%29_illustrated.png/1024px-Geodesic_Grid_%28ISEA3H%29_illustrated.png)\n",
    "\n",
    "[Manila has a population density of 42,857 people per km^2^](http://en.wikipedia.org/wiki/List_of_cities_proper_by_population_density). What are the spatial requirements for the range of addressing options?\n",
    "\n",
    "**A global addressing framework should meet the needs of the rural, urban, formal and informal communities equally.**"
   ]
  },
  {
   "cell_type": "markdown",
   "metadata": {
    "nbpresent": {
     "id": "b2ca43ef-2e99-479c-b47d-9e7a8ede9572"
    },
    "slideshow": {
     "slide_type": "skip"
    }
   },
   "source": [
    "\\newpage"
   ]
  },
  {
   "cell_type": "markdown",
   "metadata": {
    "nbpresent": {
     "id": "b2ca43ef-2e99-479c-b47d-9e7a8ede9572"
    },
    "slideshow": {
     "slide_type": "subslide"
    }
   },
   "source": [
    "##  Open and interoperable\n",
    "\n",
    "![](https://dl.dropboxusercontent.com/u/393477/ImageBank/PromotingInteroperability.png)"
   ]
  },
  {
   "cell_type": "markdown",
   "metadata": {
    "nbpresent": {
     "id": "b2ca43ef-2e99-479c-b47d-9e7a8ede9572"
    },
    "slideshow": {
     "slide_type": "skip"
    }
   },
   "source": [
    "\\newpage"
   ]
  },
  {
   "cell_type": "markdown",
   "metadata": {
    "nbpresent": {
     "id": "b2ca43ef-2e99-479c-b47d-9e7a8ede9572"
    },
    "slideshow": {
     "slide_type": "subslide"
    }
   },
   "source": [
    "##  Open and interoperable\n",
    "\n",
    "> the lack of a consistent and transparent legal and policy framework for sharing spatial data continues to be an additional roadblock.\n",
    "\n",
    "@pomfret_spatial_2010\n",
    "\n",
    "**A global addressing framework should be open or available with as few barriers as possible.**"
   ]
  },
  {
   "cell_type": "markdown",
   "metadata": {
    "nbpresent": {
     "id": "b2ca43ef-2e99-479c-b47d-9e7a8ede9572"
    },
    "slideshow": {
     "slide_type": "skip"
    }
   },
   "source": [
    "\\newpage"
   ]
  },
  {
   "cell_type": "markdown",
   "metadata": {
    "nbpresent": {
     "id": "b2ca43ef-2e99-479c-b47d-9e7a8ede9572"
    },
    "slideshow": {
     "slide_type": "subslide"
    }
   },
   "source": [
    "##  Indoor use and 3D\n",
    "\n",
    "![@bim_arup_2013](http://architect-bim.co.uk/wp-content/uploads/2013/03/Arup-steel-ec-fame.jpg)\n",
    "\n",
    "Incorporating wifi-triangulation - *individual room* addressing and navigation.\n",
    "\n",
    "*Addressing isn't only about buildings - think about the Internet of Things*"
   ]
  },
  {
   "cell_type": "markdown",
   "metadata": {
    "nbpresent": {
     "id": "b2ca43ef-2e99-479c-b47d-9e7a8ede9572"
    },
    "slideshow": {
     "slide_type": "skip"
    }
   },
   "source": [
    "\\newpage"
   ]
  },
  {
   "cell_type": "markdown",
   "metadata": {
    "nbpresent": {
     "id": "b2ca43ef-2e99-479c-b47d-9e7a8ede9572"
    },
    "slideshow": {
     "slide_type": "subslide"
    }
   },
   "source": [
    "##  Inherent geo-statistical aggregation (spatially scalable)\n",
    "\n",
    "![@geodesic_grid_petersen_2007](http://upload.wikimedia.org/wikipedia/en/thumb/f/fd/Geodesic_Grid_%28ISEA3H%29_illustrated.png/640px-Geodesic_Grid_%28ISEA3H%29_illustrated.png)\n",
    "\n",
    "GIS free multi-scale analysis and reporting during disaster scenarios."
   ]
  },
  {
   "cell_type": "markdown",
   "metadata": {
    "nbpresent": {
     "id": "b2ca43ef-2e99-479c-b47d-9e7a8ede9572"
    },
    "slideshow": {
     "slide_type": "skip"
    }
   },
   "source": [
    "\\newpage"
   ]
  },
  {
   "cell_type": "markdown",
   "metadata": {
    "nbpresent": {
     "id": "b2ca43ef-2e99-479c-b47d-9e7a8ede9572"
    },
    "slideshow": {
     "slide_type": "subslide"
    }
   },
   "source": [
    "##  Technology benchmarking\n",
    "\n",
    "BCS examples (in alphabetical order):\n",
    "\n",
    "* [GeoHash](http://en.wikipedia.org/wiki/Geohash)\n",
    "\t* gcpvj1r2vnbp\n",
    "* [Maidenhead Locator System](http://en.wikipedia.org/wiki/Maidenhead_Locator_System)\n",
    "\t* IO91wm (it has a very large footprint)\n",
    "* [MapCode](http://www.mapcode.com/)\n",
    "\t* GBR JD.VJ\n",
    "* [Natural Area Code](http://nactag.info/map.asp)\n",
    "\t* 8KDB PGFD\n",
    "* [Pyxis](http://www.pyxisinnovation.com/)\n",
    "* [What3Words](http://what3words.com/)\n",
    "\t* move slam stress\n",
    "\n",
    "\n"
   ]
  },
  {
   "cell_type": "markdown",
   "metadata": {
    "nbpresent": {
     "id": "b2ca43ef-2e99-479c-b47d-9e7a8ede9572"
    },
    "slideshow": {
     "slide_type": "skip"
    }
   },
   "source": [
    "\\newpage"
   ]
  },
  {
   "cell_type": "markdown",
   "metadata": {
    "slideshow": {
     "slide_type": "slide"
    }
   },
   "source": [
    "# Utility address concepts\n",
    "\n",
    "\n",
    "* A means of communicating location to third parties in a way **they** understand.\n",
    "\t* Delivery\n",
    "\t* Contract engineer\n",
    "\t* Incident reporting\n",
    "* Hence, addresses are all about sharing\n",
    "\t* We need to buy into disambiguating stakeholder semantics\n",
    "* Everything is mediated by a human in the information exchange\n",
    "\t* Everyone has their own semantics\n",
    "\t* Formal and vernacular geographies"
   ]
  },
  {
   "cell_type": "markdown",
   "metadata": {
    "slideshow": {
     "slide_type": "skip"
    }
   },
   "source": [
    "\\newpage"
   ]
  },
  {
   "cell_type": "markdown",
   "metadata": {
    "nbpresent": {
     "id": "b2ca43ef-2e99-479c-b47d-9e7a8ede9572"
    },
    "slideshow": {
     "slide_type": "subslide"
    }
   },
   "source": [
    "##  Addresses mediate space\n",
    "\n",
    "In business systems Addresses are bridge a between technology stacks and social systems.  \n",
    "\n",
    "#\n",
    "\n",
    "![](https://dl.dropboxusercontent.com/u/393477/ImageBank/ForAddresses/UU_Addressing_Concept.png)\n",
    "\n",
    "* Most people in the UK think of an address as a *postal address*\n",
    "\t* This is a mindset we should be trying to break\n",
    "\t* A delivery address is only one facet to an address\n",
    "\t* Produce a graphic about this\n",
    "* What do addresses enable\n",
    "\t* Services\n",
    "\t\t* Postal services\n",
    "\t\t* Utility services\n",
    "\t\t* etc\n",
    "\t* Routing\n",
    "\t\t* Vehicle navigation\n",
    "\t\t* People navigation\n",
    "\t* Asset/Infrastructure management\n",
    "\t* Information integration\n",
    "\t\t* Lifecycle\n",
    "\t\t* Geodemographics\n",
    "* Hence, addressing information covers a range of requirements:\n",
    "\t* Semantic\n",
    "\t* GIS\n",
    "\t* Database\n",
    "* Challenges\n",
    "\t* find an unambiguous way to encode these different address types across the enterprise (and/or as part of an open initiative)\n",
    "\t* find ways to dynamically transform these address so that each end-user community get the most appropriate address be they:\n",
    "\t\t* formal addresses\n",
    "\t\t* vernacular (informal) addresses \n",
    "\t\t* Postal address\n",
    "\t\t* Asset location\n",
    "\n",
    "In terms of assets two things spring to mind - \n",
    "\n",
    "1. we no longer need streets and buildings to provide an address. GNSS already does this globally - just finding a technique where a memorable term can be developed\n",
    "1. The Access point/Delivery point metaphor used by Royal Mail is also likely to be important for asset registration."
   ]
  },
  {
   "cell_type": "markdown",
   "metadata": {
    "nbpresent": {
     "id": "b2ca43ef-2e99-479c-b47d-9e7a8ede9572"
    },
    "slideshow": {
     "slide_type": "skip"
    }
   },
   "source": [
    "\\newpage"
   ]
  },
  {
   "cell_type": "markdown",
   "metadata": {
    "nbpresent": {
     "id": "b2ca43ef-2e99-479c-b47d-9e7a8ede9572"
    },
    "slideshow": {
     "slide_type": "subslide"
    }
   },
   "source": [
    "##  Addresses should mediate systems\n",
    "\n",
    "* Bridge the gap between a building focussed 2d view of the world and the 3d world in which we inhabit. \n",
    "* Harmonise the edge cases relationships between UPRNs and VOAs\n",
    "\n"
   ]
  },
  {
   "cell_type": "markdown",
   "metadata": {
    "nbpresent": {
     "id": "b2ca43ef-2e99-479c-b47d-9e7a8ede9572"
    },
    "slideshow": {
     "slide_type": "skip"
    }
   },
   "source": [
    "\\newpage"
   ]
  },
  {
   "cell_type": "markdown",
   "metadata": {
    "nbpresent": {
     "id": "b2ca43ef-2e99-479c-b47d-9e7a8ede9572"
    },
    "slideshow": {
     "slide_type": "slide"
    }
   },
   "source": [
    "\n",
    "# Current utility addressing?\n",
    "\n",
    "##  A shared view over addressing?\n",
    "\n",
    "![](https://dl.dropboxusercontent.com/u/393477/ImageBank/ForAddresses/UU_AMS_AND_ABP_relationships.png)"
   ]
  },
  {
   "cell_type": "markdown",
   "metadata": {
    "nbpresent": {
     "id": "b2ca43ef-2e99-479c-b47d-9e7a8ede9572"
    },
    "slideshow": {
     "slide_type": "skip"
    }
   },
   "source": [
    "\\newpage"
   ]
  },
  {
   "cell_type": "markdown",
   "metadata": {
    "nbpresent": {
     "id": "b2ca43ef-2e99-479c-b47d-9e7a8ede9572"
    },
    "slideshow": {
     "slide_type": "subslide"
    }
   },
   "source": [
    "##  A shared view over addressing?\n",
    "\n",
    "Not really....\n",
    "\n",
    "* ABP isn’t a silver bullet\n",
    "\t* Subset of required ‘formal - delivery’ addresses\n",
    "\t* Mis-match in terms of assets\n",
    "\t\t* Why does a sewage works not have an address when a post-box does?\n",
    "\t* Not plug and play\n",
    "\t* Lag in the system - the lifecycle feedback does not have credibility for time critical applications.\n",
    "\t* The co-ordinating spine is not freely available (under a permissive licence)\n",
    "\t* Inset areas - an aglomoration of 'addresses'\n",
    "\t* VOA link is a cludge"
   ]
  },
  {
   "cell_type": "markdown",
   "metadata": {
    "nbpresent": {
     "id": "b2ca43ef-2e99-479c-b47d-9e7a8ede9572"
    },
    "slideshow": {
     "slide_type": "skip"
    }
   },
   "source": [
    "\\newpage"
   ]
  },
  {
   "cell_type": "markdown",
   "metadata": {
    "nbpresent": {
     "id": "b2ca43ef-2e99-479c-b47d-9e7a8ede9572"
    },
    "slideshow": {
     "slide_type": "subslide"
    }
   },
   "source": [
    "##  Issues about ABP\n",
    "\n",
    "* Over a barrel\n",
    "\t* Needed to buy ABP as AL2 was being removed\n",
    "* Lifecycle benefit not being realised\n",
    "* Different view of property hierarchy\n",
    "* Update frequency\n",
    "* Data model change\n",
    "\t* a hostage to someone else's data model\n",
    "* ITN and Street Gazetteer not the same\n",
    "* 2d and 3d metaphors against VOA\n",
    "\t* a better 2.5 view of the world would be appreciated.\n",
    "\n",
    "\n"
   ]
  },
  {
   "cell_type": "markdown",
   "metadata": {
    "nbpresent": {
     "id": "b2ca43ef-2e99-479c-b47d-9e7a8ede9572"
    },
    "slideshow": {
     "slide_type": "skip"
    }
   },
   "source": [
    "\\newpage"
   ]
  },
  {
   "cell_type": "markdown",
   "metadata": {
    "nbpresent": {
     "id": "b2ca43ef-2e99-479c-b47d-9e7a8ede9572"
    },
    "slideshow": {
     "slide_type": "slide"
    }
   },
   "source": [
    "#  Future Addressing\n",
    "\n",
    "##  What do Utilities need from an Address infrastructure\n",
    "\n",
    "* Should this simply emulate Address Base Premium?\n",
    "* Like Denmark should it exploit technological developments to be:\n",
    "\t* More robust\n",
    "\t* Improve use case\n",
    "\t* More flexible\n",
    "* Should it embrace technological development to make operational activities more efficient\n",
    "\t* Use DIAS to facilitate geo-coded addressing of assets in a flexible and credible manner"
   ]
  },
  {
   "cell_type": "markdown",
   "metadata": {
    "nbpresent": {
     "id": "b2ca43ef-2e99-479c-b47d-9e7a8ede9572"
    },
    "slideshow": {
     "slide_type": "skip"
    }
   },
   "source": [
    "\\newpage"
   ]
  },
  {
   "cell_type": "markdown",
   "metadata": {
    "nbpresent": {
     "id": "b2ca43ef-2e99-479c-b47d-9e7a8ede9572"
    },
    "slideshow": {
     "slide_type": "subslide"
    }
   },
   "source": [
    "##  What can Open Addresses bring to Utilities\n",
    "\n",
    "* Fill the gap of formal addresses\n",
    "\t* But share a common reference Spine\n",
    "\t\t* UPRN?\n",
    "\t\t* But what about the 3d world\n",
    "* Add value\n",
    "\t* Embed a complementary geoaddressing paradigm\n",
    "\t* Linked data?\n",
    "\t* Property life-cycle?\n",
    "\t* Spatially consistent\n",
    "\t* Crowd enhanced\n",
    "* What licence would a service be under.\n",
    "\t* OS? -No"
   ]
  },
  {
   "cell_type": "markdown",
   "metadata": {
    "nbpresent": {
     "id": "b2ca43ef-2e99-479c-b47d-9e7a8ede9572"
    },
    "slideshow": {
     "slide_type": "skip"
    }
   },
   "source": [
    "\\newpage"
   ]
  },
  {
   "cell_type": "markdown",
   "metadata": {
    "nbpresent": {
     "id": "b2ca43ef-2e99-479c-b47d-9e7a8ede9572"
    },
    "slideshow": {
     "slide_type": "subslide"
    }
   },
   "source": [
    "##  What can Utilities bring to Open Addresses\n",
    "\n",
    "* Can utilities become a credible publisher of addressing providing addition and updates under open licences to a natioanl body\n",
    "* Can this be global\n",
    "* How can (open) addresses help innovate delivery?\n",
    "\t* geo-demographics protecting the disenfranchised\n",
    "\t\t* who are our sensitive customers - what are their needs?\n",
    "* Critical lifecycle data - potentially better/faster than local government.\n",
    "\n",
    "The address lifecycle element helps UU provide operational capacity for new builds and provides greater confidence when changing asset GIS and client details when a property is demolished."
   ]
  },
  {
   "cell_type": "markdown",
   "metadata": {
    "nbpresent": {
     "id": "b2ca43ef-2e99-479c-b47d-9e7a8ede9572"
    },
    "slideshow": {
     "slide_type": "skip"
    }
   },
   "source": [
    "\\newpage"
   ]
  },
  {
   "cell_type": "markdown",
   "metadata": {
    "nbpresent": {
     "id": "b2ca43ef-2e99-479c-b47d-9e7a8ede9572"
    },
    "slideshow": {
     "slide_type": "subslide"
    }
   },
   "source": [
    "##  This begs the question\n",
    "\n",
    "As a key creator of addresses should utilities replace a functional address system with an address framework that does not meet all their business requirements? \n",
    "\n",
    "This creates a paradox when products like AddressBase are stimpulated in Government policy documents (such as OpenWater)\n",
    "\n",
    "How can this gap be bridged?\n",
    "\n",
    "**Addresses need to be fit-for-purpose for the end user**\n"
   ]
  },
  {
   "cell_type": "markdown",
   "metadata": {
    "slideshow": {
     "slide_type": "slide"
    }
   },
   "source": [
    "# Final thoughts\n",
    "\n",
    "Should an Open Address infrastructure emulate current models or should it be the foundation of a new addressing paradigm fit for 21st century challenges\n",
    "\n",
    "Utilities have the potential to be:\n",
    "\n",
    "* Key consumers of open addressing data\n",
    "* Key providers of open addressing content\n",
    "\n"
   ]
  },
  {
   "cell_type": "markdown",
   "metadata": {
    "slideshow": {
     "slide_type": "slide"
    }
   },
   "source": [
    "# References"
   ]
  },
  {
   "cell_type": "code",
   "execution_count": null,
   "metadata": {
    "collapsed": true
   },
   "outputs": [],
   "source": []
  }
 ],
 "metadata": {
  "anaconda-cloud": {},
  "celltoolbar": "Slideshow",
  "kernelspec": {
   "display_name": "Python [default]",
   "language": "python",
   "name": "python2"
  },
  "language_info": {
   "codemirror_mode": {
    "name": "ipython",
    "version": 2
   },
   "file_extension": ".py",
   "mimetype": "text/x-python",
   "name": "python",
   "nbconvert_exporter": "python",
   "pygments_lexer": "ipython2",
   "version": "2.7.10"
  },
  "nbpresent": {
   "id": "b2ca43ef-2e99-479c-b47d-9e7a8ede9572"
  },
  "slideshow": {
   "slide_type": "subslide"
  }
 },
 "nbformat": 4,
 "nbformat_minor": 0
}
