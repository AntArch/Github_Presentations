{
 "cells": [
  {
   "cell_type": "markdown",
   "metadata": {
    "slideshow": {
     "slide_type": "slide"
    }
   },
   "source": [
    "# Maximising the utility of an Open Address\n",
    "\n",
    "Anthony Beck (GeoLytics), John Daniels (UU), Paul Williams (UU), Dave Pearson (UU), Matt Beare (Beare Essentials)\n",
    "\n",
    "![](https://dl.dropboxusercontent.com/u/393477/ImageBank/ForAddresses/UU_SPA_CONCEPTUAL.png)\n",
    "\n",
    "\n",
    "Go down for licence and other metadata about this presentation"
   ]
  },
  {
   "cell_type": "markdown",
   "metadata": {
    "slideshow": {
     "slide_type": "skip"
    }
   },
   "source": [
    "\\newpage"
   ]
  },
  {
   "cell_type": "markdown",
   "metadata": {
    "slideshow": {
     "slide_type": "slide"
    }
   },
   "source": [
    "# The view of addressing from United Utilities\n",
    "\n",
    "Unless states otherwise all content is under a CC-BY licence\n",
    "\n",
    "![](https://dl.dropboxusercontent.com/u/393477/ImageBank/CC_BY.png)\n",
    "\n",
    "\n",
    "You can access this presentation on github:\n",
    "\n",
    "[https://github.com/AntArch/20150305_AddressDay.git](https://github.com/AntArch/20150305_AddressDay.git)\n",
    "\n",
    "\n",
    "![](https://dl.dropboxusercontent.com/u/393477/ImageBank/Lego_Head_ARB.png)\n"
   ]
  },
  {
   "cell_type": "markdown",
   "metadata": {
    "slideshow": {
     "slide_type": "skip"
    }
   },
   "source": [
    "\\newpage"
   ]
  },
  {
   "cell_type": "markdown",
   "metadata": {
    "slideshow": {
     "slide_type": "slide"
    }
   },
   "source": [
    "## About me\n",
    "\n",
    " \n",
    "\n",
    "![It's all about me - details about Anthony Beck](https://dl.dropboxusercontent.com/u/393477/ImageBank/Geolytics_ARB_Banner.png)\n",
    "\n",
    "* Honorary Research Fellow, University of Nottingham: [orcid](http://orcid.org/0000-0002-2991-811X)\n",
    "* Director, Geolytics Limited - A spatial data analytics consultancy\n",
    "\n",
    "## About this presentation\n",
    "\n",
    "* [Available on GitHub](https://github.com/AntArch/Presentations_Github/tree/master/20151008_OpenGeo_Reuse_under_licence) - https://github.com/AntArch/Presentations_Github/\n",
    "* [Fully referenced PDF](https://github.com/AntArch/Presentations_Github/blob/master/201609_UtilityAddresses_Presentation/201609_UtilityAddresses_Presentation.pdf)\n"
   ]
  },
  {
   "cell_type": "markdown",
   "metadata": {
    "slideshow": {
     "slide_type": "skip"
    }
   },
   "source": [
    "\\newpage"
   ]
  },
  {
   "cell_type": "markdown",
   "metadata": {
    "slideshow": {
     "slide_type": "slide"
    }
   },
   "source": [
    "# Contribution to GIScience learning outcomes\n",
    "\n",
    "This presentation contributes to the following learning outcomes for this course.\n",
    "\n",
    "1. Knowledge and Understanding:\n",
    "\t* Appreciate the importance of standards for Geographic Information and the role of the Open Geospatial Consortium.\n",
    "\t* Understand the term 'interoperability'.\n",
    "\t* Appreciate the different models for database design.\n",
    "\t* Understand the basis of Linked Data.\n",
    "\t* Find UK government open data and understand some of the complexities in the use of this data.\n",
    "\t* Appreciate the data issues involved in managing large distributed databases, Location-Based Services and the emergence of real-time data gathering through the 'Sensor-Web'.\n",
    "\t* Understand the different models for creating international Spatial Data Infrastructures.\n",
    "1. Intellectual Skills:\n",
    "\t* Evaluate the role of standards and professional bodies in GIS.\n",
    "\t* Articulate the meaning and importance of interoperability, semantics and ontologies.\n",
    "\t* Assess the technical and organisational issues which come into play when attempting to design large distributed geographic databases aimed at supporting 'real-world' problems.\n",
    "    \n"
   ]
  },
  {
   "cell_type": "markdown",
   "metadata": {
    "slideshow": {
     "slide_type": "slide"
    }
   },
   "source": [
    "# A potted history of mapping"
   ]
  },
  {
   "cell_type": "markdown",
   "metadata": {
    "collapsed": true,
    "slideshow": {
     "slide_type": "fragment"
    }
   },
   "source": [
    "## In the beginning was the geoword\n"
   ]
  },
  {
   "cell_type": "markdown",
   "metadata": {
    "slideshow": {
     "slide_type": "fragment"
    }
   },
   "source": [
    "and the word was ***cartography***\n"
   ]
  },
  {
   "cell_type": "markdown",
   "metadata": {
    "slideshow": {
     "slide_type": "subslide"
    }
   },
   "source": [
    "![The lens of cartography @TheLensOfCartography_beck_2015](https://upload.wikimedia.org/wikipedia/commons/thumb/8/85/TheLensOfCartography.svg/1024px-TheLensOfCartography.svg.png)\n"
   ]
  },
  {
   "cell_type": "markdown",
   "metadata": {
    "slideshow": {
     "slide_type": "skip"
    }
   },
   "source": [
    "\\newpage"
   ]
  },
  {
   "cell_type": "markdown",
   "metadata": {
    "slideshow": {
     "slide_type": "skip"
    }
   },
   "source": [
    "\\newpage"
   ]
  },
  {
   "cell_type": "markdown",
   "metadata": {
    "slideshow": {
     "slide_type": "slide"
    }
   },
   "source": [
    "# Contribution to GIScience learning outcomes\n",
    "\n",
    "This presentation contributes to the following learning outcomes for this course.\n",
    "\n",
    "1. Knowledge and Understanding:\n",
    "\t* Appreciate the importance of standards for Geographic Information and the role of the Open Geospatial Consortium.\n",
    "\t* Understand the term 'interoperability'.\n",
    "\t* Appreciate the different models for database design.\n",
    "\t* Understand the basis of Linked Data.\n",
    "\t* Find UK government open data and understand some of the complexities in the use of this data.\n",
    "\t* Appreciate the data issues involved in managing large distributed databases, Location-Based Services and the emergence of real-time data gathering through the 'Sensor-Web'.\n",
    "\t* Understand the different models for creating international Spatial Data Infrastructures.\n",
    "1. Intellectual Skills:\n",
    "\t* Evaluate the role of standards and professional bodies in GIS.\n",
    "\t* Articulate the meaning and importance of interoperability, semantics and ontologies.\n",
    "\t* Assess the technical and organisational issues which come into play when attempting to design large distributed geographic databases aimed at supporting 'real-world' problems.\n",
    "    \n"
   ]
  }
 ],
 "metadata": {
  "anaconda-cloud": {},
  "celltoolbar": "Slideshow",
  "kernelspec": {
   "display_name": "Python [conda root]",
   "language": "python",
   "name": "conda-root-py"
  },
  "language_info": {
   "codemirror_mode": {
    "name": "ipython",
    "version": 2
   },
   "file_extension": ".py",
   "mimetype": "text/x-python",
   "name": "python",
   "nbconvert_exporter": "python",
   "pygments_lexer": "ipython2",
   "version": "2.7.10"
  },
  "toc": {
   "toc_cell": false,
   "toc_number_sections": true,
   "toc_threshold": 4,
   "toc_window_display": false
  }
 },
 "nbformat": 4,
 "nbformat_minor": 0
}
