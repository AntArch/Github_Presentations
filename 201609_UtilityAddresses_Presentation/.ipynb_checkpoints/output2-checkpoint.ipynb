{
 "cells": [
  {
   "cell_type": "markdown",
   "metadata": {
    "nbpresent": {
     "id": "b2ca43ef-2e99-479c-b47d-9e7a8ede9572"
    },
    "slideshow": {
     "slide_type": "slide"
    }
   },
   "source": [
    "# the view of addressing from United Utilities\n",
    "\n",
    "Unless states otherwise all content is under a CC-BY licence\n",
    "\n",
    "![](https://dl.dropboxusercontent.com/u/393477/ImageBank/CC_BY.png)\n",
    "\n",
    "[](https://dl.dropboxusercontent.com/u/393477/ImageBank/Lego_Head_ARB.png)\n",
    "\n",
    "You can access this presentation on github:\n",
    "\n",
    "[https://github.com/AntArch/20150305_AddressDay.git](https://github.com/AntArch/20150305_AddressDay.git)\n",
    "\n",
    "To show the notes window, press s while viewing the presentation. Notes are not yet supported for other slide formats, but the notes will not appear on the slides themselves.\n",
    "\n",
    "\n",
    "# Addresses support:\n",
    "\n",
    "##\n",
    "\n",
    "![](https://dl.dropboxusercontent.com/u/393477/ImageBank/AnAddressMap.png)"
   ]
  },
  {
   "cell_type": "markdown",
   "metadata": {
    "nbpresent": {
     "id": "b2ca43ef-2e99-479c-b47d-9e7a8ede9572"
    },
    "slideshow": {
     "slide_type": "skip"
    }
   },
   "source": [
    "\\newpage"
   ]
  },
  {
   "cell_type": "markdown",
   "metadata": {
    "nbpresent": {
     "id": "b2ca43ef-2e99-479c-b47d-9e7a8ede9572"
    },
    "slideshow": {
     "slide_type": "subslide"
    }
   },
   "source": [
    "##  everyday life\n",
    "\n",
    "![@kaye_map_2012](https://farm9.staticflickr.com/8334/8076658843_bb93c499c9_z_d.jpg)\n",
    "\n",
    "They are part of the fabric of everyday life"
   ]
  },
  {
   "cell_type": "markdown",
   "metadata": {
    "nbpresent": {
     "id": "b2ca43ef-2e99-479c-b47d-9e7a8ede9572"
    },
    "slideshow": {
     "slide_type": "skip"
    }
   },
   "source": [
    "\\newpage"
   ]
  },
  {
   "cell_type": "markdown",
   "metadata": {
    "nbpresent": {
     "id": "b2ca43ef-2e99-479c-b47d-9e7a8ede9572"
    },
    "slideshow": {
     "slide_type": "subslide"
    }
   },
   "source": [
    "##  Economy and commerce\n",
    "\n",
    "![](https://upload.wikimedia.org/wikipedia/commons/thumb/7/76/Flag_of_UPU.svg/640px-Flag_of_UPU.svg.png)"
   ]
  },
  {
   "cell_type": "markdown",
   "metadata": {
    "nbpresent": {
     "id": "b2ca43ef-2e99-479c-b47d-9e7a8ede9572"
    },
    "slideshow": {
     "slide_type": "skip"
    }
   },
   "source": [
    "\\newpage"
   ]
  },
  {
   "cell_type": "markdown",
   "metadata": {
    "nbpresent": {
     "id": "b2ca43ef-2e99-479c-b47d-9e7a8ede9572"
    },
    "slideshow": {
     "slide_type": "subslide"
    }
   },
   "source": [
    "##  Governance\n",
    "\n",
    "![@appelo_governance_2010](https://farm6.staticflickr.com/5204/5201270923_f02844bb41_z_d.jpg)\n",
    "\n",
    "* Without an address, it is harder for individuals to register as legal residents. \n",
    "* They are *not citizens* and are excluded from:\n",
    "\t* public services \n",
    "\t* formal institutions.\n",
    "* This impacts on democracy."
   ]
  },
  {
   "cell_type": "markdown",
   "metadata": {
    "nbpresent": {
     "id": "b2ca43ef-2e99-479c-b47d-9e7a8ede9572"
    },
    "slideshow": {
     "slide_type": "skip"
    }
   },
   "source": [
    "\\newpage"
   ]
  },
  {
   "cell_type": "markdown",
   "metadata": {
    "nbpresent": {
     "id": "b2ca43ef-2e99-479c-b47d-9e7a8ede9572"
    },
    "slideshow": {
     "slide_type": "subslide"
    }
   },
   "source": [
    "##  Urban Development\n",
    "\n",
    "![@crowley_kibera_2009](https://farm3.staticflickr.com/2497/3726821378_8104f955e2_z_d.jpg)\n",
    "\n",
    "* Key to managing *the explosion* of rural to urban migration. \n",
    "\t* Informal settlements housing the urban poor. \n",
    "\t* Poor infrastructure services."
   ]
  },
  {
   "cell_type": "markdown",
   "metadata": {
    "nbpresent": {
     "id": "b2ca43ef-2e99-479c-b47d-9e7a8ede9572"
    },
    "slideshow": {
     "slide_type": "skip"
    }
   },
   "source": [
    "\\newpage"
   ]
  },
  {
   "cell_type": "markdown",
   "metadata": {
    "nbpresent": {
     "id": "b2ca43ef-2e99-479c-b47d-9e7a8ede9572"
    },
    "slideshow": {
     "slide_type": "subslide"
    }
   },
   "source": [
    "##  Legal and Social integration\n",
    "\n",
    "![@beck_social_integration_2015](https://upload.wikimedia.org/wikipedia/commons/thumb/8/8e/Stufen_Schulischer_Integration_enGB.svg/500px-Stufen_Schulischer_Integration_enGB.svg.png)\n",
    "\n",
    "* Formal versus Informal\n",
    "* Barring individuals and businesses from systems:\n",
    "\t* financial\n",
    "\t* legal\n",
    "\t* government\n",
    "\t* ...."
   ]
  },
  {
   "cell_type": "markdown",
   "metadata": {
    "nbpresent": {
     "id": "b2ca43ef-2e99-479c-b47d-9e7a8ede9572"
    },
    "slideshow": {
     "slide_type": "skip"
    }
   },
   "source": [
    "\\newpage"
   ]
  },
  {
   "cell_type": "markdown",
   "metadata": {
    "nbpresent": {
     "id": "b2ca43ef-2e99-479c-b47d-9e7a8ede9572"
    },
    "slideshow": {
     "slide_type": "subslide"
    }
   },
   "source": [
    "##  Sustainability and risk management\n",
    "\n",
    "![@haiti_osm_2010](https://upload.wikimedia.org/wikipedia/commons/thumb/f/f5/OSM_Haiti_mapping_-_Mapping.jpg/320px-OSM_Haiti_mapping_-_Mapping.jpg)\n",
    "\n",
    "* Addresses, geodemographics and spatial infrastructure support \n",
    "\t* sustainability \n",
    "\t* resilience\n",
    "\t* disaster management"
   ]
  },
  {
   "cell_type": "markdown",
   "metadata": {
    "nbpresent": {
     "id": "b2ca43ef-2e99-479c-b47d-9e7a8ede9572"
    },
    "slideshow": {
     "slide_type": "skip"
    }
   },
   "source": [
    "\\newpage"
   ]
  },
  {
   "cell_type": "markdown",
   "metadata": {
    "nbpresent": {
     "id": "b2ca43ef-2e99-479c-b47d-9e7a8ede9572"
    },
    "slideshow": {
     "slide_type": "subslide"
    }
   },
   "source": [
    "##  Global Wellbeing\n",
    "\n",
    "![@wellbeing_2013](https://upload.wikimedia.org/wikipedia/commons/9/90/Personal_wellbeing_in_the_UK_2012_-_13.png)"
   ]
  },
  {
   "cell_type": "markdown",
   "metadata": {
    "nbpresent": {
     "id": "b2ca43ef-2e99-479c-b47d-9e7a8ede9572"
    },
    "slideshow": {
     "slide_type": "skip"
    }
   },
   "source": [
    "\\newpage"
   ]
  },
  {
   "cell_type": "markdown",
   "metadata": {
    "nbpresent": {
     "id": "b2ca43ef-2e99-479c-b47d-9e7a8ede9572"
    },
    "slideshow": {
     "slide_type": "subslide"
    }
   },
   "source": [
    "##  Addresses bridge gaps\n",
    "\n",
    "Addresses provide the link between ***people*** and ***place***\n",
    "\n",
    "![](https://dl.dropboxusercontent.com/u/393477/ImageBank/ForAddresses/AdressesProvidePeopleWithPlace.png)\n",
    "\n",
    "\n"
   ]
  },
  {
   "cell_type": "markdown",
   "metadata": {
    "nbpresent": {
     "id": "b2ca43ef-2e99-479c-b47d-9e7a8ede9572"
    },
    "slideshow": {
     "slide_type": "skip"
    }
   },
   "source": [
    "\\newpage"
   ]
  },
  {
   "cell_type": "markdown",
   "metadata": {
    "nbpresent": {
     "id": "b2ca43ef-2e99-479c-b47d-9e7a8ede9572"
    },
    "slideshow": {
     "slide_type": "slide"
    }
   },
   "source": [
    "# Utility Addresses\n",
    "\n",
    "##  In the beginning ...... was the ledger\n",
    "\n",
    "![@ledger_en_beck_2016](https://upload.wikimedia.org/wikipedia/commons/thumb/f/f3/Everton_1933_FA_Cup_team_selection_ledger.JPG/681px-Everton_1933_FA_Cup_team_selection_ledger.JPG)"
   ]
  },
  {
   "cell_type": "markdown",
   "metadata": {
    "nbpresent": {
     "id": "b2ca43ef-2e99-479c-b47d-9e7a8ede9572"
    },
    "slideshow": {
     "slide_type": "skip"
    }
   },
   "source": [
    "\\newpage"
   ]
  },
  {
   "cell_type": "markdown",
   "metadata": {
    "nbpresent": {
     "id": "b2ca43ef-2e99-479c-b47d-9e7a8ede9572"
    },
    "slideshow": {
     "slide_type": "subslide"
    }
   },
   "source": [
    "##  Bespoke digital addresses \n",
    "\n",
    "* Digitisation and data entry to create a bespoke Address Database - \n",
    "\t* Fit for UU's operational purpose\n",
    "\t* Making utilities a key *owner* of address data\n",
    "\t\t* Subject to IP against PAF matching"
   ]
  },
  {
   "cell_type": "markdown",
   "metadata": {
    "nbpresent": {
     "id": "b2ca43ef-2e99-479c-b47d-9e7a8ede9572"
    },
    "slideshow": {
     "slide_type": "skip"
    }
   },
   "source": [
    "\\newpage"
   ]
  },
  {
   "cell_type": "markdown",
   "metadata": {
    "nbpresent": {
     "id": "b2ca43ef-2e99-479c-b47d-9e7a8ede9572"
    },
    "slideshow": {
     "slide_type": "subslide"
    }
   },
   "source": [
    "##  Policy mandates\n",
    "\n",
    "Open Water - A shared view of addresses requiring a new addressing paradigm - Address Base Premium?\n",
    "\n",
    "![](https://dl.dropboxusercontent.com/u/393477/ImageBank/ForAddresses/OpenWater.png)\n",
    "\n",
    "\n"
   ]
  },
  {
   "cell_type": "markdown",
   "metadata": {
    "nbpresent": {
     "id": "b2ca43ef-2e99-479c-b47d-9e7a8ede9572"
    },
    "slideshow": {
     "slide_type": "skip"
    }
   },
   "source": [
    "\\newpage"
   ]
  },
  {
   "cell_type": "markdown",
   "metadata": {
    "nbpresent": {
     "id": "b2ca43ef-2e99-479c-b47d-9e7a8ede9572"
    },
    "slideshow": {
     "slide_type": "slide"
    }
   },
   "source": [
    "\n",
    "# Utility addressing:\n",
    "\n",
    "\n",
    "\n",
    "* Postal delivery (Billing)\n",
    "\t* Services and Billing to properties within the extent of the UU operational area\n",
    "\t* Billing to customers outside the extent of UU operational area\n",
    "* Asset/Facilities Management (infrastructure)\n",
    "\t* Premises\n",
    "\t\t* But utilties manage different assets to Local Authorities\n",
    "\t\t* is an address the best way to manage a geo-located asset? \n",
    "* Bill calculation\n",
    "\t* Cross referencing Vaulation Office and other detals.\n",
    "\n"
   ]
  },
  {
   "cell_type": "markdown",
   "metadata": {
    "nbpresent": {
     "id": "b2ca43ef-2e99-479c-b47d-9e7a8ede9572"
    },
    "slideshow": {
     "slide_type": "skip"
    }
   },
   "source": [
    "\\newpage"
   ]
  },
  {
   "cell_type": "markdown",
   "metadata": {
    "slideshow": {
     "slide_type": "subslide"
    }
   },
   "source": [
    "\n",
    "\n",
    ". . . . \n",
    "\n",
    "**It's not just postal addressing**\n",
    "\n",
    ". . . . \n",
    "\n",
    "**Address credibility is critical**\n",
    "\n",
    ". . . . \n",
    "\n",
    "Utilities see the full life-cycle of an address - especially the birth and death"
   ]
  },
  {
   "cell_type": "markdown",
   "metadata": {
    "slideshow": {
     "slide_type": "skip"
    }
   },
   "source": [
    "\\newpage"
   ]
  },
  {
   "cell_type": "markdown",
   "metadata": {
    "nbpresent": {
     "id": "b2ca43ef-2e99-479c-b47d-9e7a8ede9572"
    },
    "slideshow": {
     "slide_type": "subslide"
    }
   },
   "source": [
    "##  asset management\n",
    "\n",
    "* UU manage assets and facilities\n",
    "\n",
    "> According to ABP a Waste Water facility is neither a postal address or a non-postal address. Really? Is it having an existential crisis?\n",
    "\n",
    "![](https://upload.wikimedia.org/wikipedia/commons/thumb/4/4b/Utility_trench_in_Bwy_%40_42_St_jeh.jpg/576px-Utility_trench_in_Bwy_%40_42_St_jeh.jpg)\n"
   ]
  },
  {
   "cell_type": "markdown",
   "metadata": {
    "nbpresent": {
     "id": "b2ca43ef-2e99-479c-b47d-9e7a8ede9572"
    },
    "slideshow": {
     "slide_type": "skip"
    }
   },
   "source": [
    "\\newpage"
   ]
  },
  {
   "cell_type": "markdown",
   "metadata": {
    "nbpresent": {
     "id": "b2ca43ef-2e99-479c-b47d-9e7a8ede9572"
    },
    "slideshow": {
     "slide_type": "subslide"
    }
   },
   "source": [
    "##  A connected spatial network\n",
    "\n",
    "![](https://dl.dropboxusercontent.com/u/393477/ImageBank/ForAddresses/UU_SPA_CONCEPTUAL.png)"
   ]
  },
  {
   "cell_type": "markdown",
   "metadata": {
    "nbpresent": {
     "id": "b2ca43ef-2e99-479c-b47d-9e7a8ede9572"
    },
    "slideshow": {
     "slide_type": "skip"
    }
   },
   "source": [
    "\\newpage"
   ]
  },
  {
   "cell_type": "markdown",
   "metadata": {
    "nbpresent": {
     "id": "b2ca43ef-2e99-479c-b47d-9e7a8ede9572"
    },
    "slideshow": {
     "slide_type": "subslide"
    }
   },
   "source": [
    "##  Serving customers who operate **somewhere**\n",
    "\n",
    "![](https://dl.dropboxusercontent.com/u/393477/ImageBank/ForAddresses/UU_ElegiblePremiseConcepts.png)\n",
    "\n",
    "* UU serve customers located in \n",
    "\t* Buildings\n",
    "\t* Factories\n",
    "\t* Houses\n",
    "\t* Fields\n",
    "\t* Anywhere"
   ]
  },
  {
   "cell_type": "markdown",
   "metadata": {
    "nbpresent": {
     "id": "b2ca43ef-2e99-479c-b47d-9e7a8ede9572"
    },
    "slideshow": {
     "slide_type": "skip"
    }
   },
   "source": [
    "\\newpage"
   ]
  },
  {
   "cell_type": "markdown",
   "metadata": {
    "nbpresent": {
     "id": "b2ca43ef-2e99-479c-b47d-9e7a8ede9572"
    },
    "slideshow": {
     "slide_type": "subslide"
    }
   },
   "source": [
    "##  Serving customers who operate **anywhere**\n",
    "\n",
    "![](https://upload.wikimedia.org/wikipedia/commons/thumb/5/5b/Colling_Trough_Collingtree_UK_2007.JPG/597px-Colling_Trough_Collingtree_UK_2007.JPG)\n",
    "\n"
   ]
  },
  {
   "cell_type": "markdown",
   "metadata": {
    "nbpresent": {
     "id": "b2ca43ef-2e99-479c-b47d-9e7a8ede9572"
    },
    "slideshow": {
     "slide_type": "skip"
    }
   },
   "source": [
    "\\newpage"
   ]
  },
  {
   "cell_type": "markdown",
   "metadata": {
    "nbpresent": {
     "id": "b2ca43ef-2e99-479c-b47d-9e7a8ede9572"
    },
    "slideshow": {
     "slide_type": "slide"
    }
   },
   "source": [
    "# Utility addressing issues\n",
    "\n",
    "##  Quotes\n",
    "\n",
    "* Another product(s) to manage\n",
    "\t* which may not fit the real business need\n",
    "\t* which may not have full customer or geographic coverage\n",
    "* Addresses are a pain\n",
    "\t* Assets as locations\n",
    "\t* Services as locatons\n",
    "\t* People at locations"
   ]
  },
  {
   "cell_type": "markdown",
   "metadata": {
    "nbpresent": {
     "id": "b2ca43ef-2e99-479c-b47d-9e7a8ede9572"
    },
    "slideshow": {
     "slide_type": "skip"
    }
   },
   "source": [
    "\\newpage"
   ]
  },
  {
   "cell_type": "markdown",
   "metadata": {
    "nbpresent": {
     "id": "b2ca43ef-2e99-479c-b47d-9e7a8ede9572"
    },
    "slideshow": {
     "slide_type": "subslide"
    }
   },
   "source": [
    "##  People think exclusively in terms of postal\n",
    "\n",
    "When most people in the UK think of addresses they think of a postal address.\n",
    "\n",
    "Is Postal a constraining legacy?\n",
    "\n",
    "![](https://upload.wikimedia.org/wikipedia/commons/0/0d/Mono_pensador.jpg)\n",
    "\n"
   ]
  },
  {
   "cell_type": "markdown",
   "metadata": {
    "nbpresent": {
     "id": "b2ca43ef-2e99-479c-b47d-9e7a8ede9572"
    },
    "slideshow": {
     "slide_type": "skip"
    }
   },
   "source": [
    "\\newpage"
   ]
  },
  {
   "cell_type": "markdown",
   "metadata": {
    "nbpresent": {
     "id": "b2ca43ef-2e99-479c-b47d-9e7a8ede9572"
    },
    "slideshow": {
     "slide_type": "slide"
    }
   },
   "source": [
    "\n",
    "# What is an address?\n",
    "\n",
    "##  Address abstraction\n",
    "\n",
    "![@AddressAbstraction_beck_2016](https://upload.wikimedia.org/wikipedia/commons/thumb/5/54/Postal_Address_Abstraction.svg/1024px-Postal_Address_Abstraction.svg.png)"
   ]
  },
  {
   "cell_type": "markdown",
   "metadata": {
    "nbpresent": {
     "id": "b2ca43ef-2e99-479c-b47d-9e7a8ede9572"
    },
    "slideshow": {
     "slide_type": "skip"
    }
   },
   "source": [
    "\\newpage"
   ]
  },
  {
   "cell_type": "markdown",
   "metadata": {
    "nbpresent": {
     "id": "b2ca43ef-2e99-479c-b47d-9e7a8ede9572"
    },
    "slideshow": {
     "slide_type": "subslide"
    }
   },
   "source": [
    "## How is an address? \n",
    "\n",
    "* Address did not spring fully formed into existance. \n",
    "* They are used globally\n",
    "\t* but developed nationally\n",
    "\t* and for different reasons"
   ]
  },
  {
   "cell_type": "markdown",
   "metadata": {
    "nbpresent": {
     "id": "b2ca43ef-2e99-479c-b47d-9e7a8ede9572"
    },
    "slideshow": {
     "slide_type": "skip"
    }
   },
   "source": [
    "\\newpage"
   ]
  },
  {
   "cell_type": "markdown",
   "metadata": {
    "nbpresent": {
     "id": "b2ca43ef-2e99-479c-b47d-9e7a8ede9572"
    },
    "slideshow": {
     "slide_type": "subslide"
    }
   },
   "source": [
    "##  Royal Mail - postal delivery\n",
    "\n",
    "![](https://dl.dropboxusercontent.com/u/393477/1Spatial/1S_ADP_creating_AP_DP.gif)\n",
    "\n"
   ]
  },
  {
   "cell_type": "markdown",
   "metadata": {
    "slideshow": {
     "slide_type": "notes"
    }
   },
   "source": [
    "In a postal system a *Delivery Point* (DP) is a single mailbox or other place at which mail is delivered. It differs from an address in that a single DP may be associated with multiple addresses (for example a communal point would act as the DP for a multiple address flat (a multiple-occupancy residence)). DPs were collected by the Royal Mail for their operational activities and sold under licence as the *Postal Address File* (PAF). PAF is built around the 8-character *Unique Delivery Point Reference Number* (UDPRN). The problem with PAF is that the spatial context is not incorporated into the product. Delivery points are decoupled from their spatial context - a delivery point with a spatial context should provide the clear location of the point of delivery (a door in a house, a post-room at an office etc.)."
   ]
  },
  {
   "cell_type": "markdown",
   "metadata": {
    "nbpresent": {
     "id": "b2ca43ef-2e99-479c-b47d-9e7a8ede9572"
    },
    "slideshow": {
     "slide_type": "skip"
    }
   },
   "source": [
    "\\newpage"
   ]
  },
  {
   "cell_type": "markdown",
   "metadata": {
    "nbpresent": {
     "id": "b2ca43ef-2e99-479c-b47d-9e7a8ede9572"
    },
    "slideshow": {
     "slide_type": "subslide"
    }
   },
   "source": [
    "##  LLPG - asset management\n",
    "\n",
    "![[Borough of Harrown LLPG schematic](https://www.ggpsystems.co.uk/wp-content/uploads/2010/12/LBH-LLPG-System-flow-Diagram-300x211.png)](https://dl.dropboxusercontent.com/u/393477/ImageBank/ForAddresses/LBH-LLPG-System-flow-Diagram.png)\n",
    "\n"
   ]
  },
  {
   "cell_type": "markdown",
   "metadata": {
    "slideshow": {
     "slide_type": "notes"
    }
   },
   "source": [
    "An LLPG (Local Land and Property Gazetteer) is a collection of address and location data created by a local authority. \n",
    "\n",
    "It is an Asset/Facilities Management tool to support public service delivery:\n",
    "\n",
    "* Local Authority\n",
    "* Police\n",
    "* Fire\n",
    "* Ambulance\n",
    "\n",
    "It incorporates:\n",
    "\n",
    "* Non postal addresses (i.e. something that the Royal Mail wouldn't deliver post to)\n",
    "\n",
    "* a 12-digit Unique Property Reference Number for every building and plot of land\n",
    "* National Street Gazetteer\n",
    "\n",
    "Prior to the initialization of the LLPGs, local authorities would have different address data held across different departments and the purpose of the Local Land and Property Gazetteers was to rationalize the data, so that a property or a particular plot of land is referred to as the same thing, even if they do have different names."
   ]
  },
  {
   "cell_type": "markdown",
   "metadata": {
    "nbpresent": {
     "id": "b2ca43ef-2e99-479c-b47d-9e7a8ede9572"
    },
    "slideshow": {
     "slide_type": "skip"
    }
   },
   "source": [
    "\\newpage"
   ]
  },
  {
   "cell_type": "markdown",
   "metadata": {
    "nbpresent": {
     "id": "b2ca43ef-2e99-479c-b47d-9e7a8ede9572"
    },
    "slideshow": {
     "slide_type": "subslide"
    }
   },
   "source": [
    "##  Addresses as assets?\n",
    "\n",
    "![[Post box](http://joncruddas.org.uk/sites/joncruddas.org.uk/files/styles/large/public/field/image/post-box.jpg?itok=ECnzLyhZ)](http://joncruddas.org.uk/sites/joncruddas.org.uk/files/styles/large/public/field/image/post-box.jpg?itok=ECnzLyhZ)\n",
    "\n",
    "* So what makes the following 'non-postal' *facilities*  addresses:\n",
    "\t* Chimney\n",
    "\t* Post box - which is clearly having a letter delivered ;-)\n",
    "\t* Electricity sub-station\n",
    "\t* Public Telephone\n",
    "\t* Tennis Courts"
   ]
  },
  {
   "cell_type": "markdown",
   "metadata": {
    "nbpresent": {
     "id": "b2ca43ef-2e99-479c-b47d-9e7a8ede9572"
    },
    "slideshow": {
     "slide_type": "skip"
    }
   },
   "source": [
    "\\newpage"
   ]
  },
  {
   "cell_type": "markdown",
   "metadata": {
    "nbpresent": {
     "id": "b2ca43ef-2e99-479c-b47d-9e7a8ede9572"
    },
    "slideshow": {
     "slide_type": "subslide"
    }
   },
   "source": [
    "##  Korea: The Jibeon system - taxation\n",
    "\n",
    "![after (@_addressing_2012, p.57)](https://dl.dropboxusercontent.com/u/393477/ImageBank/ForAddresses/JibeonAddressingUPU_pg57.png)\n",
    "\n"
   ]
  },
  {
   "cell_type": "markdown",
   "metadata": {
    "slideshow": {
     "slide_type": "notes"
    }
   },
   "source": [
    "Until recently, the Republic of Korea (Korea) has used land parcel numbers ( jibeon) to identify unique locations. This system was initially used to identify land for census purposes and to levy taxes. In addition, until the launch of the new addressing system, the jibeon was also used to identify locations (i.e. a physical address). These parcel numbers were assigned chronologically according to date of construction and without reference to the street where they werelocated. This meant that adjacent buildings did not necessarily follow a sequential numbering system."
   ]
  },
  {
   "cell_type": "markdown",
   "metadata": {
    "nbpresent": {
     "id": "b2ca43ef-2e99-479c-b47d-9e7a8ede9572"
    },
    "slideshow": {
     "slide_type": "skip"
    }
   },
   "source": [
    "\\newpage"
   ]
  },
  {
   "cell_type": "markdown",
   "metadata": {
    "nbpresent": {
     "id": "b2ca43ef-2e99-479c-b47d-9e7a8ede9572"
    },
    "slideshow": {
     "slide_type": "subslide"
    }
   },
   "source": [
    "##  World Bank - social improvement\n",
    "\n",
    "![@world_bank_address_beck_2015](https://upload.wikimedia.org/wikipedia/commons/thumb/e/ef/World_Bank_Recommended_Address_Infrastucture.svg/640px-World_Bank_Recommended_Address_Infrastucture.svg.png)\n",
    "\n"
   ]
  },
  {
   "cell_type": "markdown",
   "metadata": {
    "slideshow": {
     "slide_type": "notes"
    }
   },
   "source": [
    "The World Bank has taken a *street addressing* view-point (@_addressing_2012, p.57). This requires up-to-date mapping and bureacracy (to deliver a street gazetteer and to provide the street infrastructure (furniture) that will lead to the popular acceptance of the gazetteer). However, (@_addressing_2012, p.44) demonstrates that this is a cumbersome process with a number of issues, not the least:\n",
    "\n",
    "* Urban bias\n",
    "* Cost of infrastucture development\n",
    "* Lack of community involvment"
   ]
  },
  {
   "cell_type": "markdown",
   "metadata": {
    "nbpresent": {
     "id": "b2ca43ef-2e99-479c-b47d-9e7a8ede9572"
    },
    "slideshow": {
     "slide_type": "skip"
    }
   },
   "source": [
    "\\newpage"
   ]
  },
  {
   "cell_type": "markdown",
   "metadata": {
    "nbpresent": {
     "id": "b2ca43ef-2e99-479c-b47d-9e7a8ede9572"
    },
    "slideshow": {
     "slide_type": "subslide"
    }
   },
   "source": [
    "##  Denmark: Impactful Addressing\n",
    "\n",
    "![after @lind2008addresses](https://dl.dropboxusercontent.com/u/393477/ImageBank/ForAddresses/Lind_AddressesAsAnInfrastructureDenmark.png)"
   ]
  },
  {
   "cell_type": "markdown",
   "metadata": {
    "nbpresent": {
     "id": "b2ca43ef-2e99-479c-b47d-9e7a8ede9572"
    },
    "slideshow": {
     "slide_type": "skip"
    }
   },
   "source": [
    "\\newpage"
   ]
  },
  {
   "cell_type": "markdown",
   "metadata": {
    "nbpresent": {
     "id": "b2ca43ef-2e99-479c-b47d-9e7a8ede9572"
    },
    "slideshow": {
     "slide_type": "subslide"
    }
   },
   "source": [
    "##  Denmark: Impactful Addressing\n",
    "\n",
    "* Geocoded address infrastructure\n",
    "* Defined the semantics of purpose\n",
    "\t* what is an address\n",
    "* Open data\n",
    "\t* an address commons\n",
    "* The re-use statistics are staggering:\n",
    "\t* 70% of deliveries are to the private sector, \n",
    "\t* 20% are to central government\n",
    "\t* 10% are to municipalities.\n",
    "* Benefits:\n",
    "\t* Efficiencies\n",
    "\t* No duplication\n",
    "\t* Improved confidence\n",
    "\t* Known quality\n",
    "\n",
    "A credible service providing a mutlitude of efficiencies (@_addressing_2012, pp.50 - 54)\n",
    "\n"
   ]
  },
  {
   "cell_type": "markdown",
   "metadata": {
    "nbpresent": {
     "id": "b2ca43ef-2e99-479c-b47d-9e7a8ede9572"
    },
    "slideshow": {
     "slide_type": "skip"
    }
   },
   "source": [
    "\\newpage"
   ]
  },
  {
   "cell_type": "markdown",
   "metadata": {
    "nbpresent": {
     "id": "b2ca43ef-2e99-479c-b47d-9e7a8ede9572"
    },
    "slideshow": {
     "slide_type": "subslide"
    }
   },
   "source": [
    "\n",
    "# UK Addressing\n",
    "\n",
    "##  Geoplace - Formal\n",
    "\n",
    "![[Geoplace graphic](https://www.geoplace.co.uk/documents/10181/67776/NAG+infographic/835d83a5-e2d8-4a26-bc95-c857b315490a?t=1434370410424)](https://www.geoplace.co.uk/documents/10181/67776/NAG+infographic/835d83a5-e2d8-4a26-bc95-c857b315490a?t=1434370410424)\n",
    "\n"
   ]
  },
  {
   "cell_type": "markdown",
   "metadata": {
    "slideshow": {
     "slide_type": "notes"
    }
   },
   "source": [
    "GeoPlace is a limited liability partnership owned equally by the [Local Government Association](http://www.local.gov.uk/) and [Ordnance Survey](http://www.ordnancesurvey.co.uk/). It has built a synchronised database containing spatial address data from 348 local authorities in England and Wales (the *Local Land and Property Gazetteers* (LLPG) which cumulatively create the *National Land and Property Gazetteer* (NLPG)), combining them with Royal Mail, Valuation Office Agency and Ordnance Survey datasets. The NAG Hub database is owned by GeoPlace and is the authoritative single source of government-owned national spatial address information, containing over 225 million data records relating to about 34 million address features. GeoPlace is a production organisation with no product sales or supply operations. The NAG is made available to public and private sector customers through Ordnance Survey’s [AddressBase](http://www.ordnancesurvey.co.uk/business-and-government/products/addressbase.html) products."
   ]
  },
  {
   "cell_type": "markdown",
   "metadata": {
    "nbpresent": {
     "id": "b2ca43ef-2e99-479c-b47d-9e7a8ede9572"
    },
    "slideshow": {
     "slide_type": "skip"
    }
   },
   "source": [
    "\\newpage"
   ]
  },
  {
   "cell_type": "markdown",
   "metadata": {
    "nbpresent": {
     "id": "b2ca43ef-2e99-479c-b47d-9e7a8ede9572"
    },
    "slideshow": {
     "slide_type": "subslide"
    }
   },
   "source": [
    "##  The AddressBase Family\n",
    "\n",
    "![Ordnance Survey](http://demos.ordnancesurvey.co.uk/public/demos/products/AddressBase/images/database_3_0.jpg)\n",
    "\n"
   ]
  },
  {
   "cell_type": "markdown",
   "metadata": {
    "slideshow": {
     "slide_type": "notes"
    }
   },
   "source": [
    "GeoPlace has built a synchronised database containing spatial address data from 348 local authorities in England and Wales (the *Local Land and Property Gazetteers* (LLPG) which cumulatively create the *National Land and Property Gazetteer* (NLPG)), combining them with Royal Mail (in their Postal Address File (PAF)), Valuation Office Agency and Ordnance Survey datasets. The National Address Gazetteer Hub database is owned by GeoPlace and is claimed to be *the authoritative single source of government-owned national spatial address information*, containing over 225 million data records relating to about 34 million address features. Each address has its own *Unique Property Reference Number* (UPRN). The AddressBase suite have been designed to integrate into the [Ordnance Survey MasterMap suite of products](http://www.ordnancesurvey.co.uk/business-and-government/products/mastermap-products.html). \n",
    "\n",
    "AddressBase supports the UK Location Strategy concept of a 'core reference geography', including the key principles of the European Union INSPIRE directive, that data should only be collected once and kept where it can be maintained most effectively (see [AddressBase products user guide](http://www.ordnancesurvey.co.uk/docs/user-guides/addressbase-products-user-guide.pdf)). *It's probably worthwhile mentioning that this is not an open address layer - however, a [2104 feasibility study sponsored by the department of Business, Innovation and Skills](https://www.gov.uk/government/publications/an-open-national-address-gazetteer) included a recommendation that AddressBase lite is made openly available*.\n",
    "\n",
    "AddressBase is available at three levels of granularity (lite, plus and premium). This project uses AddressBase Plus (AB+) [which is defined as:](http://www.ordnancesurvey.co.uk/business-and-government/products/addressbase-plus.html)\n",
    "\n",
    "* AB+ merges two address datasets together (PAF and Local Authority) to provide the best available view of addresses currently defined by Local Authorities, giving many advantages over AddressBase.\n",
    "* AB+ lets you link additional information to a single address, place it on a map, and carry out spatial analysis that enables improved business practices.\n",
    "* Geoplace argue that further value comes from additional information in the product which includes:\n",
    "\t* A more detailed classification – allowing a better understanding of the type (e.g. Domestic, Commercial or Mixed) and function of a property (e.g.  Bank or Restaurant)\n",
    "\t* Local Authority addresses not contained within PAF – giving a more complete picture of the current addresses and properties (assuming they are in scope (see below))\n",
    "\t* Cross reference to OS MasterMap TOIDs – allowing simple matching to OS MasterMap Address Layer 2, Integrated Transport Network or Topography Layer\n",
    "\t* Spatial coordinates\n",
    "\t* Unique Property Reference Number (UPRN) – which provides the ability to cross reference data with other organisations, and maintain data integrity."
   ]
  },
  {
   "cell_type": "markdown",
   "metadata": {
    "nbpresent": {
     "id": "b2ca43ef-2e99-479c-b47d-9e7a8ede9572"
    },
    "slideshow": {
     "slide_type": "skip"
    }
   },
   "source": [
    "\\newpage"
   ]
  },
  {
   "cell_type": "markdown",
   "metadata": {
    "nbpresent": {
     "id": "b2ca43ef-2e99-479c-b47d-9e7a8ede9572"
    },
    "slideshow": {
     "slide_type": "subslide"
    }
   },
   "source": [
    "##  Address lifecycle\n",
    "\n",
    "![[addressbase products user guide (p. 9)](https://www.europa.uk.com/resources/os/addressbase-products-user-guide.pdf)](https://dl.dropboxusercontent.com/u/393477/ImageBank/ForAddresses/ABP_Lifecycle.png)\n",
    "\n"
   ]
  },
  {
   "cell_type": "markdown",
   "metadata": {
    "slideshow": {
     "slide_type": "notes"
    }
   },
   "source": [
    "\n",
    "This ability to maintain an overview of the lifecycle of address and property status means the AddressBase Premium has introduced new potential use cases. This has seen companies incorporating AddressBase Premium into their business systems to replace PAF or bespoke addressing frameworks - in theory the ability to authoritatively access the address lifecycle provides greater certainty for a number of business operations. At *United Utilites* (UU) AddressBase Premium is replacing a multitude of bespoke and PAF based addressing products. \n",
    "\n",
    "Both PAF and AddressBase have mechanisms to deal with multiple private and commerical occupancy in the same building. Once again this product provides the building which contains the address and not the location of any DP."
   ]
  },
  {
   "cell_type": "markdown",
   "metadata": {
    "nbpresent": {
     "id": "b2ca43ef-2e99-479c-b47d-9e7a8ede9572"
    },
    "slideshow": {
     "slide_type": "skip"
    }
   },
   "source": [
    "\\newpage"
   ]
  },
  {
   "cell_type": "markdown",
   "metadata": {
    "nbpresent": {
     "id": "b2ca43ef-2e99-479c-b47d-9e7a8ede9572"
    },
    "slideshow": {
     "slide_type": "subslide"
    }
   },
   "source": [
    "##  [Open National Address Gazetteer](https://www.gov.uk/government/publications/an-open-national-address-gazetteer)\n",
    "\n",
    "The *Department for Business, Innovation & Skills* (BIS) on the need for an [Open National Address Gazetteer](https://www.gov.uk/government/publications/an-open-national-address-gazetteer) commissioned a review of *open addressing* which was published January 2014. \n",
    "\n",
    ". . . . . \n",
    "\n",
    "It recommended:\n",
    "\n",
    "* the UK Government commission an 'open' addressing product based on a variation of the 'freemium' model \n",
    "\t* data owners elect to release a basic ('Lite') product as Open Data that leaves higher value products to be licensed\n",
    "\n",
    ". . . . . \n",
    "\n",
    "AddressBase Lite was proposed with an annual release cycle. Critically this contains the UPRN which could be be key for product interoperability."
   ]
  },
  {
   "cell_type": "markdown",
   "metadata": {
    "nbpresent": {
     "id": "b2ca43ef-2e99-479c-b47d-9e7a8ede9572"
    },
    "slideshow": {
     "slide_type": "skip"
    }
   },
   "source": [
    "\\newpage"
   ]
  },
  {
   "cell_type": "markdown",
   "metadata": {
    "nbpresent": {
     "id": "b2ca43ef-2e99-479c-b47d-9e7a8ede9572"
    },
    "slideshow": {
     "slide_type": "subslide"
    }
   },
   "source": [
    "##  Open NAG - [*'Responses received'*](https://www.gov.uk/government/publications/an-open-national-address-gazetteer) April 2014\n",
    "\n",
    "With the exception of the PAF advisory board and Royal Mail there was support for the BIS review across the respondants with some notable calls for the *Totally Open* option (particularly from those organisations who are not part of the Public Sector Mapping Agreement) and that the UPRN should be released under an open data licence (as a core reference data set that encourages product interoperability).\n",
    "\n",
    ". . . . . \n",
    "\n",
    "A number of quotes have been selected below:"
   ]
  },
  {
   "cell_type": "markdown",
   "metadata": {
    "nbpresent": {
     "id": "b2ca43ef-2e99-479c-b47d-9e7a8ede9572"
    },
    "slideshow": {
     "slide_type": "skip"
    }
   },
   "source": [
    "\\newpage"
   ]
  },
  {
   "cell_type": "markdown",
   "metadata": {
    "nbpresent": {
     "id": "b2ca43ef-2e99-479c-b47d-9e7a8ede9572"
    },
    "slideshow": {
     "slide_type": "subslide"
    }
   },
   "source": [
    "##  Addresses as an Open Core Reference\n",
    "\n",
    ">....Address data and specific locations attached to them **are part of Core Reference data sets recognised by government as a key component of our National Information Infrastructure** (as long argued by APPSI). The report published by BIS gives us **a chance to democratise access to addressing data** and meet many of the Government’s avowed intentions. We urge acceptance of Option 6 *(freemium)* or 7 *(an independent open data product)*. **David Rhind *Chair of the Advisory Panel on Public Sector Information* **\n",
    "\n",
    ">....**Freely available data are much more likely to be adopted** by users and embedded in operational systems. **A national register, free at the point of delivery will undoubtedly help in joining up services, increasing efficiency and reducing duplication**. **Office of National Statistics**"
   ]
  },
  {
   "cell_type": "markdown",
   "metadata": {
    "nbpresent": {
     "id": "b2ca43ef-2e99-479c-b47d-9e7a8ede9572"
    },
    "slideshow": {
     "slide_type": "skip"
    }
   },
   "source": [
    "\\newpage"
   ]
  },
  {
   "cell_type": "markdown",
   "metadata": {
    "nbpresent": {
     "id": "b2ca43ef-2e99-479c-b47d-9e7a8ede9572"
    },
    "slideshow": {
     "slide_type": "subslide"
    }
   },
   "source": [
    "##  Monopoly rent exploitation\n",
    "\n",
    ">... we expressed concern that, for almost all other potential customers (non-public sector), **the prices are prohibitive**, and appear designed to protect OS’s existing policy of setting high prices for a small captive market, **extracting monopoly rent**. **Keith Dugmore *Director, DUG* **"
   ]
  },
  {
   "cell_type": "markdown",
   "metadata": {
    "nbpresent": {
     "id": "b2ca43ef-2e99-479c-b47d-9e7a8ede9572"
    },
    "slideshow": {
     "slide_type": "skip"
    }
   },
   "source": [
    "\\newpage"
   ]
  },
  {
   "cell_type": "markdown",
   "metadata": {
    "nbpresent": {
     "id": "b2ca43ef-2e99-479c-b47d-9e7a8ede9572"
    },
    "slideshow": {
     "slide_type": "subslide"
    }
   },
   "source": [
    "##  The benefit of current credible addresses\n",
    "\n",
    ">**The problem of out-of-date addresses is a very significant commercial cost** for the whole of the UK and is also arguably underplayed in the report. **Individual Respondent 3**"
   ]
  },
  {
   "cell_type": "markdown",
   "metadata": {
    "nbpresent": {
     "id": "b2ca43ef-2e99-479c-b47d-9e7a8ede9572"
    },
    "slideshow": {
     "slide_type": "skip"
    }
   },
   "source": [
    "\\newpage"
   ]
  },
  {
   "cell_type": "markdown",
   "metadata": {
    "nbpresent": {
     "id": "b2ca43ef-2e99-479c-b47d-9e7a8ede9572"
    },
    "slideshow": {
     "slide_type": "subslide"
    }
   },
   "source": [
    "##  Licences\n",
    "\n",
    ">Whatever licence the data is available under, **it must permit the data to be combined with other open data and then re-published**. ... The [Open Government Licence](http://www.nationalarchives.gov.uk/doc/open-government-licence/version/2/) fulfils this criteria, but it should be noted that the [OS OpenData Licence](http://www.ordnancesurvey.co.uk/docs/licences/os-opendata-licence.pdf) (enforced by OS on it's OS OpenData products, and via the PSMA) does not. The use of the latter would represent a significant restriction on down-stream data use, and so should be avoided. **Individual Respondent 6**\n",
    "\n",
    "\n"
   ]
  },
  {
   "cell_type": "markdown",
   "metadata": {
    "nbpresent": {
     "id": "b2ca43ef-2e99-479c-b47d-9e7a8ede9572"
    },
    "slideshow": {
     "slide_type": "skip"
    }
   },
   "source": [
    "\\newpage"
   ]
  },
  {
   "cell_type": "markdown",
   "metadata": {
    "nbpresent": {
     "id": "b2ca43ef-2e99-479c-b47d-9e7a8ede9572"
    },
    "slideshow": {
     "slide_type": "slide"
    }
   },
   "source": [
    "# Taking Stock\n",
    "\n",
    "##  Addresses are heterogeneous\n",
    "\n",
    "![@world_addressing_beck_2015](https://upload.wikimedia.org/wikipedia/commons/thumb/0/08/Addressing_around_the_world.svg/640px-Addressing_around_the_world.svg.png)\n",
    "\n",
    "In terms of:\n",
    "\n",
    "* What they mean\n",
    "* What they are used for\n",
    "* Who uses them\n",
    "* How they are accessed"
   ]
  },
  {
   "cell_type": "markdown",
   "metadata": {
    "nbpresent": {
     "id": "b2ca43ef-2e99-479c-b47d-9e7a8ede9572"
    },
    "slideshow": {
     "slide_type": "skip"
    }
   },
   "source": [
    "\\newpage"
   ]
  },
  {
   "cell_type": "markdown",
   "metadata": {
    "nbpresent": {
     "id": "b2ca43ef-2e99-479c-b47d-9e7a8ede9572"
    },
    "slideshow": {
     "slide_type": "subslide"
    }
   },
   "source": [
    "##  Assets can have addresses\n",
    "\n",
    "So - anything can have an address (the *Internet of Things*)\n",
    "\n",
    "![[Post box](http://joncruddas.org.uk/sites/joncruddas.org.uk/files/styles/large/public/field/image/post-box.jpg?itok=ECnzLyhZ)](http://joncruddas.org.uk/sites/joncruddas.org.uk/files/styles/large/public/field/image/post-box.jpg?itok=ECnzLyhZ)"
   ]
  },
  {
   "cell_type": "markdown",
   "metadata": {
    "nbpresent": {
     "id": "b2ca43ef-2e99-479c-b47d-9e7a8ede9572"
    },
    "slideshow": {
     "slide_type": "skip"
    }
   },
   "source": [
    "\\newpage"
   ]
  },
  {
   "cell_type": "markdown",
   "metadata": {
    "nbpresent": {
     "id": "b2ca43ef-2e99-479c-b47d-9e7a8ede9572"
    },
    "slideshow": {
     "slide_type": "subslide"
    }
   },
   "source": [
    "##  National data silos\n",
    "\n",
    "![@IslandsOfData_en_beck_2015](https://upload.wikimedia.org/wikipedia/commons/thumb/3/3d/Islands_Of_Data.svg/636px-Islands_Of_Data.svg.png)\n",
    "\n",
    "They have been created to solve national issues. \n",
    "\n",
    "No unifying semantics"
   ]
  },
  {
   "cell_type": "markdown",
   "metadata": {
    "nbpresent": {
     "id": "b2ca43ef-2e99-479c-b47d-9e7a8ede9572"
    },
    "slideshow": {
     "slide_type": "skip"
    }
   },
   "source": [
    "\\newpage"
   ]
  },
  {
   "cell_type": "markdown",
   "metadata": {
    "nbpresent": {
     "id": "b2ca43ef-2e99-479c-b47d-9e7a8ede9572"
    },
    "slideshow": {
     "slide_type": "subslide"
    }
   },
   "source": [
    "##  \n",
    "\n",
    "![@IncompatibilitiesAndLicenceClauses_en_beck_2016](https://upload.wikimedia.org/wikipedia/commons/thumb/0/0e/Incompatibilities_And_Licence_Clauses.svg/989px-Incompatibilities_And_Licence_Clauses.svg.png)"
   ]
  },
  {
   "cell_type": "markdown",
   "metadata": {
    "nbpresent": {
     "id": "b2ca43ef-2e99-479c-b47d-9e7a8ede9572"
    },
    "slideshow": {
     "slide_type": "skip"
    }
   },
   "source": [
    "\\newpage"
   ]
  },
  {
   "cell_type": "markdown",
   "metadata": {
    "nbpresent": {
     "id": "b2ca43ef-2e99-479c-b47d-9e7a8ede9572"
    },
    "slideshow": {
     "slide_type": "subslide"
    }
   },
   "source": [
    "##  Addresses are bureaucratic and costly\n",
    "\n",
    "![@stamp_schnettelker_2013](https://farm3.staticflickr.com/2819/9786091286_e85fd01bb8_z_d.jpg)\n",
    "\n",
    "Severely protracted when formal/informal issues are encountered."
   ]
  },
  {
   "cell_type": "markdown",
   "metadata": {
    "nbpresent": {
     "id": "b2ca43ef-2e99-479c-b47d-9e7a8ede9572"
    },
    "slideshow": {
     "slide_type": "skip"
    }
   },
   "source": [
    "\\newpage"
   ]
  },
  {
   "cell_type": "markdown",
   "metadata": {
    "nbpresent": {
     "id": "b2ca43ef-2e99-479c-b47d-9e7a8ede9572"
    },
    "slideshow": {
     "slide_type": "subslide"
    }
   },
   "source": [
    "##  Addresses can be opaque\n",
    "\n",
    "![@processing_transparency_beck_2015](https://upload.wikimedia.org/wikipedia/commons/thumb/d/d5/Processing_transparency_between_open_and_closed_systems.svg/630px-Processing_transparency_between_open_and_closed_systems.svg.png)\n",
    "\n",
    "**transparent and reproducible?**"
   ]
  },
  {
   "cell_type": "markdown",
   "metadata": {
    "nbpresent": {
     "id": "b2ca43ef-2e99-479c-b47d-9e7a8ede9572"
    },
    "slideshow": {
     "slide_type": "skip"
    }
   },
   "source": [
    "\\newpage"
   ]
  },
  {
   "cell_type": "markdown",
   "metadata": {
    "nbpresent": {
     "id": "b2ca43ef-2e99-479c-b47d-9e7a8ede9572"
    },
    "slideshow": {
     "slide_type": "subslide"
    }
   },
   "source": [
    "##  Addresses are of global significance\n",
    "\n",
    "![@services_products_Gray_2011](https://farm7.staticflickr.com/6213/6296605302_9745b5e72e_z_d.jpg)"
   ]
  },
  {
   "cell_type": "markdown",
   "metadata": {
    "nbpresent": {
     "id": "b2ca43ef-2e99-479c-b47d-9e7a8ede9572"
    },
    "slideshow": {
     "slide_type": "skip"
    }
   },
   "source": [
    "\\newpage"
   ]
  },
  {
   "cell_type": "markdown",
   "metadata": {
    "nbpresent": {
     "id": "b2ca43ef-2e99-479c-b47d-9e7a8ede9572"
    },
    "slideshow": {
     "slide_type": "subslide"
    }
   },
   "source": [
    "##  Addresses are ripe for disruption\n",
    "\n",
    "![@earth_egg_rain_2007](https://farm3.staticflickr.com/2159/2047910540_82620d9481_z_d.jpg?zz=1)\n",
    "\n"
   ]
  },
  {
   "cell_type": "markdown",
   "metadata": {
    "nbpresent": {
     "id": "b2ca43ef-2e99-479c-b47d-9e7a8ede9572"
    },
    "slideshow": {
     "slide_type": "skip"
    }
   },
   "source": [
    "\\newpage"
   ]
  },
  {
   "cell_type": "markdown",
   "metadata": {
    "nbpresent": {
     "id": "b2ca43ef-2e99-479c-b47d-9e7a8ede9572"
    },
    "slideshow": {
     "slide_type": "slide"
    }
   },
   "source": [
    "\n",
    "# Address Disruption\n",
    "\n",
    "##  Formal versus informal\n",
    "\n",
    "![@formalinformal_beck_2016](https://dl.dropboxusercontent.com/u/393477/ImageBank/ForAddresses/FormalVersusInformalKnowledgeRepositoriesWithODI.png)"
   ]
  },
  {
   "cell_type": "markdown",
   "metadata": {
    "nbpresent": {
     "id": "b2ca43ef-2e99-479c-b47d-9e7a8ede9572"
    },
    "slideshow": {
     "slide_type": "skip"
    }
   },
   "source": [
    "\\newpage"
   ]
  },
  {
   "cell_type": "markdown",
   "metadata": {
    "nbpresent": {
     "id": "b2ca43ef-2e99-479c-b47d-9e7a8ede9572"
    },
    "slideshow": {
     "slide_type": "subslide"
    }
   },
   "source": [
    "##  Technology\n",
    "\n",
    "Streets are so last century.....\n",
    "\n",
    "![@world_bank_address_beck_2015](https://upload.wikimedia.org/wikipedia/commons/thumb/e/ef/World_Bank_Recommended_Address_Infrastucture.svg/640px-World_Bank_Recommended_Address_Infrastucture.svg.png)\n",
    "\n",
    "* Ubiquitous GPS/GNSS\n",
    "* Structured crowdsourced geo-enabled content (wikipedia, OSM)"
   ]
  },
  {
   "cell_type": "markdown",
   "metadata": {
    "nbpresent": {
     "id": "b2ca43ef-2e99-479c-b47d-9e7a8ede9572"
    },
    "slideshow": {
     "slide_type": "skip"
    }
   },
   "source": [
    "\\newpage"
   ]
  },
  {
   "cell_type": "markdown",
   "metadata": {
    "nbpresent": {
     "id": "b2ca43ef-2e99-479c-b47d-9e7a8ede9572"
    },
    "slideshow": {
     "slide_type": "subslide"
    }
   },
   "source": [
    "##  Interoperability\n",
    "\n",
    "![](https://dl.dropboxusercontent.com/u/393477/ImageBank/ForAddresses/Plug_interoperability.svg.png)\n",
    "\n",
    "* Will the semantic web provide address interoperabilty?"
   ]
  },
  {
   "cell_type": "markdown",
   "metadata": {
    "nbpresent": {
     "id": "b2ca43ef-2e99-479c-b47d-9e7a8ede9572"
    },
    "slideshow": {
     "slide_type": "skip"
    }
   },
   "source": [
    "\\newpage"
   ]
  },
  {
   "cell_type": "markdown",
   "metadata": {
    "nbpresent": {
     "id": "b2ca43ef-2e99-479c-b47d-9e7a8ede9572"
    },
    "slideshow": {
     "slide_type": "subslide"
    }
   },
   "source": [
    "##  Globalisation\n",
    "\n",
    "![@linked_data_staveren_2013](https://farm8.staticflickr.com/7374/9965173654_7bf862d89d_z_d.jpg)\n",
    "\n",
    "* Addressing is a **core reference geography**\n",
    "* Global brands will demand (or invoke) consistent global addressing\n",
    "* How will licences impact on this?"
   ]
  },
  {
   "cell_type": "markdown",
   "metadata": {
    "nbpresent": {
     "id": "b2ca43ef-2e99-479c-b47d-9e7a8ede9572"
    },
    "slideshow": {
     "slide_type": "skip"
    }
   },
   "source": [
    "\\newpage"
   ]
  },
  {
   "cell_type": "markdown",
   "metadata": {
    "nbpresent": {
     "id": "b2ca43ef-2e99-479c-b47d-9e7a8ede9572"
    },
    "slideshow": {
     "slide_type": "subslide"
    }
   },
   "source": [
    "##  [Core reference geographies](http://www.slideshare.net/geocommunitylive/bob-barr-what-are-core-reference-geographies)\n",
    "\n",
    "Bob Barr has described [core reference geographies](http://www.slideshare.net/geocommunitylive/bob-barr-what-are-core-reference-geographies) as geographic data which:\n",
    "\n",
    "* Are definitive\n",
    "* Should be collected and maintained once and used many times\n",
    "* Are Natural monopolies (which addresses are)\n",
    "* Have variable value in different applications\n",
    "* Have highly elastic demand\n",
    "\n",
    "**Global addresses are a core reference geography.**\n",
    "\n",
    "\n"
   ]
  },
  {
   "cell_type": "markdown",
   "metadata": {
    "nbpresent": {
     "id": "b2ca43ef-2e99-479c-b47d-9e7a8ede9572"
    },
    "slideshow": {
     "slide_type": "skip"
    }
   },
   "source": [
    "\\newpage"
   ]
  },
  {
   "cell_type": "markdown",
   "metadata": {
    "nbpresent": {
     "id": "b2ca43ef-2e99-479c-b47d-9e7a8ede9572"
    },
    "slideshow": {
     "slide_type": "slide"
    }
   },
   "source": [
    "# A new global address paradigm?  \n",
    "\n",
    "* [Amazon drone delivery in the UK requires](https://www.theguardian.com/technology/2016/jul/25/amazon-to-test-drone-delivery-uk-government)\n",
    "\t* A new view over addressing complements streets and buildings but is geo-coded at source\n",
    "\t* and supports accurate delivery throughout the delivery chain using a global referencing system.\n",
    "\n",
    "Is there a universal approach which allows all avenues to be satisfied?\n",
    "\n",
    "Put in a link to the Guardian page in the slide below?\n"
   ]
  },
  {
   "cell_type": "markdown",
   "metadata": {
    "nbpresent": {
     "id": "b2ca43ef-2e99-479c-b47d-9e7a8ede9572"
    },
    "slideshow": {
     "slide_type": "skip"
    }
   },
   "source": [
    "\\newpage"
   ]
  },
  {
   "cell_type": "markdown",
   "metadata": {
    "nbpresent": {
     "id": "b2ca43ef-2e99-479c-b47d-9e7a8ede9572"
    },
    "slideshow": {
     "slide_type": "subslide"
    }
   },
   "source": [
    "##  How will this look?\n",
    "\n",
    "*Determining Addresses which are Independent of infrastructure using a Spatial algorithm*\n",
    "\n",
    ".\n",
    ".\n",
    "\n",
    "Requirements for a Global Address Framework\n",
    "\n",
    ".\n",
    "."
   ]
  },
  {
   "cell_type": "markdown",
   "metadata": {
    "nbpresent": {
     "id": "b2ca43ef-2e99-479c-b47d-9e7a8ede9572"
    },
    "slideshow": {
     "slide_type": "skip"
    }
   },
   "source": [
    "\\newpage"
   ]
  },
  {
   "cell_type": "markdown",
   "metadata": {
    "nbpresent": {
     "id": "b2ca43ef-2e99-479c-b47d-9e7a8ede9572"
    },
    "slideshow": {
     "slide_type": "subslide"
    }
   },
   "source": [
    "##  WGS84 algorithmic address minting\n",
    "\n",
    "![@minting_addresses_2009](https://farm3.staticflickr.com/2432/3832442378_bf76a81b5d_d.jpg)\n",
    "\n",
    "**A global addressing framework needs to be transparent and reproducible.**\n",
    "\n",
    "**A global addressing framework should be based on a spatial reference system.**\n",
    "\n",
    "**A global addressing framework needs to be lightweight and cheap so it can be implemented in a timely manner.**"
   ]
  },
  {
   "cell_type": "markdown",
   "metadata": {
    "nbpresent": {
     "id": "b2ca43ef-2e99-479c-b47d-9e7a8ede9572"
    },
    "slideshow": {
     "slide_type": "skip"
    }
   },
   "source": [
    "\\newpage"
   ]
  },
  {
   "cell_type": "markdown",
   "metadata": {
    "nbpresent": {
     "id": "b2ca43ef-2e99-479c-b47d-9e7a8ede9572"
    },
    "slideshow": {
     "slide_type": "subslide"
    }
   },
   "source": [
    "##  Small footprint\n",
    "\n",
    "![@small_footprints_terwolbeck_2012](https://farm8.staticflickr.com/7185/6988489897_282270cfd5_z_d.jpg)\n",
    "\n",
    "**Ubiquitous access across platforms.**\n",
    "\n",
    "**No dependency on internet access.**"
   ]
  },
  {
   "cell_type": "markdown",
   "metadata": {
    "nbpresent": {
     "id": "b2ca43ef-2e99-479c-b47d-9e7a8ede9572"
    },
    "slideshow": {
     "slide_type": "skip"
    }
   },
   "source": [
    "\\newpage"
   ]
  },
  {
   "cell_type": "markdown",
   "metadata": {
    "nbpresent": {
     "id": "b2ca43ef-2e99-479c-b47d-9e7a8ede9572"
    },
    "slideshow": {
     "slide_type": "subslide"
    }
   },
   "source": [
    "##  Short/memorable\n",
    "\n",
    "![@mnemonics_munroe_nd](http://imgs.xkcd.com/comics/mnemonics.png)"
   ]
  },
  {
   "cell_type": "markdown",
   "metadata": {
    "nbpresent": {
     "id": "b2ca43ef-2e99-479c-b47d-9e7a8ede9572"
    },
    "slideshow": {
     "slide_type": "skip"
    }
   },
   "source": [
    "\\newpage"
   ]
  },
  {
   "cell_type": "markdown",
   "metadata": {
    "nbpresent": {
     "id": "b2ca43ef-2e99-479c-b47d-9e7a8ede9572"
    },
    "slideshow": {
     "slide_type": "subslide"
    }
   },
   "source": [
    "##  Self checking \n",
    "\n",
    "![@parity_levine_2014](https://farm6.staticflickr.com/5576/14117894364_a3715fdfce_z_d.jpg)\n",
    "\n",
    "**Improving validity and credibility of downstream business processes.**"
   ]
  },
  {
   "cell_type": "markdown",
   "metadata": {
    "nbpresent": {
     "id": "b2ca43ef-2e99-479c-b47d-9e7a8ede9572"
    },
    "slideshow": {
     "slide_type": "skip"
    }
   },
   "source": [
    "\\newpage"
   ]
  },
  {
   "cell_type": "markdown",
   "metadata": {
    "nbpresent": {
     "id": "b2ca43ef-2e99-479c-b47d-9e7a8ede9572"
    },
    "slideshow": {
     "slide_type": "subslide"
    }
   },
   "source": [
    "##  Unlimited spatial recording\n",
    "\n",
    "![@geodesic_grid_petersen_2007](https://upload.wikimedia.org/wikipedia/en/thumb/f/fd/Geodesic_Grid_%28ISEA3H%29_illustrated.png/1024px-Geodesic_Grid_%28ISEA3H%29_illustrated.png)\n",
    "\n",
    "[Manila has a population density of 42,857 people per km^2^](http://en.wikipedia.org/wiki/List_of_cities_proper_by_population_density). What are the spatial requirements for the range of addressing options?\n",
    "\n",
    "**A global addressing framework should meet the needs of the rural, urban, formal and informal communities equally.**"
   ]
  },
  {
   "cell_type": "markdown",
   "metadata": {
    "nbpresent": {
     "id": "b2ca43ef-2e99-479c-b47d-9e7a8ede9572"
    },
    "slideshow": {
     "slide_type": "skip"
    }
   },
   "source": [
    "\\newpage"
   ]
  },
  {
   "cell_type": "markdown",
   "metadata": {
    "nbpresent": {
     "id": "b2ca43ef-2e99-479c-b47d-9e7a8ede9572"
    },
    "slideshow": {
     "slide_type": "subslide"
    }
   },
   "source": [
    "##  Open and interoperable\n",
    "\n",
    "![](https://dl.dropboxusercontent.com/u/393477/ImageBank/PromotingInteroperability.png)"
   ]
  },
  {
   "cell_type": "markdown",
   "metadata": {
    "nbpresent": {
     "id": "b2ca43ef-2e99-479c-b47d-9e7a8ede9572"
    },
    "slideshow": {
     "slide_type": "skip"
    }
   },
   "source": [
    "\\newpage"
   ]
  },
  {
   "cell_type": "markdown",
   "metadata": {
    "nbpresent": {
     "id": "b2ca43ef-2e99-479c-b47d-9e7a8ede9572"
    },
    "slideshow": {
     "slide_type": "subslide"
    }
   },
   "source": [
    "##  Open and interoperable\n",
    "\n",
    "> the lack of a consistent and transparent legal and policy framework for sharing spatial data continues to be an additional roadblock.\n",
    "\n",
    "@pomfret_spatial_2010\n",
    "\n",
    "**A global addressing framework should be open or available with as few barriers as possible.**"
   ]
  },
  {
   "cell_type": "markdown",
   "metadata": {
    "nbpresent": {
     "id": "b2ca43ef-2e99-479c-b47d-9e7a8ede9572"
    },
    "slideshow": {
     "slide_type": "skip"
    }
   },
   "source": [
    "\\newpage"
   ]
  },
  {
   "cell_type": "markdown",
   "metadata": {
    "nbpresent": {
     "id": "b2ca43ef-2e99-479c-b47d-9e7a8ede9572"
    },
    "slideshow": {
     "slide_type": "subslide"
    }
   },
   "source": [
    "##  Indoor use and 3D\n",
    "\n",
    "![@bim_arup_2013](http://architect-bim.co.uk/wp-content/uploads/2013/03/Arup-steel-ec-fame.jpg)\n",
    "\n",
    "Incorporating wifi-triangulation - *individual room* addressing and navigation.\n",
    "\n",
    "*Addressing isn't only about buildings - think about the Internet of Things*"
   ]
  },
  {
   "cell_type": "markdown",
   "metadata": {
    "nbpresent": {
     "id": "b2ca43ef-2e99-479c-b47d-9e7a8ede9572"
    },
    "slideshow": {
     "slide_type": "skip"
    }
   },
   "source": [
    "\\newpage"
   ]
  },
  {
   "cell_type": "markdown",
   "metadata": {
    "nbpresent": {
     "id": "b2ca43ef-2e99-479c-b47d-9e7a8ede9572"
    },
    "slideshow": {
     "slide_type": "subslide"
    }
   },
   "source": [
    "##  Inherent geo-statistical aggregation (spatially scalable)\n",
    "\n",
    "![@geodesic_grid_petersen_2007](http://upload.wikimedia.org/wikipedia/en/thumb/f/fd/Geodesic_Grid_%28ISEA3H%29_illustrated.png/640px-Geodesic_Grid_%28ISEA3H%29_illustrated.png)\n",
    "\n",
    "GIS free multi-scale analysis and reporting during disaster scenarios."
   ]
  },
  {
   "cell_type": "markdown",
   "metadata": {
    "nbpresent": {
     "id": "b2ca43ef-2e99-479c-b47d-9e7a8ede9572"
    },
    "slideshow": {
     "slide_type": "skip"
    }
   },
   "source": [
    "\\newpage"
   ]
  },
  {
   "cell_type": "markdown",
   "metadata": {
    "nbpresent": {
     "id": "b2ca43ef-2e99-479c-b47d-9e7a8ede9572"
    },
    "slideshow": {
     "slide_type": "subslide"
    }
   },
   "source": [
    "##  Technology benchmarking\n",
    "\n",
    "BCS examples (in alphabetical order):\n",
    "\n",
    "* [GeoHash](http://en.wikipedia.org/wiki/Geohash)\n",
    "\t* gcpvj1r2vnbp\n",
    "* [Maidenhead Locator System](http://en.wikipedia.org/wiki/Maidenhead_Locator_System)\n",
    "\t* IO91wm (it has a very large footprint)\n",
    "* [MapCode](http://www.mapcode.com/)\n",
    "\t* GBR JD.VJ\n",
    "* [Natural Area Code](http://nactag.info/map.asp)\n",
    "\t* 8KDB PGFD\n",
    "* [Pyxis](http://www.pyxisinnovation.com/)\n",
    "* [What3Words](http://what3words.com/)\n",
    "\t* move slam stress\n",
    "\n",
    "\n"
   ]
  },
  {
   "cell_type": "markdown",
   "metadata": {
    "nbpresent": {
     "id": "b2ca43ef-2e99-479c-b47d-9e7a8ede9572"
    },
    "slideshow": {
     "slide_type": "skip"
    }
   },
   "source": [
    "\\newpage"
   ]
  },
  {
   "cell_type": "markdown",
   "metadata": {
    "slideshow": {
     "slide_type": "slide"
    }
   },
   "source": [
    "# Utility address concepts\n",
    "\n",
    "\n",
    "* A means of communicating location to third parties in a way **they** understand.\n",
    "\t* Delivery\n",
    "\t* Contract engineer\n",
    "\t* Incident reporting\n",
    "* Hence, addresses are all about sharing\n",
    "\t* We need to buy into disambiguating stakeholder semantics\n",
    "* Everything is mediated by a human in the information exchange\n",
    "\t* Everyone has their own semantics\n",
    "\t* Formal and vernacular geographies"
   ]
  },
  {
   "cell_type": "markdown",
   "metadata": {
    "slideshow": {
     "slide_type": "skip"
    }
   },
   "source": [
    "\\newpage"
   ]
  },
  {
   "cell_type": "markdown",
   "metadata": {
    "nbpresent": {
     "id": "b2ca43ef-2e99-479c-b47d-9e7a8ede9572"
    },
    "slideshow": {
     "slide_type": "subslide"
    }
   },
   "source": [
    "##  Addresses mediate space\n",
    "\n",
    "In business systems Addresses are bridge a between technology stacks and social systems.  \n",
    "\n",
    "#\n",
    "\n",
    "![](https://dl.dropboxusercontent.com/u/393477/ImageBank/ForAddresses/UU_Addressing_Concept.png)\n",
    "\n",
    "* Most people in the UK think of an address as a *postal address*\n",
    "\t* This is a mindset we should be trying to break\n",
    "\t* A delivery address is only one facet to an address\n",
    "\t* Produce a graphic about this\n",
    "* What do addresses enable\n",
    "\t* Services\n",
    "\t\t* Postal services\n",
    "\t\t* Utility services\n",
    "\t\t* etc\n",
    "\t* Routing\n",
    "\t\t* Vehicle navigation\n",
    "\t\t* People navigation\n",
    "\t* Asset/Infrastructure management\n",
    "\t* Information integration\n",
    "\t\t* Lifecycle\n",
    "\t\t* Geodemographics\n",
    "* Hence, addressing information covers a range of requirements:\n",
    "\t* Semantic\n",
    "\t* GIS\n",
    "\t* Database\n",
    "* Challenges\n",
    "\t* find an unambiguous way to encode these different address types across the enterprise (and/or as part of an open initiative)\n",
    "\t* find ways to dynamically transform these address so that each end-user community get the most appropriate address be they:\n",
    "\t\t* formal addresses\n",
    "\t\t* vernacular (informal) addresses \n",
    "\t\t* Postal address\n",
    "\t\t* Asset location\n",
    "\n",
    "In terms of assets two things spring to mind - \n",
    "\n",
    "1. we no longer need streets and buildings to provide an address. GNSS already does this globally - just finding a technique where a memorable term can be developed\n",
    "1. The Access point/Delivery point metaphor used by Royal Mail is also likely to be important for asset registration."
   ]
  },
  {
   "cell_type": "markdown",
   "metadata": {
    "nbpresent": {
     "id": "b2ca43ef-2e99-479c-b47d-9e7a8ede9572"
    },
    "slideshow": {
     "slide_type": "skip"
    }
   },
   "source": [
    "\\newpage"
   ]
  },
  {
   "cell_type": "markdown",
   "metadata": {
    "nbpresent": {
     "id": "b2ca43ef-2e99-479c-b47d-9e7a8ede9572"
    },
    "slideshow": {
     "slide_type": "subslide"
    }
   },
   "source": [
    "##  Addresses should mediate systems\n",
    "\n",
    "* Bridge the gap between a building focussed 2d view of the world and the 3d world in which we inhabit. \n",
    "* Harmonise the edge cases relationships between UPRNs and VOAs\n",
    "\n"
   ]
  },
  {
   "cell_type": "markdown",
   "metadata": {
    "nbpresent": {
     "id": "b2ca43ef-2e99-479c-b47d-9e7a8ede9572"
    },
    "slideshow": {
     "slide_type": "skip"
    }
   },
   "source": [
    "\\newpage"
   ]
  },
  {
   "cell_type": "markdown",
   "metadata": {
    "nbpresent": {
     "id": "b2ca43ef-2e99-479c-b47d-9e7a8ede9572"
    },
    "slideshow": {
     "slide_type": "slide"
    }
   },
   "source": [
    "\n",
    "# Current utility addressing?\n",
    "\n",
    "##  A shared view over addressing?\n",
    "\n",
    "![](https://dl.dropboxusercontent.com/u/393477/ImageBank/ForAddresses/UU_AMS_AND_ABP_relationships.png)"
   ]
  },
  {
   "cell_type": "markdown",
   "metadata": {
    "nbpresent": {
     "id": "b2ca43ef-2e99-479c-b47d-9e7a8ede9572"
    },
    "slideshow": {
     "slide_type": "skip"
    }
   },
   "source": [
    "\\newpage"
   ]
  },
  {
   "cell_type": "markdown",
   "metadata": {
    "nbpresent": {
     "id": "b2ca43ef-2e99-479c-b47d-9e7a8ede9572"
    },
    "slideshow": {
     "slide_type": "subslide"
    }
   },
   "source": [
    "##  A shared view over addressing?\n",
    "\n",
    "Not really....\n",
    "\n",
    "* ABP isn’t a silver bullet\n",
    "\t* Subset of required ‘formal - delivery’ addresses\n",
    "\t* Mis-match in terms of assets\n",
    "\t\t* Why does a sewage works not have an address when a post-box does?\n",
    "\t* Not plug and play\n",
    "\t* Lag in the system - the lifecycle feedback does not have credibility for time critical applications.\n",
    "\t* The co-ordinating spine is not freely available (under a permissive licence)\n",
    "\t* Inset areas - an aglomoration of 'addresses'\n",
    "\t* VOA link is a cludge"
   ]
  },
  {
   "cell_type": "markdown",
   "metadata": {
    "nbpresent": {
     "id": "b2ca43ef-2e99-479c-b47d-9e7a8ede9572"
    },
    "slideshow": {
     "slide_type": "skip"
    }
   },
   "source": [
    "\\newpage"
   ]
  },
  {
   "cell_type": "markdown",
   "metadata": {
    "nbpresent": {
     "id": "b2ca43ef-2e99-479c-b47d-9e7a8ede9572"
    },
    "slideshow": {
     "slide_type": "subslide"
    }
   },
   "source": [
    "##  Issues about ABP\n",
    "\n",
    "* Over a barrel\n",
    "\t* Needed to buy ABP as AL2 was being removed\n",
    "* Lifecycle benefit not being realised\n",
    "* Different view of property hierarchy\n",
    "* Update frequency\n",
    "* Data model change\n",
    "\t* a hostage to someone else's data model\n",
    "* ITN and Street Gazetteer not the same\n",
    "* 2d and 3d metaphors against VOA\n",
    "\t* a better 2.5 view of the world would be appreciated.\n",
    "\n",
    "\n"
   ]
  },
  {
   "cell_type": "markdown",
   "metadata": {
    "nbpresent": {
     "id": "b2ca43ef-2e99-479c-b47d-9e7a8ede9572"
    },
    "slideshow": {
     "slide_type": "skip"
    }
   },
   "source": [
    "\\newpage"
   ]
  },
  {
   "cell_type": "markdown",
   "metadata": {
    "nbpresent": {
     "id": "b2ca43ef-2e99-479c-b47d-9e7a8ede9572"
    },
    "slideshow": {
     "slide_type": "slide"
    }
   },
   "source": [
    "#  Future Addressing\n",
    "\n",
    "##  What do Utilities need from an Address infrastructure\n",
    "\n",
    "* Should this simply emulate Address Base Premium?\n",
    "* Like Denmark should it exploit technological developments to be:\n",
    "\t* More robust\n",
    "\t* Improve use case\n",
    "\t* More flexible\n",
    "* Should it embrace technological development to make operational activities more efficient\n",
    "\t* Use DIAS to facilitate geo-coded addressing of assets in a flexible and credible manner"
   ]
  },
  {
   "cell_type": "markdown",
   "metadata": {
    "nbpresent": {
     "id": "b2ca43ef-2e99-479c-b47d-9e7a8ede9572"
    },
    "slideshow": {
     "slide_type": "skip"
    }
   },
   "source": [
    "\\newpage"
   ]
  },
  {
   "cell_type": "markdown",
   "metadata": {
    "nbpresent": {
     "id": "b2ca43ef-2e99-479c-b47d-9e7a8ede9572"
    },
    "slideshow": {
     "slide_type": "subslide"
    }
   },
   "source": [
    "##  What can Open Addresses bring to Utilities\n",
    "\n",
    "* Fill the gap of formal addresses\n",
    "\t* But share a common reference Spine\n",
    "\t\t* UPRN?\n",
    "\t\t* But what about the 3d world\n",
    "* Add value\n",
    "\t* Embed a complementary geoaddressing paradigm\n",
    "\t* Linked data?\n",
    "\t* Property life-cycle?\n",
    "\t* Spatially consistent\n",
    "\t* Crowd enhanced\n",
    "* What licence would a service be under.\n",
    "\t* OS? -No"
   ]
  },
  {
   "cell_type": "markdown",
   "metadata": {
    "nbpresent": {
     "id": "b2ca43ef-2e99-479c-b47d-9e7a8ede9572"
    },
    "slideshow": {
     "slide_type": "skip"
    }
   },
   "source": [
    "\\newpage"
   ]
  },
  {
   "cell_type": "markdown",
   "metadata": {
    "nbpresent": {
     "id": "b2ca43ef-2e99-479c-b47d-9e7a8ede9572"
    },
    "slideshow": {
     "slide_type": "subslide"
    }
   },
   "source": [
    "##  What can Utilities bring to Open Addresses\n",
    "\n",
    "* Can utilities become a credible publisher of addressing providing addition and updates under open licences to a natioanl body\n",
    "* Can this be global\n",
    "* How can (open) addresses help innovate delivery?\n",
    "\t* geo-demographics protecting the disenfranchised\n",
    "\t\t* who are our sensitive customers - what are their needs?\n",
    "* Critical lifecycle data - potentially better/faster than local government.\n",
    "\n",
    "The address lifecycle element helps UU provide operational capacity for new builds and provides greater confidence when changing asset GIS and client details when a property is demolished."
   ]
  },
  {
   "cell_type": "markdown",
   "metadata": {
    "nbpresent": {
     "id": "b2ca43ef-2e99-479c-b47d-9e7a8ede9572"
    },
    "slideshow": {
     "slide_type": "skip"
    }
   },
   "source": [
    "\\newpage"
   ]
  },
  {
   "cell_type": "markdown",
   "metadata": {
    "nbpresent": {
     "id": "b2ca43ef-2e99-479c-b47d-9e7a8ede9572"
    },
    "slideshow": {
     "slide_type": "subslide"
    }
   },
   "source": [
    "##  This begs the question\n",
    "\n",
    "As a key creator of addresses should utilities replace a functional address system with an address framework that does not meet all their business requirements? \n",
    "\n",
    "This creates a paradox when products like AddressBase are stimpulated in Government policy documents (such as OpenWater)\n",
    "\n",
    "How can this gap be bridged?\n",
    "\n",
    "**Addresses need to be fit-for-purpose for the end user**\n"
   ]
  },
  {
   "cell_type": "markdown",
   "metadata": {
    "slideshow": {
     "slide_type": "slide"
    }
   },
   "source": [
    "# Final thoughts\n",
    "\n",
    "Should an Open Address infrastructure emulate current models or should it be the foundation of a new addressing paradigm fit for 21st century challenges\n",
    "\n",
    "Utilities have the potential to be:\n",
    "\n",
    "* Key consumers of open addressing data\n",
    "* Key providers of open addressing content\n",
    "\n"
   ]
  },
  {
   "cell_type": "markdown",
   "metadata": {
    "slideshow": {
     "slide_type": "slide"
    }
   },
   "source": [
    "# References"
   ]
  },
  {
   "cell_type": "code",
   "execution_count": null,
   "metadata": {
    "collapsed": true
   },
   "outputs": [],
   "source": []
  }
 ],
 "metadata": {
  "anaconda-cloud": {},
  "celltoolbar": "Slideshow",
  "kernelspec": {
   "display_name": "Python [default]",
   "language": "python",
   "name": "python2"
  },
  "language_info": {
   "codemirror_mode": {
    "name": "ipython",
    "version": 2
   },
   "file_extension": ".py",
   "mimetype": "text/x-python",
   "name": "python",
   "nbconvert_exporter": "python",
   "pygments_lexer": "ipython2",
   "version": "2.7.10"
  },
  "nbpresent": {
   "id": "b2ca43ef-2e99-479c-b47d-9e7a8ede9572"
  },
  "slideshow": {
   "slide_type": "subslide"
  }
 },
 "nbformat": 4,
 "nbformat_minor": 0
}
