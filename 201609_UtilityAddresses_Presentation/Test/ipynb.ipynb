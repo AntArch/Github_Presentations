{
 "cells": [
  {
   "cell_type": "markdown",
   "metadata": {},
   "source": [
    "\n",
    "\n",
    "## Test of Jupyter Notebook generator\n",
    "\n",
    "**${NAME}**, ${ADDRESS}\n",
    "\n",
    "**May 14, 2015**\n",
    "\n",
    "## Math\n",
    "\n",
    "This is a test notebook where we solve the following math\n",
    "problem:\n",
    "\n",
    "$$\n",
    "y' = y,\\quad y(0)=${IC}\n",
    "$$\n",
    "\n",
    "## Code\n",
    "\n",
    "Here is code for the solution:\n"
   ]
  },
  {
   "cell_type": "code",
   "execution_count": null,
   "metadata": {
    "collapsed": true
   },
   "outputs": [],
   "source": []
  },
  {
   "cell_type": "code",
   "execution_count": null,
   "metadata": {
    "collapsed": false
   },
   "outputs": [],
   "source": [
    "from numpy import exp\n",
    "\n",
    "def y(t):\n",
    "\treturn 2*exp(t)\n",
    "\n",
    "## Try values\n",
    "y(0)"
   ]
  },
  {
   "cell_type": "code",
   "execution_count": null,
   "metadata": {
    "collapsed": false
   },
   "outputs": [],
   "source": [
    "y(1), 2*exp(1)"
   ]
  },
  {
   "cell_type": "code",
   "execution_count": null,
   "metadata": {
    "collapsed": false
   },
   "outputs": [],
   "source": [
    "y(2), 2*exp(2)\n",
    "\n",
    "## Compilation"
   ]
  },
  {
   "cell_type": "markdown",
   "metadata": {},
   "source": [
    "\n",
    "\n",
    "This is how we run the notebook generator on files with\n",
    "extension `.aipynb`:\n",
    "\n",
    "## console cell, but typeset as pure code (-t extension)"
   ]
  },
  {
   "cell_type": "markdown",
   "metadata": {},
   "source": [
    "\n",
    "\n",
    "```Python\n",
    "\n",
    "Terminal> ipynb_generator.py myfile.aipynb MYVAR=4 GRADE='excellent'\n",
    "```\n"
   ]
  }
 ],
 "metadata": {
  "anaconda-cloud": {},
  "kernelspec": {
   "display_name": "Python [default]",
   "language": "python",
   "name": "python2"
  },
  "language_info": {
   "codemirror_mode": {
    "name": "ipython",
    "version": 2
   },
   "file_extension": ".py",
   "mimetype": "text/x-python",
   "name": "python",
   "nbconvert_exporter": "python",
   "pygments_lexer": "ipython2",
   "version": "2.7.10"
  }
 },
 "nbformat": 4,
 "nbformat_minor": 0
}
