{
 "cells": [
  {
   "cell_type": "markdown",
   "metadata": {
    "slideshow": {
     "slide_type": "slide"
    }
   },
   "source": [
    "![](https://dl.dropboxusercontent.com/u/393477/ImageBank/ForOGC/Re-UseUnderLicence.png)\n",
    "\n",
    "\n",
    "Go down for licence and other metadata about this presentation"
   ]
  },
  {
   "cell_type": "markdown",
   "metadata": {
    "slideshow": {
     "slide_type": "skip"
    }
   },
   "source": [
    "\\newpage"
   ]
  },
  {
   "cell_type": "markdown",
   "metadata": {
    "slideshow": {
     "slide_type": "subslide"
    }
   },
   "source": [
    "# Preamble\n",
    "\n",
    "## Licence\n",
    "\n",
    "Unless stated otherwise all content is released under a [CC0]+BY licence. I'd appreciate it if you reference this but it is not necessary.\n",
    "\n",
    "![](https://dl.dropboxusercontent.com/u/393477/SharedPresentations/Shared_HTML5/Images/CC_BY.png)"
   ]
  },
  {
   "cell_type": "markdown",
   "metadata": {
    "slideshow": {
     "slide_type": "skip"
    }
   },
   "source": [
    "\\newpage"
   ]
  },
  {
   "cell_type": "markdown",
   "metadata": {
    "slideshow": {
     "slide_type": "subslide"
    }
   },
   "source": [
    "## Using Ipython for presentations\n",
    "\n",
    "A short video showing how to use Ipython for presentations"
   ]
  },
  {
   "cell_type": "code",
   "execution_count": 1,
   "metadata": {
    "collapsed": false
   },
   "outputs": [
    {
     "data": {
      "text/html": [
       "\n",
       "        <iframe\n",
       "            width=\"400\"\n",
       "            height=\"300\"\n",
       "            src=\"https://www.youtube.com/embed/F4rFuIb1Ie4\"\n",
       "            frameborder=\"0\"\n",
       "            allowfullscreen\n",
       "        ></iframe>\n",
       "        "
      ],
      "text/plain": [
       "<IPython.lib.display.YouTubeVideo at 0x7f13c80794d0>"
      ]
     },
     "execution_count": 1,
     "metadata": {},
     "output_type": "execute_result"
    }
   ],
   "source": [
    "from IPython.display import YouTubeVideo\n",
    "YouTubeVideo('F4rFuIb1Ie4')"
   ]
  },
  {
   "cell_type": "code",
<<<<<<< HEAD
   "execution_count": 4,
=======
   "execution_count": 3,
>>>>>>> f92da02fff982bfeefc94c2b6670751dd1b22dbe
   "metadata": {
    "collapsed": false
   },
   "outputs": [
    {
     "name": "stdout",
     "output_type": "stream",
     "text": [
      "ipython nbconvert --to markdown 20150916_OGC_Reuse_under_licence.ipynb\n"
     ]
    },
    {
     "data": {
      "text/plain": [
       "0"
      ]
     },
<<<<<<< HEAD
     "execution_count": 4,
=======
     "execution_count": 3,
>>>>>>> f92da02fff982bfeefc94c2b6670751dd1b22dbe
     "metadata": {},
     "output_type": "execute_result"
    }
   ],
   "source": [
    "## PDF output using pandoc\n",
    "\n",
    "import os\n",
    "\n",
    "\n",
    "### Export this notebook as markdown\n",
    "commandLineSyntax = 'ipython nbconvert --to markdown 20150916_OGC_Reuse_under_licence.ipynb'\n",
    "print (commandLineSyntax)\n",
    "\n",
    "os.system(commandLineSyntax)\n",
    "\n",
    "### Export this notebook and the document header as PDF using Pandoc\n",
    "\n",
    "commandLineSyntax = 'pandoc  -f markdown -t latex -N -V geometry:margin=1in DocumentHeader.md 20150916_OGC_Reuse_under_licence.md --filter pandoc-citeproc  --latex-engine=xelatex --toc -o interim.pdf '\n",
    "\n",
    "os.system(commandLineSyntax)\n",
    "\n",
    "### Remove cruft from the pdf\n",
    "\n",
    "commandLineSyntax = 'pdftk interim.pdf cat 1-3 16-end output 20150916_OGC_Reuse_under_licence.pdf'\n",
    "\n",
    "os.system(commandLineSyntax)\n",
    "\n",
    "### Remove the interim pdf\n",
    "\n",
    "commandLineSyntax = 'rm interim.pdf'\n",
    "\n",
    "os.system(commandLineSyntax)\n"
   ]
  },
  {
   "cell_type": "markdown",
   "metadata": {
    "slideshow": {
     "slide_type": "subslide"
    }
   },
   "source": [
    "## The environment\n",
    "\n",
    "In order to replicate my environment you need to know what I have installed!"
   ]
  },
  {
   "cell_type": "markdown",
   "metadata": {
    "slideshow": {
     "slide_type": "skip"
    }
   },
   "source": [
    "### Set up watermark\n",
    "\n",
    "This describes the versions of software used during the creation. \n",
    "\n",
    "Please note that critical libraries can also be watermarked as follows:\n",
    "\n",
    "```python\n",
    "%watermark -v -m -p numpy,scipy\n",
    "```"
   ]
  },
  {
   "cell_type": "code",
   "execution_count": 2,
   "metadata": {
    "collapsed": false,
    "slideshow": {
     "slide_type": "skip"
    }
   },
   "outputs": [
    {
     "name": "stdout",
     "output_type": "stream",
     "text": [
      "Installed watermark.py. To use it, type:\n",
      "  %load_ext watermark\n"
     ]
    }
   ],
   "source": [
    "%install_ext https://raw.githubusercontent.com/rasbt/python_reference/master/ipython_magic/watermark.py\n",
    "%load_ext watermark\n"
   ]
  },
  {
   "cell_type": "code",
   "execution_count": 3,
   "metadata": {
    "collapsed": false
   },
   "outputs": [
    {
     "name": "stdout",
     "output_type": "stream",
     "text": [
      "Anthony Beck 29/06/2015 \n",
      "\n",
      "CPython 2.7.10\n",
      "IPython 3.2.0\n",
      "\n",
      "compiler   : GCC 4.4.7 20120313 (Red Hat 4.4.7-1)\n",
      "system     : Linux\n",
      "release    : 3.13.0-37-generic\n",
      "machine    : x86_64\n",
      "processor  : x86_64\n",
      "CPU cores  : 4\n",
      "interpreter: 64bit\n",
      "Git hash   : \n"
     ]
    }
   ],
   "source": [
    "%watermark -a \"Anthony Beck\"  -d -v -m -g"
   ]
  },
  {
   "cell_type": "code",
   "execution_count": 9,
   "metadata": {
    "collapsed": false
   },
   "outputs": [
    {
     "name": "stdout",
     "output_type": "stream",
     "text": [
      "# packages in environment at /home/arb/LocalPython/Anaconda27/anaconda:\n",
      "#\n",
      "_license                  1.1                      py27_0  \n",
      "abstract-rendering        0.5.1                np19py27_0  \n",
      "accelerate                1.11.0              np19py27_p0  \n",
      "affine                    1.1.0                    py27_0  \n",
      "alabaster                 0.7.3                    py27_0  \n",
      "anaconda                  2.2.0                np19py27_0  \n",
      "argcomplete               0.8.4                    py27_0  \n",
      "arrow                     0.5.4                     <pip>\n",
      "astroid                   1.3.6                     <pip>\n",
      "astropy                   1.0.2                np19py27_0  \n",
      "babel                     1.3                      py27_0  \n",
      "backports.ssl-match-hostname 3.4.0.2                   <pip>\n",
      "basemap                   1.0.7                np19py27_0  \n",
      "bcolz                     0.8.1                np19py27_0  \n",
      "beautiful-soup            4.3.2                    py27_0  \n",
      "beautifulsoup4            4.3.2                     <pip>\n",
      "binstar                   0.10.3                   py27_0  \n",
      "bitarray                  0.8.1                    py27_0  \n",
      "blaze                     0.8.0                     <pip>\n",
      "blaze-core                0.8.0                np19py27_0  \n",
      "blz                       0.6.2                np19py27_0  \n",
      "bokeh                     0.8.2                np19py27_0  \n",
      "boto                      2.38.0                   py27_0  \n",
      "bottle                    0.12.7                   py27_0  \n",
      "brewer2mpl                1.4                      py27_0  \n",
      "cairo                     1.12.18                       4  \n",
      "cartopy                   0.10.0               np18py27_0  \n",
      "cdecimal                  2.3                      py27_0  \n",
      "certifi                   14.05.14                 py27_0  \n",
      "cffi                      0.9.2                    py27_0  \n",
      "click                     4.0                      py27_0  \n",
      "cligj                     0.1.0                    py27_0  \n",
      "cloog                     0.18.0                        0  \n",
      "clyent                    0.3.4                    py27_0  \n",
      "colorama                  0.3.3                    py27_0  \n",
      "conda                     3.14.0                   py27_0  \n",
      "conda-build               1.12.1                   py27_0  \n",
      "conda-env                 2.2.3                    py27_0  \n",
      "configobj                 5.0.6                    py27_0  \n",
      "cryptography              0.8.2                    py27_0  \n",
      "cudatoolkit               6.0                          p0  \n",
      "curl                      7.38.0                        0  \n",
      "cython                    0.22                     py27_0  \n",
      "cytoolz                   0.7.2                    py27_0  \n",
      "datashape                 0.4.5                np19py27_0  \n",
      "dateutil                  2.4.1                    py27_0  \n",
      "decorator                 3.4.0                    py27_0  \n",
      "descartes                 1.0.1                    py27_0  \n",
      "docutils                  0.12                     py27_0  \n",
      "dynd-python               0.6.5                np19py27_0  \n",
      "enum                      0.4.4                     <pip>\n",
      "enum34                    1.0.4                    py27_0  \n",
      "fastcache                 1.0.2                    py27_0  \n",
      "fiona                     1.5.1                np19py27_0  \n",
      "flask                     0.10.1                   py27_1  \n",
      "fontconfig                2.11.1                        4  \n",
      "freetype                  2.5.2                         2  \n",
      "funcsigs                  0.4                      py27_0  \n",
      "futures                   2.2.0                    py27_0  \n",
      "gdal                      1.11.2               np19py27_2  \n",
      "geopandas                 0.1.1                    py27_0  \n",
      "geopy                     1.10.0                    <pip>\n",
      "geos                      3.3.3                         0  \n",
      "gevent                    1.0.1                    py27_0  \n",
      "gevent-websocket          0.9.3                    py27_0  \n",
      "glib                      2.43.0                        2  \n",
      "gmp                       5.1.2                         2  \n",
      "greenlet                  0.4.6                    py27_0  \n",
      "grin                      1.2.1                    py27_1  \n",
      "h5py                      2.5.0                np19py27_0  \n",
      "harfbuzz                  0.9.35                        6  \n",
      "hdf5                      1.8.14                        0  \n",
      "html5lib                  0.99999                   <pip>\n",
      "ipython                   3.2.0                    py27_0  \n",
      "ipython-notebook          3.2.0                    py27_0  \n",
      "ipython-qtconsole         3.1.0                    py27_0  \n",
      "isl                       0.12.2                        0  \n",
      "itsdangerous              0.24                     py27_0  \n",
      "jdcal                     1.0                      py27_0  \n",
      "jedi                      0.8.1                    py27_0  \n",
      "jinja2                    2.7.3                    py27_1  \n",
      "jpeg                      8d                            0  \n",
      "jsonschema                2.4.0                    py27_0  \n",
      "libdynd                   0.6.5                         0  \n",
      "libffi                    3.0.13                        0  \n",
      "libgcc                    4.8.4                         1  \n",
      "libgdal                   1.11.2                        0  \n",
      "libnetcdf                 4.3.2                         1  \n",
      "libpng                    1.6.17                        0  \n",
      "libsodium                 0.4.5                         0  \n",
      "libtiff                   4.0.2                         1  \n",
      "libxml2                   2.9.0                         0  \n",
      "libxslt                   1.1.28                        0  \n",
      "llvmlite                  0.4.0                    py27_0  \n",
      "logilab-common            0.63.2                    <pip>\n",
      "lxml                      3.4.4                    py27_0  \n",
      "mapnik                    0.1                       <pip>\n",
      "markupsafe                0.23                     py27_0  \n",
      "matplotlib                1.4.3                np19py27_2  \n",
      "mistune                   0.6                      py27_0  \n",
      "mkl                       11.1                np19py27_p3  \n",
      "mkl-rt                    11.1                         p0  \n",
      "mkl-service               1.0.0                   py27_p1  \n",
      "mklfft                    2.0                 np19py27_p0  \n",
      "mock                      1.0.1                    py27_0  \n",
      "mpc                       1.0.1                         0  \n",
      "mpfr                      3.1.2                         0  \n",
      "multipledispatch          0.4.7                    py27_0  \n",
      "ncurses                   5.9                           4  \n",
      "networkx                  1.9.1                    py27_0  \n",
      "nltk                      3.0.2                np19py27_0  \n",
      "nose                      1.3.6                    py27_0  \n",
      "notedown                  1.4.4                     <pip>\n",
      "numba                     0.18.2               np19py27_1  \n",
      "numbapro                  0.18.0              np19py27_p2  \n",
      "numbapro_cudalib          0.2                           0  \n",
      "numexpr                   2.3.1               np19py27_p0  [mkl]\n",
      "numpy                     1.9.2                   py27_p0  [mkl]\n",
      "odo                       0.3.2                np19py27_0  \n",
      "openpyxl                  2.0.2                    py27_0  \n",
      "openssl                   1.0.1k                        1  \n",
      "pandana                   0.1.2                    py27_0  \n",
      "pandas                    0.16.2               np19py27_0  \n",
      "pandasql                  0.6.2                np19py27_0  \n",
      "pandoc-attributes         0.1.7                     <pip>\n",
      "pandocfilters             1.2.4                     <pip>\n",
      "pango                     1.36.8                        3  \n",
      "patchelf                  0.6                           0  \n",
      "patsy                     0.3.0                np19py27_0  \n",
      "pcre                      8.31                          0  \n",
      "pep8                      1.6.2                    py27_0  \n",
      "pillow                    2.7.0                    py27_1  \n",
      "pip                       7.0.3                    py27_0  \n",
      "pixman                    0.26.2                        0  \n",
      "plotly                    1.6.17                    <pip>\n",
      "ply                       3.6                      py27_0  \n",
      "prettyplotlib             0.1.7                     <pip>\n",
      "prettytable               0.7.2                    py27_0  \n",
      "proj4                     4.8.0                         0  \n",
      "psutil                    2.2.1                    py27_0  \n",
      "ptyprocess                0.4                      py27_0  \n",
      "py                        1.4.26                   py27_0  \n",
      "py2cairo                  1.10.0                   py27_2  \n",
      "pyasn1                    0.1.7                    py27_0  \n",
      "pycosat                   0.6.1                    py27_0  \n",
      "pycparser                 2.12                     py27_0  \n",
      "pycrypto                  2.6.1                    py27_0  \n",
      "pycurl                    7.19.5.1                 py27_0  \n",
      "pyflakes                  0.8.1                    py27_0  \n",
      "pygments                  2.0.2                    py27_0  \n",
      "pylint                    1.4.3                     <pip>\n",
      "pymc                      2.3.4               np19py27_p0  [mkl]\n",
      "pyopenssl                 0.15.1                   py27_0  \n",
      "pyparsing                 2.0.3                    py27_0  \n",
      "pyproj                    1.9.3                    py27_0  \n",
      "pyqt                      4.11.3                   py27_1  \n",
      "pysal                     1.6.0                np19py27_1  \n",
      "pyshp                     1.2.1                     <pip>\n",
      "pytables                  3.1.1                np19py27_2  \n",
      "pytest                    2.7.0                    py27_0  \n",
      "python                    2.7.10                        0  \n",
      "python-dateutil           2.4.2                    py27_0  \n",
      "pytz                      2015.4                   py27_0  \n",
      "pyyaml                    3.11                     py27_1  \n",
      "pyzmq                     14.7.0                   py27_0  \n",
      "qt                        4.8.6                         3  \n",
      "r                         3.1.3                         0  \n",
      "r-base                    3.1.3                         2  \n",
      "r-boot                    1.3_16                 r3.1.3_0  \n",
      "r-class                   7.3_12                 r3.1.3_0  \n",
      "r-cluster                 1.15.3                        0  \n",
      "r-codetools               0.2_11                 r3.1.3_0  \n",
      "r-foreign                 0.8_63                 r3.1.3_0  \n",
      "r-kernsmooth              2.23_14                r3.1.3_0  \n",
      "r-lattice                 0.20_31                r3.1.3_0  \n",
      "r-mass                    7.3.37                        0  \n",
      "r-matrix                  1.2_1                  r3.1.3_0  \n",
      "r-mgcv                    1.8_6                  r3.1.3_0  \n",
      "r-nlme                    3.1.118                       0  \n",
      "r-nlme                    3.1_120                r3.1.3_0  \n",
      "r-nnet                    7.3_9                  r3.1.3_0  \n",
      "r-recommended             3.1.3                         0  \n",
      "r-rpart                   4.1_9                  r3.1.3_0  \n",
      "r-spatial                 7.3_9                  r3.1.3_0  \n",
      "r-survival                2.38_2                 r3.1.3_0  \n",
      "rasterio                  0.15.1                   py27_0  \n",
      "readline                  6.2                           2  \n",
      "redis                     2.6.9                         0  \n",
      "redis-py                  2.10.3                   py27_0  \n",
      "requests                  2.7.0                    py27_0  \n",
      "rope                      0.9.4                    py27_1  \n",
      "rpy2                      2.5.6                    py27_0  \n",
      "runipy                    0.1.3                    py27_0  \n",
      "scikit-image              0.11.3               np19py27_0  \n",
      "scikit-learn              0.16.1              np19py27_p0  [mkl]\n",
      "scipy                     0.15.1              np19py27_p0  [mkl]\n",
      "seaborn                   0.5.1                     <pip>\n",
      "setuptools                17.1.1                   py27_0  \n",
      "shapely                   1.5.9                     <pip>\n",
      "simplejson                3.6.3                    py27_0  \n",
      "singledispatch            3.4.0.3                  py27_1  \n",
      "sip                       4.16.5                   py27_0  \n",
      "six                       1.9.0                    py27_0  \n",
      "snowballstemmer           1.2.0                    py27_0  \n",
      "snuggs                    1.3.1                     <pip>\n",
      "sockjs-tornado            1.0.1                    py27_0  \n",
      "sphinx                    1.3.1                    py27_0  \n",
      "sphinx-rtd-theme          0.1.7                     <pip>\n",
      "sphinx_rtd_theme          0.1.7                    py27_0  \n",
      "spyder                    2.3.4                    py27_1  \n",
      "spyder-app                2.3.4                    py27_0  \n",
      "sqlalchemy                1.0.3                    py27_0  \n",
      "sqlite                    3.8.4.1                       1  \n",
      "sqlparse                  0.1.14                   py27_0  \n",
      "ssl_match_hostname        3.4.0.2                  py27_0  \n",
      "statsmodels               0.6.1                np19py27_0  \n",
      "sympy                     0.7.6                    py27_0  \n",
      "system                    5.8                           2  \n",
      "tables                    3.1.1                     <pip>\n",
      "terminado                 0.5                      py27_0  \n",
      "theano                    0.7.0                np19py27_0  \n",
      "tk                        8.5.18                        0  \n",
      "toolz                     0.7.2                    py27_0  \n",
      "tornado                   4.2                      py27_0  \n",
      "tweepy                    2.3                      py27_0  \n",
      "twitter                   1.17.0                    <pip>\n",
      "ujson                     1.33                     py27_0  \n",
      "unicodecsv                0.9.4                    py27_0  \n",
      "urbansim                  2.0.1                     <pip>\n",
      "util-linux                2.21                          0  \n",
      "werkzeug                  0.10.4                   py27_0  \n",
      "xlrd                      0.9.3                    py27_0  \n",
      "xlsxwriter                0.7.2                    py27_0  \n",
      "xlwt                      1.0.0                    py27_0  \n",
      "yaml                      0.1.6                         0  \n",
      "zeromq                    4.0.5                         0  \n",
      "zlib                      1.2.8                         0  \n"
     ]
    }
   ],
   "source": [
    "#List of installed conda packages\n",
    "!conda list"
   ]
  },
  {
   "cell_type": "code",
   "execution_count": 10,
   "metadata": {
    "collapsed": false
   },
   "outputs": [
    {
     "name": "stdout",
     "output_type": "stream",
     "text": [
      "abstract-rendering (0.5.1)\n",
      "affine (1.1.0)\n",
      "alabaster (0.7.3)\n",
      "argcomplete (0.8.4)\n",
      "arrow (0.5.4)\n",
      "astroid (1.3.6)\n",
      "astropy (1.0.2)\n",
      "Babel (1.3)\n",
      "backports.ssl-match-hostname (3.4.0.2)\n",
      "basemap (1.0.7)\n",
      "bcolz (0.8.1)\n",
      "beautifulsoup4 (4.3.2)\n",
      "binstar (0.10.3)\n",
      "bitarray (0.8.1)\n",
      "blaze (0.8.0)\n",
      "blz (0.6.2)\n",
      "bokeh (0.8.2)\n",
      "boto (2.38.0)\n",
      "bottle (0.12.7)\n",
      "brewer2mpl (1.4.1)\n",
      "Cartopy (0.10.0)\n",
      "cdecimal (2.3)\n",
      "certifi (14.5.14)\n",
      "cffi (0.9.2)\n",
      "click (4.0)\n",
      "cligj (0.1.0)\n",
      "clyent (0.3.4)\n",
      "colorama (0.3.3)\n",
      "conda (3.14.0)\n",
      "conda-build (1.12.1)\n",
      "conda-env (2.2.3)\n",
      "configobj (5.0.6)\n",
      "cryptography (0.8.2)\n",
      "Cython (0.22)\n",
      "cytoolz (0.7.2)\n",
      "datashape (0.4.5)\n",
      "decorator (3.4.0)\n",
      "descartes (1.0.1)\n",
      "docutils (0.12)\n",
      "enum (0.4.4)\n",
      "enum34 (1.0.4)\n",
      "fastcache (1.0.2)\n",
      "Fiona (1.5.1)\n",
      "Flask (0.10.1)\n",
      "funcsigs (0.4)\n",
      "futures (2.2.0)\n",
      "GDAL (1.11.2)\n",
      "geopandas (0.1.1)\n",
      "geopy (1.10.0)\n",
      "gevent (1.0.1)\n",
      "gevent-websocket (0.9.3)\n",
      "greenlet (0.4.6)\n",
      "grin (1.2.1)\n",
      "h5py (2.5.0)\n",
      "html5lib (0.99999)\n",
      "ipython (3.2.0)\n",
      "itsdangerous (0.24)\n",
      "jdcal (1.0)\n",
      "jedi (0.8.1)\n",
      "Jinja2 (2.7.3)\n",
      "jsonschema (2.4.0)\n",
      "llvmlite (0.4.0)\n",
      "logilab-common (0.63.2)\n",
      "lxml (3.4.4)\n",
      "mapnik (0.1)\n",
      "MarkupSafe (0.23)\n",
      "matplotlib (1.4.3)\n",
      "mistune (0.6)\n",
      "mklfft (0.0.0)\n",
      "mock (1.0.1)\n",
      "multipledispatch (0.4.7)\n",
      "networkx (1.9.1)\n",
      "nltk (3.0.2)\n",
      "nose (1.3.6)\n",
      "notedown (1.4.4)\n",
      "numba (0.18.2)\n",
      "numbapro (0.18.0)\n",
      "numexpr (2.3.1)\n",
      "numpy (1.9.2)\n",
      "odo (0.3.2)\n",
      "openpyxl (2.0.2)\n",
      "pandana (0.1.2)\n",
      "pandas (0.16.2)\n",
      "pandasql (0.6.2)\n",
      "pandoc-attributes (0.1.7)\n",
      "pandocfilters (1.2.4)\n",
      "patsy (0.3.0)\n",
      "pep8 (1.6.2)\n",
      "Pillow (2.7.0)\n",
      "pip (7.0.3)\n",
      "plotly (1.6.17)\n",
      "ply (3.6)\n",
      "prettyplotlib (0.1.7)\n",
      "prettytable (0.7.2)\n",
      "psutil (2.2.1)\n",
      "ptyprocess (0.4)\n",
      "py (1.4.26)\n",
      "pyasn1 (0.1.7)\n",
      "pycosat (0.6.1)\n",
      "pycparser (2.12)\n",
      "pycrypto (2.6.1)\n",
      "pycurl (7.19.5.1)\n",
      "pyflakes (0.8.1)\n",
      "Pygments (2.0.2)\n",
      "pylint (1.4.3)\n",
      "pymc (2.3.4)\n",
      "pyOpenSSL (0.15.1)\n",
      "pyparsing (2.0.3)\n",
      "pyproj (1.9.4)\n",
      "PySAL (1.6.0)\n",
      "pyshp (1.2.1)\n",
      "pytest (2.7.0)\n",
      "python-dateutil (2.4.2)\n",
      "pytz (2015.4)\n",
      "PyYAML (3.11)\n",
      "pyzmq (14.7.0)\n",
      "rasterio (0.23.0)\n",
      "redis (2.10.3)\n",
      "requests (2.7.0)\n",
      "rope (0.9.4)\n",
      "rpy2 (2.5.6)\n",
      "runipy (0.1.3)\n",
      "scikit-image (0.11.3)\n",
      "scikit-learn (0.16.1)\n",
      "scipy (0.15.1)\n",
      "seaborn (0.5.1)\n",
      "setuptools (17.1.1)\n",
      "Shapely (1.5.9)\n",
      "simplejson (3.6.3)\n",
      "singledispatch (3.4.0.3)\n",
      "six (1.9.0)\n",
      "snowballstemmer (1.2.0)\n",
      "snuggs (1.3.1)\n",
      "sockjs-tornado (1.0.1)\n",
      "Sphinx (1.2.3)\n",
      "sphinx-rtd-theme (0.1.7)\n",
      "spyder (2.3.4)\n",
      "SQLAlchemy (1.0.3)\n",
      "sqlparse (0.1.14)\n",
      "statsmodels (0.6.1)\n",
      "sympy (0.7.6)\n",
      "tables (3.1.1)\n",
      "terminado (0.5)\n",
      "Theano (0.7.0)\n",
      "toolz (0.7.2)\n",
      "tornado (4.2)\n",
      "tweepy (2.3.0)\n",
      "twitter (1.17.0)\n",
      "ujson (1.33)\n",
      "unicodecsv (0.9.4)\n",
      "urbansim (2.0.1)\n",
      "Werkzeug (0.10.4)\n",
      "xlrd (0.9.3)\n",
      "XlsxWriter (0.7.2)\n",
      "xlwt (1.0.0)\n"
     ]
    }
   ],
   "source": [
    "#List of installed pip packages\n",
    "!pip list"
   ]
  },
  {
   "cell_type": "markdown",
   "metadata": {
    "slideshow": {
     "slide_type": "subslide"
    }
   },
   "source": [
    "## Running dynamic presentations\n",
    "\n",
    "You need to install the [RISE Ipython Library](https://github.com/damianavila/RISE) from [Damián Avila](https://github.com/damianavila) for dynamic presentations"
   ]
  },
  {
   "cell_type": "markdown",
   "metadata": {
    "slideshow": {
     "slide_type": "slide"
    }
   },
   "source": [
    "To convert and run this as a static presentation run the following command:"
   ]
  },
  {
   "cell_type": "code",
   "execution_count": null,
   "metadata": {
    "collapsed": false
   },
   "outputs": [
    {
     "name": "stdout",
     "output_type": "stream",
     "text": [
      "/home/arb/LocalPython/Anaconda27/anaconda/lib/python2.7/site-packages/IPython/nbconvert.py:13: ShimWarning: The `IPython.nbconvert` package has been deprecated. You should import from ipython_nbconvert instead.\n",
      "  \"You should import from ipython_nbconvert instead.\", ShimWarning)\n",
      "[NbConvertApp] Converting notebook 20150916_OGC_Reuse_under_licence.ipynb to slides\n",
      "[NbConvertApp] Writing 257789 bytes to 20150916_OGC_Reuse_under_licence.slides.html\n",
      "[NbConvertApp] Redirecting reveal.js requests to https://cdn.jsdelivr.net/reveal.js/2.6.2\n",
      "Serving your slides at http://127.0.0.1:8000/20150916_OGC_Reuse_under_licence.slides.html\n",
      "Use Control-C to stop this server\n",
      "Created new window in existing browser session.\n",
      "WARNING:tornado.access:404 GET /custom.css (127.0.0.1) 2.09ms\n",
      "WARNING:tornado.access:404 GET /favicon.ico (127.0.0.1) 0.97ms\n",
      "WARNING:tornado.access:404 GET /favicon.ico (127.0.0.1) 0.95ms\n",
      "WARNING:tornado.access:404 GET /favicon.ico (127.0.0.1) 0.91ms\n"
     ]
    }
   ],
   "source": [
    "!ipython nbconvert 20150916_OGC_Reuse_under_licence.ipynb --to slides --post serve"
   ]
  },
  {
   "cell_type": "markdown",
   "metadata": {},
   "source": [
    "To close this instances press *control 'c'* in the *ipython notebook* terminal console\n",
    "\n",
    "Static presentations allow the presenter to see *speakers notes* (use the 's' key)\n",
    "\n",
    "If running dynamically run the scripts below"
   ]
  },
  {
   "cell_type": "markdown",
   "metadata": {
    "slideshow": {
     "slide_type": "subslide"
    }
   },
   "source": [
    "## Pre load some useful libraries"
   ]
  },
  {
   "cell_type": "code",
   "execution_count": 13,
   "metadata": {
    "collapsed": false,
    "slideshow": {
     "slide_type": "-"
    }
   },
   "outputs": [
    {
     "name": "stdout",
     "output_type": "stream",
     "text": [
      "Populating the interactive namespace from numpy and matplotlib\n"
     ]
    }
   ],
   "source": [
    "#Future proof python 2\n",
    "from __future__ import print_function #For python3 print syntax\n",
    "from __future__ import division\n",
    "\n",
    "# def\n",
    "import IPython.core.display\n",
    "\n",
    "# A function to collect user input - ipynb_input(varname='username', prompt='What is your username')\n",
    "\n",
    "def ipynb_input(varname, prompt=''):\n",
    "        \"\"\"Prompt user for input and assign string val to given variable name.\"\"\"\n",
    "        js_code = (\"\"\"\n",
    "            var value = prompt(\"{prompt}\",\"\");\n",
    "            var py_code = \"{varname} = '\" + value + \"'\";\n",
    "            IPython.notebook.kernel.execute(py_code);\n",
    "        \"\"\").format(prompt=prompt, varname=varname)\n",
    "        return IPython.core.display.Javascript(js_code)\n",
    "    \n",
    "# inline\n",
    "\n",
    "%pylab inline"
   ]
  },
  {
   "cell_type": "markdown",
   "metadata": {
    "slideshow": {
     "slide_type": "skip"
    }
   },
   "source": [
    "\\newpage"
   ]
  },
  {
   "cell_type": "markdown",
   "metadata": {
    "slideshow": {
     "slide_type": "slide"
    }
   },
   "source": [
    "## About me\n",
    "\n",
    " \n",
    "\n",
    "![It's all about me - details about Anthony Beck](https://dl.dropboxusercontent.com/u/393477/ImageBank/Geolytics_ARB_Banner.png)\n",
    "\n",
    "* Research Fellow, University of Nottingham: [orcid](http://orcid.org/0000-0002-2991-811X)\n",
    "* Director, Geolytics Limited - A spatial data analytics consultancy\n",
    "\n",
    "## About this presentation\n",
    "\n",
    "* [Available on GitHub](https://github.com/AntArch/Presentations_Github/tree/master/20150916_OGC_Reuse_under_licence) - https://github.com/AntArch/Presentations_Github/\n",
    "* [Fully referenced PDF](https://github.com/AntArch/Presentations_Github/blob/master/20150916_OGC_Reuse_under_licence/20150916_OGC_Reuse_under_licence.pdf)\n"
   ]
  },
  {
   "cell_type": "markdown",
   "metadata": {
    "slideshow": {
     "slide_type": "skip"
    }
   },
   "source": [
    "\\newpage"
   ]
  },
  {
   "cell_type": "markdown",
   "metadata": {
    "slideshow": {
     "slide_type": "slide"
    }
   },
   "source": [
    "# A potted history of mapping"
   ]
  },
  {
   "cell_type": "markdown",
   "metadata": {
    "collapsed": true,
    "slideshow": {
     "slide_type": "fragment"
    }
   },
   "source": [
    "## In the beginning was the geoword"
   ]
  },
  {
   "cell_type": "markdown",
   "metadata": {
    "slideshow": {
     "slide_type": "fragment"
    }
   },
   "source": [
    "and the word was ***cartography***"
   ]
  },
  {
   "cell_type": "markdown",
   "metadata": {
    "slideshow": {
     "slide_type": "subslide"
    }
   },
   "source": [
    "![The lens of cartography @TheLensOfCartography_beck_2015](https://upload.wikimedia.org/wikipedia/commons/thumb/8/85/TheLensOfCartography.svg/1024px-TheLensOfCartography.svg.png)\n"
   ]
  },
  {
   "cell_type": "markdown",
   "metadata": {
    "slideshow": {
     "slide_type": "skip"
    }
   },
   "source": [
    "\\newpage"
   ]
  },
  {
   "cell_type": "markdown",
   "metadata": {
    "collapsed": true,
    "slideshow": {
     "slide_type": "subslide"
    }
   },
   "source": [
    "![A static map (public domain)](https://upload.wikimedia.org/wikipedia/commons/thumb/f/f0/Claudius_Ptolemy-_The_World.jpg/1024px-Claudius_Ptolemy-_The_World.jpg)"
   ]
  },
  {
   "cell_type": "markdown",
   "metadata": {
    "slideshow": {
     "slide_type": "notes"
    }
   },
   "source": [
    "Cartography was king. Static representations of spatial knowledge with the cartographer deciding what to represent."
   ]
  },
  {
   "cell_type": "markdown",
   "metadata": {
    "slideshow": {
     "slide_type": "skip"
    }
   },
   "source": [
    "\\newpage"
   ]
  },
  {
   "cell_type": "markdown",
   "metadata": {
    "collapsed": true,
    "slideshow": {
     "slide_type": "slide"
    }
   },
   "source": [
    "# And then there was data .........\n",
    "\n",
    "\n"
   ]
  },
  {
   "cell_type": "markdown",
   "metadata": {
    "slideshow": {
     "slide_type": "fragment"
    }
   },
   "source": [
    "![Data @Data_types_en_beck_2015](https://upload.wikimedia.org/wikipedia/commons/thumb/6/6d/Data_types_-_en.svg/738px-Data_types_-_en.svg.png)"
   ]
  },
  {
   "cell_type": "markdown",
   "metadata": {
    "slideshow": {
     "slide_type": "skip"
    }
   },
   "source": [
    "\\newpage"
   ]
  },
  {
   "cell_type": "markdown",
   "metadata": {
    "collapsed": true,
    "slideshow": {
     "slide_type": "subslide"
    }
   },
   "source": [
    "![But the data was siloed (restricted use)](https://dl.dropboxusercontent.com/u/393477/ImageBank/ForOGC/TheEndOfThe20thCentury.png)"
   ]
  },
  {
   "cell_type": "markdown",
   "metadata": {
    "collapsed": false,
    "slideshow": {
     "slide_type": "notes"
    }
   },
   "source": [
    "Restrictive data"
   ]
  },
  {
   "cell_type": "markdown",
   "metadata": {
    "slideshow": {
     "slide_type": "skip"
    }
   },
   "source": [
    "\\newpage"
   ]
  },
  {
   "cell_type": "markdown",
   "metadata": {
    "slideshow": {
     "slide_type": "subslide"
    }
   },
   "source": [
    "![Concerted efforts to de-silo data and make data interoperable (restricted use)](https://dl.dropboxusercontent.com/u/393477/ImageBank/ForOGC/TheCatalyst.png)"
   ]
  },
  {
   "cell_type": "markdown",
   "metadata": {
    "slideshow": {
     "slide_type": "notes"
    }
   },
   "source": [
    "Making data interoperable and open"
   ]
  },
  {
   "cell_type": "markdown",
   "metadata": {
    "slideshow": {
     "slide_type": "skip"
    }
   },
   "source": [
    "\\newpage"
   ]
  },
  {
   "cell_type": "markdown",
   "metadata": {
    "slideshow": {
     "slide_type": "subslide"
    }
   },
   "source": [
    "# Technical interoperability - levelling the field\n",
    "\n",
    "![Interoperable integration of spatial data - the technological issues @TechnicalInteroperableIntegrationOfSpatialData_beck_2015](https://upload.wikimedia.org/wikipedia/commons/thumb/5/53/TechnicalInteroperableIntegrationOfSpatialData.svg/1024px-TechnicalInteroperableIntegrationOfSpatialData.svg.png)"
   ]
  },
  {
   "cell_type": "markdown",
   "metadata": {
    "slideshow": {
     "slide_type": "skip"
    }
   },
   "source": [
    "\\newpage"
   ]
  },
  {
   "cell_type": "markdown",
   "metadata": {
    "slideshow": {
     "slide_type": "subslide"
    }
   },
   "source": [
    "## Facilitating data driven visualization\n",
    "\n",
    "![From Map to Model The changing paradigm of map creation from cartography to data driven visualization @FromMapToModel_beck_2015](https://upload.wikimedia.org/wikipedia/commons/thumb/a/a0/FromMapToModel.svg/1024px-FromMapToModel.svg.png)"
   ]
  },
  {
   "cell_type": "markdown",
   "metadata": {
    "slideshow": {
     "slide_type": "notes"
    }
   },
   "source": [
    "From Map to Model The changing paradigm of map creation from cartography to data driven visualization"
   ]
  },
  {
   "cell_type": "markdown",
   "metadata": {
    "slideshow": {
     "slide_type": "skip"
    }
   },
   "source": [
    "\\newpage"
   ]
  },
  {
   "cell_type": "markdown",
   "metadata": {
    "slideshow": {
     "slide_type": "subslide"
    }
   },
   "source": [
    "![Local To Global integration of data to create multiple generic products @Local_To_Global_integration_of_data_to_create_multiple_generic_products_beck_2015](https://upload.wikimedia.org/wikipedia/commons/thumb/1/19/Local_To_Global_integration_of_data_to_create_multiple_generic_products.svg/1024px-Local_To_Global_integration_of_data_to_create_multiple_generic_products.svg.png)"
   ]
  },
  {
   "cell_type": "markdown",
   "metadata": {
    "slideshow": {
     "slide_type": "skip"
    }
   },
   "source": [
    "\\newpage"
   ]
  },
  {
   "cell_type": "markdown",
   "metadata": {
    "slideshow": {
     "slide_type": "subslide"
    }
   },
   "source": [
    "![A new working paradigm (public domain)](https://dl.dropboxusercontent.com/u/393477/ImageBank/ForOGC/ANewWorkingParadigm.png)"
   ]
  },
  {
   "cell_type": "markdown",
   "metadata": {
    "slideshow": {
     "slide_type": "skip"
    }
   },
   "source": [
    "\\newpage"
   ]
  },
  {
   "cell_type": "markdown",
   "metadata": {
    "collapsed": true,
    "slideshow": {
     "slide_type": "subslide"
    }
   },
   "source": [
    "![Cartography is no longer key. Spatial mapping is now about the the formal and informal data stack. Elements such as provenance, credibility are much more important for use and re-use of this data. @CartographyNoLongerKing_beck_2015](https://upload.wikimedia.org/wikipedia/commons/thumb/1/1c/CartographyNoLongerKing.svg/1024px-CartographyNoLongerKing.svg.png)"
   ]
  },
  {
   "cell_type": "markdown",
   "metadata": {
    "slideshow": {
     "slide_type": "skip"
    }
   },
   "source": [
    "\\newpage"
   ]
  },
  {
   "cell_type": "markdown",
   "metadata": {
    "slideshow": {
     "slide_type": "slide"
    }
   },
   "source": [
    "# What about non-technical interoperability issues?\n"
   ]
  },
  {
   "cell_type": "markdown",
   "metadata": {
    "slideshow": {
     "slide_type": "subslide"
    }
   },
   "source": [
    "![The full stack that enables interoperable integration of spatial data @InteroperableIntegrationOfSpatialData_beck_2015](https://upload.wikimedia.org/wikipedia/commons/thumb/5/5d/InteroperableIntegrationOfSpatialData.svg/500px-InteroperableIntegrationOfSpatialData.svg.png)"
   ]
  },
  {
   "cell_type": "markdown",
   "metadata": {
    "slideshow": {
     "slide_type": "notes"
    }
   },
   "source": [
    "Issues surrounding non-technical interoperability include:\n",
    "    \n",
    "* Policy interoperabilty\n",
    "* Licence interoperability\n",
    "* Legal interoperability\n",
    "* Social interoperability\n",
    "\n",
    "We will focus on licence interoperability\n",
    "    "
   ]
  },
  {
   "cell_type": "markdown",
   "metadata": {
    "slideshow": {
     "slide_type": "skip"
    }
   },
   "source": [
    "\\newpage"
   ]
  },
  {
   "cell_type": "markdown",
   "metadata": {
    "slideshow": {
     "slide_type": "subslide"
    }
   },
   "source": [
    "![The modern data landscape (restricted)](https://dl.dropboxusercontent.com/u/393477/ImageBank/ForOGC/Re-UseUnderLicence.png)"
   ]
  },
  {
   "cell_type": "markdown",
   "metadata": {
    "collapsed": true,
    "slideshow": {
     "slide_type": "notes"
    }
   },
   "source": [
    "There is a multitude of formal and informal data. "
   ]
  },
  {
   "cell_type": "markdown",
   "metadata": {
    "slideshow": {
     "slide_type": "skip"
    }
   },
   "source": [
    "\\newpage"
   ]
  },
  {
   "cell_type": "markdown",
   "metadata": {
    "slideshow": {
     "slide_type": "subslide"
    }
   },
   "source": [
    "![Some licences @rdflicense_2015](https://dl.dropboxusercontent.com/u/393477/ImageBank/ForOGC/SomeLicences_FromRDFLicences.png)"
   ]
  },
  {
   "cell_type": "markdown",
   "metadata": {
    "slideshow": {
     "slide_type": "notes"
    }
   },
   "source": [
    "Each of these data objects can be licenced in a different way. This shows some of the licences described by the RDFLicence ontology"
   ]
  },
  {
   "cell_type": "markdown",
   "metadata": {
    "slideshow": {
     "slide_type": "skip"
    }
   },
   "source": [
    "\\newpage"
   ]
  },
  {
   "cell_type": "markdown",
   "metadata": {
    "slideshow": {
     "slide_type": "subslide"
    }
   },
   "source": [
    "## What is a licence?\n",
    "\n",
    "[Wikipedia state:](https://en.wikipedia.org/wiki/License)\n",
    "\n",
    "> A license may be granted by a party (\"licensor\") to another party (\"licensee\") as an element of an agreement between those parties. \n",
    "\n",
    "> A shorthand definition of a license is \"an authorization (by the licensor) to use the licensed material (by the licensee).\"\n",
    "\n"
   ]
  },
  {
   "cell_type": "markdown",
   "metadata": {
    "slideshow": {
     "slide_type": "subslide"
    }
   },
   "source": [
    "![A licence describes what you can and cannot do to a data object @licence_classification_2015](https://dl.dropboxusercontent.com/u/393477/ImageBank/ForOGC/Licence_Constraints.png)"
   ]
  },
  {
   "cell_type": "markdown",
   "metadata": {
    "slideshow": {
     "slide_type": "notes"
    }
   },
   "source": [
    "Concepts (derived from Formal Concept Analysis) surrounding licences"
   ]
  },
  {
   "cell_type": "markdown",
   "metadata": {
    "slideshow": {
     "slide_type": "skip"
    }
   },
   "source": [
    "\\newpage"
   ]
  },
  {
   "cell_type": "markdown",
   "metadata": {
    "slideshow": {
     "slide_type": "subslide"
    }
   },
   "source": [
    "Two lead organisations have developed legal frameworks for content licensing:\n",
    "\n",
    "* [Creative Commons (CC)](https://creativecommons.org/) and \n",
    "* [Open Data Commons (ODC)](http://opendatacommons.org/). \n",
    "\n",
    "Until the release of [CC version 4](https://wiki.creativecommons.org/4.0), published in November 2013, the CC licence did not cover data. Between them, CC and ODC licences can cover all forms of digital work.\n",
    "\n",
    "* **There are many other licence types**\n",
    "* Many are bespoke\n",
    "    * Bespoke licences are difficult to manage\n",
    "    * Many legacy datasets have bespoke licences"
   ]
  },
  {
   "cell_type": "markdown",
   "metadata": {
    "slideshow": {
     "slide_type": "subslide"
    }
   },
   "source": [
    "![Creative Commons @love_CC_2008](https://farm4.staticflickr.com/3148/2732488224_aedf36e837_b_d.jpg)"
   ]
  },
  {
   "cell_type": "markdown",
   "metadata": {
    "slideshow": {
     "slide_type": "notes"
    }
   },
   "source": [
    "I'll describe CC in more detail"
   ]
  },
  {
   "cell_type": "markdown",
   "metadata": {
    "slideshow": {
     "slide_type": "skip"
    }
   },
   "source": [
    "\\newpage"
   ]
  },
  {
   "cell_type": "markdown",
   "metadata": {
    "slideshow": {
     "slide_type": "slide"
    }
   },
   "source": [
    "## Creative Commons Zero \n",
    "\n",
    "Creative Commons Zero (CC0) is essentially public domain which allows:\n",
    "    \n",
    "* Reproduction\n",
    "* Distribution\n",
    "* Derivations\n",
    "\n",
    "\n"
   ]
  },
  {
   "cell_type": "markdown",
   "metadata": {
    "slideshow": {
     "slide_type": "subslide"
    }
   },
   "source": [
    "### Constraints on CC0\n",
    "\n",
    "The following clauses constrain CC0:\n",
    "\n",
    "* Permissions\n",
    "    * ND – No derivatives: the licensee can not derive new content from the resource.\n",
    "* Requirements\n",
    "    * BY – By attribution: the licensee must attribute the source.\n",
    "    * SA – Share-alike: if the licensee adapts the resource, it must be released under the same licence.\n",
    "* Prohibitions\n",
    "    * NC – Non commercial: the licensee must not use the work commercially without prior approval.\n",
    "\n",
    "\n"
   ]
  },
  {
   "cell_type": "markdown",
   "metadata": {
    "slideshow": {
     "slide_type": "subslide"
    }
   },
   "source": [
    "### CC license combinations\n",
    "\n",
    "License|Reproduction|Distribution|Derivation|ND|BY|SA|NC\n",
    "----|----|----|----|----|----|----|----\n",
    "CC0|X|X|X||||\n",
    "CC-BY-ND|X|X||X|X||\n",
    "CC-BY-NC-ND|X|X||X|X||X\n",
    "CC-BY|X|X|X||X||\n",
    "CC-BY-SA|X|X|X||X|X|\n",
    "CC-BY-NC|X|X|X||X||X\n",
    "CC-BY-NC-SA|X|X|X||X|X|X\n",
    "\n",
    "Table: [Creative Commons license combinations](https://docs.google.com/spreadsheets/d/17aT7Dj6QtE88XPS44oPQ7mVeSdY1YnZ1rlpjPvXNz0E/pub?single=true&gid=0&output=html)"
   ]
  },
  {
   "cell_type": "markdown",
   "metadata": {
    "slideshow": {
     "slide_type": "skip"
    }
   },
   "source": [
    "\\newpage"
   ]
  },
  {
   "cell_type": "markdown",
   "metadata": {
    "slideshow": {
     "slide_type": "subslide"
    }
   },
   "source": [
    "# Why are licenses important?\n",
    "\n",
    "* They tell you what you can and can't do with 'stuff'\n",
    "* Very significant when multiple datasets are combined\n",
    "    * It then becomes an issue of license compatibility\n",
    "\n",
    "\n",
    "![Compatibility of common open-source software licenses @Floss-license-slide-image_Wheeler_2007](https://upload.wikimedia.org/wikipedia/commons/1/1d/Floss-license-slide-image.png)"
   ]
  },
  {
   "cell_type": "markdown",
   "metadata": {
    "slideshow": {
     "slide_type": "skip"
    }
   },
   "source": [
    "\\newpage"
   ]
  },
  {
   "cell_type": "markdown",
   "metadata": {
    "slideshow": {
     "slide_type": "subslide"
    }
   },
   "source": [
    "## Which is important when we mash up data\n",
    "\n",
    "Certain licences when combined:\n",
    "    \n",
    "* Are incompatible\n",
    "    * Creating data islands\n",
    "* Inhibit commercial exploitation (NC)\n",
    "* Force the adoption of certain licences\n",
    "    * If you want people to commercially exploit your stuff don't incorporate CC-BY-NC-SA data!\n",
    "* Stops the derivation of *new works*\n",
    "\n"
   ]
  },
  {
   "cell_type": "markdown",
   "metadata": {
    "slideshow": {
     "slide_type": "subslide"
    }
   },
   "source": [
    "![A conceptual licence processing workflow @ConceptualLicenceProcessingWorkflow_beck_2015](https://upload.wikimedia.org/wikipedia/commons/thumb/b/b4/ConceptualLicenceProcessingWorkflow.svg/1024px-ConceptualLicenceProcessingWorkflow.svg.png)\n"
   ]
  },
  {
   "cell_type": "markdown",
   "metadata": {
    "slideshow": {
     "slide_type": "notes"
    }
   },
   "source": [
    "A conceptual licence processing workflow. The licence processing service analyses the incoming licence metadata and determines if the data can be legally integrated and any resulting licence implications for the derived product."
   ]
  },
  {
   "cell_type": "markdown",
   "metadata": {
    "slideshow": {
     "slide_type": "skip"
    }
   },
   "source": [
    "\\newpage"
   ]
  },
  {
   "cell_type": "markdown",
   "metadata": {
    "slideshow": {
     "slide_type": "slide"
    }
   },
   "source": [
    "# A rudimentry logic example\n",
    "\n",
    "```\n",
    "Data1 hasDerivedContentIn NewThing.\n",
    "\n",
    "Data1 hasLicence a cc-by-sa.\n",
    "\n",
    "What hasLicence a cc-by-sa? #reason here\n",
    "\n",
    "If X hasDerivedContentIn Y and hasLicence Z then Y hasLicence Z. #reason here\n",
    "\n",
    "Data2 hasDerivedContentIn NewThing.\n",
    "\n",
    "Data2 hasLicence a cc-by-nc-sa.\n",
    "\n",
    "What hasLicence a cc-by-nc-sa? #reason here\n",
    "\n",
    "Nothing hasLicence a cc-by-nc-sa and hasLicence a cc-by-sa. #reason here\n",
    "```\n",
    "\n",
    "\n",
    "And processing this within the Protege reasoning environment"
   ]
  },
  {
   "cell_type": "code",
   "execution_count": 4,
   "metadata": {
    "collapsed": false
   },
   "outputs": [
    {
     "data": {
      "text/html": [
       "\n",
       "        <iframe\n",
       "            width=\"400\"\n",
       "            height=\"300\"\n",
       "            src=\"https://www.youtube.com/embed/jUzGF401vLc\"\n",
       "            frameborder=\"0\"\n",
       "            allowfullscreen\n",
       "        ></iframe>\n",
       "        "
      ],
      "text/plain": [
       "<IPython.lib.display.YouTubeVideo at 0x7f3ad00bc150>"
      ]
     },
     "execution_count": 4,
     "metadata": {},
     "output_type": "execute_result"
    }
   ],
   "source": [
    "from IPython.display import YouTubeVideo\n",
    "YouTubeVideo('jUzGF401vLc')"
   ]
  },
  {
   "cell_type": "markdown",
   "metadata": {
    "slideshow": {
     "slide_type": "skip"
    }
   },
   "source": [
    "\\newpage"
   ]
  },
  {
   "cell_type": "markdown",
   "metadata": {
    "slideshow": {
     "slide_type": "subslide"
    }
   },
   "source": [
    "## Here's something I prepared earlier\n",
    "\n",
    "A live presentation (for those who weren't at the event)....."
   ]
  },
  {
   "cell_type": "code",
   "execution_count": 12,
   "metadata": {
    "collapsed": false,
    "slideshow": {
     "slide_type": "fragment"
    }
   },
   "outputs": [
    {
     "data": {
      "text/html": [
       "\n",
       "        <iframe\n",
       "            width=\"400\"\n",
       "            height=\"300\"\n",
       "            src=\"https://www.youtube.com/embed/tkRB5Rp1_W4\"\n",
       "            frameborder=\"0\"\n",
       "            allowfullscreen\n",
       "        ></iframe>\n",
       "        "
      ],
      "text/plain": [
       "<IPython.lib.display.YouTubeVideo at 0x7f3ad00bc3d0>"
      ]
     },
     "execution_count": 12,
     "metadata": {},
     "output_type": "execute_result"
    }
   ],
   "source": [
    "from IPython.display import YouTubeVideo\n",
    "YouTubeVideo('tkRB5Rp1_W4')\n"
   ]
  },
  {
   "cell_type": "markdown",
   "metadata": {
    "slideshow": {
     "slide_type": "skip"
    }
   },
   "source": [
    "\\newpage"
   ]
  },
  {
   "cell_type": "markdown",
   "metadata": {
    "slideshow": {
     "slide_type": "slide"
    }
   },
   "source": [
    "# A more robust logic\n",
    "\n",
    "* Would need to decouple licence incompatibility from licence name into licence clause (see table below)\n",
    "* Deal with all licence type\n",
    "* Provide recommendations based on desired derivative licence type\n",
    "* Link this through to the type of process in a workflow:\n",
    "    * data derivation is, from a licence position, very different to contextual display\n",
    "* etc..... for discussion?\n",
    "\n",
    "License|Reproduction|Distribution|Derivation|ND|BY|SA|NC\n",
    "----|----|----|----|----|----|----|----\n",
    "CC0|X|X|X||||\n",
    "CC-BY-ND|X|X||X|X||\n",
    "CC-BY-NC-ND|X|X||X|X||X\n",
    "CC-BY|X|X|X||X||\n",
    "CC-BY-SA|X|X|X||X|X|\n",
    "CC-BY-NC|X|X|X||X||X\n",
    "CC-BY-NC-SA|X|X|X||X|X|X\n",
    "\n",
    "Table: [Creative Commons license combinations](https://docs.google.com/spreadsheets/d/17aT7Dj6QtE88XPS44oPQ7mVeSdY1YnZ1rlpjPvXNz0E/pub?single=true&gid=0&output=html)\n"
   ]
  },
  {
   "cell_type": "markdown",
   "metadata": {
    "slideshow": {
     "slide_type": "skip"
    }
   },
   "source": [
    "\\newpage"
   ]
  },
  {
   "cell_type": "markdown",
   "metadata": {
    "slideshow": {
     "slide_type": "subslide"
    }
   },
   "source": [
    "# OGC and Licence interoperability\n",
    "\n",
    "* The geo business landscape is increasingly based on integrating heterogeneous data to develop new products\n",
    "* Licence heterogeneity is a barrier to data integration and interoperability\n",
    "* A licence calculus can help resolve and identify heterogenties leading to\n",
    "    * legal compliance\n",
    "    * confidence\n",
    "* Use of standards and collaboration with organisations is crucial\n",
    "    * [Open Data Licensing ontology](https://github.com/theodi/open-data-licensing)\n",
    "    * [The Open Data Institute](http://theodi.org/)\n",
    "* Failure to do this could lead to breaches in data licenses\n",
    "    * and we all know where that puts us........\n",
    "    \n"
   ]
  },
  {
   "cell_type": "markdown",
   "metadata": {
    "collapsed": true,
    "slideshow": {
     "slide_type": "subslide"
    }
   },
   "source": [
    "![Breaching a data license can be serious (restricted = randomly!)](https://dl.dropboxusercontent.com/u/393477/ImageBank/Jail_Bars_Icon.png)"
   ]
  },
  {
   "cell_type": "markdown",
   "metadata": {
    "slideshow": {
     "slide_type": "skip"
    }
   },
   "source": [
    "\\newpage"
   ]
  },
  {
   "cell_type": "markdown",
   "metadata": {
    "slideshow": {
     "slide_type": "subslide"
    }
   },
   "source": [
    "# Questions\n",
    "\n",
    "![Processing transparency between open and closed systems](https://upload.wikimedia.org/wikipedia/commons/thumb/d/d5/Processing_transparency_between_open_and_closed_systems.svg/630px-Processing_transparency_between_open_and_closed_systems.svg.png)"
   ]
  },
  {
   "cell_type": "markdown",
   "metadata": {
    "slideshow": {
     "slide_type": "skip"
    }
   },
   "source": [
    "\\newpage\n",
    "\n",
    "# References"
   ]
  }
 ],
 "metadata": {
  "celltoolbar": "Slideshow",
  "kernelspec": {
   "display_name": "Python 2",
   "language": "python",
   "name": "python2"
  },
  "language_info": {
   "codemirror_mode": {
    "name": "ipython",
    "version": 2
   },
   "file_extension": ".py",
   "mimetype": "text/x-python",
   "name": "python",
   "nbconvert_exporter": "python",
   "pygments_lexer": "ipython2",
   "version": "2.7.10"
  }
 },
 "nbformat": 4,
 "nbformat_minor": 0
}
