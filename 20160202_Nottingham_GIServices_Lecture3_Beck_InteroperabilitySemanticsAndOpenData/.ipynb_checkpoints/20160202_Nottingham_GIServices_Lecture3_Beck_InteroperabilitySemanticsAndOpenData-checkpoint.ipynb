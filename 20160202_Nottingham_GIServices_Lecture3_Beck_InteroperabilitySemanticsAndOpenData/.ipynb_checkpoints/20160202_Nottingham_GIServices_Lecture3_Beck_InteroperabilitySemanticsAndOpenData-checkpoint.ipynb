{
 "cells": [
  {
   "cell_type": "markdown",
   "metadata": {
    "slideshow": {
     "slide_type": "slide"
    }
   },
   "source": [
    "![](https://dl.dropboxusercontent.com/u/393477/ImageBank/ForOGC/InteroperabilitySemanticsAndOpenData.png)\n",
    "\n",
    "\n",
    "Go down for licence and other metadata about this presentation"
   ]
  },
  {
   "cell_type": "markdown",
   "metadata": {
    "slideshow": {
     "slide_type": "skip"
    }
   },
   "source": [
    "\\newpage"
   ]
  },
  {
   "cell_type": "markdown",
   "metadata": {
    "slideshow": {
     "slide_type": "subslide"
    }
   },
   "source": [
    "# Preamble\n",
    "\n",
    "## Licence\n",
    "\n",
    "Unless stated otherwise all content is released under a [CC0]+BY licence. I'd appreciate it if you reference this but it is not necessary.\n",
    "\n",
    "![](https://dl.dropboxusercontent.com/u/393477/SharedPresentations/Shared_HTML5/Images/CC_BY.png)"
   ]
  },
  {
   "cell_type": "markdown",
   "metadata": {
    "slideshow": {
     "slide_type": "skip"
    }
   },
   "source": [
    "\\newpage"
   ]
  },
  {
   "cell_type": "markdown",
   "metadata": {
    "slideshow": {
     "slide_type": "subslide"
    }
   },
   "source": [
    "## Using Ipython for presentations\n",
    "\n",
    "A short video showing how to use Ipython for presentations"
   ]
  },
  {
   "cell_type": "code",
   "execution_count": 2,
   "metadata": {
    "collapsed": false
   },
   "outputs": [
    {
     "data": {
      "text/html": [
       "\n",
       "        <iframe\n",
       "            width=\"400\"\n",
       "            height=\"300\"\n",
       "            src=\"https://www.youtube.com/embed/F4rFuIb1Ie4\"\n",
       "            frameborder=\"0\"\n",
       "            allowfullscreen\n",
       "        ></iframe>\n",
       "        "
      ],
      "text/plain": [
       "<IPython.lib.display.YouTubeVideo at 0x7f694015ec18>"
      ]
     },
     "execution_count": 2,
     "metadata": {},
     "output_type": "execute_result"
    }
   ],
   "source": [
    "from IPython.display import YouTubeVideo\n",
    "YouTubeVideo('F4rFuIb1Ie4')"
   ]
  },
  {
   "cell_type": "code",
   "execution_count": 34,
   "metadata": {
    "collapsed": false
   },
   "outputs": [
    {
     "name": "stdout",
     "output_type": "stream",
     "text": [
      "ipython nbconvert --to markdown 20160202_Nottingham_GIServices_Lecture3_Beck_InteroperabilitySemanticsAndOpenData.ipynb\n"
     ]
    },
    {
     "data": {
      "text/plain": [
       "0"
      ]
     },
     "execution_count": 34,
     "metadata": {},
     "output_type": "execute_result"
    }
   ],
   "source": [
    "## PDF output using pandoc\n",
    "\n",
    "import os\n",
    "\n",
    "\n",
    "### Export this notebook as markdown\n",
    "commandLineSyntax = 'ipython nbconvert --to markdown 20160202_Nottingham_GIServices_Lecture3_Beck_InteroperabilitySemanticsAndOpenData.ipynb'\n",
    "print (commandLineSyntax)\n",
    "\n",
    "os.system(commandLineSyntax)\n",
    "\n",
    "### Export this notebook and the document header as PDF using Pandoc\n",
    "\n",
    "commandLineSyntax = 'pandoc  -f markdown -t latex -N -V geometry:margin=1in DocumentHeader.md 20160202_Nottingham_GIServices_Lecture3_Beck_InteroperabilitySemanticsAndOpenData.md --filter pandoc-citeproc  --latex-engine=xelatex --toc -o interim.pdf '\n",
    "\n",
    "os.system(commandLineSyntax)\n",
    "\n",
    "### Remove cruft from the pdf\n",
    "\n",
    "commandLineSyntax = 'pdftk interim.pdf cat 1-5 18-end output 20160202_Nottingham_GIServices_Lecture3_Beck_InteroperabilitySemanticsAndOpenData.pdf'\n",
    "\n",
    "os.system(commandLineSyntax)\n",
    "\n",
    "### Remove the interim pdf\n",
    "\n",
    "commandLineSyntax = 'rm interim.pdf'\n",
    "\n",
    "os.system(commandLineSyntax)"
   ]
  },
  {
   "cell_type": "markdown",
   "metadata": {
    "slideshow": {
     "slide_type": "subslide"
    }
   },
   "source": [
    "## The environment\n",
    "\n",
    "In order to replicate my environment you need to know what I have installed!"
   ]
  },
  {
   "cell_type": "markdown",
   "metadata": {
    "slideshow": {
     "slide_type": "skip"
    }
   },
   "source": [
    "### Set up watermark\n",
    "\n",
    "This describes the versions of software used during the creation. \n",
    "\n",
    "Please note that critical libraries can also be watermarked as follows:\n",
    "\n",
    "```python\n",
    "%watermark -v -m -p numpy,scipy\n",
    "```"
   ]
  },
  {
   "cell_type": "code",
   "execution_count": 3,
   "metadata": {
    "collapsed": false,
    "slideshow": {
     "slide_type": "skip"
    }
   },
   "outputs": [
    {
     "name": "stdout",
     "output_type": "stream",
     "text": [
      "Installed watermark.py. To use it, type:\n",
      "  %load_ext watermark\n"
     ]
    },
    {
     "name": "stderr",
     "output_type": "stream",
     "text": [
      "/home/arb/LocalInstalls/anaconda3/lib/python3.5/site-packages/IPython/core/magics/extension.py:47: UserWarning: %install_ext` is deprecated, please distribute your extension(s)as a python packages.\n",
      "  \"as a python packages.\", UserWarning)\n"
     ]
    }
   ],
   "source": [
    "%install_ext https://raw.githubusercontent.com/rasbt/python_reference/master/ipython_magic/watermark.py\n",
    "%load_ext watermark\n"
   ]
  },
  {
   "cell_type": "code",
   "execution_count": 4,
   "metadata": {
    "collapsed": false
   },
   "outputs": [
    {
     "name": "stdout",
     "output_type": "stream",
     "text": [
      "Anthony Beck 24/01/2016 \n",
      "\n",
      "CPython 3.5.1\n",
      "IPython 4.0.2\n",
      "\n",
      "compiler   : GCC 4.4.7 20120313 (Red Hat 4.4.7-1)\n",
      "system     : Linux\n",
      "release    : 3.19.0-32-generic\n",
      "machine    : x86_64\n",
      "processor  : x86_64\n",
      "CPU cores  : 4\n",
      "interpreter: 64bit\n",
      "Git hash   : \n"
     ]
    }
   ],
   "source": [
    "%watermark -a \"Anthony Beck\"  -d -v -m -g"
   ]
  },
  {
   "cell_type": "code",
   "execution_count": 5,
   "metadata": {
    "collapsed": false
   },
   "outputs": [
    {
     "name": "stdout",
     "output_type": "stream",
     "text": [
      "# packages in environment at /home/arb/LocalInstalls/anaconda3:\n",
      "#\n",
      "_license                  1.1                      py35_1    defaults\n",
      "abstract-rendering        0.5.1               np110py35_0    defaults\n",
      "accelerate                2.0                np110py35_p0    defaults\n",
      "accelerate_cudalib        2.0                           0    defaults\n",
      "affine                    1.2.0                    py35_0    https://conda.binstar.org/ioos/linux-64/affine-1.2.0-py35_0.tar.bz2\n",
      "alabaster                 0.7.6                    py35_0    defaults\n",
      "anaconda                  2.4.1               np110py35_0    defaults\n",
      "anaconda-client           1.2.1                    py35_0    defaults\n",
      "argcomplete               1.0.0                    py35_1    defaults\n",
      "astropy                   1.1.1               np110py35_0    defaults\n",
      "babel                     2.1.1                    py35_0    defaults\n",
      "basemap                   1.0.7               np110py35_0    defaults\n",
      "beautifulsoup4            4.4.1                    py35_0    defaults\n",
      "bitarray                  0.8.1                    py35_0    defaults\n",
      "blaze                     0.9.0                     <pip>\n",
      "blaze-core                0.9.0                    py35_0    defaults\n",
      "bokeh                     0.11.0                   py35_1    defaults\n",
      "boto                      2.38.0                   py35_0    defaults\n",
      "bottleneck                1.0.0               np110py35_0    defaults\n",
      "cffi                      1.2.1                    py35_0    defaults\n",
      "click                     4.1                      py35_0    defaults\n",
      "click-plugins             1.0.2                    py35_0    https://conda.binstar.org/ioos/linux-64/click-plugins-1.0.2-py35_0.tar.bz2\n",
      "cligj                     0.2.0                    py35_0    defaults\n",
      "clyent                    1.2.0                    py35_0    defaults\n",
      "colorama                  0.3.3                    py35_0    defaults\n",
      "colorlover                0.2.1                     <pip>\n",
      "conda                     3.19.0                   py35_0    defaults\n",
      "conda-build               1.18.2                   py35_0    defaults\n",
      "conda-env                 2.4.5                    py35_0    defaults\n",
      "configobj                 5.0.6                    py35_0    defaults\n",
      "cryptography              1.0.2                    py35_0    defaults\n",
      "cudatoolkit               7.0                           1    defaults\n",
      "cufflinks                 0.7.1                     <pip>\n",
      "curl                      7.43.0                        1    defaults\n",
      "cycler                    0.9.0                    py35_0    defaults\n",
      "cython                    0.23.4                   py35_0    defaults\n",
      "cytoolz                   0.7.4                    py35_0    defaults\n",
      "datashape                 0.5.0                    py35_0    defaults\n",
      "decorator                 4.0.6                    py35_0    defaults\n",
      "descartes                 1.0.1                    py35_0    https://conda.binstar.org/ioos/linux-64/descartes-1.0.1-py35_0.tar.bz2\n",
      "docutils                  0.12                     py35_0    defaults\n",
      "dynd                      9b63882                   <pip>\n",
      "dynd-python               0.7.0                    py35_0    defaults\n",
      "et-xmlfile                1.0.1                     <pip>\n",
      "et_xmlfile                1.0.1                    py35_0    defaults\n",
      "fastcache                 1.0.2                    py35_0    defaults\n",
      "fiona                     1.6.0               np110py35_0    defaults\n",
      "flask                     0.10.1                   py35_1    defaults\n",
      "fontconfig                2.11.1                        5    defaults\n",
      "freetype                  2.5.5                         0    defaults\n",
      "funcsigs                  0.4                      py35_0    defaults\n",
      "gdal                      2.0.0                    py35_1    defaults\n",
      "geos                      3.3.3                         0    defaults\n",
      "greenlet                  0.4.9                    py35_0    defaults\n",
      "h5py                      2.5.0               np110py35_4    defaults\n",
      "hdf4                      4.2.11                        0    defaults\n",
      "hdf5                      1.8.15.1                      2    defaults\n",
      "html5lib                  0.9999999                 <pip>\n",
      "idna                      2.0                      py35_0    defaults\n",
      "iopro                     1.7.2              np110py35_p0    defaults\n",
      "ipykernel                 4.2.2                    py35_0    defaults\n",
      "ipython                   4.0.2                    py35_0    defaults\n",
      "ipython-genutils          0.1.0                     <pip>\n",
      "ipython-notebook          4.0.4                    py35_0    defaults\n",
      "ipython-qtconsole         4.0.1                    py35_0    defaults\n",
      "ipython_genutils          0.1.0                    py35_0    defaults\n",
      "ipywidgets                4.1.1                    py35_0    defaults\n",
      "itsdangerous              0.24                     py35_0    defaults\n",
      "jbig                      2.1                           0    defaults\n",
      "jdcal                     1.2                      py35_0    defaults\n",
      "jedi                      0.9.0                    py35_0    defaults\n",
      "jinja2                    2.8                      py35_0    defaults\n",
      "jpeg                      8d                            0    defaults\n",
      "jsonschema                2.4.0                    py35_0    defaults\n",
      "jupyter                   1.0.0                    py35_1    defaults\n",
      "jupyter-client            4.1.1                     <pip>\n",
      "jupyter-console           4.1.0                     <pip>\n",
      "jupyter-core              4.0.6                     <pip>\n",
      "jupyter_client            4.1.1                    py35_0    defaults\n",
      "jupyter_console           4.1.0                    py35_0    defaults\n",
      "jupyter_core              4.0.6                    py35_0    defaults\n",
      "kealib                    1.4.5                         0    defaults\n",
      "krb5                      1.13.2                        0    defaults\n",
      "libdynd                   0.7.0                         0    defaults\n",
      "libffi                    3.0.13                        0    defaults\n",
      "libgdal                   2.0.0                         1    defaults\n",
      "libgfortran               1.0                           0    defaults\n",
      "libnetcdf                 4.3.3.1                       1    defaults\n",
      "libpng                    1.6.17                        0    defaults\n",
      "libsodium                 1.0.3                         0    defaults\n",
      "libtiff                   4.0.6                         1    defaults\n",
      "libxml2                   2.9.2                         0    defaults\n",
      "libxslt                   1.1.28                        0    defaults\n",
      "llvmlite                  0.8.0                    py35_0    defaults\n",
      "lxml                      3.5.0                    py35_0    defaults\n",
      "markupsafe                0.23                     py35_0    defaults\n",
      "matplotlib                1.5.1               np110py35_0    defaults\n",
      "mistune                   0.7.1                    py35_0    defaults\n",
      "mkl                       11.1               np110py35_p1    defaults\n",
      "mkl-rt                    11.1                         p0    defaults\n",
      "mkl-service               1.1.0                   py35_p0    defaults\n",
      "mock                      1.3.0                    py35_0    defaults\n",
      "multipledispatch          0.4.8                    py35_0    defaults\n",
      "nbconvert                 4.1.0                    py35_0    defaults\n",
      "nbformat                  4.0.1                    py35_0    defaults\n",
      "networkx                  1.10                     py35_0    defaults\n",
      "nltk                      3.1                      py35_0    defaults\n",
      "nose                      1.3.7                    py35_0    defaults\n",
      "notebook                  4.1.0                    py35_0    defaults\n",
      "numba                     0.22.1              np110py35_0    defaults\n",
      "numbapro                  0.22.1                  py35_p0    defaults\n",
      "numexpr                   2.4.4              np110py35_p0  [mkl]  defaults\n",
      "numpy                     1.10.2                  py35_p0  [mkl]  defaults\n",
      "odo                       0.4.0                    py35_0    defaults\n",
      "openblas                  0.2.14                        3    defaults\n",
      "openjpeg                  2.1.0                         0    https://conda.binstar.org/ioos/linux-64/openjpeg-2.1.0-0.tar.bz2\n",
      "openpyxl                  2.3.2                    py35_0    defaults\n",
      "openssl                   1.0.2e                        0    defaults\n",
      "owslib                    0.10.3                   py35_0    https://conda.binstar.org/ioos/linux-64/owslib-0.10.3-py35_0.tar.bz2\n",
      "pandas                    0.17.1              np110py35_0    defaults\n",
      "patchelf                  0.8                           0    defaults\n",
      "path.py                   8.1.2                    py35_1    defaults\n",
      "patsy                     0.4.0               np110py35_0    defaults\n",
      "pbr                       1.3.0                    py35_0    defaults\n",
      "pep8                      1.6.2                    py35_0    defaults\n",
      "pexpect                   3.3                      py35_0    defaults\n",
      "pickleshare               0.5                      py35_0    defaults\n",
      "pillow                    3.1.0                    py35_0    defaults\n",
      "pip                       7.1.2                    py35_0    defaults\n",
      "plotly                    1.9.5                     <pip>\n",
      "ply                       3.8                      py35_0    defaults\n",
      "postgresql                9.1.4                         0    defaults\n",
      "proj.4                    4.9.1                         1    https://conda.binstar.org/ioos/linux-64/proj.4-4.9.1-1.tar.bz2\n",
      "proj4                     4.9.1                         1    SciTools\n",
      "psutil                    3.3.0                    py35_0    defaults\n",
      "ptyprocess                0.5                      py35_0    defaults\n",
      "py                        1.4.30                   py35_0    defaults\n",
      "pyasn1                    0.1.9                    py35_0    defaults\n",
      "pycosat                   0.6.1                    py35_0    defaults\n",
      "pycparser                 2.14                     py35_0    defaults\n",
      "pycrypto                  2.6.1                    py35_0    defaults\n",
      "pycurl                    7.19.5.1                 py35_2    defaults\n",
      "pyepsg                    0.2.0                    py35_0    SciTools\n",
      "pyflakes                  1.0.0                    py35_0    defaults\n",
      "pygments                  2.0.2                    py35_0    defaults\n",
      "pyodbc                    3.0.10                   py35_0    defaults\n",
      "pyopenssl                 0.15.1                   py35_1    defaults\n",
      "pyparsing                 2.0.3                    py35_0    defaults\n",
      "pyproj                    1.9.4                    py35_1    defaults\n",
      "pyqt                      4.11.4                   py35_1    defaults\n",
      "pyshp                     1.2.3                    py35_0    https://conda.binstar.org/ioos/linux-64/pyshp-1.2.3-py35_0.tar.bz2\n",
      "pytables                  3.2.2               np110py35_0    defaults\n",
      "pytest                    2.8.1                    py35_0    defaults\n",
      "python                    3.5.1                         0    defaults\n",
      "python-dateutil           2.4.2                    py35_0    defaults\n",
      "pytz                      2015.7                   py35_0    defaults\n",
      "pyyaml                    3.11                     py35_1    defaults\n",
      "pyzmq                     15.2.0                   py35_0    defaults\n",
      "qt                        4.8.7                         1    defaults\n",
      "qtconsole                 4.1.1                    py35_0    defaults\n",
      "rasterio                  0.25.0              np110py35_0    defaults\n",
      "readline                  6.2                           2    defaults\n",
      "redis                     2.6.9                         0    defaults\n",
      "redis-py                  2.10.3                   py35_0    defaults\n",
      "requests                  2.9.1                    py35_0    defaults\n",
      "rope                      0.9.4                    py35_1    defaults\n",
      "rope-py3k-0.9.4           1                         <pip>\n",
      "scikit-image              0.11.3              np110py35_0    defaults\n",
      "scikit-learn              0.17               np110py35_p1  [mkl]  defaults\n",
      "scipy                     0.16.1             np110py35_p0  [mkl]  defaults\n",
      "seaborn                   0.6.0               np110py35_0    defaults\n",
      "setuptools                19.2                     py35_0    defaults\n",
      "shapely                   1.5.11                   py35_0    defaults\n",
      "simplegeneric             0.8.1                    py35_0    defaults\n",
      "simplejson                3.8.1                     <pip>\n",
      "sip                       4.16.9                   py35_0    defaults\n",
      "six                       1.10.0                   py35_0    defaults\n",
      "snowballstemmer           1.2.0                    py35_0    defaults\n",
      "snuggs                    1.3.1               np110py35_0    defaults\n",
      "sockjs-tornado            1.0.1                    py35_0    defaults\n",
      "sphinx                    1.3.1                    py35_0    defaults\n",
      "sphinx-rtd-theme          0.1.7                     <pip>\n",
      "sphinx_rtd_theme          0.1.7                    py35_0    defaults\n",
      "spyder                    2.3.8                    py35_0    defaults\n",
      "spyder-app                2.3.8                    py35_0    defaults\n",
      "sqlalchemy                1.0.11                   py35_0    defaults\n",
      "sqlite                    3.9.2                         0    defaults\n",
      "statsmodels               0.6.1               np110py35_0    defaults\n",
      "sympy                     0.7.6.1                  py35_0    defaults\n",
      "tables                    3.2.2                     <pip>\n",
      "terminado                 0.5                      py35_1    defaults\n",
      "theano                    0.7.0               np110py35_0    defaults\n",
      "tk                        8.5.18                        0    defaults\n",
      "toolz                     0.7.4                    py35_0    defaults\n",
      "tornado                   4.3                      py35_0    defaults\n",
      "traitlets                 4.1.0                    py35_0    defaults\n",
      "ujson                     1.33                     py35_0    defaults\n",
      "unicodecsv                0.14.1                   py35_0    defaults\n",
      "unixodbc                  2.3.1                         1    defaults\n",
      "util-linux                2.21                          0    defaults\n",
      "werkzeug                  0.11.3                   py35_0    defaults\n",
      "wheel                     0.26.0                   py35_1    defaults\n",
      "xerces-c                  3.1.2                         0    defaults\n",
      "xlrd                      0.9.4                    py35_0    defaults\n",
      "xlsxwriter                0.8.2                    py35_0    defaults\n",
      "xlwt                      1.0.0                    py35_0    defaults\n",
      "xz                        5.0.5                         0    defaults\n",
      "yaml                      0.1.6                         0    defaults\n",
      "zeromq                    4.1.3                         0    defaults\n",
      "zlib                      1.2.8                         0    defaults\n"
     ]
    }
   ],
   "source": [
    "#List of installed conda packages\n",
    "!conda list"
   ]
  },
  {
   "cell_type": "code",
   "execution_count": 8,
   "metadata": {
    "collapsed": false
   },
   "outputs": [
    {
     "name": "stdout",
     "output_type": "stream",
     "text": [
      "abstract-rendering (0.5.1)\n",
      "accelerate (2.0.0)\n",
      "affine (1.2.0)\n",
      "alabaster (0.7.6)\n",
      "anaconda-client (1.2.1)\n",
      "argcomplete (1.0.0)\n",
      "astropy (1.1.1)\n",
      "Babel (2.1.1)\n",
      "basemap (1.0.7)\n",
      "beautifulsoup4 (4.4.1)\n",
      "bitarray (0.8.1)\n",
      "blaze (0.9.0)\n",
      "bokeh (0.11.0)\n",
      "boto (2.38.0)\n",
      "Bottleneck (1.0.0)\n",
      "cffi (1.2.1)\n",
      "click (4.1)\n",
      "click-plugins (1.0.2)\n",
      "cligj (0.2.0)\n",
      "clyent (1.2.0)\n",
      "colorama (0.3.3)\n",
      "colorlover (0.2.1)\n",
      "conda (3.19.0)\n",
      "conda-build (1.18.2)\n",
      "conda-env (2.4.5)\n",
      "configobj (5.0.6)\n",
      "cryptography (0.9.3)\n",
      "cufflinks (0.7.1)\n",
      "cycler (0.9.0)\n",
      "Cython (0.23.4)\n",
      "cytoolz (0.7.4)\n",
      "datashape (0.5.0)\n",
      "decorator (4.0.6)\n",
      "descartes (1.0.1)\n",
      "docutils (0.12)\n",
      "dynd (9b63882)\n",
      "et-xmlfile (1.0.1)\n",
      "fastcache (1.0.2)\n",
      "Fiona (1.6.0)\n",
      "Flask (0.10.1)\n",
      "funcsigs (0.4)\n",
      "GDAL (2.0.0)\n",
      "greenlet (0.4.9)\n",
      "h5py (2.5.0)\n",
      "html5lib (0.9999999)\n",
      "idna (2.0)\n",
      "iopro (1.7.2)\n",
      "ipykernel (4.2.2)\n",
      "ipython (4.0.2)\n",
      "ipython-genutils (0.1.0)\n",
      "ipywidgets (4.1.1)\n",
      "itsdangerous (0.24)\n",
      "jdcal (1.2)\n",
      "jedi (0.9.0)\n",
      "Jinja2 (2.8)\n",
      "jsonschema (2.4.0)\n",
      "jupyter (1.0.0)\n",
      "jupyter-client (4.1.1)\n",
      "jupyter-console (4.1.0)\n",
      "jupyter-core (4.0.6)\n",
      "llvmlite (0.8.0)\n",
      "lxml (3.5.0)\n",
      "MarkupSafe (0.23)\n",
      "matplotlib (1.5.1)\n",
      "mistune (0.7.1)\n",
      "mock (1.3.0)\n",
      "multipledispatch (0.4.8)\n",
      "nbconvert (4.1.0)\n",
      "nbformat (4.0.1)\n",
      "networkx (1.10)\n",
      "nltk (3.1)\n",
      "nose (1.3.7)\n",
      "notebook (4.1.0)\n",
      "numba (0.22.1)\n",
      "numbapro (0.22.1)\n",
      "numexpr (2.4.4)\n",
      "numpy (1.10.2)\n",
      "odo (0.4.0)\n",
      "openpyxl (2.3.2)\n",
      "OWSLib (0.10.3)\n",
      "pandas (0.17.1)\n",
      "path.py (0.0.0)\n",
      "patsy (0.4.0)\n",
      "pbr (1.3.0)\n",
      "pep8 (1.6.2)\n",
      "pexpect (3.3)\n",
      "pickleshare (0.5)\n",
      "Pillow (3.1.0)\n",
      "pip (8.0.2)\n",
      "plotly (1.9.5)\n",
      "ply (3.8)\n",
      "psutil (3.3.0)\n",
      "ptyprocess (0.5)\n",
      "py (1.4.30)\n",
      "pyasn1 (0.1.9)\n",
      "pycosat (0.6.1)\n",
      "pycparser (2.14)\n",
      "pycrypto (2.6.1)\n",
      "pycurl (7.19.5.1)\n",
      "pyepsg (0.2.0)\n",
      "pyflakes (1.0.0)\n",
      "Pygments (2.0.2)\n",
      "pyodbc (3.0.10)\n",
      "pyOpenSSL (0.15.1)\n",
      "pyparsing (2.0.3)\n",
      "pyproj (1.9.4)\n",
      "pyshp (1.2.3)\n",
      "pytest (2.8.1)\n",
      "python-dateutil (2.4.2)\n",
      "pytz (2015.7)\n",
      "PyYAML (3.11)\n",
      "pyzmq (15.2.0)\n",
      "qtconsole (4.1.1)\n",
      "rasterio (0.25.0)\n",
      "redis (2.10.3)\n",
      "requests (2.9.1)\n",
      "rope-py3k (0.9.4.post1)\n",
      "scikit-image (0.11.3)\n",
      "scikit-learn (0.17)\n",
      "scipy (0.16.1)\n",
      "seaborn (0.6.0)\n",
      "setuptools (19.2)\n",
      "Shapely (1.5.11)\n",
      "simplegeneric (0.8.1)\n",
      "simplejson (3.8.1)\n",
      "six (1.10.0)\n",
      "snowballstemmer (1.2.0)\n",
      "snuggs (1.3.1)\n",
      "sockjs-tornado (1.0.1)\n",
      "Sphinx (1.3.1)\n",
      "sphinx-rtd-theme (0.1.7)\n",
      "spyder (2.3.8)\n",
      "SQLAlchemy (1.0.11)\n",
      "statsmodels (0.6.1)\n",
      "sympy (0.7.6.1)\n",
      "tables (3.2.2)\n",
      "terminado (0.5)\n",
      "Theano (0.7.0)\n",
      "toolz (0.7.4)\n",
      "tornado (4.3)\n",
      "traitlets (4.1.0)\n",
      "ujson (1.33)\n",
      "unicodecsv (0.14.1)\n",
      "Werkzeug (0.11.3)\n",
      "wheel (0.26.0)\n",
      "xlrd (0.9.4)\n",
      "XlsxWriter (0.8.2)\n",
      "xlwt (1.0.0)\n"
     ]
    }
   ],
   "source": [
    "#List of installed pip packages\n",
    "!pip list"
   ]
  },
  {
   "cell_type": "markdown",
   "metadata": {
    "slideshow": {
     "slide_type": "subslide"
    }
   },
   "source": [
    "## Running dynamic presentations\n",
    "\n",
    "You need to install the [RISE Ipython Library](https://github.com/damianavila/RISE) from [Damián Avila](https://github.com/damianavila) for dynamic presentations"
   ]
  },
  {
   "cell_type": "markdown",
   "metadata": {
    "slideshow": {
     "slide_type": "slide"
    }
   },
   "source": [
    "To convert and run this as a static presentation run the following command:"
   ]
  },
  {
   "cell_type": "code",
   "execution_count": null,
   "metadata": {
    "collapsed": false
   },
   "outputs": [
    {
     "name": "stdout",
     "output_type": "stream",
     "text": [
      "[NbConvertApp] Converting notebook 20160202_Nottingham_GIServices_Lecture3_Beck_InteroperabilitySemanticsAndOpenData.ipynb to slides\n",
      "[NbConvertApp] Writing 330959 bytes to 20160202_Nottingham_GIServices_Lecture3_Beck_InteroperabilitySemanticsAndOpenData.slides.html\n",
      "[NbConvertApp] Redirecting reveal.js requests to https://cdnjs.cloudflare.com/ajax/libs/reveal.js/3.1.0\n",
      "Serving your slides at http://127.0.0.1:8000/20160202_Nottingham_GIServices_Lecture3_Beck_InteroperabilitySemanticsAndOpenData.slides.html\n",
      "Use Control-C to stop this server\n",
      "Created new window in existing browser session.\n",
      "WARNING:tornado.access:404 GET /custom.css (127.0.0.1) 0.98ms\n",
      "WARNING:tornado.access:404 GET /favicon.ico (127.0.0.1) 0.86ms\n",
      "ERROR:tornado.application:Uncaught exception GET /reveal.js/plugin/notes/notes.html (127.0.0.1)\n",
      "HTTPServerRequest(protocol='http', host='127.0.0.1:8000', method='GET', uri='/reveal.js/plugin/notes/notes.html', version='HTTP/1.1', remote_ip='127.0.0.1', headers={'Accept-Encoding': 'gzip, deflate, sdch', 'Referer': 'http://127.0.0.1:8000/20160202_Nottingham_GIServices_Lecture3_Beck_InteroperabilitySemanticsAndOpenData.slides.html', 'Accept-Language': 'en-GB,en-US;q=0.8,en;q=0.6', 'Accept': 'text/html,application/xhtml+xml,application/xml;q=0.9,image/webp,*/*;q=0.8', 'Host': '127.0.0.1:8000', 'Upgrade-Insecure-Requests': '1', 'User-Agent': 'Mozilla/5.0 (X11; Linux x86_64) AppleWebKit/537.36 (KHTML, like Gecko) Chrome/48.0.2564.97 Safari/537.36', 'Connection': 'keep-alive'})\n",
      "Traceback (most recent call last):\n",
      "  File \"/home/arb/LocalInstalls/anaconda3/lib/python3.5/site-packages/tornado/web.py\", line 1401, in _stack_context_handle_exception\n",
      "    raise_exc_info((type, value, traceback))\n",
      "  File \"<string>\", line 3, in raise_exc_info\n",
      "  File \"/home/arb/LocalInstalls/anaconda3/lib/python3.5/site-packages/tornado/stack_context.py\", line 314, in wrapped\n",
      "    ret = fn(*args, **kwargs)\n",
      "  File \"/home/arb/LocalInstalls/anaconda3/lib/python3.5/site-packages/nbconvert/postprocessors/serve.py\", line 31, in finish_get\n",
      "    response.rethrow()\n",
      "  File \"/home/arb/LocalInstalls/anaconda3/lib/python3.5/site-packages/tornado/httpclient.py\", line 583, in rethrow\n",
      "    raise self.error\n",
      "tornado.httpclient.HTTPError: HTTP 403: Forbidden\n",
      "ERROR:tornado.access:500 GET /reveal.js/plugin/notes/notes.html (127.0.0.1) 480.47ms\n"
     ]
    }
   ],
   "source": [
    "# Notes don't show in a python3 environment\n",
    "\n",
    "!ipython nbconvert 20160202_Nottingham_GIServices_Lecture3_Beck_InteroperabilitySemanticsAndOpenData.ipynb --to slides --post serve\n",
    "\n"
   ]
  },
  {
   "cell_type": "markdown",
   "metadata": {},
   "source": [
    "To close this instances press *control 'c'* in the *ipython notebook* terminal console\n",
    "\n",
    "Static presentations allow the presenter to see *speakers notes* (use the 's' key)\n",
    "\n",
    "If running dynamically run the scripts below"
   ]
  },
  {
   "cell_type": "markdown",
   "metadata": {
    "slideshow": {
     "slide_type": "subslide"
    }
   },
   "source": [
    "## Pre load some useful libraries"
   ]
  },
  {
   "cell_type": "code",
   "execution_count": 13,
   "metadata": {
    "collapsed": false,
    "slideshow": {
     "slide_type": "-"
    }
   },
   "outputs": [
    {
     "name": "stdout",
     "output_type": "stream",
     "text": [
      "Populating the interactive namespace from numpy and matplotlib\n"
     ]
    }
   ],
   "source": [
    "#Future proof python 2\n",
    "from __future__ import print_function #For python3 print syntax\n",
    "from __future__ import division\n",
    "\n",
    "# def\n",
    "import IPython.core.display\n",
    "\n",
    "# A function to collect user input - ipynb_input(varname='username', prompt='What is your username')\n",
    "\n",
    "def ipynb_input(varname, prompt=''):\n",
    "        \"\"\"Prompt user for input and assign string val to given variable name.\"\"\"\n",
    "        js_code = (\"\"\"\n",
    "            var value = prompt(\"{prompt}\",\"\");\n",
    "            var py_code = \"{varname} = '\" + value + \"'\";\n",
    "            IPython.notebook.kernel.execute(py_code);\n",
    "        \"\"\").format(prompt=prompt, varname=varname)\n",
    "        return IPython.core.display.Javascript(js_code)\n",
    "    \n",
    "# inline\n",
    "\n",
    "%pylab inline"
   ]
  },
  {
   "cell_type": "markdown",
   "metadata": {
    "slideshow": {
     "slide_type": "skip"
    }
   },
   "source": [
    "\\newpage"
   ]
  },
  {
   "cell_type": "markdown",
   "metadata": {
    "slideshow": {
     "slide_type": "slide"
    }
   },
   "source": [
    "## About me\n",
    "\n",
    " \n",
    "\n",
    "![It's all about me - details about Anthony Beck](https://dl.dropboxusercontent.com/u/393477/ImageBank/Geolytics_ARB_Banner.png)\n",
    "\n",
    "* Honorary Research Fellow, University of Nottingham: [orcid](http://orcid.org/0000-0002-2991-811X)\n",
    "* Director, Geolytics Limited - A spatial data analytics consultancy\n",
    "\n",
    "## About this presentation\n",
    "\n",
    "* [Available on GitHub](https://github.com/AntArch/Presentations_Github/tree/master/20151008_OpenGeo_Reuse_under_licence) - https://github.com/AntArch/Presentations_Github/\n",
    "* [Fully referenced PDF](https://github.com/AntArch/Presentations_Github/blob/master/20160202_Nottingham_GIServices_Lecture3_Beck_InteroperabilitySemanticsAndOpenData/20160202_Nottingham_GIServices_Lecture3_Beck_InteroperabilitySemanticsAndOpenData.pdf)\n"
   ]
  },
  {
   "cell_type": "markdown",
   "metadata": {
    "slideshow": {
     "slide_type": "skip"
    }
   },
   "source": [
    "\\newpage"
   ]
  },
  {
   "cell_type": "markdown",
   "metadata": {
    "slideshow": {
     "slide_type": "slide"
    }
   },
   "source": [
    "# Contribution to GIScience learning outcomes\n",
    "\n",
    "This presentation contributes to the following learning outcomes for this course.\n",
    "\n",
    "1. Knowledge and Understanding:\n",
    "\t* Appreciate the importance of standards for Geographic Information and the role of the Open Geospatial Consortium.\n",
    "\t* Understand the term 'interoperability'.\n",
    "\t* Appreciate the different models for database design.\n",
    "\t* Understand the basis of Linked Data.\n",
    "\t* Find UK government open data and understand some of the complexities in the use of this data.\n",
    "\t* Appreciate the data issues involved in managing large distributed databases, Location-Based Services and the emergence of real-time data gathering through the 'Sensor-Web'.\n",
    "\t* Understand the different models for creating international Spatial Data Infrastructures.\n",
    "1. Intellectual Skills:\n",
    "\t* Evaluate the role of standards and professional bodies in GIS.\n",
    "\t* Articulate the meaning and importance of interoperability, semantics and ontologies.\n",
    "\t* Assess the technical and organisational issues which come into play when attempting to design large distributed geographic databases aimed at supporting 'real-world' problems.\n",
    "    \n"
   ]
  },
  {
   "cell_type": "markdown",
   "metadata": {
    "slideshow": {
     "slide_type": "slide"
    }
   },
   "source": [
    "# A potted history of mapping"
   ]
  },
  {
   "cell_type": "markdown",
   "metadata": {
    "collapsed": true,
    "slideshow": {
     "slide_type": "fragment"
    }
   },
   "source": [
    "## In the beginning was the geoword\n"
   ]
  },
  {
   "cell_type": "markdown",
   "metadata": {
    "slideshow": {
     "slide_type": "fragment"
    }
   },
   "source": [
    "and the word was ***cartography***\n"
   ]
  },
  {
   "cell_type": "markdown",
   "metadata": {
    "slideshow": {
     "slide_type": "subslide"
    }
   },
   "source": [
    "![The lens of cartography @TheLensOfCartography_beck_2015](https://upload.wikimedia.org/wikipedia/commons/thumb/8/85/TheLensOfCartography.svg/1024px-TheLensOfCartography.svg.png)\n"
   ]
  },
  {
   "cell_type": "markdown",
   "metadata": {
    "slideshow": {
     "slide_type": "skip"
    }
   },
   "source": [
    "\\newpage"
   ]
  },
  {
   "cell_type": "markdown",
   "metadata": {
    "collapsed": true,
    "slideshow": {
     "slide_type": "subslide"
    }
   },
   "source": [
    "![A static map (public domain) encapsulating spatial knowledge in a portable manner](https://upload.wikimedia.org/wikipedia/commons/thumb/f/f0/Claudius_Ptolemy-_The_World.jpg/1024px-Claudius_Ptolemy-_The_World.jpg)"
   ]
  },
  {
   "cell_type": "markdown",
   "metadata": {
    "slideshow": {
     "slide_type": "notes"
    }
   },
   "source": [
    "* Cartography was king. \n",
    "* Static representations of spatial knowledge with the cartographer deciding what to represent. \n",
    "    * Hence, maps are domain specific knowledge repositories for spatial data"
   ]
  },
  {
   "cell_type": "markdown",
   "metadata": {
    "slideshow": {
     "slide_type": "skip"
    }
   },
   "source": [
    "\\newpage"
   ]
  },
  {
   "cell_type": "markdown",
   "metadata": {
    "collapsed": true,
    "slideshow": {
     "slide_type": "slide"
    }
   },
   "source": [
    "# And then there was data .........\n",
    "\n",
    "\n"
   ]
  },
  {
   "cell_type": "markdown",
   "metadata": {
    "slideshow": {
     "slide_type": "fragment"
    }
   },
   "source": [
    "![Data @Data_types_en_beck_2015](https://upload.wikimedia.org/wikipedia/commons/thumb/6/6d/Data_types_-_en.svg/576px-Data_types_-_en.svg.png)"
   ]
  },
  {
   "cell_type": "markdown",
   "metadata": {
    "slideshow": {
     "slide_type": "skip"
    }
   },
   "source": [
    "\\newpage"
   ]
  },
  {
   "cell_type": "markdown",
   "metadata": {
    "collapsed": true,
    "slideshow": {
     "slide_type": "subslide"
    }
   },
   "source": [
    "![But the data was siloed (restricted use)](https://dl.dropboxusercontent.com/u/393477/ImageBank/ForOGC/TheEndOfThe20thCentury.png)"
   ]
  },
  {
   "cell_type": "markdown",
   "metadata": {
    "collapsed": false,
    "slideshow": {
     "slide_type": "notes"
    }
   },
   "source": [
    "Restrictive data"
   ]
  },
  {
   "cell_type": "markdown",
   "metadata": {
    "slideshow": {
     "slide_type": "skip"
    }
   },
   "source": [
    "\\newpage"
   ]
  },
  {
   "cell_type": "markdown",
   "metadata": {
    "slideshow": {
     "slide_type": "subslide"
    }
   },
   "source": [
    "![The implications of a landscape of silo-ed data @IslandsOfData_en_beck_2015](https://upload.wikimedia.org/wikipedia/commons/thumb/3/3d/Islands_Of_Data.svg/1017px-Islands_Of_Data.svg.png)"
   ]
  },
  {
   "cell_type": "markdown",
   "metadata": {
    "slideshow": {
     "slide_type": "notes"
    }
   },
   "source": [
    "Disconnected data with different:\n",
    "    \n",
    "* Standards\n",
    "* Quality\n",
    "* Databases\n",
    "* Semantics"
   ]
  },
  {
   "cell_type": "markdown",
   "metadata": {
    "slideshow": {
     "slide_type": "skip"
    }
   },
   "source": [
    "\\newpage"
   ]
  },
  {
   "cell_type": "markdown",
   "metadata": {
    "slideshow": {
     "slide_type": "subslide"
    }
   },
   "source": [
    "# Why is this an issue?\n",
    "\n",
    "Over to you......\n",
    "\n",
    "\n",
    "\n"
   ]
  },
  {
   "cell_type": "markdown",
   "metadata": {
    "slideshow": {
     "slide_type": "fragment"
    }
   },
   "source": [
    "* Decision Making\n",
    "    * certainty\n",
    "    * uncertainty\n",
    "* Co-ordination\n",
    "* Policy formation\n",
    "* Efficiencies\n",
    "* Best Practice\n"
   ]
  },
  {
   "cell_type": "markdown",
   "metadata": {
    "slideshow": {
     "slide_type": "skip"
    }
   },
   "source": [
    "\\newpage"
   ]
  },
  {
   "cell_type": "markdown",
   "metadata": {
    "slideshow": {
     "slide_type": "subslide"
    }
   },
   "source": [
    "# [INSPIRE](http://inspire.ec.europa.eu/)\n",
    "\n"
   ]
  },
  {
   "cell_type": "code",
   "execution_count": 2,
   "metadata": {
    "collapsed": false
   },
   "outputs": [
    {
     "data": {
      "text/html": [
       "\n",
       "        <iframe\n",
       "            width=\"400\"\n",
       "            height=\"300\"\n",
       "            src=\"https://www.youtube.com/embed/xew6qI-6wNk\"\n",
       "            frameborder=\"0\"\n",
       "            allowfullscreen\n",
       "        ></iframe>\n",
       "        "
      ],
      "text/plain": [
       "<IPython.lib.display.YouTubeVideo at 0x7f44bc704e10>"
      ]
     },
     "execution_count": 2,
     "metadata": {},
     "output_type": "execute_result"
    }
   ],
   "source": [
    "from IPython.display import YouTubeVideo\n",
    "YouTubeVideo('xew6qI-6wNk')\n"
   ]
  },
  {
   "cell_type": "markdown",
   "metadata": {
    "slideshow": {
     "slide_type": "skip"
    }
   },
   "source": [
    "\\newpage"
   ]
  },
  {
   "cell_type": "markdown",
   "metadata": {
    "slideshow": {
     "slide_type": "subslide"
    }
   },
   "source": [
    "# INSPIRE principles\n",
    "\n",
    "* Data should be collected only once and kept where it can be maintained most effectively\n",
    "* It should be possible to combine seamless spatial information from different sources across Europe and share it with many users and applications\n",
    "* It should be possible for information collected at one level/scale to be shared with all levels/scales; detailed for thorough investigations, general for strategic purposes\n",
    "* Geoinformation needed for good governance at all levels should be readily and transparently available\n",
    "* Easy to find what geoinformation is available, how it can be used to meet a particular need, and under which conditions it can be acquired and used"
   ]
  },
  {
   "cell_type": "markdown",
   "metadata": {
    "slideshow": {
     "slide_type": "skip"
    }
   },
   "source": [
    "\\newpage"
   ]
  },
  {
   "cell_type": "markdown",
   "metadata": {
    "slideshow": {
     "slide_type": "subslide"
    }
   },
   "source": [
    "![Concerted efforts to de-silo data and make data interoperable (restricted use)](https://dl.dropboxusercontent.com/u/393477/ImageBank/ForOGC/TheCatalyst.png)"
   ]
  },
  {
   "cell_type": "markdown",
   "metadata": {
    "slideshow": {
     "slide_type": "notes"
    }
   },
   "source": [
    "Making data interoperable and open"
   ]
  },
  {
   "cell_type": "markdown",
   "metadata": {
    "slideshow": {
     "slide_type": "skip"
    }
   },
   "source": [
    "\\newpage"
   ]
  },
  {
   "cell_type": "markdown",
   "metadata": {
    "slideshow": {
     "slide_type": "slide"
    }
   },
   "source": [
    "# Interoperability\n",
    "\n",
    "> is a property of a product or system, whose interfaces are completely understood, to work with other products or systems, present or future, without any restricted access or implementation.\n",
    "\n",
    "@wikipedia_interoperability_2016\n",
    "\n",
    "\n"
   ]
  },
  {
   "cell_type": "markdown",
   "metadata": {
    "slideshow": {
     "slide_type": "skip"
    }
   },
   "source": [
    "\\newpage"
   ]
  },
  {
   "cell_type": "markdown",
   "metadata": {
    "slideshow": {
     "slide_type": "subslide"
    }
   },
   "source": [
    "# Technical interoperability - levelling the field\n",
    "\n",
    "![Interoperable integration of spatial data - the technological issues @TechnicalInteroperableIntegrationOfSpatialData_beck_2015](https://upload.wikimedia.org/wikipedia/commons/thumb/5/53/TechnicalInteroperableIntegrationOfSpatialData.svg/1024px-TechnicalInteroperableIntegrationOfSpatialData.svg.png)"
   ]
  },
  {
   "cell_type": "markdown",
   "metadata": {
    "slideshow": {
     "slide_type": "skip"
    }
   },
   "source": [
    "\\newpage"
   ]
  },
  {
   "cell_type": "markdown",
   "metadata": {
    "slideshow": {
     "slide_type": "subslide"
    }
   },
   "source": [
    "# Syntactic Heterogeneity\n",
    "\n",
    "> the difference in data format. The same **logical model** can be represented in a range of different **physical models** (for example ESRI shape file or Geography Mark-up Language (GML)).\n",
    "\n",
    "This mismatch between underlying data models implies that the same information could be represented differently in different organisations. \n",
    "\n",
    "The most profound difference is in the storage paradigm: \n",
    "\n",
    "* relational, \n",
    "* object orientated or\n",
    "* hybrids.\n",
    "\n",
    "@beck_uk_2008, @bishr_overcoming_1998\n"
   ]
  },
  {
   "cell_type": "markdown",
   "metadata": {
    "slideshow": {
     "slide_type": "skip"
    }
   },
   "source": [
    "\\newpage"
   ]
  },
  {
   "cell_type": "markdown",
   "metadata": {
    "slideshow": {
     "slide_type": "subslide"
    }
   },
   "source": [
    "# Semantic Heterogeneity\n",
    "\n",
    "> Semantic heterogeneity refers to differences in naming conventions and conceptual groupings.\n",
    "\n",
    "This can be subdivided into **naming** and **cognitive** heterogeneities. \n",
    "\n",
    "* Naming (synonym) mismatch arises when semantically identical data items are named differently. \n",
    "* Cognitive (homonym) mismatch arises when semantically different data items are named identically.\n",
    "    * Cognitive semantics can be subtle, reflecting the domain of discourse.\n",
    "\n",
    "@beck_uk_2008, @bishr_overcoming_1998\n"
   ]
  },
  {
   "cell_type": "markdown",
   "metadata": {
    "slideshow": {
     "slide_type": "skip"
    }
   },
   "source": [
    "\\newpage"
   ]
  },
  {
   "cell_type": "markdown",
   "metadata": {
    "slideshow": {
     "slide_type": "subslide"
    }
   },
   "source": [
    "# Schematic Heterogeneity\n",
    "\n",
    "> refers to the differences in data model between organisations modelling the same concepts. \n",
    "\n",
    "This reflects each organisation’s abstracted view of their business and physical assets. Hence, different hierarchical and classification concepts are adopted by each organisation to refer to identical or similar real world objects.\n",
    "\n",
    "@beck_uk_2008, @bishr_overcoming_1998\n"
   ]
  },
  {
   "cell_type": "markdown",
   "metadata": {
    "slideshow": {
     "slide_type": "skip"
    }
   },
   "source": [
    "\\newpage"
   ]
  },
  {
   "cell_type": "markdown",
   "metadata": {
    "slideshow": {
     "slide_type": "subslide"
    }
   },
   "source": [
    "# The role of the OGC (a geospatial standards body)\n",
    "\n",
    "\n",
    "* To serve as a global forum for the development, promotion and harmonization of *open and freely available* **geospatial standards**\n",
    "* To achieve the full societal, economic and scientific benefits of integrating electronic location resources into commercial and institutional processes worldwide. \n",
    "\n",
    "![The OGC Logo](http://www2.isprs.org/tl_files/isprs/comm2/symposium/Documents/OGC_logo.png)\n",
    "\n"
   ]
  },
  {
   "cell_type": "markdown",
   "metadata": {
    "slideshow": {
     "slide_type": "skip"
    }
   },
   "source": [
    "\\newpage"
   ]
  },
  {
   "cell_type": "markdown",
   "metadata": {
    "slideshow": {
     "slide_type": "subslide"
    }
   },
   "source": [
    "# The role of the OGC (a geospatial standards body)\n",
    "\n",
    "OGC’s Open Standards are:\n",
    "\n",
    "* Freely and publicly available\n",
    "* Non discriminatory\n",
    "* No license fees\n",
    "* Vendor neutral\n",
    "* Data neutral\n",
    "* Adopted in a formal, member based consensus process\n",
    "\n",
    "OGC’s Open Standards are submitted to other industry and National Standards Development Organisations in the vertical area and to global organisations like ISO for standard branding. "
   ]
  },
  {
   "cell_type": "markdown",
   "metadata": {
    "slideshow": {
     "slide_type": "skip"
    }
   },
   "source": [
    "\\newpage"
   ]
  },
  {
   "cell_type": "markdown",
   "metadata": {
    "slideshow": {
     "slide_type": "subslide"
    }
   },
   "source": [
    "# OGC Technologies\n",
    "\n",
    "* The OGC publish standards that have been agreed by OGC members\n",
    "* Current standards can be found at: [http://www.opengeospatial.org/standards](http://www.opengeospatial.org/standards)\n",
    "* These are implementation standards\n",
    "\t* written for a more technical audience and detail the interface structure between software components\n",
    "* Predicated on abstract specifications\n",
    "\t* the conceptual foundation for most OGC standards development activities\n",
    "\t* [http://www.opengeospatial.org/specs/?page=abstract](http://www.opengeospatial.org/specs/?page=abstract)\n"
   ]
  },
  {
   "cell_type": "markdown",
   "metadata": {
    "slideshow": {
     "slide_type": "skip"
    }
   },
   "source": [
    "\\newpage"
   ]
  },
  {
   "cell_type": "markdown",
   "metadata": {
    "slideshow": {
     "slide_type": "subslide"
    }
   },
   "source": [
    "# The main OGC standards\n",
    "\n",
    "* [WMS – Web Map Service](http://www.opengeospatial.org/standards/wms)\n",
    "\t* Provides rendered images of maps\n",
    "\t* Current version: 1.3\n",
    "* [WFS – Web Feature Service](http://www.opengeospatial.org/standards/wfs)\n",
    "\t* Provides vector data on demand\n",
    "\t* Current version: 2.0\n",
    "* [WCS – Web Coverage Service](http://www.opengeospatial.org/standards/wcs)\n",
    "\t* Provides raster data (e.g. satellite data) on demand\n",
    "\t* Current version: 2.0\n",
    "* [GML – The Geography Markup Language](http://www.opengeospatial.org/standards/gml)\n",
    "\t* Used as an interoperable standard for transmitting geographic data (2D, 3D, topology, etc.)\n",
    "\t* Versions 2.1.x and 3.2.1 are most relevant"
   ]
  },
  {
   "cell_type": "markdown",
   "metadata": {
    "slideshow": {
     "slide_type": "skip"
    }
   },
   "source": [
    "\\newpage"
   ]
  },
  {
   "cell_type": "markdown",
   "metadata": {
    "slideshow": {
     "slide_type": "subslide"
    }
   },
   "source": [
    "# Other OGC standards"
   ]
  },
  {
   "cell_type": "code",
   "execution_count": 23,
   "metadata": {
    "collapsed": false,
    "slideshow": {
     "slide_type": "-"
    }
   },
   "outputs": [
    {
     "data": {
      "text/html": [
       "\n",
       "        <iframe\n",
       "            width=\"1000\"\n",
       "            height=\"700\"\n",
       "            src=\"http://www.opengeospatial.org/standards\"\n",
       "            frameborder=\"0\"\n",
       "            allowfullscreen\n",
       "        ></iframe>\n",
       "        "
      ],
      "text/plain": [
       "<IPython.lib.display.IFrame at 0x7f6ca5438c18>"
      ]
     },
     "execution_count": 23,
     "metadata": {},
     "output_type": "execute_result"
    }
   ],
   "source": [
    "from IPython.display import IFrame\n",
    "IFrame('http://www.opengeospatial.org/standards', width=1000, height=700)"
   ]
  },
  {
   "cell_type": "markdown",
   "metadata": {
    "slideshow": {
     "slide_type": "skip"
    }
   },
   "source": [
    "\\newpage"
   ]
  },
  {
   "cell_type": "markdown",
   "metadata": {
    "slideshow": {
     "slide_type": "subslide"
    }
   },
   "source": [
    "# Interoperability in action\n",
    "\n",
    "![The use of OGC standards in an interoperable multi-data delivery environment @GeoServerGeoNetworkWithWebApp2013](https://upload.wikimedia.org/wikipedia/commons/thumb/0/09/GeoServer_GeoNetwork_with_web_app.svg/877px-GeoServer_GeoNetwork_with_web_app.svg.png)"
   ]
  },
  {
   "cell_type": "markdown",
   "metadata": {
    "slideshow": {
     "slide_type": "skip"
    }
   },
   "source": [
    "\\newpage"
   ]
  },
  {
   "cell_type": "markdown",
   "metadata": {
    "slideshow": {
     "slide_type": "slide"
    }
   },
   "source": [
    "# What did technical interoperability facilitate\n",
    "\n",
    "![From Map to Model The changing paradigm of map creation from cartography to data driven visualization @FromMapToModel_beck_2015](https://upload.wikimedia.org/wikipedia/commons/thumb/a/a0/FromMapToModel.svg/1024px-FromMapToModel.svg.png)"
   ]
  },
  {
   "cell_type": "markdown",
   "metadata": {
    "slideshow": {
     "slide_type": "notes"
    }
   },
   "source": [
    "From Map to Model The changing paradigm of map creation from cartography to data driven visualization"
   ]
  },
  {
   "cell_type": "markdown",
   "metadata": {
    "slideshow": {
     "slide_type": "skip"
    }
   },
   "source": [
    "\\newpage"
   ]
  },
  {
   "cell_type": "markdown",
   "metadata": {
    "slideshow": {
     "slide_type": "subslide"
    }
   },
   "source": [
    "![A new working paradigm (public domain)](https://dl.dropboxusercontent.com/u/393477/ImageBank/ForOGC/ANewWorkingParadigm.png)"
   ]
  },
  {
   "cell_type": "markdown",
   "metadata": {
    "slideshow": {
     "slide_type": "skip"
    }
   },
   "source": [
    "\\newpage"
   ]
  },
  {
   "cell_type": "markdown",
   "metadata": {
    "slideshow": {
     "slide_type": "subslide"
    }
   },
   "source": [
    "# The world was a happy place.......\n",
    "\n",
    "Our data was interoperable!\n",
    "\n",
    "![But time moved on @NonsymmetricVelocity_en_cleonis_2006](https://upload.wikimedia.org/wikipedia/commons/7/72/Nonsymmetric_velocity_time_dilation.gif)\n"
   ]
  },
  {
   "cell_type": "markdown",
   "metadata": {
    "slideshow": {
     "slide_type": "skip"
    }
   },
   "source": [
    "\\newpage"
   ]
  },
  {
   "cell_type": "markdown",
   "metadata": {
    "slideshow": {
     "slide_type": "slide"
    }
   },
   "source": [
    "# Then ....... along came **open data**\n",
    "\n",
    "![open data word cloud of Anthony Beck](https://dl.dropboxusercontent.com/u/393477/SharedPresentations/Shared_HTML5/Images/ARB_WordleCloud.png)"
   ]
  },
  {
   "cell_type": "markdown",
   "metadata": {
    "slideshow": {
     "slide_type": "skip"
    }
   },
   "source": [
    "\\newpage"
   ]
  },
  {
   "cell_type": "markdown",
   "metadata": {
    "slideshow": {
     "slide_type": "subslide"
    }
   },
   "source": [
    "# The Open landscape integrates **formal** and **informal** data\n",
    "\n",
    "![Local To Global integration of data to create multiple generic products @Local_To_Global_integration_of_data_to_create_multiple_generic_products_beck_2015](https://upload.wikimedia.org/wikipedia/commons/thumb/1/19/Local_To_Global_integration_of_data_to_create_multiple_generic_products.svg/1024px-Local_To_Global_integration_of_data_to_create_multiple_generic_products.svg.png)"
   ]
  },
  {
   "cell_type": "markdown",
   "metadata": {
    "slideshow": {
     "slide_type": "skip"
    }
   },
   "source": [
    "\\newpage"
   ]
  },
  {
   "cell_type": "markdown",
   "metadata": {
    "collapsed": true,
    "slideshow": {
     "slide_type": "subslide"
    }
   },
   "source": [
    "![Cartography is no longer key. Spatial mapping is now about the the formal and informal data stack. Elements such as provenance, credibility are much more important for use and re-use of this data. @CartographyNoLongerKing_beck_2015](https://upload.wikimedia.org/wikipedia/commons/thumb/1/1c/CartographyNoLongerKing.svg/1024px-CartographyNoLongerKing.svg.png)"
   ]
  },
  {
   "cell_type": "markdown",
   "metadata": {
    "slideshow": {
     "slide_type": "skip"
    }
   },
   "source": [
    "\\newpage"
   ]
  },
  {
   "cell_type": "markdown",
   "metadata": {
    "slideshow": {
     "slide_type": "subslide"
    }
   },
   "source": [
    "# Background  - originally a grass roots (community) movement..\n",
    "\n",
    "![The Open Knowledge Foundation (@Open_Knowledge_logo), Open Street Map (@Openstreetmap_logo), Wikipedia (@Wikipedia-logo-v2-en) and OSGeo](https://dl.dropboxusercontent.com/u/393477/ImageBank/Open_logos.png)\n"
   ]
  },
  {
   "cell_type": "markdown",
   "metadata": {
    "slideshow": {
     "slide_type": "notes"
    }
   },
   "source": [
    "Open access to knowledge gained significant momementum with the increased uptake of the World Wide Web. This is particularly seen in initiatives like [Wikipedia](https://en.wikipedia.org) (established in 2001) and [Open Knowledge](https://en.wikipedia.org/wiki/Open_Knowledge) (was the Open Knowledge Foundation: established in 2004). Within the Geo community [Open Street Map ](https://en.wikipedia.org/wiki/OpenStreetMap) (also established in 2004) and the [Open Source Geospatial Foundation](https://en.wikipedia.org/wiki/Open_Source_Geospatial_Foundation) (OSGeo - established in 2006) are key initiatives that promote accessible data and software resources respectively.\n",
    "\n",
    "Critical to this is that these were **grass roots** (community) movements that have proven to be highly disruptive to incumbent data providers, practices and policies. "
   ]
  },
  {
   "cell_type": "markdown",
   "metadata": {
    "slideshow": {
     "slide_type": "skip"
    }
   },
   "source": [
    "\\newpage"
   ]
  },
  {
   "cell_type": "markdown",
   "metadata": {
    "slideshow": {
     "slide_type": "subslide"
    }
   },
   "source": [
    "# Open in government\n",
    "\n",
    "![](https://dl.dropboxusercontent.com/u/393477/ImageBank/ForOGC/InteroperabilitySemanticsAndOpenData.png)"
   ]
  },
  {
   "cell_type": "markdown",
   "metadata": {
    "slideshow": {
     "slide_type": "notes"
    }
   },
   "source": [
    "The impact of these grass roots movements is seen in Open Data (dot) gov. Pioneered by leaders such as Tim Berners Lee and Nigel Shadbolt\n",
    "\n",
    "The Shakespeare review [-@shakespeare_shakespeare_2013] indicate that the amount of government Open Data, at least in the UK, is only going to grow.\n",
    "Open data has the potential to trigger a revolution in how governments think about providing services to citizens and how they measure their success: this produces societal impact.\n",
    "This will require an understanding of citizen needs, behaviours, and mental models, and how to use data to improve services."
   ]
  },
  {
   "cell_type": "markdown",
   "metadata": {
    "slideshow": {
     "slide_type": "skip"
    }
   },
   "source": [
    "\\newpage"
   ]
  },
  {
   "cell_type": "markdown",
   "metadata": {
    "slideshow": {
     "slide_type": "subslide"
    }
   },
   "source": [
    "## Valuing Open Data\n",
    "\n",
    "![McKinsey report valuing *open data* [@mckinsey_open_2013]](https://dl.dropboxusercontent.com/u/393477/ImageBank/Mckinsey_Value_of_OpenData.png)"
   ]
  },
  {
   "cell_type": "markdown",
   "metadata": {
    "slideshow": {
     "slide_type": "notes"
    }
   },
   "source": [
    "A [McKinsey Global Institute report examines the economic impact of Open Data](http://www.mckinsey.com/insights/business_technology/open_data_unlocking_innovation_and_performance_with_liquid_information) [@mckinsey_open_2013] and estimates that globally open data could be worth a minimum of $3 trillion annually. "
   ]
  },
  {
   "cell_type": "markdown",
   "metadata": {
    "slideshow": {
     "slide_type": "skip"
    }
   },
   "source": [
    "\\newpage"
   ]
  },
  {
   "cell_type": "markdown",
   "metadata": {
    "slideshow": {
     "slide_type": "subslide"
    }
   },
   "source": [
    "# Open in academia\n",
    "\n",
    "> Open inquiry is at the heart of the scientific enterprise..... Science’s powerful capacity for self-correction comes from this openness to scrutiny and challenge.\n",
    "\n",
    "*Science as an open enterprise* [@royal_society_science_2012 p. 7].\n",
    "\n",
    ">Science is based on building on, reusing and openly criticising the published body of scientific knowledge.\n",
    "\n",
    ">For science to effectively function, and for society to reap the full benefits from scientific endeavours, it is crucial that science data be made open.\n",
    "\n",
    "The Panton Principles (@murray-rust_panton_2010) which underpin **Open Science**.\n"
   ]
  },
  {
   "cell_type": "markdown",
   "metadata": {
    "slideshow": {
     "slide_type": "notes"
    }
   },
   "source": [
    "The Royal Society’s report Science as an open enterprise [-@royal_society_science_2012] identifies how 21^st^ century communication technologies are changing the ways in which scientists conduct, and society engages with, science. The report recognises that ‘open’ enquiry is pivotal for the success of science, both in research and in society.\n",
    "\n",
    "The Panton Principles pre-cursed this call with a clarion call to the academic community to open their data and start to conduct **open science**."
   ]
  },
  {
   "cell_type": "markdown",
   "metadata": {
    "slideshow": {
     "slide_type": "subslide"
    }
   },
   "source": [
    "![@open_science_does_not_equal_open_access_2013](https://upload.wikimedia.org/wikipedia/commons/thumb/7/7c/Open_Science_Does_Not_Equal_Open_Access.svg/1024px-Open_Science_Does_Not_Equal_Open_Access.svg.png)"
   ]
  },
  {
   "cell_type": "markdown",
   "metadata": {
    "slideshow": {
     "slide_type": "notes"
    }
   },
   "source": [
    "This goes beyond open access to publications (Open Access), to include access to data and other research outputs (Open Data), and the process by which data is turned into knowledge (Open Science)."
   ]
  },
  {
   "cell_type": "markdown",
   "metadata": {
    "slideshow": {
     "slide_type": "subslide"
    }
   },
   "source": [
    "## The next generation open data in academia\n",
    "\n",
    "![](https://dl.dropboxusercontent.com/u/393477/ImageBank/zenodo.png)\n",
    "\n",
    "Zenodo is a **DATA REPOSITORY** which offers:\n",
    "\n",
    "* accreditation \n",
    "* different licences \n",
    "* different exposure (private (closed), public (open) and embargoed (timestamped)) \n",
    "* DOIs \n",
    "* is free at the point of use  \n",
    "* is likely to be around for a long time \n",
    "    * supported by Horizon 2020 and delivered by CERN\n",
    "    \n"
   ]
  },
  {
   "cell_type": "markdown",
   "metadata": {
    "slideshow": {
     "slide_type": "skip"
    }
   },
   "source": [
    "\\newpage"
   ]
  },
  {
   "cell_type": "markdown",
   "metadata": {
    "slideshow": {
     "slide_type": "subslide"
    }
   },
   "source": [
    "# The underlying rationale of Open Data is: \n",
    "\n",
    "* unfettered access to large amounts of ‘raw’ data \n",
    "    * enables patterns of re-use and knowledge creation that were previously impossible. \n",
    "    * improves transparency and efficiency\n",
    "    * encourages innovative service delivery\n",
    "* introduces a range of data-mining and visualisation challenges, \n",
    "    * which require multi-disciplinary collaboration across domains\n",
    "    * catalyst to research and industry\n",
    "* supports the generation of new products, services and markets\n",
    "* the prize for succeeding is improved knowledge-led policy and practice that transforms \n",
    "    * communities, \n",
    "    * practitioners, \n",
    "    * science and \n",
    "    * society\n"
   ]
  },
  {
   "cell_type": "markdown",
   "metadata": {
    "slideshow": {
     "slide_type": "skip"
    }
   },
   "source": [
    "\\newpage"
   ]
  },
  {
   "cell_type": "markdown",
   "metadata": {
    "slideshow": {
     "slide_type": "subslide"
    }
   },
   "source": [
    "# Free and Open Source Software in in Geo "
   ]
  },
  {
   "cell_type": "code",
   "execution_count": 21,
   "metadata": {
    "collapsed": false,
    "slideshow": {
     "slide_type": "-"
    }
   },
   "outputs": [
    {
     "data": {
      "text/html": [
       "\n",
       "        <iframe\n",
       "            width=\"1000\"\n",
       "            height=\"700\"\n",
       "            src=\"http://www.osgeo.org/\"\n",
       "            frameborder=\"0\"\n",
       "            allowfullscreen\n",
       "        ></iframe>\n",
       "        "
      ],
      "text/plain": [
       "<IPython.lib.display.IFrame at 0x7f6ca5438c50>"
      ]
     },
     "execution_count": 21,
     "metadata": {},
     "output_type": "execute_result"
    }
   ],
   "source": [
    "from IPython.display import IFrame\n",
    "IFrame('http://www.osgeo.org/', width=1200, height=700)"
   ]
  },
  {
   "cell_type": "markdown",
   "metadata": {
    "slideshow": {
     "slide_type": "skip"
    }
   },
   "source": [
    "\\newpage"
   ]
  },
  {
   "cell_type": "markdown",
   "metadata": {
    "slideshow": {
     "slide_type": "slide"
    }
   },
   "source": [
    "# So...... we have access to lots of data and software\n",
    "\n",
    "* Formal and Informal\n",
    "* Open and Proprietary\n",
    "\n",
    "\n"
   ]
  },
  {
   "cell_type": "markdown",
   "metadata": {
    "slideshow": {
     "slide_type": "fragment"
    }
   },
   "source": [
    "# Where are these new data products?\n",
    "\n",
    "Data, data everywhere - but where are the new derivatives and services?\n"
   ]
  },
  {
   "cell_type": "markdown",
   "metadata": {
    "slideshow": {
     "slide_type": "skip"
    }
   },
   "source": [
    "\\newpage"
   ]
  },
  {
   "cell_type": "markdown",
   "metadata": {
    "slideshow": {
     "slide_type": "subslide"
    }
   },
   "source": [
    "# Interoperability\n",
    "\n",
    "[The Defense domain are a bit more explicit......](http://www.dau.mil/pubscats/atl%20docs/jan-feb/watson_jan-feb10.pdf)\n",
    "\n",
    "> As defined by DoD policy, interoperability is the ability of systems, units, or forces to provide data, information, material, and services to, and accept the same from, other systems, units, or forces; and to use the data, information, material, and services so exchanged to enable them to operate effectively together. IT and NSS interoperability includes both the technical exchange of information and the end-to-end operational effectiveness of that exchanged information as required for mission accomplishment. Interoperability is more than just information exchange; it includes systems, processes, procedures, organizations, and missions over the life cycle and must be balanced with information assurance.\n",
    "\n",
    "@watson_joint_2010"
   ]
  },
  {
   "cell_type": "markdown",
   "metadata": {
    "slideshow": {
     "slide_type": "skip"
    }
   },
   "source": [
    "\\newpage"
   ]
  },
  {
   "cell_type": "markdown",
   "metadata": {
    "slideshow": {
     "slide_type": "subslide"
    }
   },
   "source": [
    "# Non-technical interoperability issues?\n",
    "\n",
    "\n",
    "\n",
    "![Islands of incompatibility [@IncompatibilitiesAndLicenceClauses_en_beck_2016]](https://upload.wikimedia.org/wikipedia/commons/thumb/0/0e/Incompatibilities_And_Licence_Clauses.svg/989px-Incompatibilities_And_Licence_Clauses.svg.png)"
   ]
  },
  {
   "cell_type": "markdown",
   "metadata": {
    "slideshow": {
     "slide_type": "skip"
    }
   },
   "source": [
    "\\newpage"
   ]
  },
  {
   "cell_type": "markdown",
   "metadata": {
    "slideshow": {
     "slide_type": "skip"
    }
   },
   "source": [
    "\\newpage"
   ]
  },
  {
   "cell_type": "markdown",
   "metadata": {
    "slideshow": {
     "slide_type": "subslide"
    }
   },
   "source": [
    "![The full stack that enables interoperable integration of spatial data @InteroperableIntegrationOfSpatialData_beck_2015](https://upload.wikimedia.org/wikipedia/commons/thumb/5/5d/InteroperableIntegrationOfSpatialData.svg/500px-InteroperableIntegrationOfSpatialData.svg.png)"
   ]
  },
  {
   "cell_type": "markdown",
   "metadata": {
    "slideshow": {
     "slide_type": "skip"
    }
   },
   "source": [
    "\\newpage"
   ]
  },
  {
   "cell_type": "markdown",
   "metadata": {
    "slideshow": {
     "slide_type": "notes"
    }
   },
   "source": [
    "# Non-technical interoperability\n",
    "\n",
    "Issues surrounding non-technical interoperability include:\n",
    "    \n",
    "* Policy interoperabilty\n",
    "* Licence interoperability\n",
    "* Legal interoperability\n",
    "* Social interoperability\n",
    "\n",
    "We will focus on licence interoperability\n",
    "    "
   ]
  },
  {
   "cell_type": "markdown",
   "metadata": {
    "slideshow": {
     "slide_type": "skip"
    }
   },
   "source": [
    "\\newpage"
   ]
  },
  {
   "cell_type": "markdown",
   "metadata": {
    "slideshow": {
     "slide_type": "subslide"
    }
   },
   "source": [
    "## Policy Interoperability\n",
    "\n",
    "The relationship between:\n",
    "\n",
    "* Individuals\n",
    "* Organisations\n",
    "* Countries\n",
    "\n",
    "Policy determines what, who and how different content can be accessed. \n",
    "\n",
    "In addition to other elements the policy statements determine:\n",
    "\n",
    "* Authentication\n",
    "* Authorization\n",
    "* Audit\n",
    "\n"
   ]
  },
  {
   "cell_type": "markdown",
   "metadata": {
    "slideshow": {
     "slide_type": "notes"
    }
   },
   "source": [
    "See @innocenti_towards_2011 for more details"
   ]
  },
  {
   "cell_type": "markdown",
   "metadata": {
    "slideshow": {
     "slide_type": "skip"
    }
   },
   "source": [
    "\\newpage"
   ]
  },
  {
   "cell_type": "markdown",
   "metadata": {
    "slideshow": {
     "slide_type": "subslide"
    }
   },
   "source": [
    "## Social (or human) Interoperability\n",
    "\n",
    "Social interoperability is concerned about the environment and business and human processes.\n",
    "\n",
    "* Tools are used by people\n",
    "* The social dimension of operational use is underestimated (it's difficult)\n",
    "* People form complex inclusive and exclusive networks\n",
    "    * These operate at many scales\n",
    "\n",
    "[US Department of Defence researchers have advocated](http://www.dtic.mil/ndia/2009systemengr/8854WednesdayTrack8Zavin.pdf) the development of Policy, Standards, and Operational Procedures for:\n",
    "\n",
    "* forming human networks\n",
    "* human to human communications\n",
    "* organization to organization communications\n",
    "* human system integration\n",
    "* information sharing across disparate domains:\n",
    "     * DoD-Coalition-Interagency-intercommunity\n"
   ]
  },
  {
   "cell_type": "markdown",
   "metadata": {
    "slideshow": {
     "slide_type": "skip"
    }
   },
   "source": [
    "\\newpage"
   ]
  },
  {
   "cell_type": "markdown",
   "metadata": {
    "slideshow": {
     "slide_type": "subslide"
    }
   },
   "source": [
    "## Legal Interoperability\n",
    "\n",
    "> Legal interoperability addresses the process of making legal rules cooperate across jurisdictions, on different subsidiary levels within a single state or between two or more states. \n",
    "\n",
    "(@weber_legal_2014, p. 6)\n",
    "\n",
    "The [Research Data Alliance](https://rd-alliance.org/) state that [legal interoperability occurs among multiple datasets when](https://rd-alliance.org/group/rdacodata-legal-interoperability-ig/wiki/legal-principles-data.html):\n",
    "\n",
    "* use conditions are clearly and readily determinable for each of the datasets,\n",
    "* the legal use conditions imposed on each dataset allow creation and use of combined or derivative products, and\n",
    "* users may legally access and use each dataset without seeking authorization from data rights holders on a case-by-case basis, assuming that the accumulated conditions of use for each and all of the datasets are met.\n",
    "\n",
    "Legal interoperability also implies that the search for or tracking of licenses or other legal instruments and their compatibility with other legal conditions will occur in online environments. "
   ]
  },
  {
   "cell_type": "markdown",
   "metadata": {
    "slideshow": {
     "slide_type": "skip"
    }
   },
   "source": [
    "\\newpage"
   ]
  },
  {
   "cell_type": "markdown",
   "metadata": {
    "slideshow": {
     "slide_type": "subslide"
    }
   },
   "source": [
    "### Licence Interoperability\n",
    "\n",
    "A specific form of legal interoperability"
   ]
  },
  {
   "cell_type": "markdown",
   "metadata": {
    "slideshow": {
     "slide_type": "skip"
    }
   },
   "source": [
    "\\newpage"
   ]
  },
  {
   "cell_type": "markdown",
   "metadata": {
    "slideshow": {
     "slide_type": "slide"
    }
   },
   "source": [
    "# Example of applying the semantic web to licence interoperability"
   ]
  },
  {
   "cell_type": "markdown",
   "metadata": {
    "slideshow": {
     "slide_type": "subslide"
    }
   },
   "source": [
    "![The modern data landscape (restricted)](https://dl.dropboxusercontent.com/u/393477/ImageBank/ForOGC/20151008_Re-UseUnderLicence.png)"
   ]
  },
  {
   "cell_type": "markdown",
   "metadata": {
    "collapsed": true,
    "slideshow": {
     "slide_type": "notes"
    }
   },
   "source": [
    "There is a multitude of formal and informal data. "
   ]
  },
  {
   "cell_type": "markdown",
   "metadata": {
    "slideshow": {
     "slide_type": "skip"
    }
   },
   "source": [
    "\\newpage"
   ]
  },
  {
   "cell_type": "markdown",
   "metadata": {
    "slideshow": {
     "slide_type": "subslide"
    }
   },
   "source": [
    "## What is a licence?\n",
    "\n",
    "[Wikipedia state:](https://en.wikipedia.org/wiki/License)\n",
    "\n",
    "> A license may be granted by a party (\"licensor\") to another party (\"licensee\") as an element of an agreement between those parties. \n",
    "\n",
    "> A shorthand definition of a license is \"an authorization (by the licensor) to use the licensed material (by the licensee).\"\n",
    "\n"
   ]
  },
  {
   "cell_type": "markdown",
   "metadata": {
    "slideshow": {
     "slide_type": "subslide"
    }
   },
   "source": [
    "![Some licences @rdflicense_2015](https://dl.dropboxusercontent.com/u/393477/ImageBank/ForOGC/SomeLicences_FromRDFLicences.png)"
   ]
  },
  {
   "cell_type": "markdown",
   "metadata": {
    "slideshow": {
     "slide_type": "notes"
    }
   },
   "source": [
    "Each of these data objects can be licenced in a different way. This shows some of the licences described by the RDFLicence ontology"
   ]
  },
  {
   "cell_type": "markdown",
   "metadata": {
    "slideshow": {
     "slide_type": "skip"
    }
   },
   "source": [
    "\\newpage"
   ]
  },
  {
   "cell_type": "code",
   "execution_count": null,
   "metadata": {
    "collapsed": true,
    "slideshow": {
     "slide_type": "skip"
    }
   },
   "outputs": [],
   "source": [
    "### Export this notebook as markdown\n",
    "commandLineSyntax = 'dot -Tpng FCA_ConceptAnalysis.dot > FCA_ConceptAnalysis.png'\n",
    "commandLineSyntax = 'dot -Tsvg FCA_ConceptAnalysis.dot > FCA_ConceptAnalysis.svg'\n",
    "print (commandLineSyntax)\n",
    "\n",
    "os.system(commandLineSyntax)\n"
   ]
  },
  {
   "cell_type": "markdown",
   "metadata": {
    "slideshow": {
     "slide_type": "subslide"
    }
   },
   "source": [
    "![Concepts surrounding licences (derived from Formal Concept Analysis)](http://g.gravizo.com/g?\n",
    " digraph graphname {\n",
    "     a [label=\"No derivation\"];\n",
    "     b [label=\"No Distribution and modification\"];\n",
    "     c [label=\"Any\"];\n",
    "     d [label=\"Read\"];\n",
    "     e [label=\"Distribution\"];\n",
    "     f [label=\"Modification\"];\n",
    "     g [label=\"Reproduction\"];\n",
    "     h [label=\"Present\"];\n",
    "     i [label=\"Sell\"];\n",
    "     j [label=\"Grant Use\"];\n",
    "     k [label=\"Include attribution\"];\n",
    "     l [label=\"Commercial use\"];\n",
    "     m [label=\"Public\"];\n",
    "     n [label=\"Share alike\"];\n",
    "     o [label=\"None\"];\n",
    "     p [label=\"No commercial use\"];\n",
    "     q [label=\"Derivation\"];\n",
    "     r [label=\"Include source\"];\n",
    "     s [label=\"Copyleft\"];\n",
    "     t [label=\"Include licence\"];\n",
    "     u [label=\"All reserved\"];\n",
    "     a -> c -> d -> j -> m -> o -> u -> a;\n",
    "     u -> b -> c;\n",
    "     c -> t -> s -> o -> p -> q -> l -> o;\n",
    "     o -> n -> q -> j -> i -> g -> k -> l -> e -> c -> g -> h -> j -> f -> e -> r -> g;\n",
    "     r -> s;\n",
    " }\n",
    ")"
   ]
  },
  {
   "cell_type": "markdown",
   "metadata": {
    "slideshow": {
     "slide_type": "subslide"
    }
   },
   "source": [
    "![Concepts surrounding licences (derived from Formal Concept Analysis)](https://dl.dropboxusercontent.com/u/393477/ImageBank/FCA_ConceptAnalysis.png)"
   ]
  },
  {
   "cell_type": "markdown",
   "metadata": {
    "slideshow": {
     "slide_type": "notes"
    }
   },
   "source": [
    "Concepts (derived from Formal Concept Analysis) surrounding licences"
   ]
  },
  {
   "cell_type": "markdown",
   "metadata": {
    "slideshow": {
     "slide_type": "skip"
    }
   },
   "source": [
    "\\newpage"
   ]
  },
  {
   "cell_type": "markdown",
   "metadata": {
    "slideshow": {
     "slide_type": "subslide"
    }
   },
   "source": [
    "Two lead organisations have developed legal frameworks for content licensing:\n",
    "\n",
    "* [Creative Commons (CC)](https://creativecommons.org/) and \n",
    "* [Open Data Commons (ODC)](http://opendatacommons.org/). \n",
    "\n",
    "Until the release of [CC version 4](https://wiki.creativecommons.org/4.0), published in November 2013, the CC licence did not cover data. Between them, CC and ODC licences can cover all forms of digital work.\n",
    "\n",
    "* **There are many other licence types**\n",
    "* Many are bespoke\n",
    "    * Bespoke licences are difficult to manage\n",
    "    * Many legacy datasets have bespoke licences"
   ]
  },
  {
   "cell_type": "markdown",
   "metadata": {
    "slideshow": {
     "slide_type": "subslide"
    }
   },
   "source": [
    "![Creative Commons @love_CC_2008](https://farm4.staticflickr.com/3148/2732488224_aedf36e837_b_d.jpg)"
   ]
  },
  {
   "cell_type": "markdown",
   "metadata": {
    "slideshow": {
     "slide_type": "notes"
    }
   },
   "source": [
    "I'll describe CC in more detail"
   ]
  },
  {
   "cell_type": "markdown",
   "metadata": {
    "slideshow": {
     "slide_type": "skip"
    }
   },
   "source": [
    "\\newpage"
   ]
  },
  {
   "cell_type": "markdown",
   "metadata": {
    "slideshow": {
     "slide_type": "slide"
    }
   },
   "source": [
    "## Creative Commons Zero \n",
    "\n",
    "Creative Commons Zero (CC0) is essentially public domain which allows:\n",
    "    \n",
    "* Reproduction\n",
    "* Distribution\n",
    "* Derivations\n",
    "\n",
    "\n"
   ]
  },
  {
   "cell_type": "markdown",
   "metadata": {
    "slideshow": {
     "slide_type": "skip"
    }
   },
   "source": [
    "\\newpage"
   ]
  },
  {
   "cell_type": "markdown",
   "metadata": {
    "slideshow": {
     "slide_type": "subslide"
    }
   },
   "source": [
    "### Constraints on CC0\n",
    "\n",
    "The following clauses constrain CC0:\n",
    "\n",
    "* Permissions\n",
    "    * ND – No derivatives: the licensee can not derive new content from the resource.\n",
    "* Requirements\n",
    "    * BY – By attribution: the licensee must attribute the source.\n",
    "    * SA – Share-alike: if the licensee adapts the resource, it must be released under the same licence.\n",
    "* Prohibitions\n",
    "    * NC – Non commercial: the licensee must not use the work commercially without prior approval.\n",
    "\n",
    "\n"
   ]
  },
  {
   "cell_type": "markdown",
   "metadata": {
    "slideshow": {
     "slide_type": "subslide"
    }
   },
   "source": [
    "### CC license combinations\n",
    "\n",
    "License|Reproduction|Distribution|Derivation|BY|SA|NC\n",
    "----|----|----|----|----|----|----\n",
    "CC0|X|X|X|||\n",
    "CC-BY-ND|X|X||X||\n",
    "CC-BY-NC-ND|X|X||X||X\n",
    "CC-BY|X|X|X|X||\n",
    "CC-BY-SA|X|X|X|X|X|\n",
    "CC-BY-NC|X|X|X|X||X\n",
    "CC-BY-NC-SA|X|X|X|X|X|X\n",
    "\n",
    "\n",
    "Table: [Creative Commons license combinations](https://docs.google.com/spreadsheets/d/17aT7Dj6QtE88XPS44oPQ7mVeSdY1YnZ1rlpjPvXNz0E/pub?single=true&gid=0&output=html)"
   ]
  },
  {
   "cell_type": "markdown",
   "metadata": {
    "slideshow": {
     "slide_type": "skip"
    }
   },
   "source": [
    "\\newpage"
   ]
  },
  {
   "cell_type": "markdown",
   "metadata": {
    "slideshow": {
     "slide_type": "subslide"
    }
   },
   "source": [
    "# Why are licenses important?\n",
    "\n",
    "* They tell you what you can and can't do with 'stuff'\n",
    "* Very significant when multiple datasets are combined\n",
    "    * It then becomes an issue of license compatibility\n",
    "\n",
    "\n",
    "![Compatibility of common open-source software licenses @Floss-license-slide-image_Wheeler_2007](https://upload.wikimedia.org/wikipedia/commons/1/1d/Floss-license-slide-image.png)"
   ]
  },
  {
   "cell_type": "markdown",
   "metadata": {
    "slideshow": {
     "slide_type": "skip"
    }
   },
   "source": [
    "\\newpage"
   ]
  },
  {
   "cell_type": "markdown",
   "metadata": {
    "slideshow": {
     "slide_type": "subslide"
    }
   },
   "source": [
    "## Which is important when we mash up data\n",
    "\n",
    "Certain licences when combined:\n",
    "    \n",
    "* Are incompatible\n",
    "    * Creating data islands\n",
    "* Inhibit commercial exploitation (NC)\n",
    "* Force the adoption of certain licences\n",
    "    * If you want people to commercially exploit your stuff don't incorporate CC-BY-NC-SA data!\n",
    "* Stops the derivation of *new works*\n",
    "\n"
   ]
  },
  {
   "cell_type": "markdown",
   "metadata": {
    "slideshow": {
     "slide_type": "skip"
    }
   },
   "source": [
    "\\newpage"
   ]
  },
  {
   "cell_type": "markdown",
   "metadata": {
    "slideshow": {
     "slide_type": "subslide"
    }
   },
   "source": [
    "![Islands of incompatibility [@IncompatibilitiesAndLicenceClauses_en_beck_2016]](https://upload.wikimedia.org/wikipedia/commons/thumb/0/0e/Incompatibilities_And_Licence_Clauses.svg/989px-Incompatibilities_And_Licence_Clauses.svg.png)"
   ]
  },
  {
   "cell_type": "markdown",
   "metadata": {
    "slideshow": {
     "slide_type": "skip"
    }
   },
   "source": [
    "\\newpage"
   ]
  },
  {
   "cell_type": "markdown",
   "metadata": {
    "slideshow": {
     "slide_type": "subslide"
    }
   },
   "source": [
    "![A conceptual licence processing workflow @ConceptualLicenceProcessingWorkflow_beck_2015](https://upload.wikimedia.org/wikipedia/commons/thumb/b/b4/ConceptualLicenceProcessingWorkflow.svg/1024px-ConceptualLicenceProcessingWorkflow.svg.png)\n"
   ]
  },
  {
   "cell_type": "markdown",
   "metadata": {
    "slideshow": {
     "slide_type": "notes"
    }
   },
   "source": [
    "A conceptual licence processing workflow. The licence processing service analyses the incoming licence metadata and determines if the data can be legally integrated and any resulting licence implications for the derived product."
   ]
  },
  {
   "cell_type": "markdown",
   "metadata": {
    "slideshow": {
     "slide_type": "skip"
    }
   },
   "source": [
    "\\newpage"
   ]
  },
  {
   "cell_type": "markdown",
   "metadata": {
    "slideshow": {
     "slide_type": "slide"
    }
   },
   "source": [
    "# A rudimentry logic example\n",
    "\n",
    "```\n",
    "Data1 hasDerivedContentIn NewThing.\n",
    "\n",
    "Data1 hasLicence a cc-by-sa.\n",
    "\n",
    "What hasLicence a cc-by-sa? #reason here\n",
    "\n",
    "If X hasDerivedContentIn Y and hasLicence Z then Y hasLicence Z. #reason here\n",
    "\n",
    "Data2 hasDerivedContentIn NewThing.\n",
    "\n",
    "Data2 hasLicence a cc-by-nc-sa.\n",
    "\n",
    "What hasLicence a cc-by-nc-sa? #reason here\n",
    "\n",
    "Nothing hasLicence a cc-by-nc-sa and hasLicence a cc-by-sa. #reason here\n",
    "```\n",
    "\n",
    "\n",
    "And processing this within the Protege reasoning environment"
   ]
  },
  {
   "cell_type": "code",
   "execution_count": null,
   "metadata": {
    "collapsed": false
   },
   "outputs": [],
   "source": [
    "from IPython.display import YouTubeVideo\n",
    "YouTubeVideo('jUzGF401vLc')"
   ]
  },
  {
   "cell_type": "markdown",
   "metadata": {
    "slideshow": {
     "slide_type": "skip"
    }
   },
   "source": [
    "\\newpage"
   ]
  },
  {
   "cell_type": "markdown",
   "metadata": {
    "slideshow": {
     "slide_type": "subslide"
    }
   },
   "source": [
    "## Here's something I prepared earlier\n",
    "\n",
    "A live presentation (for those who weren't at the event)....."
   ]
  },
  {
   "cell_type": "code",
   "execution_count": 12,
   "metadata": {
    "collapsed": false,
    "slideshow": {
     "slide_type": "fragment"
    }
   },
   "outputs": [
    {
     "data": {
      "text/html": [
       "\n",
       "        <iframe\n",
       "            width=\"400\"\n",
       "            height=\"300\"\n",
       "            src=\"https://www.youtube.com/embed/tkRB5Rp1_W4\"\n",
       "            frameborder=\"0\"\n",
       "            allowfullscreen\n",
       "        ></iframe>\n",
       "        "
      ],
      "text/plain": [
       "<IPython.lib.display.YouTubeVideo at 0x7f3ad00bc3d0>"
      ]
     },
     "execution_count": 12,
     "metadata": {},
     "output_type": "execute_result"
    }
   ],
   "source": [
    "from IPython.display import YouTubeVideo\n",
    "YouTubeVideo('tkRB5Rp1_W4')\n"
   ]
  },
  {
   "cell_type": "markdown",
   "metadata": {
    "slideshow": {
     "slide_type": "skip"
    }
   },
   "source": [
    "\\newpage"
   ]
  },
  {
   "cell_type": "markdown",
   "metadata": {
    "slideshow": {
     "slide_type": "slide"
    }
   },
   "source": [
    "# A more robust logic\n",
    "\n",
    "* Would need to decouple licence incompatibility from licence name into licence clause (see table below)\n",
    "* Deal with all licence type\n",
    "* Provide recommendations based on desired derivative licence type\n",
    "* Link this through to the type of process in a workflow:\n",
    "    * data derivation is, from a licence position, very different to contextual display\n",
    "\n",
    "License|Reproduction|Distribution|Derivation|BY|SA|NC\n",
    "----|----|----|----|----|----|----\n",
    "CC0|X|X|X|||\n",
    "CC-BY-ND|X|X||X||\n",
    "CC-BY-NC-ND|X|X||X||X\n",
    "CC-BY|X|X|X|X||\n",
    "CC-BY-SA|X|X|X|X|X|\n",
    "CC-BY-NC|X|X|X|X||X\n",
    "CC-BY-NC-SA|X|X|X|X|X|X\n",
    "ODC-PDDL|X|X|X|||\n",
    "ODC-BY|X|X|X|X||\n",
    "ODC-ODbL|X|X|X|X|X|\n",
    "OGL 2.0|X|X|X|X||\n",
    "OS OpenData|X|X|X|X|?|\n",
    "\n",
    "Table: [Creative Commons license combinations](https://docs.google.com/spreadsheets/d/17aT7Dj6QtE88XPS44oPQ7mVeSdY1YnZ1rlpjPvXNz0E/pub?single=true&gid=0&output=html)\n"
   ]
  },
  {
   "cell_type": "markdown",
   "metadata": {
    "slideshow": {
     "slide_type": "skip"
    }
   },
   "source": [
    "\\newpage"
   ]
  },
  {
   "cell_type": "markdown",
   "metadata": {
    "slideshow": {
     "slide_type": "subslide"
    }
   },
   "source": [
    "# OGC and Licence interoperability\n",
    "\n",
    "* The geo business landscape is increasingly based on integrating heterogeneous data to develop new products\n",
    "* Licence heterogeneity is a barrier to data integration and interoperability\n",
    "* A licence calculus can help resolve and identify heterogenties leading to\n",
    "    * legal compliance\n",
    "    * confidence\n",
    "* Use of standards and collaboration with organisations is crucial\n",
    "    * [Open Data Licensing ontology](https://github.com/theodi/open-data-licensing)\n",
    "    * [The Open Data Institute](http://theodi.org/)\n",
    "* Failure to do this could lead to breaches in data licenses\n",
    "    * and we all know where that puts us........\n",
    "    \n"
   ]
  },
  {
   "cell_type": "markdown",
   "metadata": {
    "collapsed": true,
    "slideshow": {
     "slide_type": "subslide"
    }
   },
   "source": [
    "![Breaching a data license can be serious (restricted = randomly!)](https://dl.dropboxusercontent.com/u/393477/ImageBank/Jail_Bars_Icon.png)"
   ]
  },
  {
   "cell_type": "markdown",
   "metadata": {
    "slideshow": {
     "slide_type": "skip"
    }
   },
   "source": [
    "\\newpage"
   ]
  },
  {
   "cell_type": "markdown",
   "metadata": {
    "slideshow": {
     "slide_type": "slide"
    }
   },
   "source": [
    "# Linked data and the Semantic Web\n",
    "\n",
    "## The web of Documents\n",
    "\n",
    "* a global filesystem\n",
    "* Designed for human consumption\n",
    "* Primary objects are documents\n",
    "* Expresses links between documents (or sub-parts of)\n",
    "* Degree of structure in objects is fairly low\n",
    "* Semantics of content and links is implicit\n",
    "\n"
   ]
  },
  {
   "cell_type": "markdown",
   "metadata": {
    "slideshow": {
     "slide_type": "subslide"
    }
   },
   "source": [
    "## The web of Linked Data\n",
    "\n",
    "* a global database\n",
    "* Designed for machines first, humans later\n",
    "* Primary objects are things (or descriptions of things)\n",
    "* Expresses links between things\n",
    "* Degree of structure in (descriptions of) things is high\n",
    "* Semantics of content and links explicit"
   ]
  },
  {
   "cell_type": "markdown",
   "metadata": {
    "slideshow": {
     "slide_type": "subslide"
    }
   },
   "source": [
    "![The Semantic Web Compared To The Traditional Web @SemWeb_TradWeb_en_beck_2015](https://upload.wikimedia.org/wikipedia/commons/thumb/9/98/The_Semantic_Web_Compared_To_The_Traditional_Web.svg/1024px-The_Semantic_Web_Compared_To_The_Traditional_Web.svg.png)"
   ]
  },
  {
   "cell_type": "markdown",
   "metadata": {
    "slideshow": {
     "slide_type": "skip"
    }
   },
   "source": [
    "\\newpage"
   ]
  },
  {
   "cell_type": "markdown",
   "metadata": {
    "slideshow": {
     "slide_type": "slide"
    }
   },
   "source": [
    "# Linked Data \n",
    "\n",
    "a way of publishing data on the Web that:\n",
    "\n",
    "* encourages reuse\n",
    "* reduces redundancy\n",
    "* maximises its (real and potential) inter-connectedness\n",
    "* enables network effects to add value to data\n"
   ]
  },
  {
   "cell_type": "markdown",
   "metadata": {
    "slideshow": {
     "slide_type": "subslide"
    }
   },
   "source": [
    "## Why publish Linked Data\n",
    "\n",
    "* Ease of discovery\n",
    "* Ease of consumption\n",
    "\t*  standards-based data sharing\n",
    "* Reduced redundancy\n",
    "* Added value\n",
    "\t* build ecosystems around your data/content"
   ]
  },
  {
   "cell_type": "markdown",
   "metadata": {},
   "source": [
    "![The Linked Open Data cloud in 2014 (@schmachtenberg_linking_2014)](http://lod-cloud.net/versions/2014-08-30/lod-cloud_colored.png)"
   ]
  },
  {
   "cell_type": "markdown",
   "metadata": {
    "slideshow": {
     "slide_type": "skip"
    }
   },
   "source": [
    "\\newpage"
   ]
  },
  {
   "cell_type": "markdown",
   "metadata": {
    "slideshow": {
     "slide_type": "slide"
    }
   },
   "source": [
    "# Linked Data Basics\n",
    "\n",
    "## [Four rules for Linked Data from Tim Berners Lee](https://www.w3.org/DesignIssues/LinkedData.html)\n",
    "\n",
    "1. Use URIs as names for things\n",
    "1. Use HTTP URIs so that people can look up those names.\n",
    "1. When someone looks up a URI, provide useful information, using the standards (RDF*, SPARQL)\n",
    "1. Include links to other URIs, so that they can discover more things."
   ]
  },
  {
   "cell_type": "markdown",
   "metadata": {
    "slideshow": {
     "slide_type": "skip"
    }
   },
   "source": [
    "\\newpage"
   ]
  },
  {
   "cell_type": "markdown",
   "metadata": {
    "slideshow": {
     "slide_type": "subslide"
    }
   },
   "source": [
    "# The [Resource Description Framework](https://en.wikipedia.org/wiki/Resource_Description_Framework) (RDF) data model\n",
    "\n",
    "RDF stores data as *triples* in the following manner:\n",
    "\n",
    "![](https://upload.wikimedia.org/wikipedia/commons/thumb/1/12/SubjectPredicateObject-GraphRDF.svg/640px-SubjectPredicateObject-GraphRDF.svg.png)\n",
    "\n",
    "This is a [graph model](https://en.wikipedia.org/wiki/Graph_(abstract_data_type) that consists of nodes (subject and object)) and edges (predicate)."
   ]
  },
  {
   "cell_type": "markdown",
   "metadata": {
    "slideshow": {
     "slide_type": "skip"
    }
   },
   "source": [
    "\\newpage"
   ]
  },
  {
   "cell_type": "markdown",
   "metadata": {
    "slideshow": {
     "slide_type": "subslide"
    }
   },
   "source": [
    "## Data expressed as RDF\n",
    "\n",
    "![](https://upload.wikimedia.org/wikipedia/commons/thumb/6/6b/AntAsData.svg/1024px-AntAsData.svg.png)"
   ]
  },
  {
   "cell_type": "markdown",
   "metadata": {
    "slideshow": {
     "slide_type": "skip"
    }
   },
   "source": [
    "\\newpage"
   ]
  },
  {
   "cell_type": "markdown",
   "metadata": {
    "slideshow": {
     "slide_type": "subslide"
    }
   },
   "source": [
    "## Data expressed as RDF Linked Data\n",
    "\n",
    "![](https://upload.wikimedia.org/wikipedia/commons/thumb/b/ba/AntAsLinkedData.svg/1024px-AntAsLinkedData.svg.png)"
   ]
  },
  {
   "cell_type": "markdown",
   "metadata": {
    "slideshow": {
     "slide_type": "skip"
    }
   },
   "source": [
    "\\newpage"
   ]
  },
  {
   "cell_type": "markdown",
   "metadata": {
    "slideshow": {
     "slide_type": "subslide"
    }
   },
   "source": [
    "## [RDF notation](https://en.wikipedia.org/wiki/Resource_Description_Framework)\n",
    "\n",
    "RDF can be represented in different ways - each of which are interoperable. For example:\n",
    "\n",
    "* RDF/XML, \n",
    "* Notation-3 (N3), \n",
    "* Turtle (.ttl), \n",
    "* N-Triples, \n",
    "* RDFa,\n",
    "* RDF/JSON\n",
    "\n",
    "Each represent *subject, predicate, object* triples in different ways\n"
   ]
  },
  {
   "cell_type": "markdown",
   "metadata": {
    "slideshow": {
     "slide_type": "skip"
    }
   },
   "source": [
    "\\newpage"
   ]
  },
  {
   "cell_type": "markdown",
   "metadata": {
    "slideshow": {
     "slide_type": "subslide"
    }
   },
   "source": [
    "## One step beyond.... Linked Open Data\n",
    "\n",
    "### [Is your Linked Open Data 5 star](https://www.w3.org/DesignIssues/LinkedData.html)\n",
    "\n",
    "```\n",
    "★\tAvailable on the web (whatever format) but with an open licence, to be Open Data\n",
    "★★\tAvailable as machine-readable structured data (e.g. excel instead of image scan of a table)\n",
    "★★★\tas (2) plus non-proprietary format (e.g. CSV instead of excel)\n",
    "★★★★\tAll the above plus, Use open standards from W3C (RDF and SPARQL) to identify things, so that people can point at your stuff\n",
    "★★★★★\tAll the above, plus: Link your data to other people’s data to provide context\n",
    "```\n",
    "\n",
    "![Is your data 5 star](https://www.w3.org/DesignIssues/diagrams/lod/597992118v2_350x350_Back.jpg)"
   ]
  },
  {
   "cell_type": "markdown",
   "metadata": {
    "slideshow": {
     "slide_type": "skip"
    }
   },
   "source": [
    "\\newpage"
   ]
  },
  {
   "cell_type": "markdown",
   "metadata": {
    "slideshow": {
     "slide_type": "slide"
    }
   },
   "source": [
    "# The Supporting Semantic Web Stack\n",
    "\n",
    "![The semantic Web Stack](https://upload.wikimedia.org/wikipedia/commons/thumb/f/f7/Semantic_web_stack.svg/768px-Semantic_web_stack.svg.png)"
   ]
  },
  {
   "cell_type": "markdown",
   "metadata": {
    "slideshow": {
     "slide_type": "skip"
    }
   },
   "source": [
    "\\newpage"
   ]
  },
  {
   "cell_type": "markdown",
   "metadata": {
    "slideshow": {
     "slide_type": "subslide"
    }
   },
   "source": [
    "## It's about re-use\n",
    "\n",
    "### Vocabularies\n",
    "\n",
    "The glue that joins concepts together. \n",
    "\n",
    "A concept shared is a link gained. By re-using concepts it makes it easier to understand what your data means and where and how it should be re-used.\n"
   ]
  },
  {
   "cell_type": "code",
   "execution_count": 14,
   "metadata": {
    "collapsed": false,
    "slideshow": {
     "slide_type": "subslide"
    }
   },
   "outputs": [
    {
     "data": {
      "text/html": [
       "\n",
       "        <iframe\n",
       "            width=\"1000\"\n",
       "            height=\"700\"\n",
       "            src=\"http://lov.okfn.org/dataset/lov/\"\n",
       "            frameborder=\"0\"\n",
       "            allowfullscreen\n",
       "        ></iframe>\n",
       "        "
      ],
      "text/plain": [
       "<IPython.lib.display.IFrame at 0x7f694005eb38>"
      ]
     },
     "execution_count": 14,
     "metadata": {},
     "output_type": "execute_result"
    }
   ],
   "source": [
    "from IPython.display import IFrame\n",
    "IFrame('http://lov.okfn.org/dataset/lov/', width=1000, height=700)"
   ]
  },
  {
   "cell_type": "markdown",
   "metadata": {
    "slideshow": {
     "slide_type": "skip"
    }
   },
   "source": [
    "\\newpage"
   ]
  },
  {
   "cell_type": "markdown",
   "metadata": {
    "slideshow": {
     "slide_type": "subslide"
    }
   },
   "source": [
    "## It's about re-use\n",
    "\n",
    "### Ontology\n",
    "\n",
    "> An ontology is a shared formal explicit specialisation of a conceptualisation\n",
    "\n",
    "![Technology used in Ontology definition(@SemWebOverview_en_beck_2012)](https://upload.wikimedia.org/wikipedia/commons/thumb/c/cb/SemWebOverview.svg/1024px-SemWebOverview.svg.png)"
   ]
  },
  {
   "cell_type": "markdown",
   "metadata": {
    "slideshow": {
     "slide_type": "skip"
    }
   },
   "source": [
    "\\newpage"
   ]
  },
  {
   "cell_type": "markdown",
   "metadata": {
    "slideshow": {
     "slide_type": "subslide"
    }
   },
   "source": [
    "### Ontology\n",
    "\n",
    "* The term originated from a philosophy\n",
    "\t* which deals with the nature and organization of reality\n",
    "* It tries to answer the questions:\n",
    "\t* What is being?\n",
    "\t* What are the features common to all beings?\n",
    "\t* How should things be classified?"
   ]
  },
  {
   "cell_type": "markdown",
   "metadata": {
    "slideshow": {
     "slide_type": "subslide"
    }
   },
   "source": [
    "### Ontology\n",
    "\n",
    "> An ontology is a shared formal explicit specialisation of a conceptualisation\n",
    "\n",
    "After Agarwal -(@agarwal_ontological_2005):\n",
    "\n",
    "* *conceptualisation* is identifying relevant abstracted concepts of a phenomena suited to a specific domain\n",
    "* *explicit* means that the concepts are explicitly defined\n",
    "* *formal* refers to the fact that the ontology should be machine-readable\n",
    "* *shared* refers to notion that on ontology captures consensual knowledge"
   ]
  },
  {
   "cell_type": "markdown",
   "metadata": {
    "slideshow": {
     "slide_type": "skip"
    }
   },
   "source": [
    "\\newpage"
   ]
  },
  {
   "cell_type": "markdown",
   "metadata": {
    "slideshow": {
     "slide_type": "subslide"
    }
   },
   "source": [
    "### Ontology Example \n",
    "\n",
    "* A ‘Carnivore’ is a concept whose members are exactly those animals who eat only meat\n",
    "* A ‘Bear’ is a concept whose members are a kind of ‘Carnivore’\n",
    "* A ‘Cub’ is a concept whose members are exactly those ‘Bear’ whose age is less than one year\n",
    "* A Panda is a individual of a ‘Bear’\n",
    "\n",
    "We can use these concepts to infer new information from facts.\n"
   ]
  },
  {
   "cell_type": "markdown",
   "metadata": {
    "slideshow": {
     "slide_type": "subslide"
    }
   },
   "source": [
    "For example: from the fact 'Ching Ching' is a newborn Panda we know:\n",
    "\n",
    "```\n",
    "'Ching Ching' is a Panda.\n",
    "'Ching Ching' is a newborn.\n",
    "```"
   ]
  },
  {
   "cell_type": "markdown",
   "metadata": {
    "slideshow": {
     "slide_type": "subslide"
    }
   },
   "source": [
    "We can infer:\n",
    "\n",
    "```\n",
    "'Ching Ching' is a Bear.\n",
    "'Ching Ching' is a Carnivore.  ????\n",
    "'Ching Ching' eats only meat.  ????\n",
    "```\n",
    "\n",
    "If we had other logic that told us that 'newborn' is the same as saying less than one year then we can also infer\n",
    "\n",
    "```\n",
    "'Ching Ching' is a Cub.\n",
    "```\n",
    "\n",
    "In an ontology/RDF you can say *Anything about Anything*. Whilst carnivore is a generally useful concept about *bears* it is not *specifically* useful when considering *pandas*. **The domain of application is clearly important.** "
   ]
  },
  {
   "cell_type": "markdown",
   "metadata": {
    "slideshow": {
     "slide_type": "skip"
    }
   },
   "source": [
    "\\newpage"
   ]
  },
  {
   "cell_type": "markdown",
   "metadata": {
    "slideshow": {
     "slide_type": "slide"
    }
   },
   "source": [
    "## [SPARQL](https://en.wikipedia.org/wiki/SPARQL) the SQL of the semantic web\n",
    "\n",
    "Find me the capital of all countries in Africa:\n",
    "\n",
    "```\n",
    "PREFIX abc: <nul://sparql/exampleOntology#> .\n",
    "SELECT ?capital ?country\n",
    "WHERE {\n",
    "  ?x abc:cityname ?capital ;\n",
    "     abc:isCapitalOf ?y.\n",
    "  ?y abc:countryname ?country ;\n",
    "     abc:isInContinent abc:Africa.\n",
    "}\n",
    "```"
   ]
  },
  {
   "cell_type": "markdown",
   "metadata": {
    "slideshow": {
     "slide_type": "notes"
    }
   },
   "source": [
    "There is a thing ('x') against which the following concepts exist:\n",
    "\n",
    "* 'abc:cityname' (the name of a city: stored in the variable 'capital') \n",
    "* 'abc:isCapitalOf' (the concept for which the city is capital: stored in the variable 'y') \n",
    "\n",
    "The 'concept for which the city is capital' (stored in variable 'y') must also have the following concepts:\n",
    "\n",
    "* 'abc:countryname' (the name of a country: stored in the variable 'country')\n",
    "* 'abc:isInContinent' abc:Africa (isInContinent of the the individual Africa')"
   ]
  },
  {
   "cell_type": "markdown",
   "metadata": {
    "slideshow": {
     "slide_type": "skip"
    }
   },
   "source": [
    "\\newpage"
   ]
  },
  {
   "cell_type": "markdown",
   "metadata": {
    "slideshow": {
     "slide_type": "subslide"
    }
   },
   "source": [
    "## [GeoSPARQL](http://www.opengeospatial.org/projects/groups/geosparqlswg) the SQL of the spatial semantic web\n",
    "\n",
    "An OGC standard\n",
    "\n",
    "```\n",
    "SELECT ?f\n",
    "WHERE { ?f my:hasPointGeometry ?fGeom .\n",
    "?fGeom ogc:asWKT ?fWKT .\n",
    "FILTER (ogcf:relate(?fWKT,\n",
    "“<http://www.opengis.net/def/crs/OGC/1.3/CRS84>\n",
    "Polygon ((-83.5 34.0, -83.5 34.3, -83.1 34.3,\n",
    "-83.1 34.0, -83.5 34.0))”^^ogc:WKTLiteral,\n",
    "ogc:within))\n",
    "}\n",
    "```"
   ]
  },
  {
   "cell_type": "code",
   "execution_count": 19,
   "metadata": {
    "collapsed": false,
    "slideshow": {
     "slide_type": "subslide"
    }
   },
   "outputs": [
    {
     "data": {
      "text/html": [
       "\n",
       "        <iframe\n",
       "            width=\"1000\"\n",
       "            height=\"700\"\n",
       "            src=\"http://www.opengeospatial.org/projects/groups/geosparqlswg\"\n",
       "            frameborder=\"0\"\n",
       "            allowfullscreen\n",
       "        ></iframe>\n",
       "        "
      ],
      "text/plain": [
       "<IPython.lib.display.IFrame at 0x7f694008d780>"
      ]
     },
     "execution_count": 19,
     "metadata": {},
     "output_type": "execute_result"
    }
   ],
   "source": [
    "from IPython.display import IFrame\n",
    "IFrame('http://www.opengeospatial.org/projects/groups/geosparqlswg', width=1000, height=700)"
   ]
  },
  {
   "cell_type": "markdown",
   "metadata": {
    "collapsed": true,
    "slideshow": {
     "slide_type": "slide"
    }
   },
   "source": [
    "# Linked Data and Geo\n",
    "\n"
   ]
  },
  {
   "cell_type": "markdown",
   "metadata": {
    "slideshow": {
     "slide_type": "skip"
    }
   },
   "source": [
    "\\newpage"
   ]
  },
  {
   "cell_type": "markdown",
   "metadata": {
    "slideshow": {
     "slide_type": "subslide"
    }
   },
   "source": [
    "## GeoSPARQL employs spatial calculus\n",
    "\n",
    "![](https://upload.wikimedia.org/wikipedia/commons/thumb/a/ab/Region_Connection_Calculus_8_Relations_and_Open_Geospatial_Consortium_relations.svg/1024px-Region_Connection_Calculus_8_Relations_and_Open_Geospatial_Consortium_relations.svg.png)"
   ]
  },
  {
   "cell_type": "markdown",
   "metadata": {
    "slideshow": {
     "slide_type": "skip"
    }
   },
   "source": [
    "\\newpage"
   ]
  },
  {
   "cell_type": "markdown",
   "metadata": {
    "slideshow": {
     "slide_type": "subslide"
    }
   },
   "source": [
    "# Querying Linked Data in the wild\n",
    "\n",
    "## The Ordnance Survey\n",
    "\n",
    "A URI for every place in the UK\n"
   ]
  },
  {
   "cell_type": "code",
   "execution_count": 22,
   "metadata": {
    "collapsed": false
   },
   "outputs": [
    {
     "data": {
      "text/html": [
       "\n",
       "        <iframe\n",
       "            width=\"1000\"\n",
       "            height=\"700\"\n",
       "            src=\"http://data.ordnancesurvey.co.uk/doc/50kGazetteer/177276\"\n",
       "            frameborder=\"0\"\n",
       "            allowfullscreen\n",
       "        ></iframe>\n",
       "        "
      ],
      "text/plain": [
       "<IPython.lib.display.IFrame at 0x7f694008df60>"
      ]
     },
     "execution_count": 22,
     "metadata": {},
     "output_type": "execute_result"
    }
   ],
   "source": [
    "from IPython.display import IFrame\n",
    "IFrame('http://data.ordnancesurvey.co.uk/doc/50kGazetteer/177276', width=1000, height=700)"
   ]
  },
  {
   "cell_type": "markdown",
   "metadata": {
    "slideshow": {
     "slide_type": "skip"
    }
   },
   "source": [
    "\\newpage"
   ]
  },
  {
   "cell_type": "code",
   "execution_count": 24,
   "metadata": {
    "collapsed": false,
    "slideshow": {
     "slide_type": "subslide"
    }
   },
   "outputs": [
    {
     "data": {
      "text/html": [
       "\n",
       "        <iframe\n",
       "            width=\"1000\"\n",
       "            height=\"700\"\n",
       "            src=\"http://data.ordnancesurvey.co.uk/id/postcodeunit/NG72QL\"\n",
       "            frameborder=\"0\"\n",
       "            allowfullscreen\n",
       "        ></iframe>\n",
       "        "
      ],
      "text/plain": [
       "<IPython.lib.display.IFrame at 0x7f69400ccac8>"
      ]
     },
     "execution_count": 24,
     "metadata": {},
     "output_type": "execute_result"
    }
   ],
   "source": [
    "from IPython.display import IFrame\n",
    "IFrame('http://data.ordnancesurvey.co.uk/id/postcodeunit/NG72QL', width=1000, height=700)"
   ]
  },
  {
   "cell_type": "markdown",
   "metadata": {
    "slideshow": {
     "slide_type": "skip"
    }
   },
   "source": [
    "\\newpage"
   ]
  },
  {
   "cell_type": "code",
   "execution_count": 20,
   "metadata": {
    "collapsed": false,
    "slideshow": {
     "slide_type": "subslide"
    }
   },
   "outputs": [
    {
     "data": {
      "text/html": [
       "\n",
       "        <iframe\n",
       "            width=\"1000\"\n",
       "            height=\"700\"\n",
       "            src=\"http://data.ordnancesurvey.co.uk/\"\n",
       "            frameborder=\"0\"\n",
       "            allowfullscreen\n",
       "        ></iframe>\n",
       "        "
      ],
      "text/plain": [
       "<IPython.lib.display.IFrame at 0x7f694008dac8>"
      ]
     },
     "execution_count": 20,
     "metadata": {},
     "output_type": "execute_result"
    }
   ],
   "source": [
    "from IPython.display import IFrame\n",
    "IFrame('http://data.ordnancesurvey.co.uk/', width=1000, height=700)"
   ]
  },
  {
   "cell_type": "markdown",
   "metadata": {
    "slideshow": {
     "slide_type": "skip"
    }
   },
   "source": [
    "\\newpage"
   ]
  },
  {
   "cell_type": "code",
   "execution_count": 21,
   "metadata": {
    "collapsed": false,
    "slideshow": {
     "slide_type": "subslide"
    }
   },
   "outputs": [
    {
     "data": {
      "text/html": [
       "\n",
       "        <iframe\n",
       "            width=\"1000\"\n",
       "            height=\"700\"\n",
       "            src=\"http://data.ordnancesurvey.co.uk/ontology/\"\n",
       "            frameborder=\"0\"\n",
       "            allowfullscreen\n",
       "        ></iframe>\n",
       "        "
      ],
      "text/plain": [
       "<IPython.lib.display.IFrame at 0x7f694008dc18>"
      ]
     },
     "execution_count": 21,
     "metadata": {},
     "output_type": "execute_result"
    }
   ],
   "source": [
    "from IPython.display import IFrame\n",
    "IFrame('http://data.ordnancesurvey.co.uk/ontology/', width=1000, height=700)"
   ]
  },
  {
   "cell_type": "markdown",
   "metadata": {
    "slideshow": {
     "slide_type": "skip"
    }
   },
   "source": [
    "\\newpage"
   ]
  },
  {
   "cell_type": "code",
   "execution_count": 17,
   "metadata": {
    "collapsed": false,
    "slideshow": {
     "slide_type": "subslide"
    }
   },
   "outputs": [
    {
     "data": {
      "text/html": [
       "\n",
       "        <iframe\n",
       "            width=\"1000\"\n",
       "            height=\"700\"\n",
       "            src=\"http://data.ordnancesurvey.co.uk/datasets/code-point-open/explorer/sparql\"\n",
       "            frameborder=\"0\"\n",
       "            allowfullscreen\n",
       "        ></iframe>\n",
       "        "
      ],
      "text/plain": [
       "<IPython.lib.display.IFrame at 0x7f694005e908>"
      ]
     },
     "execution_count": 17,
     "metadata": {},
     "output_type": "execute_result"
    }
   ],
   "source": [
    "from IPython.display import IFrame\n",
    "IFrame('http://data.ordnancesurvey.co.uk/datasets/code-point-open/explorer/sparql', width=1000, height=700)"
   ]
  },
  {
   "cell_type": "markdown",
   "metadata": {
    "slideshow": {
     "slide_type": "skip"
    }
   },
   "source": [
    "\\newpage"
   ]
  },
  {
   "cell_type": "markdown",
   "metadata": {
    "collapsed": true,
    "slideshow": {
     "slide_type": "subslide"
    }
   },
   "source": [
    "## Open Street Map\n",
    "\n"
   ]
  },
  {
   "cell_type": "code",
   "execution_count": 25,
   "metadata": {
    "collapsed": false
   },
   "outputs": [
    {
     "data": {
      "text/html": [
       "\n",
       "        <iframe\n",
       "            width=\"1000\"\n",
       "            height=\"700\"\n",
       "            src=\"http://linkedgeodata.org/About\"\n",
       "            frameborder=\"0\"\n",
       "            allowfullscreen\n",
       "        ></iframe>\n",
       "        "
      ],
      "text/plain": [
       "<IPython.lib.display.IFrame at 0x7f69400ccba8>"
      ]
     },
     "execution_count": 25,
     "metadata": {},
     "output_type": "execute_result"
    }
   ],
   "source": [
    "from IPython.display import IFrame\n",
    "IFrame('http://linkedgeodata.org/About', width=1000, height=700)"
   ]
  },
  {
   "cell_type": "markdown",
   "metadata": {
    "slideshow": {
     "slide_type": "skip"
    }
   },
   "source": [
    "\\newpage"
   ]
  },
  {
   "cell_type": "code",
   "execution_count": 26,
   "metadata": {
    "collapsed": false,
    "slideshow": {
     "slide_type": "subslide"
    }
   },
   "outputs": [
    {
     "data": {
      "text/html": [
       "\n",
       "        <iframe\n",
       "            width=\"1000\"\n",
       "            height=\"700\"\n",
       "            src=\"http://browser.linkedgeodata.org/\"\n",
       "            frameborder=\"0\"\n",
       "            allowfullscreen\n",
       "        ></iframe>\n",
       "        "
      ],
      "text/plain": [
       "<IPython.lib.display.IFrame at 0x7f694005ebe0>"
      ]
     },
     "execution_count": 26,
     "metadata": {},
     "output_type": "execute_result"
    }
   ],
   "source": [
    "from IPython.display import IFrame\n",
    "IFrame('http://browser.linkedgeodata.org/', width=1000, height=700)\n",
    "\n"
   ]
  },
  {
   "cell_type": "markdown",
   "metadata": {
    "slideshow": {
     "slide_type": "skip"
    }
   },
   "source": [
    "\\newpage"
   ]
  },
  {
   "cell_type": "markdown",
   "metadata": {
    "slideshow": {
     "slide_type": "subslide"
    }
   },
   "source": [
    "## Geonames\n"
   ]
  },
  {
   "cell_type": "code",
   "execution_count": 27,
   "metadata": {
    "collapsed": false,
    "slideshow": {
     "slide_type": "-"
    }
   },
   "outputs": [
    {
     "data": {
      "text/html": [
       "\n",
       "        <iframe\n",
       "            width=\"1000\"\n",
       "            height=\"700\"\n",
       "            src=\"http://www.geonames.org/ontology/documentation.html\"\n",
       "            frameborder=\"0\"\n",
       "            allowfullscreen\n",
       "        ></iframe>\n",
       "        "
      ],
      "text/plain": [
       "<IPython.lib.display.IFrame at 0x7f694005e940>"
      ]
     },
     "execution_count": 27,
     "metadata": {},
     "output_type": "execute_result"
    }
   ],
   "source": [
    "from IPython.display import IFrame\n",
    "IFrame('http://www.geonames.org/ontology/documentation.html', width=1000, height=700)\n",
    "\n"
   ]
  },
  {
   "cell_type": "markdown",
   "metadata": {
    "slideshow": {
     "slide_type": "skip"
    }
   },
   "source": [
    "\\newpage"
   ]
  },
  {
   "cell_type": "code",
   "execution_count": 28,
   "metadata": {
    "collapsed": false,
    "slideshow": {
     "slide_type": "subslide"
    }
   },
   "outputs": [
    {
     "data": {
      "text/html": [
       "\n",
       "        <iframe\n",
       "            width=\"1000\"\n",
       "            height=\"700\"\n",
       "            src=\"http://www.geonames.org/maps/google_52.94_358.8.html\"\n",
       "            frameborder=\"0\"\n",
       "            allowfullscreen\n",
       "        ></iframe>\n",
       "        "
      ],
      "text/plain": [
       "<IPython.lib.display.IFrame at 0x7f694005e668>"
      ]
     },
     "execution_count": 28,
     "metadata": {},
     "output_type": "execute_result"
    }
   ],
   "source": [
    "from IPython.display import IFrame\n",
    "IFrame('http://www.geonames.org/maps/google_52.94_358.8.html', width=1000, height=700)\n",
    "\n"
   ]
  },
  {
   "cell_type": "markdown",
   "metadata": {
    "slideshow": {
     "slide_type": "skip"
    }
   },
   "source": [
    "\\newpage"
   ]
  },
  {
   "cell_type": "code",
   "execution_count": 29,
   "metadata": {
    "collapsed": false,
    "slideshow": {
     "slide_type": "subslide"
    }
   },
   "outputs": [
    {
     "data": {
      "text/html": [
       "\n",
       "        <iframe\n",
       "            width=\"1000\"\n",
       "            height=\"700\"\n",
       "            src=\"http://lov.okfn.org/dataset/lov/vocabs/gn\"\n",
       "            frameborder=\"0\"\n",
       "            allowfullscreen\n",
       "        ></iframe>\n",
       "        "
      ],
      "text/plain": [
       "<IPython.lib.display.IFrame at 0x7f694005ecc0>"
      ]
     },
     "execution_count": 29,
     "metadata": {},
     "output_type": "execute_result"
    }
   ],
   "source": [
    "from IPython.display import IFrame\n",
    "IFrame('http://lov.okfn.org/dataset/lov/vocabs/gn', width=1000, height=700)"
   ]
  },
  {
   "cell_type": "markdown",
   "metadata": {
    "slideshow": {
     "slide_type": "skip"
    }
   },
   "source": [
    "\\newpage"
   ]
  },
  {
   "cell_type": "markdown",
   "metadata": {
    "slideshow": {
     "slide_type": "subslide"
    }
   },
   "source": [
    "# Geo Vocabularies"
   ]
  },
  {
   "cell_type": "code",
   "execution_count": 30,
   "metadata": {
    "collapsed": false,
    "slideshow": {
     "slide_type": "-"
    }
   },
   "outputs": [
    {
     "data": {
      "text/html": [
       "\n",
       "        <iframe\n",
       "            width=\"1000\"\n",
       "            height=\"700\"\n",
       "            src=\"http://lov.okfn.org/dataset/lov/vocabs/?q=geo+space+address+geonames+os+spatial\"\n",
       "            frameborder=\"0\"\n",
       "            allowfullscreen\n",
       "        ></iframe>\n",
       "        "
      ],
      "text/plain": [
       "<IPython.lib.display.IFrame at 0x7f694005e4e0>"
      ]
     },
     "execution_count": 30,
     "metadata": {},
     "output_type": "execute_result"
    }
   ],
   "source": [
    "from IPython.display import IFrame\n",
    "IFrame('http://lov.okfn.org/dataset/lov/vocabs/?q=geo+space+address+geonames+os+spatial', width=1000, height=700)"
   ]
  },
  {
   "cell_type": "markdown",
   "metadata": {
    "slideshow": {
     "slide_type": "skip"
    }
   },
   "source": [
    "\\newpage"
   ]
  },
  {
   "cell_type": "markdown",
   "metadata": {
    "slideshow": {
     "slide_type": "slide"
    }
   },
   "source": [
    "# Conclusions\n",
    "\n",
    "* Technical interoperability is only one part of the problem\n",
    "* Open data will become increasingly important as governments and other groups release resources under clear licences\n",
    "    * Licences are a barrier to re-use\n",
    "* Data shows its true value when combined with other data sources – linked data creates an opportunity\n",
    "* Usability: common data model and reference of common URIs (for example, postcodes) allows for easy data aggregation and integration.\n",
    "* Shift in focus from cartography and geometries to ‘things’ and the relationships between them.\n",
    "* Spatial no longer special – part of the bigger information world....\n",
    "* location is a very important information hub and provides a key underpinning reference framework which brings many datasets together and provides important context."
   ]
  },
  {
   "cell_type": "markdown",
   "metadata": {
    "slideshow": {
     "slide_type": "skip"
    }
   },
   "source": [
    "\\newpage"
   ]
  },
  {
   "cell_type": "markdown",
   "metadata": {
    "slideshow": {
     "slide_type": "slide"
    }
   },
   "source": [
    "# Geo reasoning example (if time)"
   ]
  },
  {
   "cell_type": "markdown",
   "metadata": {
    "slideshow": {
     "slide_type": "subslide"
    }
   },
   "source": [
    "Geo example:\n",
    "    \n",
    "```\n",
    "Leeds is a city.\n",
    "\n",
    "Yorkshire is a county.\n",
    "\n",
    "Sheffield is a city.\n",
    "\n",
    "Lancaster is a city.\n",
    "\n",
    "Lancashire is a county.\n",
    "\n",
    "Lancaster has a port.\n",
    "\n",
    "What is Leeds?\n",
    "\n",
    "Leeds isIn Yorkshire.\n",
    "\n",
    "Sheffield isIn Yorkshire.\n",
    "\n",
    "Lancaster isIn Lancashire.\n",
    "\n",
    "What isIn Yorkshire?\n",
    "\n",
    "If X isIn Y then Y contains X.\n",
    "\n",
    "What contains Leeds?\n",
    "\n",
    "Yorkshire borders Lancashire.\n",
    "\n",
    "If X borders Y then Y borders X.\n",
    "\n",
    "What borders Lancashire?\n",
    "\n",
    "Yorkshire isIn UnitedKingdom.\n",
    "\n",
    "Lancashire isIn UnitedKingdom.\n",
    "\n",
    "#Transitivity\n",
    "\n",
    "If X isIn Y and Y isIn Z then X isIn Z.\n",
    "\n",
    "If X contains Y and Y contains Z then X contains Z\n",
    "\n",
    "\n",
    "```"
   ]
  },
  {
   "cell_type": "markdown",
   "metadata": {},
   "source": [
    "using proper isIn\n",
    "\n",
    "\n",
    "```\n",
    "Leeds is a city.\n",
    "\n",
    "Yorkshire is a county.\n",
    "\n",
    "Sheffield is a city.\n",
    "\n",
    "Lancaster is a city.\n",
    "\n",
    "Lancashire is a county.\n",
    "\n",
    "Lancaster has a port.\n",
    "\n",
    "What is Leeds?\n",
    "\n",
    "Leeds is spatiallyWithin Yorkshire.\n",
    "\n",
    "Sheffield is spatiallyWithin Yorkshire.\n",
    "\n",
    "Lancaster is spatiallyWithin Lancashire.\n",
    "\n",
    "What is spatiallyWithin Yorkshire?\n",
    "\n",
    "If X is spatiallyWithin Y then Y spatiallyContains X.\n",
    "\n",
    "What spatiallyContains Leeds?\n",
    "\n",
    "Yorkshire borders Lancashire.\n",
    "\n",
    "If X borders Y then Y borders X.\n",
    "\n",
    "What borders Lancashire?\n",
    "\n",
    "Yorkshire is spatiallyWithin UnitedKingdom.\n",
    "\n",
    "Lancashire is spatiallyWithin UnitedKingdom.\n",
    "\n",
    "#Transitivity\n",
    "\n",
    "If X is spatiallyWithin Y and Y is spatiallyWithin Z then X is spatiallyWithin Z.\n",
    "\n",
    "If X spatiallyContains Y and Y spatiallyContains Z then X spatiallyContains Z\n",
    "\n",
    "What is spatiallyWithin UnitedKingdom?\n",
    "```"
   ]
  },
  {
   "cell_type": "markdown",
   "metadata": {},
   "source": [
    "Adding more......\n",
    "\n",
    "```\n",
    "Pudsey is spatiallyWithin Leeds.\n",
    "\n",
    "Kirkstall is spatiallyWithin Leeds.\n",
    "\n",
    "Meanwood is spatiallyWithin Leeds.\n",
    "\n",
    "Roundhay is spatiallyWithin Leeds.\n",
    "\n",
    "Scarcroft is spatiallyWithin Leeds.\n",
    "\n",
    "```"
   ]
  },
  {
   "cell_type": "markdown",
   "metadata": {},
   "source": [
    "and more\n",
    "\n",
    "```\n",
    "\n",
    "\n",
    "UnitedKingdom isPartOf Europe.\n",
    "\n",
    "UnitedKingdom is a country.\n",
    "\n",
    "If X isPartOf Y and X spatiallyContains Z then Z isPartOf Y.\n",
    "\n",
    "What isPartOf Europe?\n",
    "\n",
    "```"
   ]
  },
  {
   "cell_type": "code",
   "execution_count": null,
   "metadata": {
    "collapsed": true
   },
   "outputs": [],
   "source": [
    "and more\n",
    "\n",
    "```\n",
    "\n",
    "If X spatiallyContains Y and X is a city then Y is a place and Y is a cityPart.\n",
    "\n",
    "\n",
    "Every city is a place.\n",
    "\n",
    "What is a place.\n",
    "\n",
    "```"
   ]
  },
  {
   "cell_type": "code",
   "execution_count": null,
   "metadata": {
    "collapsed": true
   },
   "outputs": [],
   "source": [
    "and more\n",
    "\n",
    "```\n",
    "UK isPartOf Europe.\n",
    "\n",
    "UK is sameAs UnitedKingdom.\n",
    "\n",
    "If X has a port then X borders Water.\n",
    "\n",
    "What borders Water?\n",
    "```"
   ]
  },
  {
   "cell_type": "markdown",
   "metadata": {
    "slideshow": {
     "slide_type": "subslide"
    }
   },
   "source": [
    "# Questions\n",
    "\n",
    "In terms of discussion I'm interested in how these issues affect you.........\n",
    "\n",
    "![Processing transparency between open and closed systems](https://upload.wikimedia.org/wikipedia/commons/thumb/d/d5/Processing_transparency_between_open_and_closed_systems.svg/630px-Processing_transparency_between_open_and_closed_systems.svg.png)"
   ]
  },
  {
   "cell_type": "markdown",
   "metadata": {
    "slideshow": {
     "slide_type": "skip"
    }
   },
   "source": [
    "\\newpage"
   ]
  },
  {
   "cell_type": "markdown",
   "metadata": {
    "slideshow": {
     "slide_type": "skip"
    }
   },
   "source": [
    "# References"
   ]
  }
 ],
 "metadata": {
  "celltoolbar": "Slideshow",
  "kernelspec": {
   "display_name": "Python 2",
   "language": "python",
   "name": "python2"
  },
  "language_info": {
   "codemirror_mode": {
    "name": "ipython",
    "version": 2
   },
   "file_extension": ".py",
   "mimetype": "text/x-python",
   "name": "python",
   "nbconvert_exporter": "python",
   "pygments_lexer": "ipython2",
   "version": "2.7.10"
  }
 },
 "nbformat": 4,
 "nbformat_minor": 0
}
