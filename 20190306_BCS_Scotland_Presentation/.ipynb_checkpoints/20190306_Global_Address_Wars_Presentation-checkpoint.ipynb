{
 "cells": [
  {
   "cell_type": "markdown",
   "metadata": {
    "slideshow": {
     "slide_type": "slide"
    }
   },
   "source": [
    "# Going global: the return of the address wars\n",
    "\n",
    "##   What characteristics are required for Global Address applications in the 21st century?\n",
    "\n",
    "Anthony Beck (GeoLytics)\n",
    "\n",
    "![@address_is_everything_2005](https://farm1.staticflickr.com/24/96618331_2163da240a_z_d.jpg?zz=1)\n",
    "\n",
    "Unless states otherwise all content is under a CC-BY licence\n",
    "\n",
    "![](figures/CC_BY.png)"
   ]
  },
  {
   "cell_type": "markdown",
   "metadata": {
    "slideshow": {
     "slide_type": "skip"
    }
   },
   "source": [
    "\\newpage"
   ]
  },
  {
   "cell_type": "code",
   "execution_count": 1,
   "metadata": {
    "slideshow": {
     "slide_type": "skip"
    }
   },
   "outputs": [
    {
     "name": "stdout",
     "output_type": "stream",
     "text": [
      "ipython nbconvert --to markdown 20190306_Global_Address_Wars_Presentation.ipynb\n"
     ]
    },
    {
     "data": {
      "text/plain": [
       "0"
      ]
     },
     "execution_count": 1,
     "metadata": {},
     "output_type": "execute_result"
    }
   ],
   "source": [
    "## PDF output using pandoc\n",
    "\n",
    "## For a clean export resetart kernel and clear output\n",
    "\n",
    "import os\n",
    "\n",
    "\n",
    "### Export this notebook as markdown\n",
    "commandLineSyntax = 'ipython nbconvert --to markdown 20190306_Global_Address_Wars_Presentation.ipynb'\n",
    "print (commandLineSyntax)\n",
    "\n",
    "os.system(commandLineSyntax)\n",
    "\n",
    "### Export this notebook and the document header as PDF using Pandoc\n",
    "\n",
    "commandLineSyntax = 'pandoc  -f markdown -t latex -N -V geometry:margin=1in DocumentHeader.md 20190306_Global_Address_Wars_Presentation.md --filter pandoc-citeproc  --latex-engine=xelatex --toc -o 20190306_Global_Address_Wars_Presentation.pdf '\n",
    "\n",
    "os.system(commandLineSyntax)\n",
    "\n"
   ]
  },
  {
   "cell_type": "markdown",
   "metadata": {
    "slideshow": {
     "slide_type": "skip"
    }
   },
   "source": [
    "To convert and run this as a static presentation run the following command:"
   ]
  },
  {
   "cell_type": "code",
   "execution_count": null,
   "metadata": {
    "slideshow": {
     "slide_type": "skip"
    }
   },
   "outputs": [],
   "source": [
    "# Notes don't show in a python3 environment\n",
    "\n",
    "!jupyter nbconvert 20190306_Global_Address_Wars_Presentation.ipynb --to slides --post serve"
   ]
  },
  {
   "cell_type": "markdown",
   "metadata": {
    "slideshow": {
     "slide_type": "skip"
    }
   },
   "source": [
    "To close this instances press *control 'c'* in the *ipython notebook* terminal console\n",
    "\n",
    "Static presentations allow the presenter to see *speakers notes* (use the 's' key)\n",
    "\n",
    "If running dynamically run the scripts below"
   ]
  },
  {
   "cell_type": "code",
   "execution_count": null,
   "metadata": {
    "slideshow": {
     "slide_type": "skip"
    }
   },
   "outputs": [],
   "source": [
    "#Future proof python 2\n",
    "from __future__ import print_function #For python3 print syntax\n",
    "from __future__ import division\n",
    "\n",
    "# def\n",
    "import IPython.core.display\n",
    "\n",
    "# A function to collect user input - ipynb_input(varname='username', prompt='What is your username')\n",
    "\n",
    "def ipynb_input(varname, prompt=''):\n",
    "        \"\"\"Prompt user for input and assign string val to given variable name.\"\"\"\n",
    "        js_code = (\"\"\"\n",
    "            var value = prompt(\"{prompt}\",\"\");\n",
    "            var py_code = \"{varname} = '\" + value + \"'\";\n",
    "            IPython.notebook.kernel.execute(py_code);\n",
    "        \"\"\").format(prompt=prompt, varname=varname)\n",
    "        return IPython.core.display.Javascript(js_code)\n",
    "    \n",
    "# inline\n",
    "\n",
    "%pylab inline"
   ]
  },
  {
   "cell_type": "markdown",
   "metadata": {
    "slideshow": {
     "slide_type": "skip"
    }
   },
   "source": [
    "\\newpage"
   ]
  },
  {
   "cell_type": "markdown",
   "metadata": {
    "slideshow": {
     "slide_type": "slide"
    }
   },
   "source": [
    "## About me\n",
    "\n",
    " \n",
    "\n",
    "![It's all about me - details about Anthony Beck](figures/Geolytics_ARB_Banner.png)\n",
    "\n",
    "* Honorary Research Fellow, University of Nottingham: [orcid](http://orcid.org/0000-0002-2991-811X)\n",
    "* Director, Geolytics Limited - A spatial data analytics consultancy\n",
    "\n",
    "## About this presentation\n",
    "\n",
    "* [Available on GitHub](https://github.com/AntArch/Presentations_Github/tree/master/20190306_BCS_Scotland_Presentation) - https://github.com/AntArch/Presentations_Github/\n",
    "* [Fully referenced PDF](https://github.com/AntArch/Presentations_Github/blob/master/20190306_BCS_Scotland_Presentation/20190306_Global_Address_Wars.pdf)"
   ]
  },
  {
   "cell_type": "markdown",
   "metadata": {
    "slideshow": {
     "slide_type": "skip"
    }
   },
   "source": [
    "\\newpage"
   ]
  },
  {
   "cell_type": "markdown",
   "metadata": {
    "slideshow": {
     "slide_type": "slide"
    }
   },
   "source": [
    "# Addresses\n",
    "\n",
    "## are part of the fabric of everyday life\n",
    "\n",
    "![@kaye_map_2012](https://farm9.staticflickr.com/8334/8076658843_bb93c499c9_z_d.jpg)\n",
    "\n"
   ]
  },
  {
   "cell_type": "markdown",
   "metadata": {
    "slideshow": {
     "slide_type": "skip"
    }
   },
   "source": [
    "\\newpage"
   ]
  },
  {
   "cell_type": "markdown",
   "metadata": {
    "slideshow": {
     "slide_type": "subslide"
    }
   },
   "source": [
    "## Have economic and commercial impact\n",
    "\n",
    "![@flag_of_UPU_2008](https://upload.wikimedia.org/wikipedia/commons/thumb/7/76/Flag_of_UPU.svg/640px-Flag_of_UPU.svg.png)\n",
    "\n"
   ]
  },
  {
   "cell_type": "markdown",
   "metadata": {
    "slideshow": {
     "slide_type": "skip"
    }
   },
   "source": [
    "\\newpage"
   ]
  },
  {
   "cell_type": "markdown",
   "metadata": {
    "slideshow": {
     "slide_type": "subslide"
    }
   },
   "source": [
    "## Support governance and democracy\n",
    "\n",
    "![@appelo_governance_2010](https://farm6.staticflickr.com/5204/5201270923_f02844bb41_z_d.jpg)\n",
    "\n",
    "* Addresses are a pre-requisite for citizenship in many countries. \n",
    "* Without citizenship individuals are excluded from:\n",
    "\t* public services \n",
    "\t* formal institutions.\n",
    "* This impacts on democracy. "
   ]
  },
  {
   "cell_type": "markdown",
   "metadata": {
    "slideshow": {
     "slide_type": "skip"
    }
   },
   "source": [
    "\\newpage"
   ]
  },
  {
   "cell_type": "markdown",
   "metadata": {
    "slideshow": {
     "slide_type": "subslide"
    }
   },
   "source": [
    "## Support Legal and Social integration\n",
    "\n",
    "![@beck_social_integration_2015](https://upload.wikimedia.org/wikipedia/commons/thumb/8/8e/Stufen_Schulischer_Integration_enGB.svg/500px-Stufen_Schulischer_Integration_enGB.svg.png)\n",
    "\n",
    "* Formal versus Informal\n",
    "* Barring individuals and businesses from systems:\n",
    "\t* financial\n",
    "\t* legal\n",
    "\t* government\n",
    "\t* ...."
   ]
  },
  {
   "cell_type": "markdown",
   "metadata": {
    "slideshow": {
     "slide_type": "skip"
    }
   },
   "source": [
    "\\newpage"
   ]
  },
  {
   "cell_type": "markdown",
   "metadata": {
    "slideshow": {
     "slide_type": "subslide"
    }
   },
   "source": [
    "## Provide spatial structure.\n",
    "\n",
    "![@walking_1992](https://upload.wikimedia.org/wikipedia/commons/thumb/3/37/Walking_away_from_the_Third_World.jpg/640px-Walking_away_from_the_Third_World.jpg)\n",
    "\n",
    "* This helps to identify, locate and access marginalized areas."
   ]
  },
  {
   "cell_type": "markdown",
   "metadata": {
    "slideshow": {
     "slide_type": "skip"
    }
   },
   "source": [
    "\\newpage"
   ]
  },
  {
   "cell_type": "markdown",
   "metadata": {
    "slideshow": {
     "slide_type": "subslide"
    }
   },
   "source": [
    "## Bridge gaps\n",
    "\n",
    "![](figures/AdressesProvidePeopleWithPlace.png)\n",
    "\n",
    "provide the link between ***people*** and ***place***"
   ]
  },
  {
   "cell_type": "markdown",
   "metadata": {
    "slideshow": {
     "slide_type": "skip"
    }
   },
   "source": [
    "\\newpage"
   ]
  },
  {
   "cell_type": "markdown",
   "metadata": {
    "slideshow": {
     "slide_type": "slide"
    }
   },
   "source": [
    "# What is an address?\n",
    "\n",
    "##  Address abstraction\n",
    "\n",
    "* Address did not spring fully formed into existance. \n",
    "* They are used globally\n",
    "\t* but developed nationally\n",
    "\t* and for different reasons"
   ]
  },
  {
   "cell_type": "markdown",
   "metadata": {
    "slideshow": {
     "slide_type": "skip"
    }
   },
   "source": [
    "\\newpage"
   ]
  },
  {
   "cell_type": "markdown",
   "metadata": {
    "slideshow": {
     "slide_type": "subslide"
    }
   },
   "source": [
    "## Address abstraction\n",
    "\n",
    "![@AddressAbstraction_beck_2016](https://upload.wikimedia.org/wikipedia/commons/thumb/5/54/Postal_Address_Abstraction.svg/1024px-Postal_Address_Abstraction.svg.png)"
   ]
  },
  {
   "cell_type": "markdown",
   "metadata": {
    "slideshow": {
     "slide_type": "skip"
    }
   },
   "source": [
    "\\newpage"
   ]
  },
  {
   "cell_type": "markdown",
   "metadata": {
    "slideshow": {
     "slide_type": "subslide"
    }
   },
   "source": [
    "## In the beginning ...... was the ledger, the register, the record\n",
    "\n",
    "![@ledger_en_beck_2016](https://upload.wikimedia.org/wikipedia/commons/thumb/f/f3/Everton_1933_FA_Cup_team_selection_ledger.JPG/681px-Everton_1933_FA_Cup_team_selection_ledger.JPG)"
   ]
  },
  {
   "cell_type": "markdown",
   "metadata": {
    "slideshow": {
     "slide_type": "skip"
    }
   },
   "source": [
    "\\newpage"
   ]
  },
  {
   "cell_type": "markdown",
   "metadata": {
    "slideshow": {
     "slide_type": "subslide"
    }
   },
   "source": [
    "## Then came formalisation\n",
    "\n",
    "* Local Land and Property Gazetteers and Registers\n",
    "* Mail\n",
    "* Address Base\n",
    "* The World Bank\n",
    "* Etc.........\n",
    "\n",
    "Let's look at some"
   ]
  },
  {
   "cell_type": "markdown",
   "metadata": {
    "slideshow": {
     "slide_type": "skip"
    }
   },
   "source": [
    "\\newpage"
   ]
  },
  {
   "cell_type": "markdown",
   "metadata": {
    "slideshow": {
     "slide_type": "subslide"
    }
   },
   "source": [
    "###  Korea: The Jibeon system - taxation\n",
    "\n",
    "* Until recently, the Republic of Korea (Korea) has used land parcel referening (jibeon) \n",
    "    * Parcels are assigned chronologically according to date of construction. \n",
    "    * **No local predictability**.\n",
    "\n",
    "![after (@_addressing_2012, p.57)](figures/JibeonAddressingUPU_pg57.png)\n"
   ]
  },
  {
   "cell_type": "markdown",
   "metadata": {
    "slideshow": {
     "slide_type": "notes"
    }
   },
   "source": [
    "* Until recently, the Republic of Korea (Korea) has used land parcel numbers ( jibeon) to identify unique locations. \n",
    "    * These parcel numbers were assigned chronologically according to date of construction and without reference to the street where they were located. \n",
    "    * This meant that adjacent buildings did not necessarily follow a sequential numbering system.\n",
    "* This system was initially used to identify land for census purposes and to levy taxes. \n",
    "* In addition, until the launch of the new addressing system, the jibeon was also used to identify locations (i.e. a physical address). "
   ]
  },
  {
   "cell_type": "markdown",
   "metadata": {
    "slideshow": {
     "slide_type": "skip"
    }
   },
   "source": [
    "\\newpage"
   ]
  },
  {
   "cell_type": "markdown",
   "metadata": {
    "slideshow": {
     "slide_type": "subslide"
    }
   },
   "source": [
    "\n",
    "### UK Addressing  Geoplace - Formal\n",
    "\n",
    "![[Geoplace graphic](https://www.geoplace.co.uk/documents/10181/67776/NAG+infographic/835d83a5-e2d8-4a26-bc95-c857b315490a?t=1434370410424)](https://www.geoplace.co.uk/documents/10181/67776/NAG+infographic/835d83a5-e2d8-4a26-bc95-c857b315490a?t=1434370410424)\n"
   ]
  },
  {
   "cell_type": "markdown",
   "metadata": {
    "slideshow": {
     "slide_type": "notes"
    }
   },
   "source": [
    "* GeoPlace is a limited liability partnership owned equally by the [Local Government Association](http://www.local.gov.uk/) and [Ordnance Survey](http://www.ordnancesurvey.co.uk/). \n",
    "* It has built a synchronised database containing spatial address data from \n",
    "    * 348 local authorities in England and Wales (the *Local Land and Property Gazetteers* (LLPG) which cumulatively create the *National Land and Property Gazetteer* (NLPG)), \n",
    "    * Royal Mail, \n",
    "    * Valuation Office Agency and \n",
    "    * Ordnance Survey datasets. \n",
    "* The NAG Hub database is owned by GeoPlace and is the authoritative single source of government-owned national spatial address information, containing over 225 million data records relating to about 34 million address features. GeoPlace is a production organisation with no product sales or supply operations. \n",
    "* The NAG is made available to public and private sector customers through Ordnance Survey’s [AddressBase](http://www.ordnancesurvey.co.uk/business-and-government/products/addressbase.html) products."
   ]
  },
  {
   "cell_type": "markdown",
   "metadata": {
    "slideshow": {
     "slide_type": "skip"
    }
   },
   "source": [
    "\\newpage"
   ]
  },
  {
   "cell_type": "markdown",
   "metadata": {
    "slideshow": {
     "slide_type": "subslide"
    }
   },
   "source": [
    "###  The AddressBase Family\n",
    "\n",
    "![[Ordnance Survey graphic](http://demos.ordnancesurvey.co.uk/public/demos/products/AddressBase/images/database_3_0.jpg)](http://demos.ordnancesurvey.co.uk/public/demos/products/AddressBase/images/database_3_0.jpg)\n",
    "\n"
   ]
  },
  {
   "cell_type": "markdown",
   "metadata": {
    "slideshow": {
     "slide_type": "notes"
    }
   },
   "source": [
    "* The National Address Gazetteer Hub database is owned by GeoPlace and is claimed to be *the authoritative single source of government-owned national spatial address information*, containing over 225 million data records relating to about 34 million address features. \n",
    "* Each address has its own *Unique Property Reference Number* (UPRN). The AddressBase suite have been designed to integrate into the [Ordnance Survey MasterMap suite of products](http://www.ordnancesurvey.co.uk/business-and-government/products/mastermap-products.html). \n",
    "\n",
    "AddressBase is available at three levels of granularity (lite, plus and premium). \n",
    "\n",
    "* AB+ merges two address datasets together (PAF and Local Authority) to provide the best available view of addresses currently defined by Local Authorities, giving many advantages over AddressBase.\n",
    "* AB+ lets you link additional information to a single address, place it on a map, and carry out spatial analysis that enables improved business practices.\n",
    "* Geoplace argue that further value comes from additional information in the product which includes:\n",
    "\t* A more detailed classification – allowing a better understanding of the type (e.g. Domestic, Commercial or Mixed) and function of a property (e.g.  Bank or Restaurant)\n",
    "\t* Local Authority addresses not contained within PAF – giving a more complete picture of the current addresses and properties (assuming they are in scope (see below))\n",
    "\t* Cross reference to OS MasterMap TOIDs – allowing simple matching to OS MasterMap Address Layer 2, Integrated Transport Network or Topography Layer\n",
    "\t* Spatial coordinates\n",
    "\t* Unique Property Reference Number (UPRN) – which provides the ability to cross reference data with other organisations, and maintain data integrity.\n",
    "* Premium includes the address lifecycle\n",
    "\n",
    "\n",
    "AddressBase supports the UK Location Strategy concept of a 'core reference geography', including the key principles of the European Union INSPIRE directive, that data should only be collected once and kept where it can be maintained most effectively (see [AddressBase products user guide](http://www.ordnancesurvey.co.uk/docs/user-guides/addressbase-products-user-guide.pdf)). *It's probably worthwhile mentioning that this is not an open address layer - however, a [2104 feasibility study sponsored by the department of Business, Innovation and Skills](https://www.gov.uk/government/publications/an-open-national-address-gazetteer) included a recommendation that AddressBase lite is made openly available*."
   ]
  },
  {
   "cell_type": "markdown",
   "metadata": {
    "slideshow": {
     "slide_type": "skip"
    }
   },
   "source": [
    "\\newpage"
   ]
  },
  {
   "cell_type": "markdown",
   "metadata": {
    "slideshow": {
     "slide_type": "subslide"
    }
   },
   "source": [
    "### Royal Mail - Access and Delivery points\n",
    "\n",
    "![Access Points and Delivery Points](figures/1S_ADP_creating_AP_DP.gif)"
   ]
  },
  {
   "cell_type": "markdown",
   "metadata": {
    "slideshow": {
     "slide_type": "skip"
    }
   },
   "source": [
    "\\newpage"
   ]
  },
  {
   "cell_type": "markdown",
   "metadata": {
    "slideshow": {
     "slide_type": "subslide"
    }
   },
   "source": [
    "###  Denmark: An addressing commons\n",
    "\n",
    "* Geocoded address infrastructure\n",
    "* Defined the semantics of purpose\n",
    "\t* what is an address\n",
    "* Open data\n",
    "\t* an address commons with full stakeholder engagement and participation\n",
    "    * **There is no such thing as an unmatched address**\n",
    "\n",
    "![after @lind2008addresses](figures/Lind_AddressesAsAnInfrastructureDenmark_After.png)\n"
   ]
  },
  {
   "cell_type": "markdown",
   "metadata": {
    "slideshow": {
     "slide_type": "notes"
    }
   },
   "source": [
    "* Geocoded address infrastructure\n",
    "* Defined the semantics of purpose\n",
    "\t* what is an address\n",
    "* Open data\n",
    "\t* an address commons\n",
    "* The re-use statistics are staggering:\n",
    "\t* 70% of deliveries are to the private sector, \n",
    "\t* 20% are to central government\n",
    "\t* 10% are to municipalities.\n",
    "* Benefits:\n",
    "\t* Efficiencies\n",
    "\t* No duplication\n",
    "\t* Improved confidence\n",
    "\t* Known quality\n",
    "    * **There is no such thing as an unmatched address**\n",
    "\n",
    "A credible service providing a mutlitude of efficiencies (@_addressing_2012, pp.50 - 54)"
   ]
  },
  {
   "cell_type": "markdown",
   "metadata": {
    "slideshow": {
     "slide_type": "skip"
    }
   },
   "source": [
    "\\newpage"
   ]
  },
  {
   "cell_type": "markdown",
   "metadata": {
    "slideshow": {
     "slide_type": "subslide"
    }
   },
   "source": [
    "### The World Bank\n",
    "\n",
    "![@world_bank_address_beck_2015](https://upload.wikimedia.org/wikipedia/commons/thumb/e/ef/World_Bank_Recommended_Address_Infrastucture.svg/640px-World_Bank_Recommended_Address_Infrastucture.svg.png)\n",
    "\n",
    "* Urban bias\n",
    "* Cost of infrastucture development\n",
    "* Lack of community involvement"
   ]
  },
  {
   "cell_type": "markdown",
   "metadata": {
    "slideshow": {
     "slide_type": "notes"
    }
   },
   "source": [
    "The World Bank has taken a *street addressing* view-point (@_addressing_2012, p.57). This requires up-to-date mapping and bureacracy (to deliver a street gazetteer and to provide the street infrastructure (furniture)). However, (@_addressing_2012, p.44) demonstrates that this is a cumbersome process with a number of issues, not the least:\n",
    "\n",
    "* Urban bias\n",
    "* Cost of infrastucture development\n",
    "* Lack of community involvement"
   ]
  },
  {
   "cell_type": "markdown",
   "metadata": {
    "slideshow": {
     "slide_type": "skip"
    }
   },
   "source": [
    "\\newpage"
   ]
  },
  {
   "cell_type": "markdown",
   "metadata": {
    "slideshow": {
     "slide_type": "slide"
    }
   },
   "source": [
    "# Addressing issues\n",
    "\n",
    "\n",
    "* Addresses are increasingly over-loaded\n",
    "\t* Assets as addresses\n",
    "\t* Services as addresses\n",
    "\t* People as/at addresses\n",
    "* Addresses as things\n",
    "\n",
    "![[Public domain image](https://commons.wikimedia.org/wiki/File:Mono_pensador.jpg)](https://upload.wikimedia.org/wikipedia/commons/0/0d/Mono_pensador.jpg)"
   ]
  },
  {
   "cell_type": "markdown",
   "metadata": {
    "slideshow": {
     "slide_type": "skip"
    }
   },
   "source": [
    "\\newpage"
   ]
  },
  {
   "cell_type": "markdown",
   "metadata": {
    "slideshow": {
     "slide_type": "subslide"
    }
   },
   "source": [
    "## Issues: addresses = postal address.\n",
    "\n",
    "* Is *Postal* a constraining legacy?\n",
    "* Is *address* a useful term? \n",
    "\n",
    "![[Public domain image](https://commons.wikimedia.org/wiki/File:Mono_pensador.jpg)](https://upload.wikimedia.org/wikipedia/commons/0/0d/Mono_pensador.jpg)"
   ]
  },
  {
   "cell_type": "markdown",
   "metadata": {
    "slideshow": {
     "slide_type": "skip"
    }
   },
   "source": [
    "\\newpage"
   ]
  },
  {
   "cell_type": "markdown",
   "metadata": {
    "slideshow": {
     "slide_type": "slide"
    }
   },
   "source": [
    "# Taking stock\n",
    "\n",
    "##  Addresses are heterogeneous\n",
    "\n",
    "In terms of:\n",
    "\n",
    "* What they mean\n",
    "* What they are used for\n",
    "* Who uses them\n",
    "* How they are accessed\n",
    "\n",
    "![@world_addressing_beck_2015](https://upload.wikimedia.org/wikipedia/commons/thumb/0/08/Addressing_around_the_world.svg/640px-Addressing_around_the_world.svg.png)\n",
    "\n"
   ]
  },
  {
   "cell_type": "markdown",
   "metadata": {
    "slideshow": {
     "slide_type": "skip"
    }
   },
   "source": [
    "\\newpage"
   ]
  },
  {
   "cell_type": "markdown",
   "metadata": {
    "slideshow": {
     "slide_type": "subslide"
    }
   },
   "source": [
    "##  Assets can have addresses\n",
    "\n",
    "So - anything can have an address (the *Internet of Things*)\n",
    "\n",
    "![[Post box](http://joncruddas.org.uk/sites/joncruddas.org.uk/files/styles/large/public/field/image/post-box.jpg?itok=ECnzLyhZ)](http://joncruddas.org.uk/sites/joncruddas.org.uk/files/styles/large/public/field/image/post-box.jpg?itok=ECnzLyhZ)"
   ]
  },
  {
   "cell_type": "markdown",
   "metadata": {
    "slideshow": {
     "slide_type": "skip"
    }
   },
   "source": [
    "\\newpage"
   ]
  },
  {
   "cell_type": "markdown",
   "metadata": {
    "slideshow": {
     "slide_type": "subslide"
    }
   },
   "source": [
    "##  National data silos\n",
    "\n",
    "* They have been created to solve national issues.\n",
    "    * Applying different paradigms\n",
    "    * Are *relative referencing system* that do not implicitly provide an accurate spatial location.\n",
    "* No unifying semantics."
   ]
  },
  {
   "cell_type": "markdown",
   "metadata": {
    "slideshow": {
     "slide_type": "subslide"
    }
   },
   "source": [
    "![@IslandsOfData_en_beck_2015](https://upload.wikimedia.org/wikipedia/commons/thumb/3/3d/Islands_Of_Data.svg/636px-Islands_Of_Data.svg.png)"
   ]
  },
  {
   "cell_type": "markdown",
   "metadata": {
    "slideshow": {
     "slide_type": "skip"
    }
   },
   "source": [
    "\\newpage"
   ]
  },
  {
   "cell_type": "markdown",
   "metadata": {
    "slideshow": {
     "slide_type": "subslide"
    }
   },
   "source": [
    "##  Licence silos\n",
    "\n",
    "![@IncompatibilitiesAndLicenceClauses_en_beck_2016](https://upload.wikimedia.org/wikipedia/commons/thumb/0/0e/Incompatibilities_And_Licence_Clauses.svg/989px-Incompatibilities_And_Licence_Clauses.svg.png)"
   ]
  },
  {
   "cell_type": "markdown",
   "metadata": {
    "slideshow": {
     "slide_type": "skip"
    }
   },
   "source": [
    "\\newpage"
   ]
  },
  {
   "cell_type": "markdown",
   "metadata": {
    "slideshow": {
     "slide_type": "subslide"
    }
   },
   "source": [
    "##  Addresses are bureaucratic and costly\n",
    "\n",
    "![@stamp_schnettelker_2013](https://farm3.staticflickr.com/2819/9786091286_e85fd01bb8_z_d.jpg)\n",
    "\n",
    "Severely protracted when formal/informal issues are encountered."
   ]
  },
  {
   "cell_type": "markdown",
   "metadata": {
    "slideshow": {
     "slide_type": "skip"
    }
   },
   "source": [
    "\\newpage"
   ]
  },
  {
   "cell_type": "markdown",
   "metadata": {
    "slideshow": {
     "slide_type": "subslide"
    }
   },
   "source": [
    "##  Addresses can be opaque\n",
    "\n",
    "![@processing_transparency_beck_2015](https://upload.wikimedia.org/wikipedia/commons/thumb/d/d5/Processing_transparency_between_open_and_closed_systems.svg/630px-Processing_transparency_between_open_and_closed_systems.svg.png)\n",
    "\n",
    "**transparent reproducibility critical for those at the beginning and end of the addressing lifecycle**"
   ]
  },
  {
   "cell_type": "markdown",
   "metadata": {
    "slideshow": {
     "slide_type": "skip"
    }
   },
   "source": [
    "\\newpage"
   ]
  },
  {
   "cell_type": "markdown",
   "metadata": {
    "slideshow": {
     "slide_type": "subslide"
    }
   },
   "source": [
    "##  Addresses are of global significance\n",
    "\n",
    "![@services_products_Gray_2011](https://farm7.staticflickr.com/6213/6296605302_9745b5e72e_z_d.jpg)"
   ]
  },
  {
   "cell_type": "markdown",
   "metadata": {
    "slideshow": {
     "slide_type": "skip"
    }
   },
   "source": [
    "\\newpage"
   ]
  },
  {
   "cell_type": "markdown",
   "metadata": {
    "slideshow": {
     "slide_type": "subslide"
    }
   },
   "source": [
    "##  Addresses are ripe for disruption\n",
    "\n",
    "![@earth_egg_rain_2007](https://farm3.staticflickr.com/2159/2047910540_82620d9481_z_d.jpg?zz=1)"
   ]
  },
  {
   "cell_type": "markdown",
   "metadata": {
    "slideshow": {
     "slide_type": "skip"
    }
   },
   "source": [
    "\\newpage"
   ]
  },
  {
   "cell_type": "markdown",
   "metadata": {
    "slideshow": {
     "slide_type": "slide"
    }
   },
   "source": [
    "# What about the address disenfranchised?\n",
    "\n",
    "\n",
    "> It is almost impossible for individuals to be part of society without a legal identity. \n",
    "\n",
    "> 4 billion people are excluded from the rule of law because they do not have a legal identity, and that **establishing such an identity often depends on having an official address**.\n",
    "\n",
    "> Addresses appear to be a key element in aiding the delivery of policies at national and international levels ....\n",
    "\n",
    "@_addressing_2012 p. 6"
   ]
  },
  {
   "cell_type": "markdown",
   "metadata": {
    "slideshow": {
     "slide_type": "subslide"
    }
   },
   "source": [
    "... particularly with regard to:\n",
    "\n",
    "* governance\n",
    "* rule of law\n",
    "* poverty reduction\n",
    "* disease prevention\n",
    "* the provision of basic services such as:\n",
    "\t* electricity\n",
    "\t* sanitation\n",
    "\t* water.\n",
    "\n",
    "@_addressing_2012 p. 6"
   ]
  },
  {
   "cell_type": "markdown",
   "metadata": {
    "slideshow": {
     "slide_type": "subslide"
    }
   },
   "source": [
    "> This century is witnessing a fundamental change in our way of life; for the first time in history, half of the world’s population lives in towns and cities. \n",
    "\n",
    "> Urban areas are growing faster in developing countries, mostly **through informal settlements.**\n",
    "\n",
    "> The lack of an address, particularly in informal settlements, can also mean the lack of legal identity, equal opportunities for employment and social integration.\n",
    "\n",
    "@_addressing_2012 p. 6\n",
    "\n",
    "Addresses are becoming a ***basic human right***."
   ]
  },
  {
   "cell_type": "markdown",
   "metadata": {
    "slideshow": {
     "slide_type": "skip"
    }
   },
   "source": [
    "\\newpage"
   ]
  },
  {
   "cell_type": "markdown",
   "metadata": {
    "slideshow": {
     "slide_type": "subslide"
    }
   },
   "source": [
    "## The World Bank have a plan\n",
    "\n",
    "![@world_bank_address_beck_2015](https://upload.wikimedia.org/wikipedia/commons/thumb/e/ef/World_Bank_Recommended_Address_Infrastucture.svg/640px-World_Bank_Recommended_Address_Infrastucture.svg.png)"
   ]
  },
  {
   "cell_type": "markdown",
   "metadata": {
    "slideshow": {
     "slide_type": "skip"
    }
   },
   "source": [
    "\\newpage"
   ]
  },
  {
   "cell_type": "markdown",
   "metadata": {
    "slideshow": {
     "slide_type": "subslide"
    }
   },
   "source": [
    "## But in Africa:\n",
    "\n",
    "![@stats_africa_2015](https://upload.wikimedia.org/wikipedia/commons/thumb/4/40/UPU_statistics_about_Africa.svg/640px-UPU_statistics_about_Africa.svg.png)\n",
    "\n",
    "It's difficult to do street based addressing when there are no streets!\n",
    "\n",
    "The mapping of informal settlements in urban area implies legitamacy - hence it's not done!\n",
    "\n",
    "And this does exacerbate the urban rural divide."
   ]
  },
  {
   "cell_type": "markdown",
   "metadata": {
    "slideshow": {
     "slide_type": "skip"
    }
   },
   "source": [
    "\\newpage"
   ]
  },
  {
   "cell_type": "markdown",
   "metadata": {
    "slideshow": {
     "slide_type": "subslide"
    }
   },
   "source": [
    "## Legitimacy\n",
    "\n",
    "![@beck_social_integration_2015](https://upload.wikimedia.org/wikipedia/commons/thumb/8/8e/Stufen_Schulischer_Integration_enGB.svg/500px-Stufen_Schulischer_Integration_enGB.svg.png)\n",
    "\n",
    "Formal and informal barriers are profound\n"
   ]
  },
  {
   "cell_type": "markdown",
   "metadata": {
    "slideshow": {
     "slide_type": "skip"
    }
   },
   "source": [
    "\\newpage"
   ]
  },
  {
   "cell_type": "markdown",
   "metadata": {
    "slideshow": {
     "slide_type": "slide"
    }
   },
   "source": [
    "# What are the aspirations for a global addressing framework?\n",
    "\n",
    "Or an addressing commons?\n",
    "\n",
    "![@flag_of_UPU_2008](https://upload.wikimedia.org/wikipedia/commons/thumb/7/76/Flag_of_UPU.svg/640px-Flag_of_UPU.svg.png)"
   ]
  },
  {
   "cell_type": "markdown",
   "metadata": {
    "slideshow": {
     "slide_type": "skip"
    }
   },
   "source": [
    "\\newpage"
   ]
  },
  {
   "cell_type": "markdown",
   "metadata": {
    "slideshow": {
     "slide_type": "subslide"
    }
   },
   "source": [
    "##  It will need to harmonise the formal and informal\n",
    "\n",
    "![@formalinformal_beck_2016](figures/FormalVersusInformalKnowledgeRepositoriesWithODI.png)"
   ]
  },
  {
   "cell_type": "markdown",
   "metadata": {
    "slideshow": {
     "slide_type": "skip"
    }
   },
   "source": [
    "\\newpage"
   ]
  },
  {
   "cell_type": "markdown",
   "metadata": {
    "slideshow": {
     "slide_type": "subslide"
    }
   },
   "source": [
    "## It should meet the needs of the rural and urban communities equally\n",
    "\n",
    "![@farm_city_Bauschardt_2010](https://farm5.staticflickr.com/4117/4778763329_4ef8706836_b_d.jpg)"
   ]
  },
  {
   "cell_type": "markdown",
   "metadata": {
    "slideshow": {
     "slide_type": "skip"
    }
   },
   "source": [
    "\\newpage"
   ]
  },
  {
   "cell_type": "markdown",
   "metadata": {
    "slideshow": {
     "slide_type": "subslide"
    }
   },
   "source": [
    "## It should be lightweight and cheap to implement\n",
    "\n",
    "![@stamp_schnettelker_2013](https://farm3.staticflickr.com/2819/9786091286_e85fd01bb8_z_d.jpg)\n"
   ]
  },
  {
   "cell_type": "markdown",
   "metadata": {
    "slideshow": {
     "slide_type": "skip"
    }
   },
   "source": [
    "\\newpage"
   ]
  },
  {
   "cell_type": "markdown",
   "metadata": {
    "slideshow": {
     "slide_type": "subslide"
    }
   },
   "source": [
    "## It should be transparent, reproducible and predictable\n",
    "\n",
    "![@processing_transparency_beck_2015](https://upload.wikimedia.org/wikipedia/commons/thumb/d/d5/Processing_transparency_between_open_and_closed_systems.svg/630px-Processing_transparency_between_open_and_closed_systems.svg.png)"
   ]
  },
  {
   "cell_type": "markdown",
   "metadata": {
    "slideshow": {
     "slide_type": "skip"
    }
   },
   "source": [
    "\\newpage"
   ]
  },
  {
   "cell_type": "markdown",
   "metadata": {
    "slideshow": {
     "slide_type": "subslide"
    }
   },
   "source": [
    "## It should be born spatial and global\n",
    "\n",
    "An address system should not require specific geocoding services to make it spatial.\n",
    "\n",
    "Streets are so last century.....\n",
    "\n",
    "![@world_bank_address_beck_2015](https://upload.wikimedia.org/wikipedia/commons/thumb/e/ef/World_Bank_Recommended_Address_Infrastucture.svg/640px-World_Bank_Recommended_Address_Infrastucture.svg.png)\n",
    "\n",
    "* Ubiquitous GPS/GNSS\n",
    "* Structured crowdsourced geo-enabled content (wikipedia, OSM)\n"
   ]
  },
  {
   "cell_type": "markdown",
   "metadata": {
    "slideshow": {
     "slide_type": "skip"
    }
   },
   "source": [
    "\\newpage"
   ]
  },
  {
   "cell_type": "markdown",
   "metadata": {
    "slideshow": {
     "slide_type": "subslide"
    }
   },
   "source": [
    "## It should be an openly licenced Core Reference data set\n",
    "\n",
    "The situation is best summarised by the open access Danish addressing commons [@_addressing_2012 p. 54]:\n",
    "\n",
    "![after @lind2008addresses](figures/Lind_AddressesAsAnInfrastructureDenmark_After.png)\n",
    "\n",
    "The re-use statistics are staggering:\n",
    "* 70% of deliveries are to the private sector, \n",
    "* 20% are to central government\n",
    "* 10% are to municipalities.\n",
    "\n",
    "**There is no such thing as an unmatched address**."
   ]
  },
  {
   "cell_type": "markdown",
   "metadata": {
    "slideshow": {
     "slide_type": "skip"
    }
   },
   "source": [
    "\\newpage"
   ]
  },
  {
   "cell_type": "markdown",
   "metadata": {
    "slideshow": {
     "slide_type": "subslide"
    }
   },
   "source": [
    "## It should be accessible (on and off-line)\n",
    "\n",
    "![Plugged in](figures/Plug_interoperability.svg.png)"
   ]
  },
  {
   "cell_type": "markdown",
   "metadata": {
    "slideshow": {
     "slide_type": "skip"
    }
   },
   "source": [
    "\\newpage"
   ]
  },
  {
   "cell_type": "markdown",
   "metadata": {
    "slideshow": {
     "slide_type": "subslide"
    }
   },
   "source": [
    "## It should support and enhance business services\n",
    "\n",
    "![@services_products_Gray_2011](https://farm7.staticflickr.com/6213/6296605302_9745b5e72e_z_d.jpg)"
   ]
  },
  {
   "cell_type": "markdown",
   "metadata": {
    "slideshow": {
     "slide_type": "skip"
    }
   },
   "source": [
    "\\newpage"
   ]
  },
  {
   "cell_type": "markdown",
   "metadata": {
    "slideshow": {
     "slide_type": "subslide"
    }
   },
   "source": [
    "## It should support many ways of engagement\n",
    "\n",
    "![Public domain image from [The Love Talk Project](https://commons.wikimedia.org/wiki/File:Love_talk_-_The_Noun_Project.svg)](https://upload.wikimedia.org/wikipedia/commons/thumb/2/22/Love_talk_-_The_Noun_Project.svg/480px-Love_talk_-_The_Noun_Project.svg.png)\n",
    "\n",
    "[What3Words completely get this!](https://player.fm/series/local-to-global-with-nick-hewer/reinventing-the-postcode-with-what3words)"
   ]
  },
  {
   "cell_type": "markdown",
   "metadata": {
    "slideshow": {
     "slide_type": "skip"
    }
   },
   "source": [
    "\\newpage"
   ]
  },
  {
   "cell_type": "markdown",
   "metadata": {
    "slideshow": {
     "slide_type": "slide"
    }
   },
   "source": [
    "# A new global address paradigm?  \n",
    "\n",
    "* [Amazon drone delivery in the UK requires](https://www.theguardian.com/technology/2016/jul/25/amazon-to-test-drone-delivery-uk-government)\n",
    "\t* A new view over addressing complements streets and buildings but is geo-coded at source\n",
    "\t* and supports accurate delivery throughout the delivery chain using a global referencing system.\n",
    "\n",
    "Is there a universal approach which allows all avenues to be satisfied?\n",
    "\n",
    "![[Amazon drone delivery in the UK requires](https://www.theguardian.com/technology/2016/jul/25/amazon-to-test-drone-delivery-uk-government)](figures/Guardian_Amazon_drone.png)\n"
   ]
  },
  {
   "cell_type": "markdown",
   "metadata": {
    "slideshow": {
     "slide_type": "skip"
    }
   },
   "source": [
    "\\newpage"
   ]
  },
  {
   "cell_type": "markdown",
   "metadata": {
    "slideshow": {
     "slide_type": "subslide"
    }
   },
   "source": [
    "#  How might this look? CORE\n",
    "\n",
    ".\n",
    ".\n",
    "\n",
    "**MUST HAVE** Core requirements for a Global Address Framework\n",
    "\n",
    ".\n",
    "."
   ]
  },
  {
   "cell_type": "markdown",
   "metadata": {
    "slideshow": {
     "slide_type": "skip"
    }
   },
   "source": [
    "\\newpage"
   ]
  },
  {
   "cell_type": "markdown",
   "metadata": {
    "slideshow": {
     "slide_type": "subslide"
    }
   },
   "source": [
    "##  WGS84 algorithmic address minting\n",
    "\n",
    "* **Born spatial**\n",
    "* **Accessible**\n",
    "* **Lightweight and cheap to implement**\n",
    "* **Transparent, reproduceable and predicatable**\n",
    "\n",
    "![Addressing minting: @minting_addresses_2009](https://farm3.staticflickr.com/2432/3832442378_bf76a81b5d_d.jpg)\n",
    "\n",
    "\n",
    "\n"
   ]
  },
  {
   "cell_type": "markdown",
   "metadata": {
    "slideshow": {
     "slide_type": "skip"
    }
   },
   "source": [
    "\\newpage"
   ]
  },
  {
   "cell_type": "markdown",
   "metadata": {
    "slideshow": {
     "slide_type": "subslide"
    }
   },
   "source": [
    "##  Small footprint\n",
    "\n",
    "* **Accessible**\n",
    "* **Lightweight and cheap to implement**\n",
    "\n",
    "![Small footprints: @small_footprints_terwolbeck_2012](https://farm8.staticflickr.com/7185/6988489897_282270cfd5_z_d.jpg)\n",
    "\n"
   ]
  },
  {
   "cell_type": "markdown",
   "metadata": {
    "slideshow": {
     "slide_type": "skip"
    }
   },
   "source": [
    "\\newpage"
   ]
  },
  {
   "cell_type": "markdown",
   "metadata": {
    "slideshow": {
     "slide_type": "subslide"
    }
   },
   "source": [
    "##  Short/memorable\n",
    "\n",
    "**Support and enhance business services**\n",
    "\n",
    "![@mnemonics_munroe_nd](http://imgs.xkcd.com/comics/mnemonics.png)"
   ]
  },
  {
   "cell_type": "markdown",
   "metadata": {
    "slideshow": {
     "slide_type": "skip"
    }
   },
   "source": [
    "\\newpage"
   ]
  },
  {
   "cell_type": "markdown",
   "metadata": {
    "slideshow": {
     "slide_type": "subslide"
    }
   },
   "source": [
    "##  Self checking \n",
    "\n",
    "* **Support and enhance business services**\n",
    "\n",
    "![@parity_levine_2014](https://farm6.staticflickr.com/5576/14117894364_a3715fdfce_z_d.jpg)\n",
    "\n"
   ]
  },
  {
   "cell_type": "markdown",
   "metadata": {
    "slideshow": {
     "slide_type": "skip"
    }
   },
   "source": [
    "\\newpage"
   ]
  },
  {
   "cell_type": "markdown",
   "metadata": {
    "slideshow": {
     "slide_type": "subslide"
    }
   },
   "source": [
    "## Unlimited spatial recording\n",
    "\n",
    "* **Support and enhance business services**\n",
    "* **Formal and informal, Rural and Urban**\n",
    "    * What are the spatial requirements for the range of addressing options?\n",
    "        * [Manila has a population density of 42,857 people per square km](http://en.wikipedia.org/wiki/List_of_cities_proper_by_population_density). \n",
    "        * [Map Kibera](http://mapkibera.org/) and OSM has revolutionised service delivery in Kibera (Kenya). \n",
    "            * Address Kibera could do the same thing for citizenship.\n",
    "\n",
    "![@geodesic_grid_petersen_2007](http://upload.wikimedia.org/wikipedia/en/thumb/f/fd/Geodesic_Grid_%28ISEA3H%29_illustrated.png/640px-Geodesic_Grid_%28ISEA3H%29_illustrated.png)\n",
    "\n"
   ]
  },
  {
   "cell_type": "markdown",
   "metadata": {
    "slideshow": {
     "slide_type": "skip"
    }
   },
   "source": [
    "\\newpage"
   ]
  },
  {
   "cell_type": "markdown",
   "metadata": {
    "slideshow": {
     "slide_type": "subslide"
    }
   },
   "source": [
    "## Open and interoperable\n",
    "\n",
    "* **Transparent, reproduceable and predicatable**\n",
    "* **Openly Licensed**\n",
    "\n",
    "![](figures/PromotingInteroperability.png)\n",
    "\n"
   ]
  },
  {
   "cell_type": "markdown",
   "metadata": {
    "slideshow": {
     "slide_type": "skip"
    }
   },
   "source": [
    "\\newpage"
   ]
  },
  {
   "cell_type": "markdown",
   "metadata": {
    "slideshow": {
     "slide_type": "subslide"
    }
   },
   "source": [
    "> the lack of a consistent and transparent legal and policy framework for sharing spatial data continues to be an additional roadblock.\n",
    "\n",
    "@pomfret_spatial_2010"
   ]
  },
  {
   "cell_type": "markdown",
   "metadata": {
    "slideshow": {
     "slide_type": "skip"
    }
   },
   "source": [
    "\\newpage"
   ]
  },
  {
   "cell_type": "markdown",
   "metadata": {
    "slideshow": {
     "slide_type": "slide"
    }
   },
   "source": [
    "#  How might this look? Nice to haves\n",
    "\n",
    ".\n",
    ".\n",
    "\n",
    "**Would be nice to have** extended requirements for a Global Address Framework\n",
    "\n",
    ".\n",
    "."
   ]
  },
  {
   "cell_type": "markdown",
   "metadata": {
    "slideshow": {
     "slide_type": "skip"
    }
   },
   "source": [
    "\\newpage"
   ]
  },
  {
   "cell_type": "markdown",
   "metadata": {
    "slideshow": {
     "slide_type": "subslide"
    }
   },
   "source": [
    "##  Indoor use and 3D\n",
    "\n",
    "* **Support and enhance business services**\n",
    "* Incorporating wifi-triangulation - *individual room* addressing and navigation.\n",
    "* Seamless integration with BIM and CityGML.\n",
    "* *Addressing isn't only about buildings and 2D - think 3D and the Internet of Things*\n",
    "\n",
    "![@bim_arup_2013](https://upload.wikimedia.org/wikipedia/commons/thumb/2/20/Outsourcing-bim-integration-construction.jpg/640px-Outsourcing-bim-integration-construction.jpg)\n",
    "\n"
   ]
  },
  {
   "cell_type": "markdown",
   "metadata": {
    "slideshow": {
     "slide_type": "skip"
    }
   },
   "source": [
    "\\newpage"
   ]
  },
  {
   "cell_type": "markdown",
   "metadata": {
    "slideshow": {
     "slide_type": "subslide"
    }
   },
   "source": [
    "##  Inherent geo-statistical aggregation (spatially scalable)\n",
    "\n",
    "* **Support and enhance business services**\n",
    "* GIS free multi-scale analysis and reporting during disaster scenarios.\n",
    "\n",
    "![How spatial resolution impacts on feature detection @spatial_resolution_2012](https://upload.wikimedia.org/wikipedia/commons/thumb/6/63/Spatial_resolution_comparison_for_archaeological_features.svg/1024px-Spatial_resolution_comparison_for_archaeological_features.svg.png)\n",
    "\n"
   ]
  },
  {
   "cell_type": "markdown",
   "metadata": {
    "slideshow": {
     "slide_type": "skip"
    }
   },
   "source": [
    "\\newpage"
   ]
  },
  {
   "cell_type": "markdown",
   "metadata": {
    "slideshow": {
     "slide_type": "subslide"
    }
   },
   "source": [
    "## Area representation based on a regular tessellation\n",
    "\n",
    "* **Support and enhance business services**\n",
    "    * It is still useable within traditional GIS.\n",
    "\n",
    "![[Public domain image](https://commons.wikimedia.org/wiki/File:Tesselation_pipeline.svg)](https://upload.wikimedia.org/wikipedia/commons/thumb/1/11/Tesselation_pipeline.svg/800px-Tesselation_pipeline.svg.png)\n",
    "\n",
    "\n"
   ]
  },
  {
   "cell_type": "markdown",
   "metadata": {
    "slideshow": {
     "slide_type": "skip"
    }
   },
   "source": [
    "\\newpage"
   ]
  },
  {
   "cell_type": "markdown",
   "metadata": {
    "slideshow": {
     "slide_type": "subslide"
    }
   },
   "source": [
    "## Spatial adjacency relations within the encoding\n",
    "\n",
    "* **Support and enhance business services**\n",
    "    * Understanding localised connectivity relations.\n",
    "\n",
    "![@rcc8_beck_2013](https://upload.wikimedia.org/wikipedia/commons/thumb/a/ab/Region_Connection_Calculus_8_Relations_and_Open_Geospatial_Consortium_relations.svg/640px-Region_Connection_Calculus_8_Relations_and_Open_Geospatial_Consortium_relations.svg.png)\n",
    "\n",
    "\n"
   ]
  },
  {
   "cell_type": "markdown",
   "metadata": {
    "slideshow": {
     "slide_type": "skip"
    }
   },
   "source": [
    "\\newpage"
   ]
  },
  {
   "cell_type": "markdown",
   "metadata": {
    "slideshow": {
     "slide_type": "slide"
    }
   },
   "source": [
    "# What do you want your technology candidates to do?\n",
    "\n",
    "BCS examples (in alphabetical order):\n",
    "\n",
    "* [GeoHash](http://en.wikipedia.org/wiki/Geohash)\n",
    "\t* [gcpvj1r2vnbp](http://geohash.org/gcvwr2mkkhe1)\n",
    "* [Maidenhead Locator System](http://en.wikipedia.org/wiki/Maidenhead_Locator_System)\n",
    "\t* IO85jw (it has a very large footprint)\n",
    "* [MapCode](http://www.mapcode.com/)\n",
    "\t* GBR 8PJ.TJ\t\n",
    "* [Natural Area Code](http://nactag.info/map.asp)\n",
    "\t* GQ0X1 S9PNR\n",
    "* [What3Words](http://what3words.com/)\n",
    "\t* [assume.calms.union](https://map.what3words.com/assume.calms.union)\n",
    "\n"
   ]
  },
  {
   "cell_type": "markdown",
   "metadata": {
    "slideshow": {
     "slide_type": "skip"
    }
   },
   "source": [
    "\\newpage"
   ]
  },
  {
   "cell_type": "markdown",
   "metadata": {
    "slideshow": {
     "slide_type": "subslide"
    }
   },
   "source": [
    "## Combining frameworks\n",
    "\n",
    "* One size doesn't have to fit all.\n",
    "* Build bridges between Global and National frameworks\n",
    "* Understand fitness for purpose for each application\n",
    "\n",
    "![A [public domain image](https://commons.wikimedia.org/wiki/File:Duimstok_50cm.jpg)](https://upload.wikimedia.org/wikipedia/commons/thumb/7/74/Duimstok_50cm.jpg/640px-Duimstok_50cm.jpg)\n",
    "\n"
   ]
  },
  {
   "cell_type": "markdown",
   "metadata": {
    "slideshow": {
     "slide_type": "skip"
    }
   },
   "source": [
    "\\newpage"
   ]
  },
  {
   "cell_type": "markdown",
   "metadata": {
    "slideshow": {
     "slide_type": "subslide"
    }
   },
   "source": [
    "![Righs reserved](figures/Addressing_Concept_RosettaStone.png)\n",
    "\n"
   ]
  },
  {
   "cell_type": "markdown",
   "metadata": {
    "slideshow": {
     "slide_type": "skip"
    }
   },
   "source": [
    "\\newpage"
   ]
  },
  {
   "cell_type": "markdown",
   "metadata": {
    "slideshow": {
     "slide_type": "slide"
    }
   },
   "source": [
    "## Q. How do we encourage such infrastructure development?\n",
    "\n",
    "![@services_products_Gray_2011](https://farm7.staticflickr.com/6213/6296605302_9745b5e72e_z_d.jpg)\n",
    "\n"
   ]
  },
  {
   "cell_type": "markdown",
   "metadata": {
    "slideshow": {
     "slide_type": "skip"
    }
   },
   "source": [
    "\\newpage"
   ]
  },
  {
   "cell_type": "markdown",
   "metadata": {
    "slideshow": {
     "slide_type": "subslide"
    }
   },
   "source": [
    "## A. Support [core reference geographies](http://www.slideshare.net/geocommunitylive/bob-barr-what-are-core-reference-geographies)\n",
    "\n",
    "Bob Barr has described [core reference geographies](http://www.slideshare.net/geocommunitylive/bob-barr-what-are-core-reference-geographies) as geographic data which:\n",
    "\n",
    "* Are definitive\n",
    "* Should be collected and maintained once and used many times\n",
    "* Are Natural monopolies (which addresses are)\n",
    "* Have variable value in different applications\n",
    "* Have highly elastic demand\n",
    "\n",
    "**Global addresses are a core reference geography.**\n",
    "\n"
   ]
  },
  {
   "cell_type": "markdown",
   "metadata": {
    "slideshow": {
     "slide_type": "skip"
    }
   },
   "source": [
    "\\newpage"
   ]
  },
  {
   "cell_type": "markdown",
   "metadata": {
    "slideshow": {
     "slide_type": "subslide"
    }
   },
   "source": [
    "## Wrap up.... A GeoCommons core supporting formal and informal services\n",
    "\n",
    "What if global addressing, as a core reference geography, was an inclusive loosely coupled GeoCommons......... \n",
    "\n",
    "![after @lind2008addresses](figures/GeoCommons_RosettaStone.svg.png)\n",
    "\n"
   ]
  },
  {
   "cell_type": "markdown",
   "metadata": {
    "slideshow": {
     "slide_type": "skip"
    }
   },
   "source": [
    "\\newpage"
   ]
  },
  {
   "cell_type": "markdown",
   "metadata": {
    "slideshow": {
     "slide_type": "slide"
    }
   },
   "source": [
    "## Questions\n",
    "\n",
    " \n",
    "\n",
    "![It's all about me - details about Anthony Beck](figures/Geolytics_ARB_Banner.png)"
   ]
  },
  {
   "cell_type": "code",
   "execution_count": null,
   "metadata": {},
   "outputs": [],
   "source": []
  }
 ],
 "metadata": {
  "celltoolbar": "Slideshow",
  "kernelspec": {
   "display_name": "Python 3",
   "language": "python",
   "name": "python3"
  },
  "language_info": {
   "codemirror_mode": {
    "name": "ipython",
    "version": 3
   },
   "file_extension": ".py",
   "mimetype": "text/x-python",
   "name": "python",
   "nbconvert_exporter": "python",
   "pygments_lexer": "ipython3",
   "version": "3.6.8"
  }
 },
 "nbformat": 4,
 "nbformat_minor": 2
}
