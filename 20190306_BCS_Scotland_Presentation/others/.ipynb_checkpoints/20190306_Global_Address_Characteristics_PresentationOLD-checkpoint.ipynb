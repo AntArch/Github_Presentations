{
 "cells": [
  {
   "cell_type": "markdown",
   "metadata": {
    "nbpresent": {
     "id": "b2ca43ef-2e99-479c-b47d-9e7a8ede9572"
    },
    "slideshow": {
     "slide_type": "slide"
    }
   },
   "source": [
    "#   What characteristics are required for Global Address applications in the 21st century?\n",
    "\n",
    "Anthony Beck (GeoLytics)\n",
    "\n",
    "![@address_is_everything_2005](https://farm1.staticflickr.com/24/96618331_2163da240a_z_d.jpg?zz=1)\n",
    "\n",
    "Unless states otherwise all content is under a CC-BY licence\n",
    "\n",
    "![](figures/CC_BY.png)"
   ]
  },
  {
   "cell_type": "markdown",
   "metadata": {
    "nbpresent": {
     "id": "d4771fb7-04a1-4096-854f-0997ebe4dd8b"
    },
    "slideshow": {
     "slide_type": "skip"
    }
   },
   "source": [
    "\\newpage"
   ]
  },
  {
   "cell_type": "code",
   "execution_count": null,
   "metadata": {
    "nbpresent": {
     "id": "23f3b29b-34f8-4c52-a35b-bfb62ada785f"
    }
   },
   "outputs": [],
   "source": [
    "## PDF output using pandoc\n",
    "\n",
    "import os\n",
    "\n",
    "\n",
    "### Export this notebook as markdown\n",
    "commandLineSyntax = 'ipython nbconvert --to markdown 20190306_Global_Address_Characteristics_Presentation.ipynb'\n",
    "print (commandLineSyntax)\n",
    "\n",
    "os.system(commandLineSyntax)\n",
    "\n",
    "### Export this notebook and the document header as PDF using Pandoc\n",
    "\n",
    "commandLineSyntax = 'pandoc  -f markdown -t latex -N -V geometry:margin=1in DocumentHeader.md 20190306_Global_Address_Characteristics_Presentation.md --filter pandoc-citeproc  --latex-engine=xelatex --toc -o interim.pdf '\n",
    "\n",
    "os.system(commandLineSyntax)\n",
    "\n",
    "### Remove cruft from the pdf\n",
    "\n",
    "commandLineSyntax = 'pdftk interim.pdf cat 1-5 22-end output 20190306_Global_Address_Characteristics_Presentation.pdf'\n",
    "\n",
    "os.system(commandLineSyntax)\n",
    "\n",
    "### Remove the interim pdf\n",
    "\n",
    "commandLineSyntax = 'rm interim.pdf'\n",
    "\n",
    "os.system(commandLineSyntax)"
   ]
  },
  {
   "cell_type": "markdown",
   "metadata": {
    "slideshow": {
     "slide_type": "slide"
    }
   },
   "source": [
    "## About me\n",
    "\n",
    " \n",
    "\n",
    "![It's all about me - details about Anthony Beck](figures/Geolytics_ARB_Banner.png)\n",
    "\n",
    "* Honorary Research Fellow, University of Nottingham: [orcid](http://orcid.org/0000-0002-2991-811X)\n",
    "* Director, Geolytics Limited - A spatial data analytics consultancy\n",
    "\n",
    "## About this presentation\n",
    "\n",
    "* [Available on GitHub](https://github.com/AntArch/Presentations_Github/tree/master/20151008_OpenGeo_Reuse_under_licence) - https://github.com/AntArch/Presentations_Github/\n",
    "* [Fully referenced PDF](https://github.com/AntArch/Presentations_Github/blob/master/201609_UtilityAddresses_Presentation/201609_UtilityAddresses_Presentation.pdf)\n"
   ]
  },
  {
   "cell_type": "markdown",
   "metadata": {
    "slideshow": {
     "slide_type": "skip"
    }
   },
   "source": [
    "\\newpage"
   ]
  },
  {
   "cell_type": "markdown",
   "metadata": {
    "nbpresent": {
     "id": "4aaf6362-e9db-42b4-b981-0188500a2308"
    },
    "slideshow": {
     "slide_type": "subslide"
    }
   },
   "source": [
    "To convert and run this as a static presentation run the following command:"
   ]
  },
  {
   "cell_type": "code",
   "execution_count": null,
   "metadata": {
    "nbpresent": {
     "id": "6d38b76f-f2ed-40f3-8b06-a77f0d3d950b"
    }
   },
   "outputs": [],
   "source": [
    "# Notes don't show in a python3 environment\n",
    "\n",
    "!jupyter nbconvert 20190306_Global_Address_Characteristics_Presentation.ipynb --to slides --post serve\n",
    "\n"
   ]
  },
  {
   "cell_type": "markdown",
   "metadata": {
    "nbpresent": {
     "id": "54794ad2-9588-4ac2-9a8e-2747d7038cc7"
    }
   },
   "source": [
    "To close this instances press *control 'c'* in the *ipython notebook* terminal console\n",
    "\n",
    "Static presentations allow the presenter to see *speakers notes* (use the 's' key)\n",
    "\n",
    "If running dynamically run the scripts below"
   ]
  },
  {
   "cell_type": "markdown",
   "metadata": {
    "nbpresent": {
     "id": "bf640cff-9590-4cad-a769-6b2f153276c5"
    },
    "slideshow": {
     "slide_type": "subslide"
    }
   },
   "source": [
    "## Pre load some useful libraries"
   ]
  },
  {
   "cell_type": "code",
   "execution_count": 1,
   "metadata": {
    "nbpresent": {
     "id": "39d75d5d-063a-427a-982e-6d86bd7285d4"
    },
    "slideshow": {
     "slide_type": "-"
    }
   },
   "outputs": [
    {
     "name": "stdout",
     "output_type": "stream",
     "text": [
      "Populating the interactive namespace from numpy and matplotlib\n"
     ]
    }
   ],
   "source": [
    "#Future proof python 2\n",
    "from __future__ import print_function #For python3 print syntax\n",
    "from __future__ import division\n",
    "\n",
    "# def\n",
    "import IPython.core.display\n",
    "\n",
    "# A function to collect user input - ipynb_input(varname='username', prompt='What is your username')\n",
    "\n",
    "def ipynb_input(varname, prompt=''):\n",
    "        \"\"\"Prompt user for input and assign string val to given variable name.\"\"\"\n",
    "        js_code = (\"\"\"\n",
    "            var value = prompt(\"{prompt}\",\"\");\n",
    "            var py_code = \"{varname} = '\" + value + \"'\";\n",
    "            IPython.notebook.kernel.execute(py_code);\n",
    "        \"\"\").format(prompt=prompt, varname=varname)\n",
    "        return IPython.core.display.Javascript(js_code)\n",
    "    \n",
    "# inline\n",
    "\n",
    "%pylab inline"
   ]
  },
  {
   "cell_type": "markdown",
   "metadata": {
    "nbpresent": {
     "id": "04d308c3-3f5b-417b-969d-af88640e6934"
    },
    "slideshow": {
     "slide_type": "skip"
    }
   },
   "source": [
    "\\newpage"
   ]
  },
  {
   "cell_type": "markdown",
   "metadata": {
    "slideshow": {
     "slide_type": "slide"
    }
   },
   "source": [
    "# Addresses\n",
    "\n",
    "![@kaye_map_2012](https://farm9.staticflickr.com/8334/8076658843_bb93c499c9_z_d.jpg)\n",
    "\n",
    "are part of the fabric of everyday life\n"
   ]
  },
  {
   "cell_type": "markdown",
   "metadata": {
    "slideshow": {
     "slide_type": "skip"
    }
   },
   "source": [
    "\\newpage"
   ]
  },
  {
   "cell_type": "markdown",
   "metadata": {
    "slideshow": {
     "slide_type": "subslide"
    }
   },
   "source": [
    "# Addresses\n",
    "\n",
    "![](https://upload.wikimedia.org/wikipedia/commons/thumb/7/76/Flag_of_UPU.svg/640px-Flag_of_UPU.svg.png)\n",
    "\n",
    "Have economic and commercial impact"
   ]
  },
  {
   "cell_type": "markdown",
   "metadata": {
    "slideshow": {
     "slide_type": "skip"
    }
   },
   "source": [
    "\\newpage"
   ]
  },
  {
   "cell_type": "markdown",
   "metadata": {
    "slideshow": {
     "slide_type": "subslide"
    }
   },
   "source": [
    "# Addresses\n",
    "\n",
    "![@appelo_governance_2010](https://farm6.staticflickr.com/5204/5201270923_f02844bb41_z_d.jpg)\n",
    "\n",
    "Support governance and democracy\n",
    "\n",
    "* Addresses are a pre-requisite for citizenship in many countries. \n",
    "* Without citizenship individuals are excluded from:\n",
    "\t* public services \n",
    "\t* formal institutions.\n",
    "* This impacts on democracy. \n",
    "\n"
   ]
  },
  {
   "cell_type": "markdown",
   "metadata": {
    "slideshow": {
     "slide_type": "skip"
    }
   },
   "source": [
    "\\newpage"
   ]
  },
  {
   "cell_type": "markdown",
   "metadata": {
    "slideshow": {
     "slide_type": "subslide"
    }
   },
   "source": [
    "# Addresses\n",
    "\n",
    "![@beck_social_integration_2015](https://upload.wikimedia.org/wikipedia/commons/thumb/8/8e/Stufen_Schulischer_Integration_enGB.svg/500px-Stufen_Schulischer_Integration_enGB.svg.png)\n",
    "\n",
    "Support Legal and Social integration\n",
    "\n",
    "* Formal versus Informal\n",
    "* Barring individuals and businesses from systems:\n",
    "\t* financial\n",
    "\t* legal\n",
    "\t* government\n",
    "\t* ....\n"
   ]
  },
  {
   "cell_type": "markdown",
   "metadata": {
    "slideshow": {
     "slide_type": "skip"
    }
   },
   "source": [
    "\\newpage"
   ]
  },
  {
   "cell_type": "markdown",
   "metadata": {
    "slideshow": {
     "slide_type": "subslide"
    }
   },
   "source": [
    "# Addresses\n",
    "\n",
    "![@walking_1992](https://upload.wikimedia.org/wikipedia/commons/thumb/3/37/Walking_away_from_the_Third_World.jpg/640px-Walking_away_from_the_Third_World.jpg)\n",
    "\n",
    "provide spatial structure.\n",
    "* This helps to identify, locate and access marginalized areas.\n"
   ]
  },
  {
   "cell_type": "markdown",
   "metadata": {
    "slideshow": {
     "slide_type": "skip"
    }
   },
   "source": [
    "\\newpage"
   ]
  },
  {
   "cell_type": "markdown",
   "metadata": {
    "slideshow": {
     "slide_type": "subslide"
    }
   },
   "source": [
    "# Addresses \n",
    "\n",
    "bridge gaps - provide the link between ***people*** and ***place***\n",
    "\n",
    "![](figures/AdressesProvidePeopleWithPlace.png)"
   ]
  },
  {
   "cell_type": "markdown",
   "metadata": {
    "slideshow": {
     "slide_type": "skip"
    }
   },
   "source": [
    "\\newpage"
   ]
  },
  {
   "cell_type": "markdown",
   "metadata": {
    "slideshow": {
     "slide_type": "slide"
    }
   },
   "source": [
    "# The address disenfranchised?\n",
    "\n",
    "\n",
    "> It is almost impossible for individuals to be part of society without a legal identity. \n",
    "\n",
    "> 4 billion people are excluded from the rule of law because they do not have a legal identity, and that **establishing such an identity often depends on having an official address**.\n",
    "\n",
    "> Addresses appear to be a key element in aiding the delivery of policies at national and international levels ....\n",
    "\n",
    "@_addressing_2012 p. 6\n",
    "\n"
   ]
  },
  {
   "cell_type": "markdown",
   "metadata": {
    "slideshow": {
     "slide_type": "skip"
    }
   },
   "source": [
    "\\newpage"
   ]
  },
  {
   "cell_type": "markdown",
   "metadata": {
    "slideshow": {
     "slide_type": "subslide"
    }
   },
   "source": [
    "## In Africa:\n",
    "\n",
    "![@stats_africa_2015](https://upload.wikimedia.org/wikipedia/commons/thumb/4/40/UPU_statistics_about_Africa.svg/640px-UPU_statistics_about_Africa.svg.png)\n",
    "\n",
    "It's difficult to do street based addressing when there are no streets!"
   ]
  },
  {
   "cell_type": "markdown",
   "metadata": {
    "slideshow": {
     "slide_type": "skip"
    }
   },
   "source": [
    "\\newpage"
   ]
  },
  {
   "cell_type": "markdown",
   "metadata": {
    "slideshow": {
     "slide_type": "subslide"
    }
   },
   "source": [
    "## Global change and urbanisation\n",
    "\n",
    "> This century is witnessing a fundamental change in our way of life; for the first time in history, half of the world’s population lives in towns and cities. \n",
    "\n",
    "> Urban areas are growing faster in developing countries, **mostly through informal settlements.**\n",
    "\n",
    "> The lack of an address, particularly in informal settlements, can also mean the lack of legal identity, equal opportunities for employment and social integration.\n",
    "\n",
    "@_addressing_2012 p. 6\n",
    "\n",
    "Addresses are becoming a ***basic human right***. "
   ]
  },
  {
   "cell_type": "markdown",
   "metadata": {
    "slideshow": {
     "slide_type": "skip"
    }
   },
   "source": [
    "\\newpage"
   ]
  },
  {
   "cell_type": "markdown",
   "metadata": {
    "nbpresent": {
     "id": "b2ca43ef-2e99-479c-b47d-9e7a8ede9572"
    },
    "slideshow": {
     "slide_type": "slide"
    }
   },
   "source": [
    "\n",
    "# What is an address?\n",
    "\n",
    "##  Address abstraction\n",
    "\n",
    "* Address did not spring fully formed into existance. \n",
    "* They are used globally\n",
    "\t* but developed nationally\n",
    "\t* and for different reasons\n",
    "\n"
   ]
  },
  {
   "cell_type": "markdown",
   "metadata": {
    "slideshow": {
     "slide_type": "subslide"
    }
   },
   "source": [
    "## Address abstraction\n",
    "\n",
    "![@AddressAbstraction_beck_2016](https://upload.wikimedia.org/wikipedia/commons/thumb/5/54/Postal_Address_Abstraction.svg/1024px-Postal_Address_Abstraction.svg.png)"
   ]
  },
  {
   "cell_type": "markdown",
   "metadata": {
    "slideshow": {
     "slide_type": "skip"
    }
   },
   "source": [
    "\\newpage"
   ]
  },
  {
   "cell_type": "markdown",
   "metadata": {
    "slideshow": {
     "slide_type": "slide"
    }
   },
   "source": [
    "# The formalisation of addressing\n",
    "\n",
    "\n",
    "## In the beginning ...... was the ledger, the register, the record\n",
    "\n",
    "![@ledger_en_beck_2016](https://upload.wikimedia.org/wikipedia/commons/thumb/f/f3/Everton_1933_FA_Cup_team_selection_ledger.JPG/681px-Everton_1933_FA_Cup_team_selection_ledger.JPG)\n",
    "\n"
   ]
  },
  {
   "cell_type": "markdown",
   "metadata": {
    "slideshow": {
     "slide_type": "notes"
    }
   },
   "source": [
    "Formal and informal"
   ]
  },
  {
   "cell_type": "markdown",
   "metadata": {
    "slideshow": {
     "slide_type": "skip"
    }
   },
   "source": [
    "\\newpage"
   ]
  },
  {
   "cell_type": "markdown",
   "metadata": {
    "nbpresent": {
     "id": "b2ca43ef-2e99-479c-b47d-9e7a8ede9572"
    },
    "slideshow": {
     "slide_type": "subslide"
    }
   },
   "source": [
    "##  Royal Mail - postal delivery\n",
    "\n",
    "![](figures/1S_ADP_creating_AP_DP.gif)\n",
    "\n"
   ]
  },
  {
   "cell_type": "markdown",
   "metadata": {
    "slideshow": {
     "slide_type": "notes"
    }
   },
   "source": [
    "In a postal system:\n",
    "\n",
    "* a *Delivery Point* (DP) is a single mailbox or other place at which mail is delivered. \n",
    "    * a single DP may be associated with multiple addresses \n",
    "* An *Access Point* provides logistical detail.\n",
    "\n",
    "The postal challenge is to solve the last 100 meters. In such a scenario the *post person* is critical. \n",
    "\n",
    "DPs were collected by the Royal Mail for their operational activities and sold under licence as the *Postal Address File* (PAF). PAF is built around the 8-character *Unique Delivery Point Reference Number* (UDPRN). The problem with PAF is that the spatial context is not incorporated into the product. Delivery points are decoupled from their spatial context - a delivery point with a spatial context should provide the clear location of the point of delivery (a door in a house, a post-room at an office etc.)."
   ]
  },
  {
   "cell_type": "markdown",
   "metadata": {
    "nbpresent": {
     "id": "b2ca43ef-2e99-479c-b47d-9e7a8ede9572"
    },
    "slideshow": {
     "slide_type": "skip"
    }
   },
   "source": [
    "\\newpage"
   ]
  },
  {
   "cell_type": "markdown",
   "metadata": {
    "nbpresent": {
     "id": "b2ca43ef-2e99-479c-b47d-9e7a8ede9572"
    },
    "slideshow": {
     "slide_type": "subslide"
    }
   },
   "source": [
    "##  LLPG - asset management\n",
    "\n",
    "![[Borough of Harrown LLPG schematic](https://www.ggpsystems.co.uk/wp-content/uploads/2010/12/LBH-LLPG-System-flow-Diagram-300x211.png)](figures/LBH-LLPG-System-flow-Diagram.png)\n",
    "\n"
   ]
  },
  {
   "cell_type": "markdown",
   "metadata": {
    "slideshow": {
     "slide_type": "notes"
    }
   },
   "source": [
    "An LLPG (Local Land and Property Gazetteer) is a collection of address and location data created by a local authority. \n",
    "\n",
    "It is an Asset/Facilities Management tool to support public service delivery:\n",
    "\n",
    "* Local Authority\n",
    "* Police\n",
    "* Fire\n",
    "* Ambulance\n",
    "\n",
    "It incorporates:\n",
    "\n",
    "* Non postal addresses (i.e. something that the Royal Mail wouldn't deliver post to)\n",
    "\n",
    "* a 12-digit Unique Property Reference Number for every building and plot of land\n",
    "* National Street Gazetteer\n",
    "\n",
    "Prior to the initialization of the LLPGs, local authorities would have different address data held across different departments and the purpose of the Local Land and Property Gazetteers was to rationalize the data, so that a property or a particular plot of land is referred to as the same thing, even if they do have different names."
   ]
  },
  {
   "cell_type": "markdown",
   "metadata": {
    "nbpresent": {
     "id": "b2ca43ef-2e99-479c-b47d-9e7a8ede9572"
    },
    "slideshow": {
     "slide_type": "skip"
    }
   },
   "source": [
    "\\newpage"
   ]
  },
  {
   "cell_type": "markdown",
   "metadata": {
    "nbpresent": {
     "id": "b2ca43ef-2e99-479c-b47d-9e7a8ede9572"
    },
    "slideshow": {
     "slide_type": "subslide"
    }
   },
   "source": [
    "##  Addresses as assets?\n",
    "\n",
    "![[Post box](http://joncruddas.org.uk/sites/joncruddas.org.uk/files/styles/large/public/field/image/post-box.jpg?itok=ECnzLyhZ)](http://joncruddas.org.uk/sites/joncruddas.org.uk/files/styles/large/public/field/image/post-box.jpg?itok=ECnzLyhZ)\n",
    "\n",
    "* So what makes the following 'non-postal' *facilities*  addresses:\n",
    "\t* Chimney\n",
    "\t* Post box - which is clearly having a letter delivered ;-)\n",
    "\t* Electricity sub-station\n",
    "* Context is critical\n",
    "    * So why is a waste-water facility not an address in ABP (when an Electricity sub-station is)? \n",
    "        * Because it is not *of interest* to a council and the Royal Mail have never been asked to deliver mail to it."
   ]
  },
  {
   "cell_type": "markdown",
   "metadata": {
    "nbpresent": {
     "id": "b2ca43ef-2e99-479c-b47d-9e7a8ede9572"
    },
    "slideshow": {
     "slide_type": "skip"
    }
   },
   "source": [
    "\\newpage"
   ]
  },
  {
   "cell_type": "markdown",
   "metadata": {
    "nbpresent": {
     "id": "b2ca43ef-2e99-479c-b47d-9e7a8ede9572"
    },
    "slideshow": {
     "slide_type": "subslide"
    }
   },
   "source": [
    "##  World Bank - social improvement\n",
    "\n",
    "![@world_bank_address_beck_2015](https://upload.wikimedia.org/wikipedia/commons/thumb/e/ef/World_Bank_Recommended_Address_Infrastucture.svg/640px-World_Bank_Recommended_Address_Infrastucture.svg.png)\n",
    "\n"
   ]
  },
  {
   "cell_type": "markdown",
   "metadata": {
    "slideshow": {
     "slide_type": "notes"
    }
   },
   "source": [
    "The World Bank has taken a *street addressing* view-point (@_addressing_2012, p.57). This requires up-to-date mapping and bureacracy (to deliver a street gazetteer and to provide the street infrastructure (furniture)). However, (@_addressing_2012, p.44) demonstrates that this is a cumbersome process with a number of issues, not the least:\n",
    "\n",
    "* Urban bias\n",
    "* Cost of infrastucture development\n",
    "* Lack of community involvment"
   ]
  },
  {
   "cell_type": "markdown",
   "metadata": {
    "nbpresent": {
     "id": "b2ca43ef-2e99-479c-b47d-9e7a8ede9572"
    },
    "slideshow": {
     "slide_type": "skip"
    }
   },
   "source": [
    "\\newpage"
   ]
  },
  {
   "cell_type": "markdown",
   "metadata": {
    "nbpresent": {
     "id": "b2ca43ef-2e99-479c-b47d-9e7a8ede9572"
    },
    "slideshow": {
     "slide_type": "subslide"
    }
   },
   "source": [
    "##  Korea: The Jibeon system - taxation\n",
    "\n",
    "![after (@_addressing_2012, p.57)](figures/JibeonAddressingUPU_pg57.png)\n",
    "\n"
   ]
  },
  {
   "cell_type": "markdown",
   "metadata": {
    "slideshow": {
     "slide_type": "notes"
    }
   },
   "source": [
    "* Until recently, the Republic of Korea (Korea) has used land parcel numbers ( jibeon) to identify unique locations. \n",
    "    * These parcel numbers were assigned chronologically according to date of construction and without reference to the street where they were located. \n",
    "    * This meant that adjacent buildings did not necessarily follow a sequential numbering system.\n",
    "* This system was initially used to identify land for census purposes and to levy taxes. \n",
    "* In addition, until the launch of the new addressing system, the jibeon was also used to identify locations (i.e. a physical address). "
   ]
  },
  {
   "cell_type": "markdown",
   "metadata": {
    "nbpresent": {
     "id": "b2ca43ef-2e99-479c-b47d-9e7a8ede9572"
    },
    "slideshow": {
     "slide_type": "skip"
    }
   },
   "source": [
    "\\newpage"
   ]
  },
  {
   "cell_type": "markdown",
   "metadata": {
    "nbpresent": {
     "id": "b2ca43ef-2e99-479c-b47d-9e7a8ede9572"
    },
    "slideshow": {
     "slide_type": "subslide"
    }
   },
   "source": [
    "##  Denmark: An addressing commons with impact\n",
    "\n",
    "![after @lind2008addresses](figures/Lind_AddressesAsAnInfrastructureDenmark_Before.png)"
   ]
  },
  {
   "cell_type": "markdown",
   "metadata": {
    "slideshow": {
     "slide_type": "subslide"
    }
   },
   "source": [
    "![after @lind2008addresses](figures/Lind_AddressesAsAnInfrastructureDenmark_After.png)"
   ]
  },
  {
   "cell_type": "markdown",
   "metadata": {
    "nbpresent": {
     "id": "b2ca43ef-2e99-479c-b47d-9e7a8ede9572"
    },
    "slideshow": {
     "slide_type": "skip"
    }
   },
   "source": [
    "\\newpage"
   ]
  },
  {
   "cell_type": "markdown",
   "metadata": {
    "nbpresent": {
     "id": "b2ca43ef-2e99-479c-b47d-9e7a8ede9572"
    },
    "slideshow": {
     "slide_type": "subslide"
    }
   },
   "source": [
    "##  Denmark: An addressing commons with impact\n",
    "\n",
    "* Geocoded address infrastructure\n",
    "* Defined the semantics of purpose\n",
    "\t* what is an address\n",
    "* Open data\n",
    "\t* an address commons\n",
    "* The re-use statistics are staggering:\n",
    "\t* 70% of deliveries are to the private sector, \n",
    "\t* 20% are to central government\n",
    "\t* 10% are to municipalities.\n",
    "* Benefits:\n",
    "\t* Efficiencies\n",
    "\t* No duplication\n",
    "\t* Improved confidence\n",
    "\t* Known quality\n",
    "    * **There is no such thing as an unmatched address**\n",
    "\n",
    "A credible service providing a mutlitude of efficiencies (@_addressing_2012, pp.50 - 54)\n",
    "\n"
   ]
  },
  {
   "cell_type": "markdown",
   "metadata": {
    "nbpresent": {
     "id": "b2ca43ef-2e99-479c-b47d-9e7a8ede9572"
    },
    "slideshow": {
     "slide_type": "skip"
    }
   },
   "source": [
    "\\newpage"
   ]
  },
  {
   "cell_type": "markdown",
   "metadata": {
    "nbpresent": {
     "id": "b2ca43ef-2e99-479c-b47d-9e7a8ede9572"
    },
    "slideshow": {
     "slide_type": "subslide"
    }
   },
   "source": [
    "\n",
    "# UK Addressing\n",
    "\n",
    "##  Geoplace - Formal\n",
    "\n",
    "![[Geoplace graphic](https://www.geoplace.co.uk/documents/10181/67776/NAG+infographic/835d83a5-e2d8-4a26-bc95-c857b315490a?t=1434370410424)](https://www.geoplace.co.uk/documents/10181/67776/NAG+infographic/835d83a5-e2d8-4a26-bc95-c857b315490a?t=1434370410424)\n",
    "\n"
   ]
  },
  {
   "cell_type": "markdown",
   "metadata": {
    "slideshow": {
     "slide_type": "notes"
    }
   },
   "source": [
    "* GeoPlace is a limited liability partnership owned equally by the [Local Government Association](http://www.local.gov.uk/) and [Ordnance Survey](http://www.ordnancesurvey.co.uk/). \n",
    "* It has built a synchronised database containing spatial address data from \n",
    "    * 348 local authorities in England and Wales (the *Local Land and Property Gazetteers* (LLPG) which cumulatively create the *National Land and Property Gazetteer* (NLPG)), \n",
    "    * Royal Mail, \n",
    "    * Valuation Office Agency and \n",
    "    * Ordnance Survey datasets. \n",
    "* The NAG Hub database is owned by GeoPlace and is the authoritative single source of government-owned national spatial address information, containing over 225 million data records relating to about 34 million address features. GeoPlace is a production organisation with no product sales or supply operations. \n",
    "* The NAG is made available to public and private sector customers through Ordnance Survey’s [AddressBase](http://www.ordnancesurvey.co.uk/business-and-government/products/addressbase.html) products."
   ]
  },
  {
   "cell_type": "markdown",
   "metadata": {
    "nbpresent": {
     "id": "b2ca43ef-2e99-479c-b47d-9e7a8ede9572"
    },
    "slideshow": {
     "slide_type": "skip"
    }
   },
   "source": [
    "\\newpage"
   ]
  },
  {
   "cell_type": "markdown",
   "metadata": {
    "nbpresent": {
     "id": "b2ca43ef-2e99-479c-b47d-9e7a8ede9572"
    },
    "slideshow": {
     "slide_type": "subslide"
    }
   },
   "source": [
    "##  The AddressBase Family\n",
    "\n",
    "![Ordnance Survey](http://demos.ordnancesurvey.co.uk/public/demos/products/AddressBase/images/database_3_0.jpg)\n",
    "\n"
   ]
  },
  {
   "cell_type": "markdown",
   "metadata": {
    "slideshow": {
     "slide_type": "notes"
    }
   },
   "source": [
    "* The National Address Gazetteer Hub database is owned by GeoPlace and is claimed to be *the authoritative single source of government-owned national spatial address information*, containing over 225 million data records relating to about 34 million address features. \n",
    "* Each address has its own *Unique Property Reference Number* (UPRN). The AddressBase suite have been designed to integrate into the [Ordnance Survey MasterMap suite of products](http://www.ordnancesurvey.co.uk/business-and-government/products/mastermap-products.html). \n",
    "\n",
    "AddressBase is available at three levels of granularity (lite, plus and premium). \n",
    "\n",
    "* AB+ merges two address datasets together (PAF and Local Authority) to provide the best available view of addresses currently defined by Local Authorities, giving many advantages over AddressBase.\n",
    "* AB+ lets you link additional information to a single address, place it on a map, and carry out spatial analysis that enables improved business practices.\n",
    "* Geoplace argue that further value comes from additional information in the product which includes:\n",
    "\t* A more detailed classification – allowing a better understanding of the type (e.g. Domestic, Commercial or Mixed) and function of a property (e.g.  Bank or Restaurant)\n",
    "\t* Local Authority addresses not contained within PAF – giving a more complete picture of the current addresses and properties (assuming they are in scope (see below))\n",
    "\t* Cross reference to OS MasterMap TOIDs – allowing simple matching to OS MasterMap Address Layer 2, Integrated Transport Network or Topography Layer\n",
    "\t* Spatial coordinates\n",
    "\t* Unique Property Reference Number (UPRN) – which provides the ability to cross reference data with other organisations, and maintain data integrity.\n",
    "* Premium includes the address lifecycle\n",
    "\n",
    "\n",
    "AddressBase supports the UK Location Strategy concept of a 'core reference geography', including the key principles of the European Union INSPIRE directive, that data should only be collected once and kept where it can be maintained most effectively (see [AddressBase products user guide](http://www.ordnancesurvey.co.uk/docs/user-guides/addressbase-products-user-guide.pdf)). *It's probably worthwhile mentioning that this is not an open address layer - however, a [2104 feasibility study sponsored by the department of Business, Innovation and Skills](https://www.gov.uk/government/publications/an-open-national-address-gazetteer) included a recommendation that AddressBase lite is made openly available*."
   ]
  },
  {
   "cell_type": "markdown",
   "metadata": {
    "nbpresent": {
     "id": "b2ca43ef-2e99-479c-b47d-9e7a8ede9572"
    },
    "slideshow": {
     "slide_type": "skip"
    }
   },
   "source": [
    "\\newpage"
   ]
  },
  {
   "cell_type": "markdown",
   "metadata": {
    "nbpresent": {
     "id": "b2ca43ef-2e99-479c-b47d-9e7a8ede9572"
    },
    "slideshow": {
     "slide_type": "slide"
    }
   },
   "source": [
    "# Addressing issues\n",
    "\n",
    "\n",
    "* Addresses are a pain\n",
    "\t* Assets as locations\n",
    "\t* Services as locatons\n",
    "\t* People at locations\n",
    "\n"
   ]
  },
  {
   "cell_type": "markdown",
   "metadata": {
    "nbpresent": {
     "id": "b2ca43ef-2e99-479c-b47d-9e7a8ede9572"
    },
    "slideshow": {
     "slide_type": "skip"
    }
   },
   "source": [
    "\\newpage"
   ]
  },
  {
   "cell_type": "markdown",
   "metadata": {
    "nbpresent": {
     "id": "b2ca43ef-2e99-479c-b47d-9e7a8ede9572"
    },
    "slideshow": {
     "slide_type": "subslide"
    }
   },
   "source": [
    "##  Fitness for purpose\n",
    "\n",
    "* Utilties manage assets and facilities - all of these things are spatial\n",
    "\n",
    "> According to ABP a Waste Water facility is neither a postal address or a non-postal address. \n",
    "\n",
    "Really? Is it having an existential crisis?\n",
    "\n",
    "![](https://upload.wikimedia.org/wikipedia/commons/thumb/4/4b/Utility_trench_in_Bwy_%40_42_St_jeh.jpg/576px-Utility_trench_in_Bwy_%40_42_St_jeh.jpg)\n"
   ]
  },
  {
   "cell_type": "markdown",
   "metadata": {
    "nbpresent": {
     "id": "b2ca43ef-2e99-479c-b47d-9e7a8ede9572"
    },
    "slideshow": {
     "slide_type": "skip"
    }
   },
   "source": [
    "\\newpage"
   ]
  },
  {
   "cell_type": "markdown",
   "metadata": {
    "nbpresent": {
     "id": "b2ca43ef-2e99-479c-b47d-9e7a8ede9572"
    },
    "slideshow": {
     "slide_type": "subslide"
    }
   },
   "source": [
    "##  Addresses as assets?\n",
    "\n",
    "![[Post box](http://joncruddas.org.uk/sites/joncruddas.org.uk/files/styles/large/public/field/image/post-box.jpg?itok=ECnzLyhZ)](http://joncruddas.org.uk/sites/joncruddas.org.uk/files/styles/large/public/field/image/post-box.jpg?itok=ECnzLyhZ)\n",
    "\n",
    "* So what makes the following 'non-postal' *facilities*  addresses:\n",
    "\t* Chimney\n",
    "\t* Post box - which is clearly having a letter delivered ;-)\n",
    "\t* Electricity sub-station\n",
    "* Context is critical\n",
    "    * So why is a waste-water facility not an address in ABP (when an Electricity sub-station is)? \n",
    "        * Because it is not *of interest* to a council and the Royal Mail have never been asked to deliver mail to it."
   ]
  },
  {
   "cell_type": "markdown",
   "metadata": {
    "nbpresent": {
     "id": "b2ca43ef-2e99-479c-b47d-9e7a8ede9572"
    },
    "slideshow": {
     "slide_type": "skip"
    }
   },
   "source": [
    "\\newpage"
   ]
  },
  {
   "cell_type": "markdown",
   "metadata": {
    "slideshow": {
     "slide_type": "subslide"
    }
   },
   "source": [
    "##  Address lifecycle\n",
    "\n",
    "![[addressbase products user guide (p. 9)](https://www.europa.uk.com/resources/os/addressbase-products-user-guide.pdf)](figures/ABP_Lifecycle.png)\n"
   ]
  },
  {
   "cell_type": "markdown",
   "metadata": {
    "slideshow": {
     "slide_type": "notes"
    }
   },
   "source": [
    "* This ability to maintain an overview of the lifecycle of address and property status means the AddressBase Premium has introduced new potential use cases. \n",
    "* This has seen companies incorporating AddressBase Premium into their business systems to replace PAF or bespoke addressing frameworks - in theory the ability to authoritatively access the address lifecycle provides greater certainty for a number of business operations. \n",
    "\n",
    "\n",
    "However, this is not the full lifecycle. Other organisations \n"
   ]
  },
  {
   "cell_type": "markdown",
   "metadata": {
    "nbpresent": {
     "id": "b2ca43ef-2e99-479c-b47d-9e7a8ede9572"
    },
    "slideshow": {
     "slide_type": "skip"
    }
   },
   "source": [
    "\\newpage"
   ]
  },
  {
   "cell_type": "markdown",
   "metadata": {
    "nbpresent": {
     "id": "b2ca43ef-2e99-479c-b47d-9e7a8ede9572"
    },
    "slideshow": {
     "slide_type": "subslide"
    }
   },
   "source": [
    "##  Serving customers who operate **anywhere**\n",
    "\n",
    "![](https://upload.wikimedia.org/wikipedia/commons/thumb/5/5b/Colling_Trough_Collingtree_UK_2007.JPG/597px-Colling_Trough_Collingtree_UK_2007.JPG)\n",
    "\n"
   ]
  },
  {
   "cell_type": "markdown",
   "metadata": {
    "nbpresent": {
     "id": "b2ca43ef-2e99-479c-b47d-9e7a8ede9572"
    },
    "slideshow": {
     "slide_type": "skip"
    }
   },
   "source": [
    "\\newpage"
   ]
  },
  {
   "cell_type": "markdown",
   "metadata": {
    "nbpresent": {
     "id": "b2ca43ef-2e99-479c-b47d-9e7a8ede9572"
    },
    "slideshow": {
     "slide_type": "subslide"
    }
   },
   "source": [
    "##  [Open National Address Gazetteer](https://www.gov.uk/government/publications/an-open-national-address-gazetteer) - *informal?*\n",
    "\n",
    "The *Department for Business, Innovation & Skills* (BIS) on the need for an [Open National Address Gazetteer](https://www.gov.uk/government/publications/an-open-national-address-gazetteer) commissioned a review of *open addressing* which was published January 2014. \n",
    "\n",
    ". . . . . \n",
    "\n",
    "It recommended:\n",
    "\n",
    "* the UK Government commission an 'open' addressing product based on a variation of the 'freemium' model \n",
    "\t* data owners elect to release a basic ('Lite') product as Open Data that leaves higher value products to be licensed\n",
    "\n",
    ". . . . . \n",
    "\n",
    "AddressBase Lite was proposed with an annual release cycle. Critically this contains the UPRN which could be be key for product interoperability.\n",
    "* This would allow the creation of a shared interoperable address spine along the lines of the Denmark model"
   ]
  },
  {
   "cell_type": "markdown",
   "metadata": {
    "nbpresent": {
     "id": "b2ca43ef-2e99-479c-b47d-9e7a8ede9572"
    },
    "slideshow": {
     "slide_type": "skip"
    }
   },
   "source": [
    "\\newpage"
   ]
  },
  {
   "cell_type": "markdown",
   "metadata": {
    "nbpresent": {
     "id": "b2ca43ef-2e99-479c-b47d-9e7a8ede9572"
    },
    "slideshow": {
     "slide_type": "subslide"
    }
   },
   "source": [
    "##  Open NAG - [*'Responses received'*](https://www.gov.uk/government/publications/an-open-national-address-gazetteer) April 2014\n",
    "\n",
    "With the exception of the PAF advisory board and Royal Mail there was support for the BIS review across the respondants with some notable calls for the *Totally Open* option (particularly from those organisations who are not part of the Public Sector Mapping Agreement) and that the UPRN should be released under an open data licence (as a core reference data set that encourages product interoperability).\n",
    "\n",
    ". . . . . \n",
    "\n",
    "A number of quotes have been selected below:"
   ]
  },
  {
   "cell_type": "markdown",
   "metadata": {
    "nbpresent": {
     "id": "b2ca43ef-2e99-479c-b47d-9e7a8ede9572"
    },
    "slideshow": {
     "slide_type": "skip"
    }
   },
   "source": [
    "\\newpage"
   ]
  },
  {
   "cell_type": "markdown",
   "metadata": {
    "nbpresent": {
     "id": "b2ca43ef-2e99-479c-b47d-9e7a8ede9572"
    },
    "slideshow": {
     "slide_type": "subslide"
    }
   },
   "source": [
    "##  Addresses as an Open Core Reference\n",
    "\n",
    ">....Address data and specific locations attached to them **are part of Core Reference data sets recognised by government as a key component of our National Information Infrastructure** (as long argued by APPSI). The report published by BIS gives us **a chance to democratise access to addressing data** and meet many of the Government’s avowed intentions. We urge acceptance of Option 6 *(freemium)* or 7 *(an independent open data product)*. \n",
    "\n",
    "**David Rhind *Chair of the Advisory Panel on Public Sector Information***\n",
    "\n",
    ">....**Freely available data are much more likely to be adopted** by users and embedded in operational systems. **A national register, free at the point of delivery will undoubtedly help in joining up services, increasing efficiency and reducing duplication**. \n",
    "\n",
    "**Office of National Statistics**"
   ]
  },
  {
   "cell_type": "markdown",
   "metadata": {
    "nbpresent": {
     "id": "b2ca43ef-2e99-479c-b47d-9e7a8ede9572"
    },
    "slideshow": {
     "slide_type": "skip"
    }
   },
   "source": [
    "\\newpage"
   ]
  },
  {
   "cell_type": "markdown",
   "metadata": {
    "nbpresent": {
     "id": "b2ca43ef-2e99-479c-b47d-9e7a8ede9572"
    },
    "slideshow": {
     "slide_type": "subslide"
    }
   },
   "source": [
    "##  The benefit of current credible addresses\n",
    "\n",
    ">**The problem of out-of-date addresses is a very significant commercial cost** for the whole of the UK and is also arguably underplayed in the report. \n",
    "\n",
    "**Individual Respondent 3**"
   ]
  },
  {
   "cell_type": "markdown",
   "metadata": {
    "nbpresent": {
     "id": "b2ca43ef-2e99-479c-b47d-9e7a8ede9572"
    },
    "slideshow": {
     "slide_type": "skip"
    }
   },
   "source": [
    "\\newpage"
   ]
  },
  {
   "cell_type": "markdown",
   "metadata": {
    "nbpresent": {
     "id": "b2ca43ef-2e99-479c-b47d-9e7a8ede9572"
    },
    "slideshow": {
     "slide_type": "subslide"
    }
   },
   "source": [
    "##  Licences\n",
    "\n",
    ">Whatever licence the data is available under, **it must permit the data to be combined with other open data and then re-published**. ... The [Open Government Licence](http://www.nationalarchives.gov.uk/doc/open-government-licence/version/2/) fulfils this criteria, but it should be noted that the [OS OpenData Licence](http://www.ordnancesurvey.co.uk/docs/licences/os-opendata-licence.pdf) (enforced by OS on it's OS OpenData products, and via the PSMA) does not. The use of the latter would represent a significant restriction on down-stream data use, and so should be avoided. \n",
    "\n",
    "**Individual Respondent 6**\n",
    "\n",
    "\n"
   ]
  },
  {
   "cell_type": "markdown",
   "metadata": {
    "nbpresent": {
     "id": "b2ca43ef-2e99-479c-b47d-9e7a8ede9572"
    },
    "slideshow": {
     "slide_type": "skip"
    }
   },
   "source": [
    "\\newpage"
   ]
  },
  {
   "cell_type": "markdown",
   "metadata": {
    "nbpresent": {
     "id": "b2ca43ef-2e99-479c-b47d-9e7a8ede9572"
    },
    "slideshow": {
     "slide_type": "slide"
    }
   },
   "source": [
    "# Issues: addresses = postal address.\n",
    "\n",
    "* Is *Postal* a constraining legacy?\n",
    "* Is *address* a useful term? \n",
    "\n",
    "![](https://upload.wikimedia.org/wikipedia/commons/0/0d/Mono_pensador.jpg)\n",
    "\n"
   ]
  },
  {
   "cell_type": "markdown",
   "metadata": {
    "nbpresent": {
     "id": "b2ca43ef-2e99-479c-b47d-9e7a8ede9572"
    },
    "slideshow": {
     "slide_type": "skip"
    }
   },
   "source": [
    "\\newpage"
   ]
  },
  {
   "cell_type": "markdown",
   "metadata": {
    "slideshow": {
     "slide_type": "subslide"
    }
   },
   "source": [
    "# Issues: Do formal *addresses* actually help?\n",
    "\n",
    "* External addresses (ABP for example) are another product(s) to manage\n",
    "\t* which may not fit the real business need\n",
    "\t* which may not have full customer or geographic coverage\n",
    "    \n",
    "![](https://upload.wikimedia.org/wikipedia/commons/0/0d/Mono_pensador.jpg)"
   ]
  },
  {
   "cell_type": "markdown",
   "metadata": {
    "nbpresent": {
     "id": "b2ca43ef-2e99-479c-b47d-9e7a8ede9572"
    },
    "slideshow": {
     "slide_type": "skip"
    }
   },
   "source": [
    "\\newpage"
   ]
  },
  {
   "cell_type": "markdown",
   "metadata": {
    "nbpresent": {
     "id": "b2ca43ef-2e99-479c-b47d-9e7a8ede9572"
    },
    "slideshow": {
     "slide_type": "slide"
    }
   },
   "source": [
    "# Taking Stock\n",
    "\n",
    "##  Addresses are heterogeneous\n",
    "\n",
    "![@world_addressing_beck_2015](https://upload.wikimedia.org/wikipedia/commons/thumb/0/08/Addressing_around_the_world.svg/640px-Addressing_around_the_world.svg.png)\n",
    "\n",
    "In terms of:\n",
    "\n",
    "* What they mean\n",
    "* What they are used for\n",
    "* Who uses them\n",
    "* How they are accessed"
   ]
  },
  {
   "cell_type": "markdown",
   "metadata": {
    "nbpresent": {
     "id": "b2ca43ef-2e99-479c-b47d-9e7a8ede9572"
    },
    "slideshow": {
     "slide_type": "skip"
    }
   },
   "source": [
    "\\newpage"
   ]
  },
  {
   "cell_type": "markdown",
   "metadata": {
    "nbpresent": {
     "id": "b2ca43ef-2e99-479c-b47d-9e7a8ede9572"
    },
    "slideshow": {
     "slide_type": "subslide"
    }
   },
   "source": [
    "##  Assets can have addresses\n",
    "\n",
    "So - anything can have an address (the *Internet of Things*)\n",
    "\n",
    "![[Post box](http://joncruddas.org.uk/sites/joncruddas.org.uk/files/styles/large/public/field/image/post-box.jpg?itok=ECnzLyhZ)](http://joncruddas.org.uk/sites/joncruddas.org.uk/files/styles/large/public/field/image/post-box.jpg?itok=ECnzLyhZ)"
   ]
  },
  {
   "cell_type": "markdown",
   "metadata": {
    "nbpresent": {
     "id": "b2ca43ef-2e99-479c-b47d-9e7a8ede9572"
    },
    "slideshow": {
     "slide_type": "skip"
    }
   },
   "source": [
    "\\newpage"
   ]
  },
  {
   "cell_type": "markdown",
   "metadata": {
    "nbpresent": {
     "id": "b2ca43ef-2e99-479c-b47d-9e7a8ede9572"
    },
    "slideshow": {
     "slide_type": "subslide"
    }
   },
   "source": [
    "##  National data silos\n",
    "\n",
    "* They have been created to solve national issues.\n",
    "    * Applying different paradigms\n",
    "    * Are *relative referencing system* that do not implicitly provide an accurate spatial location.\n",
    "* No unifying semantics.\n",
    "\n",
    "![@IslandsOfData_en_beck_2015](https://upload.wikimedia.org/wikipedia/commons/thumb/3/3d/Islands_Of_Data.svg/636px-Islands_Of_Data.svg.png)\n",
    "\n"
   ]
  },
  {
   "cell_type": "markdown",
   "metadata": {
    "nbpresent": {
     "id": "b2ca43ef-2e99-479c-b47d-9e7a8ede9572"
    },
    "slideshow": {
     "slide_type": "skip"
    }
   },
   "source": [
    "\\newpage"
   ]
  },
  {
   "cell_type": "markdown",
   "metadata": {
    "nbpresent": {
     "id": "b2ca43ef-2e99-479c-b47d-9e7a8ede9572"
    },
    "slideshow": {
     "slide_type": "subslide"
    }
   },
   "source": [
    "##  \n",
    "\n",
    "![@IncompatibilitiesAndLicenceClauses_en_beck_2016](https://upload.wikimedia.org/wikipedia/commons/thumb/0/0e/Incompatibilities_And_Licence_Clauses.svg/989px-Incompatibilities_And_Licence_Clauses.svg.png)"
   ]
  },
  {
   "cell_type": "markdown",
   "metadata": {
    "nbpresent": {
     "id": "b2ca43ef-2e99-479c-b47d-9e7a8ede9572"
    },
    "slideshow": {
     "slide_type": "skip"
    }
   },
   "source": [
    "\\newpage"
   ]
  },
  {
   "cell_type": "markdown",
   "metadata": {
    "nbpresent": {
     "id": "b2ca43ef-2e99-479c-b47d-9e7a8ede9572"
    },
    "slideshow": {
     "slide_type": "subslide"
    }
   },
   "source": [
    "##  Addresses are bureaucratic and costly\n",
    "\n",
    "![@stamp_schnettelker_2013](https://farm3.staticflickr.com/2819/9786091286_e85fd01bb8_z_d.jpg)\n",
    "\n",
    "Severely protracted when formal/informal issues are encountered."
   ]
  },
  {
   "cell_type": "markdown",
   "metadata": {
    "nbpresent": {
     "id": "b2ca43ef-2e99-479c-b47d-9e7a8ede9572"
    },
    "slideshow": {
     "slide_type": "skip"
    }
   },
   "source": [
    "\\newpage"
   ]
  },
  {
   "cell_type": "markdown",
   "metadata": {
    "nbpresent": {
     "id": "b2ca43ef-2e99-479c-b47d-9e7a8ede9572"
    },
    "slideshow": {
     "slide_type": "subslide"
    }
   },
   "source": [
    "##  Addresses can be opaque\n",
    "\n",
    "![@processing_transparency_beck_2015](https://upload.wikimedia.org/wikipedia/commons/thumb/d/d5/Processing_transparency_between_open_and_closed_systems.svg/630px-Processing_transparency_between_open_and_closed_systems.svg.png)\n",
    "\n",
    "**transparent and reproducible?**"
   ]
  },
  {
   "cell_type": "markdown",
   "metadata": {
    "nbpresent": {
     "id": "b2ca43ef-2e99-479c-b47d-9e7a8ede9572"
    },
    "slideshow": {
     "slide_type": "skip"
    }
   },
   "source": [
    "\\newpage"
   ]
  },
  {
   "cell_type": "markdown",
   "metadata": {
    "nbpresent": {
     "id": "b2ca43ef-2e99-479c-b47d-9e7a8ede9572"
    },
    "slideshow": {
     "slide_type": "subslide"
    }
   },
   "source": [
    "##  Addresses are of global significance\n",
    "\n",
    "![@services_products_Gray_2011](https://farm7.staticflickr.com/6213/6296605302_9745b5e72e_z_d.jpg)"
   ]
  },
  {
   "cell_type": "markdown",
   "metadata": {
    "nbpresent": {
     "id": "b2ca43ef-2e99-479c-b47d-9e7a8ede9572"
    },
    "slideshow": {
     "slide_type": "skip"
    }
   },
   "source": [
    "\\newpage"
   ]
  },
  {
   "cell_type": "markdown",
   "metadata": {
    "nbpresent": {
     "id": "b2ca43ef-2e99-479c-b47d-9e7a8ede9572"
    },
    "slideshow": {
     "slide_type": "subslide"
    }
   },
   "source": [
    "##  Addresses are ripe for disruption\n",
    "\n",
    "![@earth_egg_rain_2007](https://farm3.staticflickr.com/2159/2047910540_82620d9481_z_d.jpg?zz=1)\n",
    "\n"
   ]
  },
  {
   "cell_type": "markdown",
   "metadata": {
    "nbpresent": {
     "id": "b2ca43ef-2e99-479c-b47d-9e7a8ede9572"
    },
    "slideshow": {
     "slide_type": "skip"
    }
   },
   "source": [
    "\\newpage"
   ]
  },
  {
   "cell_type": "markdown",
   "metadata": {
    "nbpresent": {
     "id": "b2ca43ef-2e99-479c-b47d-9e7a8ede9572"
    },
    "slideshow": {
     "slide_type": "slide"
    }
   },
   "source": [
    "\n",
    "# Address Disruption\n",
    "\n",
    "##  Formal versus informal\n",
    "\n",
    "![@formalinformal_beck_2016](figures/FormalVersusInformalKnowledgeRepositoriesWithODI.png)"
   ]
  },
  {
   "cell_type": "markdown",
   "metadata": {
    "nbpresent": {
     "id": "b2ca43ef-2e99-479c-b47d-9e7a8ede9572"
    },
    "slideshow": {
     "slide_type": "skip"
    }
   },
   "source": [
    "\\newpage"
   ]
  },
  {
   "cell_type": "markdown",
   "metadata": {
    "nbpresent": {
     "id": "b2ca43ef-2e99-479c-b47d-9e7a8ede9572"
    },
    "slideshow": {
     "slide_type": "subslide"
    }
   },
   "source": [
    "##  Technology\n",
    "\n",
    "Streets are so last century.....\n",
    "\n",
    "![@world_bank_address_beck_2015](https://upload.wikimedia.org/wikipedia/commons/thumb/e/ef/World_Bank_Recommended_Address_Infrastucture.svg/640px-World_Bank_Recommended_Address_Infrastucture.svg.png)\n",
    "\n",
    "* Ubiquitous GPS/GNSS\n",
    "* Structured crowdsourced geo-enabled content (wikipedia, OSM)"
   ]
  },
  {
   "cell_type": "markdown",
   "metadata": {
    "nbpresent": {
     "id": "b2ca43ef-2e99-479c-b47d-9e7a8ede9572"
    },
    "slideshow": {
     "slide_type": "skip"
    }
   },
   "source": [
    "\\newpage"
   ]
  },
  {
   "cell_type": "markdown",
   "metadata": {
    "nbpresent": {
     "id": "b2ca43ef-2e99-479c-b47d-9e7a8ede9572"
    },
    "slideshow": {
     "slide_type": "subslide"
    }
   },
   "source": [
    "##  Interoperability\n",
    "\n",
    "![](figures/Plug_interoperability.svg.png)\n",
    "\n",
    "* Will the semantic web provide address interoperabilty?"
   ]
  },
  {
   "cell_type": "markdown",
   "metadata": {
    "slideshow": {
     "slide_type": "notes"
    }
   },
   "source": [
    "* between addressing systems\n",
    "* to incorporate additional data\n",
    "    * VOA\n",
    "    * ETC"
   ]
  },
  {
   "cell_type": "markdown",
   "metadata": {
    "nbpresent": {
     "id": "b2ca43ef-2e99-479c-b47d-9e7a8ede9572"
    },
    "slideshow": {
     "slide_type": "skip"
    }
   },
   "source": [
    "\\newpage"
   ]
  },
  {
   "cell_type": "markdown",
   "metadata": {
    "nbpresent": {
     "id": "b2ca43ef-2e99-479c-b47d-9e7a8ede9572"
    },
    "slideshow": {
     "slide_type": "subslide"
    }
   },
   "source": [
    "##  Globalisation\n",
    "\n",
    "![@linked_data_staveren_2013](https://farm8.staticflickr.com/7374/9965173654_7bf862d89d_z_d.jpg)\n",
    "\n",
    "* Addressing is a **core reference geography**\n",
    "* Global brands will demand (or invoke) consistent global addressing\n",
    "* How will licences impact on this?"
   ]
  },
  {
   "cell_type": "markdown",
   "metadata": {
    "nbpresent": {
     "id": "b2ca43ef-2e99-479c-b47d-9e7a8ede9572"
    },
    "slideshow": {
     "slide_type": "skip"
    }
   },
   "source": [
    "\\newpage"
   ]
  },
  {
   "cell_type": "markdown",
   "metadata": {
    "nbpresent": {
     "id": "b2ca43ef-2e99-479c-b47d-9e7a8ede9572"
    },
    "slideshow": {
     "slide_type": "slide"
    }
   },
   "source": [
    "# A new global address paradigm?  \n",
    "\n",
    "* [Amazon drone delivery in the UK requires](https://www.theguardian.com/technology/2016/jul/25/amazon-to-test-drone-delivery-uk-government)\n",
    "\t* A new view over addressing complements streets and buildings but is geo-coded at source\n",
    "\t* and supports accurate delivery throughout the delivery chain using a global referencing system.\n",
    "\n",
    "Is there a universal approach which allows all avenues to be satisfied?\n",
    "\n",
    "![](figures/Guardian_Amazon_drone.png)\n"
   ]
  },
  {
   "cell_type": "markdown",
   "metadata": {
    "nbpresent": {
     "id": "b2ca43ef-2e99-479c-b47d-9e7a8ede9572"
    },
    "slideshow": {
     "slide_type": "skip"
    }
   },
   "source": [
    "\\newpage"
   ]
  },
  {
   "cell_type": "markdown",
   "metadata": {
    "nbpresent": {
     "id": "b2ca43ef-2e99-479c-b47d-9e7a8ede9572"
    },
    "slideshow": {
     "slide_type": "subslide"
    }
   },
   "source": [
    "##  How might this look?\n",
    "\n",
    ".\n",
    ".\n",
    "\n",
    "Requirements for a Global Address Framework\n",
    "\n",
    ".\n",
    "."
   ]
  },
  {
   "cell_type": "markdown",
   "metadata": {
    "nbpresent": {
     "id": "b2ca43ef-2e99-479c-b47d-9e7a8ede9572"
    },
    "slideshow": {
     "slide_type": "skip"
    }
   },
   "source": [
    "\\newpage"
   ]
  },
  {
   "cell_type": "markdown",
   "metadata": {
    "nbpresent": {
     "id": "b2ca43ef-2e99-479c-b47d-9e7a8ede9572"
    },
    "slideshow": {
     "slide_type": "subslide"
    }
   },
   "source": [
    "##  WGS84 algorithmic address minting\n",
    "\n",
    "![@minting_addresses_2009](https://farm3.staticflickr.com/2432/3832442378_bf76a81b5d_d.jpg)\n",
    "\n",
    "**A global addressing framework needs to be transparent and reproducible.**\n",
    "\n",
    "**A global addressing framework should be based on a spatial reference system.**\n",
    "\n",
    "**A global addressing framework needs to be lightweight and cheap so it can be implemented in a timely manner.**"
   ]
  },
  {
   "cell_type": "markdown",
   "metadata": {
    "nbpresent": {
     "id": "b2ca43ef-2e99-479c-b47d-9e7a8ede9572"
    },
    "slideshow": {
     "slide_type": "skip"
    }
   },
   "source": [
    "\\newpage"
   ]
  },
  {
   "cell_type": "markdown",
   "metadata": {
    "nbpresent": {
     "id": "b2ca43ef-2e99-479c-b47d-9e7a8ede9572"
    },
    "slideshow": {
     "slide_type": "subslide"
    }
   },
   "source": [
    "##  Small footprint\n",
    "\n",
    "![@small_footprints_terwolbeck_2012](https://farm8.staticflickr.com/7185/6988489897_282270cfd5_z_d.jpg)\n",
    "\n",
    "**Ubiquitous access across platforms.**\n",
    "\n",
    "**No dependency on internet access.**"
   ]
  },
  {
   "cell_type": "markdown",
   "metadata": {
    "nbpresent": {
     "id": "b2ca43ef-2e99-479c-b47d-9e7a8ede9572"
    },
    "slideshow": {
     "slide_type": "skip"
    }
   },
   "source": [
    "\\newpage"
   ]
  },
  {
   "cell_type": "markdown",
   "metadata": {
    "nbpresent": {
     "id": "b2ca43ef-2e99-479c-b47d-9e7a8ede9572"
    },
    "slideshow": {
     "slide_type": "subslide"
    }
   },
   "source": [
    "##  Short/memorable\n",
    "\n",
    "![@mnemonics_munroe_nd](http://imgs.xkcd.com/comics/mnemonics.png)"
   ]
  },
  {
   "cell_type": "markdown",
   "metadata": {
    "nbpresent": {
     "id": "b2ca43ef-2e99-479c-b47d-9e7a8ede9572"
    },
    "slideshow": {
     "slide_type": "skip"
    }
   },
   "source": [
    "\\newpage"
   ]
  },
  {
   "cell_type": "markdown",
   "metadata": {
    "nbpresent": {
     "id": "b2ca43ef-2e99-479c-b47d-9e7a8ede9572"
    },
    "slideshow": {
     "slide_type": "subslide"
    }
   },
   "source": [
    "##  Self checking \n",
    "\n",
    "![@parity_levine_2014](https://farm6.staticflickr.com/5576/14117894364_a3715fdfce_z_d.jpg)\n",
    "\n",
    "**Improving validity and credibility of downstream business processes.**"
   ]
  },
  {
   "cell_type": "markdown",
   "metadata": {
    "nbpresent": {
     "id": "b2ca43ef-2e99-479c-b47d-9e7a8ede9572"
    },
    "slideshow": {
     "slide_type": "skip"
    }
   },
   "source": [
    "\\newpage"
   ]
  },
  {
   "cell_type": "markdown",
   "metadata": {
    "nbpresent": {
     "id": "b2ca43ef-2e99-479c-b47d-9e7a8ede9572"
    },
    "slideshow": {
     "slide_type": "subslide"
    }
   },
   "source": [
    "##  Unlimited spatial recording\n",
    "\n",
    "![@geodesic_grid_petersen_2007](https://upload.wikimedia.org/wikipedia/en/thumb/f/fd/Geodesic_Grid_%28ISEA3H%29_illustrated.png/1024px-Geodesic_Grid_%28ISEA3H%29_illustrated.png)\n",
    "\n",
    "* What are the spatial requirements for the range of addressing options?\n",
    "    * [Manila has a population density of 42,857 people per square km](http://en.wikipedia.org/wiki/List_of_cities_proper_by_population_density). \n",
    "    * [Map Kibera](http://mapkibera.org/) and OSM has revolutionised service delivery in Kibera (Kenya). \n",
    "        * Address Kibera could do the same thing for citizenship.\n",
    "\n",
    "**A global addressing framework should meet the needs of the rural, urban, formal and informal communities equally.**"
   ]
  },
  {
   "cell_type": "markdown",
   "metadata": {
    "nbpresent": {
     "id": "b2ca43ef-2e99-479c-b47d-9e7a8ede9572"
    },
    "slideshow": {
     "slide_type": "skip"
    }
   },
   "source": [
    "\\newpage"
   ]
  },
  {
   "cell_type": "markdown",
   "metadata": {
    "nbpresent": {
     "id": "b2ca43ef-2e99-479c-b47d-9e7a8ede9572"
    },
    "slideshow": {
     "slide_type": "subslide"
    }
   },
   "source": [
    "##  Open and interoperable\n",
    "\n",
    "![](figures/PromotingInteroperability.png)"
   ]
  },
  {
   "cell_type": "markdown",
   "metadata": {
    "nbpresent": {
     "id": "b2ca43ef-2e99-479c-b47d-9e7a8ede9572"
    },
    "slideshow": {
     "slide_type": "skip"
    }
   },
   "source": [
    "\\newpage"
   ]
  },
  {
   "cell_type": "markdown",
   "metadata": {
    "nbpresent": {
     "id": "b2ca43ef-2e99-479c-b47d-9e7a8ede9572"
    },
    "slideshow": {
     "slide_type": "subslide"
    }
   },
   "source": [
    "##  Open and interoperable\n",
    "\n",
    "> the lack of a consistent and transparent legal and policy framework for sharing spatial data continues to be an additional roadblock.\n",
    "\n",
    "@pomfret_spatial_2010\n",
    "\n",
    "**A global addressing framework should be open or available with as few barriers as possible.**"
   ]
  },
  {
   "cell_type": "markdown",
   "metadata": {
    "nbpresent": {
     "id": "b2ca43ef-2e99-479c-b47d-9e7a8ede9572"
    },
    "slideshow": {
     "slide_type": "skip"
    }
   },
   "source": [
    "\\newpage"
   ]
  },
  {
   "cell_type": "markdown",
   "metadata": {
    "nbpresent": {
     "id": "b2ca43ef-2e99-479c-b47d-9e7a8ede9572"
    },
    "slideshow": {
     "slide_type": "subslide"
    }
   },
   "source": [
    "##  Indoor use and 3D\n",
    "\n",
    "![@bim_arup_2013](https://upload.wikimedia.org/wikipedia/commons/thumb/2/20/Outsourcing-bim-integration-construction.jpg/640px-Outsourcing-bim-integration-construction.jpg)\n",
    "\n",
    "Incorporating wifi-triangulation - *individual room* addressing and navigation.\n",
    "\n",
    "Seamless integration with BIM and CityGML.\n",
    "\n",
    "*Addressing isn't only about buildings - think about the Internet of Things*"
   ]
  },
  {
   "cell_type": "markdown",
   "metadata": {
    "nbpresent": {
     "id": "b2ca43ef-2e99-479c-b47d-9e7a8ede9572"
    },
    "slideshow": {
     "slide_type": "skip"
    }
   },
   "source": [
    "\\newpage"
   ]
  },
  {
   "cell_type": "markdown",
   "metadata": {
    "nbpresent": {
     "id": "b2ca43ef-2e99-479c-b47d-9e7a8ede9572"
    },
    "slideshow": {
     "slide_type": "subslide"
    }
   },
   "source": [
    "##  Inherent geo-statistical aggregation (spatially scalable)\n",
    "\n",
    "![@geodesic_grid_petersen_2007](http://upload.wikimedia.org/wikipedia/en/thumb/f/fd/Geodesic_Grid_%28ISEA3H%29_illustrated.png/640px-Geodesic_Grid_%28ISEA3H%29_illustrated.png)\n",
    "\n",
    "GIS free multi-scale analysis and reporting during disaster scenarios."
   ]
  },
  {
   "cell_type": "markdown",
   "metadata": {
    "nbpresent": {
     "id": "b2ca43ef-2e99-479c-b47d-9e7a8ede9572"
    },
    "slideshow": {
     "slide_type": "skip"
    }
   },
   "source": [
    "\\newpage"
   ]
  },
  {
   "cell_type": "markdown",
   "metadata": {
    "slideshow": {
     "slide_type": "slide"
    }
   },
   "source": [
    "# Utility address concepts\n",
    "\n",
    "\n",
    "* A means of communicating location to third parties in a way **they** understand.\n",
    "\t* Delivery\n",
    "\t* Contract engineer\n",
    "\t* Incident reporting\n",
    "* Hence, addresses are all about sharing\n",
    "\t* We need to *buy into* disambiguating stakeholder semantics\n",
    "        * Democratise the infrastructure\n",
    "        * Democratise re-use\n",
    "* Everything is mediated by a human in the information exchange\n",
    "\t* Everyone has their own semantics\n",
    "\t* Formal and vernacular geographies"
   ]
  },
  {
   "cell_type": "markdown",
   "metadata": {
    "slideshow": {
     "slide_type": "skip"
    }
   },
   "source": [
    "\\newpage"
   ]
  },
  {
   "cell_type": "markdown",
   "metadata": {
    "slideshow": {
     "slide_type": "subslide"
    }
   },
   "source": [
    "##  Addresses mediate space\n",
    "\n",
    "In business systems addresses are bridge a between technology stacks and social systems.  \n",
    "\n",
    "\n",
    "\n",
    "![](figures/Addressing_Concept_rosetta_stone.png)\n",
    "\n"
   ]
  },
  {
   "cell_type": "markdown",
   "metadata": {
    "slideshow": {
     "slide_type": "notes"
    }
   },
   "source": [
    "* Challenges\n",
    "\t* find an unambiguous way to encode these different address types across the enterprise (and/or as part of an open initiative)\n",
    "\t* find ways to dynamically transform these address so that each end-user community get the most appropriate address be they:\n",
    "\t\t* formal addresses\n",
    "\t\t* vernacular (informal) addresses \n",
    "\t\t* Postal address\n",
    "\t\t* Asset location"
   ]
  },
  {
   "cell_type": "markdown",
   "metadata": {
    "slideshow": {
     "slide_type": "skip"
    }
   },
   "source": [
    "\\newpage"
   ]
  },
  {
   "cell_type": "markdown",
   "metadata": {
    "slideshow": {
     "slide_type": "subslide"
    }
   },
   "source": [
    "* Most people in the UK think of an address as a *postal address*\n",
    "\t* This is a mindset we should be trying to break\n",
    "\t* A delivery address is only one facet to an address\n",
    "* What do addresses enable\n",
    "\t* Services\n",
    "\t\t* Postal services\n",
    "\t\t* Utility services\n",
    "\t\t* etc\n",
    "\t* Routing\n",
    "\t\t* Vehicle navigation\n",
    "\t\t* People navigation\n",
    "\t* Asset/Infrastructure management\n",
    "\t* Information integration\n",
    "\t\t* Lifecycle\n",
    "\t\t* Geodemographics\n",
    "* Hence, addressing information covers a range of requirements:\n",
    "\t* Semantic\n",
    "\t* GIS\n",
    "\t* Database\n",
    "* Challenges\n",
    "\t* find an unambiguous way to encode these different address types across the enterprise (and/or as part of an open initiative)\n",
    "\t* find ways to dynamically transform these address so that each end-user community get the most appropriate address be they:\n",
    "\t\t* formal addresses\n",
    "\t\t* vernacular (informal) addresses \n",
    "\t\t* Postal address\n",
    "\t\t* Asset location\n",
    "\n"
   ]
  },
  {
   "cell_type": "markdown",
   "metadata": {
    "nbpresent": {
     "id": "b2ca43ef-2e99-479c-b47d-9e7a8ede9572"
    },
    "slideshow": {
     "slide_type": "skip"
    }
   },
   "source": [
    "\\newpage"
   ]
  },
  {
   "cell_type": "markdown",
   "metadata": {
    "slideshow": {
     "slide_type": "subslide"
    }
   },
   "source": [
    "In terms of assets two things spring to mind - \n",
    "\n",
    "1. we no longer need streets and buildings to provide an address. \n",
    "    * GNSS already does this globally. \n",
    "    * The challenge is to translate GNSS into something appropriate for other services\n",
    "1. The Access point/Delivery point metaphor used by Royal Mail may be important for traction\n",
    "    * solving the last 100m problem (or location of local drone delivery depot)\n",
    "\n",
    "![](https://dl.dropboxusercontent.com/u/393477/ImageBank/ForAddresses/Guardian_Amazon_drone.png)"
   ]
  },
  {
   "cell_type": "markdown",
   "metadata": {
    "slideshow": {
     "slide_type": "skip"
    }
   },
   "source": [
    "\\newpage"
   ]
  },
  {
   "cell_type": "markdown",
   "metadata": {
    "nbpresent": {
     "id": "b2ca43ef-2e99-479c-b47d-9e7a8ede9572"
    },
    "slideshow": {
     "slide_type": "slide"
    }
   },
   "source": [
    "\n",
    "# Current utility addressing?\n",
    "\n",
    "##  A shared view over addressing?\n",
    "\n",
    "![](figures/UU_AMS_AND_ABP_relationships.png)"
   ]
  },
  {
   "cell_type": "markdown",
   "metadata": {
    "nbpresent": {
     "id": "b2ca43ef-2e99-479c-b47d-9e7a8ede9572"
    },
    "slideshow": {
     "slide_type": "skip"
    }
   },
   "source": [
    "\\newpage"
   ]
  },
  {
   "cell_type": "markdown",
   "metadata": {
    "nbpresent": {
     "id": "b2ca43ef-2e99-479c-b47d-9e7a8ede9572"
    },
    "slideshow": {
     "slide_type": "subslide"
    }
   },
   "source": [
    "##  A shared view over addressing?\n",
    "\n",
    "Not really....\n",
    "\n",
    "* ABP isn’t a silver bullet\n",
    "\t* Subset of required ‘formal - delivery’ addresses\n",
    "\t* Mis-match in terms of assets\n",
    "\t\t* Why does a sewage works not have an address when a post-box does?\n",
    "\t* Not plug and play\n",
    "\t* Lag in the system - the lifecycle feedback does not have credibility for time critical applications.\n",
    "\t* The co-ordinating spine is not freely available (under a permissive licence)\n",
    "\t* Inset areas - an aglomoration of 'addresses'\n",
    "\t* VOA link is a cludge\n",
    "\n",
    "![](https://upload.wikimedia.org/wikipedia/commons/0/0d/Mono_pensador.jpg)\n",
    "\n"
   ]
  },
  {
   "cell_type": "markdown",
   "metadata": {
    "slideshow": {
     "slide_type": "skip"
    }
   },
   "source": [
    "\\newpage"
   ]
  },
  {
   "cell_type": "markdown",
   "metadata": {
    "slideshow": {
     "slide_type": "subslide"
    }
   },
   "source": [
    "##  Addresses should mediate systems\n",
    "\n",
    "* Bridge the gap between a building focussed 2d view of the world and the 3d world in which we inhabit. \n",
    "* Harmonise the edge cases relationships between UPRNs and VOAs\n",
    "\n",
    "![](https://upload.wikimedia.org/wikipedia/commons/0/0d/Mono_pensador.jpg)"
   ]
  },
  {
   "cell_type": "markdown",
   "metadata": {
    "nbpresent": {
     "id": "b2ca43ef-2e99-479c-b47d-9e7a8ede9572"
    },
    "slideshow": {
     "slide_type": "skip"
    }
   },
   "source": [
    "\\newpage"
   ]
  },
  {
   "cell_type": "markdown",
   "metadata": {
    "nbpresent": {
     "id": "b2ca43ef-2e99-479c-b47d-9e7a8ede9572"
    },
    "slideshow": {
     "slide_type": "subslide"
    }
   },
   "source": [
    "##  Issues about ABP\n",
    "\n",
    "* Users over a barrel\n",
    "\t* Needed to buy ABP as AL2 was being removed\n",
    "* Data model change\n",
    "\t* a hostage to someone else's data model\n",
    "* Lifecycle benefit not being realised (at least not for utilities)\n",
    "    * Altough utilities have a significant value add\n",
    "* Update frequency\n",
    "* Different view of property hierarchy\n",
    "* 2d and 3d metaphors against VOA\n",
    "\t* a better 2.5 view of the world would be appreciated.\n",
    "* Licences do not encourage re-use and innovation\n",
    "\n",
    "\n"
   ]
  },
  {
   "cell_type": "markdown",
   "metadata": {
    "slideshow": {
     "slide_type": "skip"
    }
   },
   "source": [
    "\\newpage"
   ]
  },
  {
   "cell_type": "markdown",
   "metadata": {
    "slideshow": {
     "slide_type": "subslide"
    }
   },
   "source": [
    "##  This begs the question\n",
    "\n",
    "> Why should utilities replace a functional bespoke address system with an address framework (ABP) that does not meet all their business requirements? \n",
    "\n",
    "This creates a paradox when products like AddressBase are stipulated in Government policy documents (such as OpenWater)\n",
    "\n",
    "How can this gap be bridged? Can *open addresses* help?\n",
    "\n",
    "**Addresses need to be fit-for-purpose for the end user**\n"
   ]
  },
  {
   "cell_type": "markdown",
   "metadata": {
    "nbpresent": {
     "id": "b2ca43ef-2e99-479c-b47d-9e7a8ede9572"
    },
    "slideshow": {
     "slide_type": "skip"
    }
   },
   "source": [
    "\\newpage"
   ]
  },
  {
   "cell_type": "markdown",
   "metadata": {
    "slideshow": {
     "slide_type": "slide"
    }
   },
   "source": [
    "#  Future Addressing\n",
    "\n",
    "\n",
    "\n",
    "##  What do Utilities need from an Open Address infrastructure\n",
    "\n",
    "> Ant Beck will talk about how addresses are employed within United Utilities: from bespoke addressing, to the current implementation of Geoplace’s Address Base. \n",
    "\n",
    ">**The current approach to addressing hinders effective market activities so consideration is given to how Open approaches can disrupt the addressing landscape and improve utility services.**\n",
    "\n",
    "* Should this simply emulate Address Base Premium?\n",
    "    * No\n",
    "* Like Denmark should it exploit technological developments to be:\n",
    "\t* More robust\n",
    "\t* Improve use case\n",
    "\t* More flexible\n"
   ]
  },
  {
   "cell_type": "markdown",
   "metadata": {
    "slideshow": {
     "slide_type": "slide"
    }
   },
   "source": [
    "#  Future Addressing\n",
    "\n",
    "\n",
    "\n",
    "##  What do Utilities need from an Open Address infrastructure\n",
    "\n",
    "* Should it embrace technological development to make operational activities more efficient\n",
    "\t* Use disruptive technologies to facilitate geo-coded addressing of assets in a flexible and credible manner\n",
    "* How can such an infrastructure interoperate with other formal and informal sources to provide benefits\n",
    "* What licence would a service be under.\n",
    "\t* OS licence? -**No - it is restrictive**\n",
    "    * The point is to encourage:\n",
    "        * adoption \n",
    "        * engagement\n",
    "        * re-use\n",
    "\n",
    "> We would like to see an *open address infrastructure* in the UK **provide a platform for 21st Century addressing**\n",
    "\n",
    "> It should **not simply aim to emulate ABP** - there are other use cases\n"
   ]
  },
  {
   "cell_type": "markdown",
   "metadata": {
    "slideshow": {
     "slide_type": "skip"
    }
   },
   "source": [
    "\\newpage"
   ]
  },
  {
   "cell_type": "markdown",
   "metadata": {
    "nbpresent": {
     "id": "b2ca43ef-2e99-479c-b47d-9e7a8ede9572"
    },
    "slideshow": {
     "slide_type": "subslide"
    }
   },
   "source": [
    "##  What can Utilities bring to Open Addresses\n",
    "\n",
    "* A credible publisher of addressing updates under open licences providing:\n",
    "    * additional content\n",
    "    * improved lifecycle information\n",
    "    * expanded use cases\n",
    "    * improving confidence and credibility\n",
    "* Critical lifecycle data updates \n",
    "    * potentially faster than local government (lag is critical to some users).\n"
   ]
  },
  {
   "cell_type": "markdown",
   "metadata": {
    "nbpresent": {
     "id": "b2ca43ef-2e99-479c-b47d-9e7a8ede9572"
    },
    "slideshow": {
     "slide_type": "skip"
    }
   },
   "source": [
    "\\newpage"
   ]
  },
  {
   "cell_type": "markdown",
   "metadata": {
    "nbpresent": {
     "id": "b2ca43ef-2e99-479c-b47d-9e7a8ede9572"
    },
    "slideshow": {
     "slide_type": "subslide"
    }
   },
   "source": [
    "##  What can Open Addresses bring to Utilities\n",
    "\n",
    "* Fill the gap of formal and informal addresses\n",
    "\t* But share a common reference Spine\n",
    "\t\t* UPRN?\n",
    "\t\t* But what about the 3d world\n",
    "* Add value\n",
    "\t* Link to different geoaddressing paradigm\n",
    "        * W3W\n",
    "        * GeoHash\n",
    "        * etc.\n",
    "\t* Linked data?\n",
    "\t* Property life-cycle?\n",
    "\t* Spatially consistent\n",
    "\t* Crowd enhanced\n",
    "* Service innovation\n",
    "    * enhanced business intelligence from shared knowledge\n",
    "\t* geo-demographics protecting the disenfranchised\n",
    "\t\t* who are our sensitive customers - what are their needs?"
   ]
  },
  {
   "cell_type": "markdown",
   "metadata": {
    "slideshow": {
     "slide_type": "skip"
    }
   },
   "source": [
    "\\newpage"
   ]
  },
  {
   "cell_type": "markdown",
   "metadata": {
    "slideshow": {
     "slide_type": "slide"
    }
   },
   "source": [
    "# Final thoughts\n",
    "\n",
    "Utilities have the potential to be:\n",
    "\n",
    "* Key consumers of open addressing data\n",
    "* Key providers of open addressing content\n",
    "\n",
    "**United Utilities would like to help frame this debate and be part of any solution.**"
   ]
  },
  {
   "cell_type": "markdown",
   "metadata": {
    "slideshow": {
     "slide_type": "skip"
    }
   },
   "source": [
    "\\newpage"
   ]
  },
  {
   "cell_type": "markdown",
   "metadata": {
    "slideshow": {
     "slide_type": "slide"
    }
   },
   "source": [
    "# References"
   ]
  },
  {
   "cell_type": "code",
   "execution_count": null,
   "metadata": {},
   "outputs": [],
   "source": []
  }
 ],
 "metadata": {
  "anaconda-cloud": {},
  "celltoolbar": "Slideshow",
  "kernelspec": {
   "display_name": "Python 3",
   "language": "python",
   "name": "python3"
  },
  "language_info": {
   "codemirror_mode": {
    "name": "ipython",
    "version": 3
   },
   "file_extension": ".py",
   "mimetype": "text/x-python",
   "name": "python",
   "nbconvert_exporter": "python",
   "pygments_lexer": "ipython3",
   "version": "3.6.8"
  },
  "nbpresent": {
   "id": "b2ca43ef-2e99-479c-b47d-9e7a8ede9572"
  },
  "slideshow": {
   "slide_type": "subslide"
  }
 },
 "nbformat": 4,
 "nbformat_minor": 1
}
