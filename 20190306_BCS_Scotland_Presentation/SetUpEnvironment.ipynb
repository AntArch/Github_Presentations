{
 "cells": [
  {
   "cell_type": "markdown",
   "metadata": {},
   "source": [
    "# PY36 geobase"
   ]
  },
  {
   "cell_type": "code",
   "execution_count": 1,
   "metadata": {
    "slideshow": {
     "slide_type": "slide"
    }
   },
   "outputs": [
    {
     "ename": "SyntaxError",
     "evalue": "invalid syntax (<ipython-input-1-8bb8763d5496>, line 7)",
     "output_type": "error",
     "traceback": [
      "\u001b[0;36m  File \u001b[0;32m\"<ipython-input-1-8bb8763d5496>\"\u001b[0;36m, line \u001b[0;32m7\u001b[0m\n\u001b[0;31m    conda remove -n etl-lrs-dms --all\u001b[0m\n\u001b[0m               ^\u001b[0m\n\u001b[0;31mSyntaxError\u001b[0m\u001b[0;31m:\u001b[0m invalid syntax\n"
     ]
    }
   ],
   "source": [
    "# From scratch\n",
    "\n",
    "# conda install -n geo-base [package]\n",
    "\n",
    "# remove old virtual env\n",
    "\n",
    "conda remove -n geo-base --all\n",
    "\n",
    "# create new virtual env\n",
    "\n",
    "conda create -n geo-base python=3.6\n",
    "\n",
    "# activate virtual env\n",
    "\n",
    "source activate geo-base\n",
    "\n",
    "# install other packages\n",
    "\n",
    "conda install -c conda-forge numpy jupyter pandas-profiling docker-py geopandas mplleaflet tabulate folium nbtutor jupyter_contrib_nbextensions rise seaborn nbdime geoplot nbconvert\n",
    "\n",
    "conda install -c conda-forge numpy jupyter\n",
    "\n",
    "conda install -c conda-forge pandas-profiling docker-py\n",
    "\n",
    "conda install -c conda-forge geopandas\n",
    "\n",
    "conda install -c conda-forge mplleaflet tabulate folium\n",
    "\n",
    "conda install -c conda-forge nbtutor\n",
    "\n",
    "conda install -c conda-forge jupyter_contrib_nbextensions\n",
    "\n",
    "conda install -c conda-forge rise\n",
    "\n",
    "conda install -c conda-forge seaborn\n",
    "\n",
    "conda install -c conda-forge nbdime \n",
    "\n",
    "conda install -c conda-forge geoplot\n",
    "\n",
    "conda install -c conda-forge nbconvert\n",
    "\n",
    "pip install OSGridConverter\n",
    "\n",
    "pip install convertbng"
   ]
  },
  {
   "cell_type": "markdown",
   "metadata": {},
   "source": [
    "# PY27 presentation base\n",
    "\n"
   ]
  },
  {
   "cell_type": "code",
   "execution_count": null,
   "metadata": {},
   "outputs": [],
   "source": [
    "# From scratch\n",
    "\n",
    "# conda install -n py-27-prez [package]\n",
    "\n",
    "# remove old virtual env\n",
    "\n",
    "conda remove -n py-27-prez --all\n",
    "\n",
    "# create new virtual env\n",
    "\n",
    "conda create -n py-27-prez python=2.7\n",
    "\n",
    "# activate virtual env\n",
    "\n",
    "source activate py-27-prez\n",
    "\n",
    "# install other packages\n",
    "\n",
    "conda install -c conda-forge jupyter tabulate nbtutor jupyter_contrib_nbextensions rise nbdime nbconvert"
   ]
  },
  {
   "cell_type": "markdown",
   "metadata": {},
   "source": [
    "Make sure nbdime is also installed in the main conda install. [This is used for git diffs](https://nbdime.readthedocs.io/en/stable/). \n",
    "\n",
    "Also (in main) run - \n",
    "\n",
    "> nbdime config-git --enable --global"
   ]
  },
  {
   "cell_type": "markdown",
   "metadata": {
    "slideshow": {
     "slide_type": "subslide"
    }
   },
   "source": [
    "# Background - creating a spec list file for easy(ish) installation\n",
    "\n",
    "Activate the environment whose libraries you want to copy:\n",
    "\n",
    "> source activate geo-base\n",
    "\n",
    "To create this spec list as a file in the current working directory, run:\n",
    "\n",
    "> conda list --explicit > geo-base_libs.txt\n",
    "\n",
    "**An explicit spec file is not usually cross platform**, and therefore has a comment at the top such as # platform: osx-64 showing the platform where it was created. This platform is the one where this spec file is known to work. On other platforms, the packages specified might not be available or dependencies might be missing for some of the key packages already in the spec.\n",
    "\n",
    "To use the spec file to create an identical environment on the same machine or another machine:\n",
    "\n",
    "> conda create --name geo-base --file geo-base_libs.txt\n",
    "\n",
    "To use the spec file to install its listed packages into an existing environment:\n",
    "\n",
    "> conda install --name geo-base --file geo-base_libs.txt\n",
    "\n",
    "Conda does not check architecture or dependencies when installing from a spec file. To ensure that the packages work correctly, make sure that the file was created from a working environment, and use it on the same architecture, operating system and platform, such as linux-64 or osx-64.\n",
    "\n",
    "To create this spec list as a file in the current working directory, run:\n",
    "\n",
    "> conda list --explicit > geo-base_libs.txt\n",
    "\n",
    "**An explicit spec file is not usually cross platform**, and therefore has a comment at the top such as # platform: osx-64 showing the platform where it was created. This platform is the one where this spec file is known to work. On other platforms, the packages specified might not be available or dependencies might be missing for some of the key packages already in the spec."
   ]
  },
  {
   "cell_type": "code",
   "execution_count": null,
   "metadata": {
    "collapsed": true
   },
   "outputs": [],
   "source": [
    "# Specific environment set-up for etl-lrs-dms\n",
    "\n",
    "This folder contains a selection of date stamped requirements files. \n",
    "\n"
   ]
  },
  {
   "cell_type": "code",
   "execution_count": 9,
   "metadata": {
    "collapsed": true
   },
   "outputs": [],
   "source": [
    "# remove environment\n",
    "\n",
    "!conda remove -n geo-base --all\n"
   ]
  },
  {
   "cell_type": "code",
   "execution_count": null,
   "metadata": {
    "scrolled": true
   },
   "outputs": [
    {
     "name": "stdout",
     "output_type": "stream",
     "text": [
      "Preparing transaction: done\n",
      "Verifying transaction: done\n",
      "Executing transaction: - Installing /home/beckant/LocalInstalls/anaconda3/envs/etl-lrm-dms/lib/python3.5/site-packages/vega/static -> jupyter-vega\n",
      "Making directory: /home/beckant/LocalInstalls/anaconda3/envs/etl-lrm-dms/share/jupyter/nbextensions/jupyter-vega/\n",
      "Copying: /home/beckant/LocalInstalls/anaconda3/envs/etl-lrm-dms/lib/python3.5/site-packages/vega/static/index.js.map -> /home/beckant/LocalInstalls/anaconda3/envs/etl-lrm-dms/share/jupyter/nbextensions/jupyter-vega/index.js.map\n",
      "Copying: /home/beckant/LocalInstalls/anaconda3/envs/etl-lrm-dms/lib/python3.5/site-packages/vega/static/vega.js -> /home/beckant/LocalInstalls/anaconda3/envs/etl-lrm-dms/share/jupyter/nbextensions/jupyter-vega/vega.js\n",
      "Copying: /home/beckant/LocalInstalls/anaconda3/envs/etl-lrm-dms/lib/python3.5/site-packages/vega/static/vega-lite.html -> /home/beckant/LocalInstalls/anaconda3/envs/etl-lrm-dms/share/jupyter/nbextensions/jupyter-vega/vega-lite.html\n",
      "Copying: /home/beckant/LocalInstalls/anaconda3/envs/etl-lrm-dms/lib/python3.5/site-packages/vega/static/index.js -> /home/beckant/LocalInstalls/anaconda3/envs/etl-lrm-dms/share/jupyter/nbextensions/jupyter-vega/index.js\n",
      "Copying: /home/beckant/LocalInstalls/anaconda3/envs/etl-lrm-dms/lib/python3.5/site-packages/vega/static/vega.html -> /home/beckant/LocalInstalls/anaconda3/envs/etl-lrm-dms/share/jupyter/nbextensions/jupyter-vega/vega.html\n",
      "- Validating: \u001b[32mOK\u001b[0m\n",
      "\n",
      "    To initialize this nbextension in the browser every time the notebook (or other app) loads:\n",
      "    \n",
      "          jupyter nbextension enable vega --py --sys-prefix\n",
      "    \n",
      "\n",
      "- "
     ]
    }
   ],
   "source": [
    "# Create environment\n",
    "\n",
    "!conda create --name geo-base--file 20180206_requirements.txt"
   ]
  },
  {
   "cell_type": "code",
   "execution_count": 2,
   "metadata": {},
   "outputs": [
    {
     "name": "stdout",
     "output_type": "stream",
     "text": [
      "# conda environments:\r\n",
      "#\r\n",
      "base                     /home/beckant/LocalInstalls/anaconda3\r\n",
      "etl-lrs-dms           *  /home/beckant/LocalInstalls/anaconda3/envs/etl-lrs-dms\r\n",
      "\r\n"
     ]
    }
   ],
   "source": [
    "# list python environments\n",
    "\n",
    "!conda env list #list environments"
   ]
  },
  {
   "cell_type": "code",
   "execution_count": null,
   "metadata": {
    "collapsed": true
   },
   "outputs": [],
   "source": []
  }
 ],
 "metadata": {
  "celltoolbar": "Slideshow",
  "kernelspec": {
   "display_name": "Python 2",
   "language": "python",
   "name": "python2"
  },
  "language_info": {
   "codemirror_mode": {
    "name": "ipython",
    "version": 2
   },
   "file_extension": ".py",
   "mimetype": "text/x-python",
   "name": "python",
   "nbconvert_exporter": "python",
   "pygments_lexer": "ipython2",
   "version": "2.7.15"
  },
  "latex_envs": {
   "LaTeX_envs_menu_present": true,
   "autoclose": false,
   "autocomplete": true,
   "bibliofile": "biblio.bib",
   "cite_by": "apalike",
   "current_citInitial": 1,
   "eqLabelWithNumbers": true,
   "eqNumInitial": 1,
   "hotkeys": {
    "equation": "Ctrl-E",
    "itemize": "Ctrl-I"
   },
   "labels_anchors": false,
   "latex_user_defs": false,
   "report_style_numbering": false,
   "user_envs_cfg": false
  },
  "toc": {
   "base_numbering": 1,
   "nav_menu": {},
   "number_sections": true,
   "sideBar": true,
   "skip_h1_title": false,
   "title_cell": "Table of Contents",
   "title_sidebar": "Contents",
   "toc_cell": false,
   "toc_position": {
    "height": "calc(100% - 180px)",
    "left": "10px",
    "top": "150px",
    "width": "330px"
   },
   "toc_section_display": true,
   "toc_window_display": true
  },
  "varInspector": {
   "cols": {
    "lenName": 16,
    "lenType": 16,
    "lenVar": 40
   },
   "kernels_config": {
    "python": {
     "delete_cmd_postfix": "",
     "delete_cmd_prefix": "del ",
     "library": "var_list.py",
     "varRefreshCmd": "print(var_dic_list())"
    },
    "r": {
     "delete_cmd_postfix": ") ",
     "delete_cmd_prefix": "rm(",
     "library": "var_list.r",
     "varRefreshCmd": "cat(var_dic_list()) "
    }
   },
   "types_to_exclude": [
    "module",
    "function",
    "builtin_function_or_method",
    "instance",
    "_Feature"
   ],
   "window_display": false
  }
 },
 "nbformat": 4,
 "nbformat_minor": 2
}
